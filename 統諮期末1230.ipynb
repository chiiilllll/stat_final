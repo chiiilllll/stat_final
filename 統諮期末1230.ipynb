{
 "cells": [
  {
   "cell_type": "markdown",
   "id": "9fd2c95f-8f15-49c6-9b63-e96e143d47f1",
   "metadata": {},
   "source": [
    "## import library and load data"
   ]
  },
  {
   "cell_type": "code",
   "execution_count": 317,
   "id": "91d08fa3-733e-4170-af24-796f1bffd7c8",
   "metadata": {},
   "outputs": [],
   "source": [
    "import pandas as pd\n",
    "import numpy as np\n",
    "from sklearn.preprocessing import LabelEncoder\n",
    "file_path = \"C:/Users/User/OneDrive/桌面/統諮期末/Sleep_health_and_lifestyle_dataset.csv\"\n",
    "data = pd.read_csv(file_path) "
   ]
  },
  {
   "cell_type": "code",
   "execution_count": 270,
   "id": "8e583706-9434-4af9-9e39-902d646f88cc",
   "metadata": {},
   "outputs": [],
   "source": [
    "#visualization\n",
    "import seaborn as sns \n",
    "import plotly.express as px\n",
    "from termcolor import colored\n",
    "import matplotlib.pyplot as plt \n",
    "import plotly.graph_objects as go\n",
    "import plotly.figure_factory as ff\n",
    "#Data spliting\n",
    "from sklearn.model_selection import train_test_split"
   ]
  },
  {
   "cell_type": "markdown",
   "id": "f683f08a-b1e8-483a-9751-09d3863345de",
   "metadata": {},
   "source": [
    "## EDA"
   ]
  },
  {
   "cell_type": "code",
   "execution_count": 272,
   "id": "7eeb68a7-a697-4c31-90ed-1bbfe6a9742e",
   "metadata": {
    "scrolled": true
   },
   "outputs": [
    {
     "data": {
      "text/html": [
       "<div>\n",
       "<style scoped>\n",
       "    .dataframe tbody tr th:only-of-type {\n",
       "        vertical-align: middle;\n",
       "    }\n",
       "\n",
       "    .dataframe tbody tr th {\n",
       "        vertical-align: top;\n",
       "    }\n",
       "\n",
       "    .dataframe thead th {\n",
       "        text-align: right;\n",
       "    }\n",
       "</style>\n",
       "<table border=\"1\" class=\"dataframe\">\n",
       "  <thead>\n",
       "    <tr style=\"text-align: right;\">\n",
       "      <th></th>\n",
       "      <th>Person ID</th>\n",
       "      <th>Gender</th>\n",
       "      <th>Age</th>\n",
       "      <th>Occupation</th>\n",
       "      <th>Sleep Duration</th>\n",
       "      <th>Quality of Sleep</th>\n",
       "      <th>Physical Activity Level</th>\n",
       "      <th>Stress Level</th>\n",
       "      <th>BMI Category</th>\n",
       "      <th>Blood Pressure</th>\n",
       "      <th>Heart Rate</th>\n",
       "      <th>Daily Steps</th>\n",
       "      <th>Sleep Disorder</th>\n",
       "    </tr>\n",
       "  </thead>\n",
       "  <tbody>\n",
       "    <tr>\n",
       "      <th>0</th>\n",
       "      <td>1</td>\n",
       "      <td>Male</td>\n",
       "      <td>27</td>\n",
       "      <td>Software Engineer</td>\n",
       "      <td>6.1</td>\n",
       "      <td>6</td>\n",
       "      <td>42</td>\n",
       "      <td>6</td>\n",
       "      <td>Overweight</td>\n",
       "      <td>126/83</td>\n",
       "      <td>77</td>\n",
       "      <td>4200</td>\n",
       "      <td>NaN</td>\n",
       "    </tr>\n",
       "    <tr>\n",
       "      <th>1</th>\n",
       "      <td>2</td>\n",
       "      <td>Male</td>\n",
       "      <td>28</td>\n",
       "      <td>Doctor</td>\n",
       "      <td>6.2</td>\n",
       "      <td>6</td>\n",
       "      <td>60</td>\n",
       "      <td>8</td>\n",
       "      <td>Normal</td>\n",
       "      <td>125/80</td>\n",
       "      <td>75</td>\n",
       "      <td>10000</td>\n",
       "      <td>NaN</td>\n",
       "    </tr>\n",
       "    <tr>\n",
       "      <th>2</th>\n",
       "      <td>3</td>\n",
       "      <td>Male</td>\n",
       "      <td>28</td>\n",
       "      <td>Doctor</td>\n",
       "      <td>6.2</td>\n",
       "      <td>6</td>\n",
       "      <td>60</td>\n",
       "      <td>8</td>\n",
       "      <td>Normal</td>\n",
       "      <td>125/80</td>\n",
       "      <td>75</td>\n",
       "      <td>10000</td>\n",
       "      <td>NaN</td>\n",
       "    </tr>\n",
       "    <tr>\n",
       "      <th>3</th>\n",
       "      <td>4</td>\n",
       "      <td>Male</td>\n",
       "      <td>28</td>\n",
       "      <td>Sales Representative</td>\n",
       "      <td>5.9</td>\n",
       "      <td>4</td>\n",
       "      <td>30</td>\n",
       "      <td>8</td>\n",
       "      <td>Obese</td>\n",
       "      <td>140/90</td>\n",
       "      <td>85</td>\n",
       "      <td>3000</td>\n",
       "      <td>Sleep Apnea</td>\n",
       "    </tr>\n",
       "    <tr>\n",
       "      <th>4</th>\n",
       "      <td>5</td>\n",
       "      <td>Male</td>\n",
       "      <td>28</td>\n",
       "      <td>Sales Representative</td>\n",
       "      <td>5.9</td>\n",
       "      <td>4</td>\n",
       "      <td>30</td>\n",
       "      <td>8</td>\n",
       "      <td>Obese</td>\n",
       "      <td>140/90</td>\n",
       "      <td>85</td>\n",
       "      <td>3000</td>\n",
       "      <td>Sleep Apnea</td>\n",
       "    </tr>\n",
       "    <tr>\n",
       "      <th>5</th>\n",
       "      <td>6</td>\n",
       "      <td>Male</td>\n",
       "      <td>28</td>\n",
       "      <td>Software Engineer</td>\n",
       "      <td>5.9</td>\n",
       "      <td>4</td>\n",
       "      <td>30</td>\n",
       "      <td>8</td>\n",
       "      <td>Obese</td>\n",
       "      <td>140/90</td>\n",
       "      <td>85</td>\n",
       "      <td>3000</td>\n",
       "      <td>Insomnia</td>\n",
       "    </tr>\n",
       "    <tr>\n",
       "      <th>6</th>\n",
       "      <td>7</td>\n",
       "      <td>Male</td>\n",
       "      <td>29</td>\n",
       "      <td>Teacher</td>\n",
       "      <td>6.3</td>\n",
       "      <td>6</td>\n",
       "      <td>40</td>\n",
       "      <td>7</td>\n",
       "      <td>Obese</td>\n",
       "      <td>140/90</td>\n",
       "      <td>82</td>\n",
       "      <td>3500</td>\n",
       "      <td>Insomnia</td>\n",
       "    </tr>\n",
       "    <tr>\n",
       "      <th>7</th>\n",
       "      <td>8</td>\n",
       "      <td>Male</td>\n",
       "      <td>29</td>\n",
       "      <td>Doctor</td>\n",
       "      <td>7.8</td>\n",
       "      <td>7</td>\n",
       "      <td>75</td>\n",
       "      <td>6</td>\n",
       "      <td>Normal</td>\n",
       "      <td>120/80</td>\n",
       "      <td>70</td>\n",
       "      <td>8000</td>\n",
       "      <td>NaN</td>\n",
       "    </tr>\n",
       "    <tr>\n",
       "      <th>8</th>\n",
       "      <td>9</td>\n",
       "      <td>Male</td>\n",
       "      <td>29</td>\n",
       "      <td>Doctor</td>\n",
       "      <td>7.8</td>\n",
       "      <td>7</td>\n",
       "      <td>75</td>\n",
       "      <td>6</td>\n",
       "      <td>Normal</td>\n",
       "      <td>120/80</td>\n",
       "      <td>70</td>\n",
       "      <td>8000</td>\n",
       "      <td>NaN</td>\n",
       "    </tr>\n",
       "    <tr>\n",
       "      <th>9</th>\n",
       "      <td>10</td>\n",
       "      <td>Male</td>\n",
       "      <td>29</td>\n",
       "      <td>Doctor</td>\n",
       "      <td>7.8</td>\n",
       "      <td>7</td>\n",
       "      <td>75</td>\n",
       "      <td>6</td>\n",
       "      <td>Normal</td>\n",
       "      <td>120/80</td>\n",
       "      <td>70</td>\n",
       "      <td>8000</td>\n",
       "      <td>NaN</td>\n",
       "    </tr>\n",
       "  </tbody>\n",
       "</table>\n",
       "</div>"
      ],
      "text/plain": [
       "   Person ID Gender  Age            Occupation  Sleep Duration  \\\n",
       "0          1   Male   27     Software Engineer             6.1   \n",
       "1          2   Male   28                Doctor             6.2   \n",
       "2          3   Male   28                Doctor             6.2   \n",
       "3          4   Male   28  Sales Representative             5.9   \n",
       "4          5   Male   28  Sales Representative             5.9   \n",
       "5          6   Male   28     Software Engineer             5.9   \n",
       "6          7   Male   29               Teacher             6.3   \n",
       "7          8   Male   29                Doctor             7.8   \n",
       "8          9   Male   29                Doctor             7.8   \n",
       "9         10   Male   29                Doctor             7.8   \n",
       "\n",
       "   Quality of Sleep  Physical Activity Level  Stress Level BMI Category  \\\n",
       "0                 6                       42             6   Overweight   \n",
       "1                 6                       60             8       Normal   \n",
       "2                 6                       60             8       Normal   \n",
       "3                 4                       30             8        Obese   \n",
       "4                 4                       30             8        Obese   \n",
       "5                 4                       30             8        Obese   \n",
       "6                 6                       40             7        Obese   \n",
       "7                 7                       75             6       Normal   \n",
       "8                 7                       75             6       Normal   \n",
       "9                 7                       75             6       Normal   \n",
       "\n",
       "  Blood Pressure  Heart Rate  Daily Steps Sleep Disorder  \n",
       "0         126/83          77         4200            NaN  \n",
       "1         125/80          75        10000            NaN  \n",
       "2         125/80          75        10000            NaN  \n",
       "3         140/90          85         3000    Sleep Apnea  \n",
       "4         140/90          85         3000    Sleep Apnea  \n",
       "5         140/90          85         3000       Insomnia  \n",
       "6         140/90          82         3500       Insomnia  \n",
       "7         120/80          70         8000            NaN  \n",
       "8         120/80          70         8000            NaN  \n",
       "9         120/80          70         8000            NaN  "
      ]
     },
     "execution_count": 272,
     "metadata": {},
     "output_type": "execute_result"
    }
   ],
   "source": [
    "data.head(10)"
   ]
  },
  {
   "cell_type": "code",
   "execution_count": 273,
   "id": "30ccb54b-a25d-4f3b-aa75-54b12e29f149",
   "metadata": {},
   "outputs": [
    {
     "name": "stdout",
     "output_type": "stream",
     "text": [
      "<class 'pandas.core.frame.DataFrame'>\n",
      "RangeIndex: 374 entries, 0 to 373\n",
      "Data columns (total 13 columns):\n",
      " #   Column                   Non-Null Count  Dtype  \n",
      "---  ------                   --------------  -----  \n",
      " 0   Person ID                374 non-null    int64  \n",
      " 1   Gender                   374 non-null    object \n",
      " 2   Age                      374 non-null    int64  \n",
      " 3   Occupation               374 non-null    object \n",
      " 4   Sleep Duration           374 non-null    float64\n",
      " 5   Quality of Sleep         374 non-null    int64  \n",
      " 6   Physical Activity Level  374 non-null    int64  \n",
      " 7   Stress Level             374 non-null    int64  \n",
      " 8   BMI Category             374 non-null    object \n",
      " 9   Blood Pressure           374 non-null    object \n",
      " 10  Heart Rate               374 non-null    int64  \n",
      " 11  Daily Steps              374 non-null    int64  \n",
      " 12  Sleep Disorder           155 non-null    object \n",
      "dtypes: float64(1), int64(7), object(5)\n",
      "memory usage: 38.1+ KB\n"
     ]
    }
   ],
   "source": [
    "data.info()"
   ]
  },
  {
   "cell_type": "code",
   "execution_count": 274,
   "id": "dc9a0d30-31e9-4cca-bd63-2ee3d823a5b9",
   "metadata": {},
   "outputs": [
    {
     "data": {
      "text/plain": [
       "Person ID                    0\n",
       "Gender                       0\n",
       "Age                          0\n",
       "Occupation                   0\n",
       "Sleep Duration               0\n",
       "Quality of Sleep             0\n",
       "Physical Activity Level      0\n",
       "Stress Level                 0\n",
       "BMI Category                 0\n",
       "Blood Pressure               0\n",
       "Heart Rate                   0\n",
       "Daily Steps                  0\n",
       "Sleep Disorder             219\n",
       "dtype: int64"
      ]
     },
     "execution_count": 274,
     "metadata": {},
     "output_type": "execute_result"
    }
   ],
   "source": [
    "data.isnull().sum()"
   ]
  },
  {
   "cell_type": "code",
   "execution_count": 275,
   "id": "d2d23f7f-4f8f-40e0-ad88-efef613347a2",
   "metadata": {},
   "outputs": [
    {
     "data": {
      "text/plain": [
       "(374, 13)"
      ]
     },
     "execution_count": 275,
     "metadata": {},
     "output_type": "execute_result"
    }
   ],
   "source": [
    "data.shape"
   ]
  },
  {
   "cell_type": "code",
   "execution_count": 276,
   "id": "5561024b-8ae7-4536-98c8-21e024569525",
   "metadata": {
    "scrolled": true
   },
   "outputs": [
    {
     "data": {
      "text/plain": [
       "Index(['Person ID', 'Gender', 'Age', 'Occupation', 'Sleep Duration',\n",
       "       'Quality of Sleep', 'Physical Activity Level', 'Stress Level',\n",
       "       'BMI Category', 'Blood Pressure', 'Heart Rate', 'Daily Steps',\n",
       "       'Sleep Disorder'],\n",
       "      dtype='object')"
      ]
     },
     "execution_count": 276,
     "metadata": {},
     "output_type": "execute_result"
    }
   ],
   "source": [
    "data.columns"
   ]
  },
  {
   "cell_type": "code",
   "execution_count": 277,
   "id": "6bee8f02-bff8-4ab4-98ae-e3f80af9df9e",
   "metadata": {
    "scrolled": true
   },
   "outputs": [
    {
     "data": {
      "text/html": [
       "<div>\n",
       "<style scoped>\n",
       "    .dataframe tbody tr th:only-of-type {\n",
       "        vertical-align: middle;\n",
       "    }\n",
       "\n",
       "    .dataframe tbody tr th {\n",
       "        vertical-align: top;\n",
       "    }\n",
       "\n",
       "    .dataframe thead th {\n",
       "        text-align: right;\n",
       "    }\n",
       "</style>\n",
       "<table border=\"1\" class=\"dataframe\">\n",
       "  <thead>\n",
       "    <tr style=\"text-align: right;\">\n",
       "      <th></th>\n",
       "      <th>Person ID</th>\n",
       "      <th>Age</th>\n",
       "      <th>Sleep Duration</th>\n",
       "      <th>Quality of Sleep</th>\n",
       "      <th>Physical Activity Level</th>\n",
       "      <th>Stress Level</th>\n",
       "      <th>Heart Rate</th>\n",
       "      <th>Daily Steps</th>\n",
       "    </tr>\n",
       "  </thead>\n",
       "  <tbody>\n",
       "    <tr>\n",
       "      <th>count</th>\n",
       "      <td>374.000000</td>\n",
       "      <td>374.000000</td>\n",
       "      <td>374.000000</td>\n",
       "      <td>374.000000</td>\n",
       "      <td>374.000000</td>\n",
       "      <td>374.000000</td>\n",
       "      <td>374.000000</td>\n",
       "      <td>374.000000</td>\n",
       "    </tr>\n",
       "    <tr>\n",
       "      <th>mean</th>\n",
       "      <td>187.500000</td>\n",
       "      <td>42.184492</td>\n",
       "      <td>7.132086</td>\n",
       "      <td>7.312834</td>\n",
       "      <td>59.171123</td>\n",
       "      <td>5.385027</td>\n",
       "      <td>70.165775</td>\n",
       "      <td>6816.844920</td>\n",
       "    </tr>\n",
       "    <tr>\n",
       "      <th>std</th>\n",
       "      <td>108.108742</td>\n",
       "      <td>8.673133</td>\n",
       "      <td>0.795657</td>\n",
       "      <td>1.196956</td>\n",
       "      <td>20.830804</td>\n",
       "      <td>1.774526</td>\n",
       "      <td>4.135676</td>\n",
       "      <td>1617.915679</td>\n",
       "    </tr>\n",
       "    <tr>\n",
       "      <th>min</th>\n",
       "      <td>1.000000</td>\n",
       "      <td>27.000000</td>\n",
       "      <td>5.800000</td>\n",
       "      <td>4.000000</td>\n",
       "      <td>30.000000</td>\n",
       "      <td>3.000000</td>\n",
       "      <td>65.000000</td>\n",
       "      <td>3000.000000</td>\n",
       "    </tr>\n",
       "    <tr>\n",
       "      <th>25%</th>\n",
       "      <td>94.250000</td>\n",
       "      <td>35.250000</td>\n",
       "      <td>6.400000</td>\n",
       "      <td>6.000000</td>\n",
       "      <td>45.000000</td>\n",
       "      <td>4.000000</td>\n",
       "      <td>68.000000</td>\n",
       "      <td>5600.000000</td>\n",
       "    </tr>\n",
       "    <tr>\n",
       "      <th>50%</th>\n",
       "      <td>187.500000</td>\n",
       "      <td>43.000000</td>\n",
       "      <td>7.200000</td>\n",
       "      <td>7.000000</td>\n",
       "      <td>60.000000</td>\n",
       "      <td>5.000000</td>\n",
       "      <td>70.000000</td>\n",
       "      <td>7000.000000</td>\n",
       "    </tr>\n",
       "    <tr>\n",
       "      <th>75%</th>\n",
       "      <td>280.750000</td>\n",
       "      <td>50.000000</td>\n",
       "      <td>7.800000</td>\n",
       "      <td>8.000000</td>\n",
       "      <td>75.000000</td>\n",
       "      <td>7.000000</td>\n",
       "      <td>72.000000</td>\n",
       "      <td>8000.000000</td>\n",
       "    </tr>\n",
       "    <tr>\n",
       "      <th>max</th>\n",
       "      <td>374.000000</td>\n",
       "      <td>59.000000</td>\n",
       "      <td>8.500000</td>\n",
       "      <td>9.000000</td>\n",
       "      <td>90.000000</td>\n",
       "      <td>8.000000</td>\n",
       "      <td>86.000000</td>\n",
       "      <td>10000.000000</td>\n",
       "    </tr>\n",
       "  </tbody>\n",
       "</table>\n",
       "</div>"
      ],
      "text/plain": [
       "        Person ID         Age  Sleep Duration  Quality of Sleep  \\\n",
       "count  374.000000  374.000000      374.000000        374.000000   \n",
       "mean   187.500000   42.184492        7.132086          7.312834   \n",
       "std    108.108742    8.673133        0.795657          1.196956   \n",
       "min      1.000000   27.000000        5.800000          4.000000   \n",
       "25%     94.250000   35.250000        6.400000          6.000000   \n",
       "50%    187.500000   43.000000        7.200000          7.000000   \n",
       "75%    280.750000   50.000000        7.800000          8.000000   \n",
       "max    374.000000   59.000000        8.500000          9.000000   \n",
       "\n",
       "       Physical Activity Level  Stress Level  Heart Rate   Daily Steps  \n",
       "count               374.000000    374.000000  374.000000    374.000000  \n",
       "mean                 59.171123      5.385027   70.165775   6816.844920  \n",
       "std                  20.830804      1.774526    4.135676   1617.915679  \n",
       "min                  30.000000      3.000000   65.000000   3000.000000  \n",
       "25%                  45.000000      4.000000   68.000000   5600.000000  \n",
       "50%                  60.000000      5.000000   70.000000   7000.000000  \n",
       "75%                  75.000000      7.000000   72.000000   8000.000000  \n",
       "max                  90.000000      8.000000   86.000000  10000.000000  "
      ]
     },
     "execution_count": 277,
     "metadata": {},
     "output_type": "execute_result"
    }
   ],
   "source": [
    "data.describe()"
   ]
  },
  {
   "cell_type": "code",
   "execution_count": 278,
   "id": "243f883d-b4af-43e1-b523-019a7bfa3975",
   "metadata": {},
   "outputs": [
    {
     "name": "stdout",
     "output_type": "stream",
     "text": [
      "Unique values in 'Gender': ['Male' 'Female']\n",
      "Unique values in 'Age': [27 28 29 30 31 32 33 34 35 36 37 38 39 40 41 42 43 44 45 48 49 50 51 52\n",
      " 53 54 55 56 57 58 59]\n",
      "Unique values in 'Occupation': ['Software Engineer' 'Doctor' 'Sales Representative' 'Teacher' 'Nurse'\n",
      " 'Engineer' 'Accountant' 'Scientist' 'Lawyer' 'Salesperson' 'Manager']\n",
      "Unique values in 'Sleep Duration': [6.1 6.2 5.9 6.3 7.8 6.  6.5 7.6 7.7 7.9 6.4 7.5 7.2 5.8 6.7 7.3 7.4 7.1\n",
      " 6.6 6.9 8.  6.8 8.1 8.3 8.5 8.4 8.2]\n",
      "Unique values in 'Quality of Sleep': [6 4 7 5 8 9]\n",
      "Unique values in 'Physical Activity Level': [42 60 30 40 75 35 45 50 32 70 80 55 90 47 65 85]\n",
      "Unique values in 'Stress Level': [6 8 7 4 3 5]\n",
      "Unique values in 'BMI Category': ['Overweight' 'Normal' 'Obese' 'Normal Weight']\n",
      "Unique values in 'Blood Pressure': ['126/83' '125/80' '140/90' '120/80' '132/87' '130/86' '117/76' '118/76'\n",
      " '128/85' '131/86' '128/84' '115/75' '135/88' '129/84' '130/85' '115/78'\n",
      " '119/77' '121/79' '125/82' '135/90' '122/80' '142/92' '140/95' '139/91'\n",
      " '118/75']\n",
      "Unique values in 'Heart Rate': [77 75 85 82 70 80 78 69 72 68 76 81 65 84 74 67 73 83 86]\n",
      "Unique values in 'Daily Steps': [ 4200 10000  3000  3500  8000  4000  4100  6800  5000  7000  5500  5200\n",
      "  5600  3300  4800  7500  7300  6200  6000  3700]\n",
      "Unique values in 'Sleep Disorder': [nan 'Sleep Apnea' 'Insomnia']\n"
     ]
    }
   ],
   "source": [
    "columns = [column for column in data.columns if column!='Person ID']\n",
    "for column in columns:\n",
    "    unique_values = data[column].unique()\n",
    "    print(f\"Unique values in '{column}': {unique_values}\")"
   ]
  },
  {
   "cell_type": "code",
   "execution_count": 319,
   "id": "ab0a4eb9-f1bf-43c6-b2d9-064c90f3191b",
   "metadata": {},
   "outputs": [],
   "source": [
    "# 刪除 Person ID\n",
    "data = data.drop(columns=[\"Person ID\"])\n",
    "\n",
    "# 把 blood pressure 分成兩個欄位\n",
    "data[[\"BloodPressure_Upper\", \"BloodPressure_Lower\"]] = data[\"Blood Pressure\"].str.split(\"/\", expand=True).astype(float)\n",
    "\n",
    "# 分類 Physical Activity Level\n",
    "data[\"Physical Activity Level\"] = pd.cut(\n",
    "    data[\"Physical Activity Level\"],\n",
    "    bins=[-float(\"inf\"), 35, 45, 60, 75, 90],\n",
    "    labels=[\"<=35\", \"<=45\", \"<=60\", \"<=75\", \"<=90\"]\n",
    ")\n",
    "\n",
    "# 分類 Daily Steps\n",
    "data[\"Daily Steps\"] = pd.cut(\n",
    "    data[\"Daily Steps\"],\n",
    "    bins=[-float(\"inf\"), 5000, 6000, 7000, float(\"inf\")],\n",
    "    labels=[\"<=5000\", \"<=6000\", \"<=7000\", \"7000up\"]\n",
    ")\n",
    "\n",
    "# 將睡眠疾病轉換為 0 和 1\n",
    "data[\"Sleep Disorder\"] = data[\"Sleep Disorder\"].apply(lambda x: 0 if pd.isna(x) else 1)\n",
    "\n",
    "# 分類 BMI\n",
    "data[\"BMI Category\"] = data[\"BMI Category\"].replace({\n",
    "    \"Normal Weight\": \"Normal\",\n",
    "    \"Obese\": \"Overweight\"\n",
    "})\n",
    "\n",
    "# 分類 Quality of Sleep\n",
    "data[\"Quality of Sleep\"] = data[\"Quality of Sleep\"].apply(lambda x: \"4-5\" if x in [4, 5] else x)\n",
    "\n",
    "# 分類 Occupation\n",
    "data[\"Occupation\"] = data[\"Occupation\"].replace({\n",
    "    \"Manager\": \"Salesperson\",\n",
    "    \"Sales Representative\": \"Salesperson\",\n",
    "    \"Software Engineer\": \"Engineer\"\n",
    "})\n",
    "# 刪除 Bloodpressure\n",
    "data = data.drop(columns=[\"Blood Pressure\"])"
   ]
  },
  {
   "cell_type": "code",
   "execution_count": 280,
   "id": "871a80c8-7896-4ffc-b6d5-d7ac19feae95",
   "metadata": {},
   "outputs": [],
   "source": [
    "data['Sleep Disorder'] = data['Sleep Disorder'].astype(\"category\")"
   ]
  },
  {
   "cell_type": "code",
   "execution_count": 321,
   "id": "4bec6d01-d52d-468c-a205-45ef13140d57",
   "metadata": {
    "scrolled": true
   },
   "outputs": [
    {
     "name": "stdout",
     "output_type": "stream",
     "text": [
      "\u001b[5m\u001b[35mGender                      2\n",
      "Age                        31\n",
      "Occupation                  8\n",
      "Sleep Duration             27\n",
      "Quality of Sleep            5\n",
      "Physical Activity Level     5\n",
      "Stress Level                6\n",
      "BMI Category                2\n",
      "Heart Rate                 19\n",
      "Daily Steps                 4\n",
      "Sleep Disorder              2\n",
      "BloodPressure_Upper        18\n",
      "BloodPressure_Lower        17\n",
      "dtype: int64\u001b[0m\n"
     ]
    }
   ],
   "source": [
    "#for colored text output ( Text ,Text colors ,Text highlights , Attributes)\n",
    "number_of_values=colored(data.nunique(), \"magenta\",None, attrs=[\"blink\"])\n",
    "                        \n",
    "print(number_of_values) #for number of values of columns"
   ]
  },
  {
   "cell_type": "code",
   "execution_count": 323,
   "id": "8acc375d-4cba-405b-98ef-08f86e1a6969",
   "metadata": {
    "scrolled": true
   },
   "outputs": [
    {
     "data": {
      "text/html": [
       "<div>\n",
       "<style scoped>\n",
       "    .dataframe tbody tr th:only-of-type {\n",
       "        vertical-align: middle;\n",
       "    }\n",
       "\n",
       "    .dataframe tbody tr th {\n",
       "        vertical-align: top;\n",
       "    }\n",
       "\n",
       "    .dataframe thead th {\n",
       "        text-align: right;\n",
       "    }\n",
       "</style>\n",
       "<table border=\"1\" class=\"dataframe\">\n",
       "  <thead>\n",
       "    <tr style=\"text-align: right;\">\n",
       "      <th></th>\n",
       "      <th>Gender</th>\n",
       "      <th>Age</th>\n",
       "      <th>Occupation</th>\n",
       "      <th>Sleep Duration</th>\n",
       "      <th>Quality of Sleep</th>\n",
       "      <th>Physical Activity Level</th>\n",
       "      <th>Stress Level</th>\n",
       "      <th>BMI Category</th>\n",
       "      <th>Heart Rate</th>\n",
       "      <th>Daily Steps</th>\n",
       "      <th>Sleep Disorder</th>\n",
       "      <th>BloodPressure_Upper</th>\n",
       "      <th>BloodPressure_Lower</th>\n",
       "    </tr>\n",
       "  </thead>\n",
       "  <tbody>\n",
       "    <tr>\n",
       "      <th>0</th>\n",
       "      <td>Male</td>\n",
       "      <td>27</td>\n",
       "      <td>Engineer</td>\n",
       "      <td>6.1</td>\n",
       "      <td>6</td>\n",
       "      <td>&lt;=45</td>\n",
       "      <td>6</td>\n",
       "      <td>Overweight</td>\n",
       "      <td>77</td>\n",
       "      <td>&lt;=5000</td>\n",
       "      <td>0</td>\n",
       "      <td>126.0</td>\n",
       "      <td>83.0</td>\n",
       "    </tr>\n",
       "    <tr>\n",
       "      <th>1</th>\n",
       "      <td>Male</td>\n",
       "      <td>28</td>\n",
       "      <td>Doctor</td>\n",
       "      <td>6.2</td>\n",
       "      <td>6</td>\n",
       "      <td>&lt;=60</td>\n",
       "      <td>8</td>\n",
       "      <td>Normal</td>\n",
       "      <td>75</td>\n",
       "      <td>7000up</td>\n",
       "      <td>0</td>\n",
       "      <td>125.0</td>\n",
       "      <td>80.0</td>\n",
       "    </tr>\n",
       "    <tr>\n",
       "      <th>2</th>\n",
       "      <td>Male</td>\n",
       "      <td>28</td>\n",
       "      <td>Doctor</td>\n",
       "      <td>6.2</td>\n",
       "      <td>6</td>\n",
       "      <td>&lt;=60</td>\n",
       "      <td>8</td>\n",
       "      <td>Normal</td>\n",
       "      <td>75</td>\n",
       "      <td>7000up</td>\n",
       "      <td>0</td>\n",
       "      <td>125.0</td>\n",
       "      <td>80.0</td>\n",
       "    </tr>\n",
       "    <tr>\n",
       "      <th>3</th>\n",
       "      <td>Male</td>\n",
       "      <td>28</td>\n",
       "      <td>Salesperson</td>\n",
       "      <td>5.9</td>\n",
       "      <td>4-5</td>\n",
       "      <td>&lt;=35</td>\n",
       "      <td>8</td>\n",
       "      <td>Overweight</td>\n",
       "      <td>85</td>\n",
       "      <td>&lt;=5000</td>\n",
       "      <td>1</td>\n",
       "      <td>140.0</td>\n",
       "      <td>90.0</td>\n",
       "    </tr>\n",
       "    <tr>\n",
       "      <th>4</th>\n",
       "      <td>Male</td>\n",
       "      <td>28</td>\n",
       "      <td>Salesperson</td>\n",
       "      <td>5.9</td>\n",
       "      <td>4-5</td>\n",
       "      <td>&lt;=35</td>\n",
       "      <td>8</td>\n",
       "      <td>Overweight</td>\n",
       "      <td>85</td>\n",
       "      <td>&lt;=5000</td>\n",
       "      <td>1</td>\n",
       "      <td>140.0</td>\n",
       "      <td>90.0</td>\n",
       "    </tr>\n",
       "    <tr>\n",
       "      <th>5</th>\n",
       "      <td>Male</td>\n",
       "      <td>28</td>\n",
       "      <td>Engineer</td>\n",
       "      <td>5.9</td>\n",
       "      <td>4-5</td>\n",
       "      <td>&lt;=35</td>\n",
       "      <td>8</td>\n",
       "      <td>Overweight</td>\n",
       "      <td>85</td>\n",
       "      <td>&lt;=5000</td>\n",
       "      <td>1</td>\n",
       "      <td>140.0</td>\n",
       "      <td>90.0</td>\n",
       "    </tr>\n",
       "    <tr>\n",
       "      <th>6</th>\n",
       "      <td>Male</td>\n",
       "      <td>29</td>\n",
       "      <td>Teacher</td>\n",
       "      <td>6.3</td>\n",
       "      <td>6</td>\n",
       "      <td>&lt;=45</td>\n",
       "      <td>7</td>\n",
       "      <td>Overweight</td>\n",
       "      <td>82</td>\n",
       "      <td>&lt;=5000</td>\n",
       "      <td>1</td>\n",
       "      <td>140.0</td>\n",
       "      <td>90.0</td>\n",
       "    </tr>\n",
       "    <tr>\n",
       "      <th>7</th>\n",
       "      <td>Male</td>\n",
       "      <td>29</td>\n",
       "      <td>Doctor</td>\n",
       "      <td>7.8</td>\n",
       "      <td>7</td>\n",
       "      <td>&lt;=75</td>\n",
       "      <td>6</td>\n",
       "      <td>Normal</td>\n",
       "      <td>70</td>\n",
       "      <td>7000up</td>\n",
       "      <td>0</td>\n",
       "      <td>120.0</td>\n",
       "      <td>80.0</td>\n",
       "    </tr>\n",
       "    <tr>\n",
       "      <th>8</th>\n",
       "      <td>Male</td>\n",
       "      <td>29</td>\n",
       "      <td>Doctor</td>\n",
       "      <td>7.8</td>\n",
       "      <td>7</td>\n",
       "      <td>&lt;=75</td>\n",
       "      <td>6</td>\n",
       "      <td>Normal</td>\n",
       "      <td>70</td>\n",
       "      <td>7000up</td>\n",
       "      <td>0</td>\n",
       "      <td>120.0</td>\n",
       "      <td>80.0</td>\n",
       "    </tr>\n",
       "    <tr>\n",
       "      <th>9</th>\n",
       "      <td>Male</td>\n",
       "      <td>29</td>\n",
       "      <td>Doctor</td>\n",
       "      <td>7.8</td>\n",
       "      <td>7</td>\n",
       "      <td>&lt;=75</td>\n",
       "      <td>6</td>\n",
       "      <td>Normal</td>\n",
       "      <td>70</td>\n",
       "      <td>7000up</td>\n",
       "      <td>0</td>\n",
       "      <td>120.0</td>\n",
       "      <td>80.0</td>\n",
       "    </tr>\n",
       "  </tbody>\n",
       "</table>\n",
       "</div>"
      ],
      "text/plain": [
       "  Gender  Age   Occupation  Sleep Duration Quality of Sleep  \\\n",
       "0   Male   27     Engineer             6.1                6   \n",
       "1   Male   28       Doctor             6.2                6   \n",
       "2   Male   28       Doctor             6.2                6   \n",
       "3   Male   28  Salesperson             5.9              4-5   \n",
       "4   Male   28  Salesperson             5.9              4-5   \n",
       "5   Male   28     Engineer             5.9              4-5   \n",
       "6   Male   29      Teacher             6.3                6   \n",
       "7   Male   29       Doctor             7.8                7   \n",
       "8   Male   29       Doctor             7.8                7   \n",
       "9   Male   29       Doctor             7.8                7   \n",
       "\n",
       "  Physical Activity Level  Stress Level BMI Category  Heart Rate Daily Steps  \\\n",
       "0                    <=45             6   Overweight          77      <=5000   \n",
       "1                    <=60             8       Normal          75      7000up   \n",
       "2                    <=60             8       Normal          75      7000up   \n",
       "3                    <=35             8   Overweight          85      <=5000   \n",
       "4                    <=35             8   Overweight          85      <=5000   \n",
       "5                    <=35             8   Overweight          85      <=5000   \n",
       "6                    <=45             7   Overweight          82      <=5000   \n",
       "7                    <=75             6       Normal          70      7000up   \n",
       "8                    <=75             6       Normal          70      7000up   \n",
       "9                    <=75             6       Normal          70      7000up   \n",
       "\n",
       "   Sleep Disorder  BloodPressure_Upper  BloodPressure_Lower  \n",
       "0               0                126.0                 83.0  \n",
       "1               0                125.0                 80.0  \n",
       "2               0                125.0                 80.0  \n",
       "3               1                140.0                 90.0  \n",
       "4               1                140.0                 90.0  \n",
       "5               1                140.0                 90.0  \n",
       "6               1                140.0                 90.0  \n",
       "7               0                120.0                 80.0  \n",
       "8               0                120.0                 80.0  \n",
       "9               0                120.0                 80.0  "
      ]
     },
     "execution_count": 323,
     "metadata": {},
     "output_type": "execute_result"
    }
   ],
   "source": [
    "data.head(10)"
   ]
  },
  {
   "cell_type": "code",
   "execution_count": 284,
   "id": "6af6fb1b-d164-42b5-b697-0885401fac56",
   "metadata": {
    "scrolled": true
   },
   "outputs": [
    {
     "name": "stdout",
     "output_type": "stream",
     "text": [
      "<class 'pandas.core.frame.DataFrame'>\n",
      "RangeIndex: 374 entries, 0 to 373\n",
      "Data columns (total 13 columns):\n",
      " #   Column                   Non-Null Count  Dtype  \n",
      "---  ------                   --------------  -----  \n",
      " 0   Gender                   374 non-null    int32  \n",
      " 1   Age                      374 non-null    int64  \n",
      " 2   Occupation               374 non-null    int32  \n",
      " 3   Sleep Duration           374 non-null    float64\n",
      " 4   Quality of Sleep         374 non-null    int32  \n",
      " 5   Physical Activity Level  374 non-null    int32  \n",
      " 6   Stress Level             374 non-null    int64  \n",
      " 7   BMI Category             374 non-null    int32  \n",
      " 8   Heart Rate               374 non-null    int64  \n",
      " 9   Daily Steps              374 non-null    int32  \n",
      " 10  Sleep Disorder           374 non-null    int32  \n",
      " 11  BloodPressure_Upper      374 non-null    float64\n",
      " 12  BloodPressure_Lower      374 non-null    float64\n",
      "dtypes: float64(3), int32(7), int64(3)\n",
      "memory usage: 27.9 KB\n"
     ]
    }
   ],
   "source": [
    "data.info()"
   ]
  },
  {
   "cell_type": "code",
   "execution_count": 285,
   "id": "3abbd40e-aef4-4a16-923b-7931fb5f5d33",
   "metadata": {},
   "outputs": [
    {
     "data": {
      "text/plain": [
       "Sleep Disorder\n",
       "0    219\n",
       "1    155\n",
       "Name: count, dtype: int64"
      ]
     },
     "execution_count": 285,
     "metadata": {},
     "output_type": "execute_result"
    }
   ],
   "source": [
    "data['Sleep Disorder'].value_counts()"
   ]
  },
  {
   "cell_type": "code",
   "execution_count": 325,
   "id": "c69b8486-0b6c-47c5-bc51-5e1f84558cf3",
   "metadata": {},
   "outputs": [
    {
     "data": {
      "application/vnd.plotly.v1+json": {
       "config": {
        "plotlyServerURL": "https://plot.ly"
       },
       "data": [
        {
         "branchvalues": "total",
         "customdata": [
          [
           0
          ],
          [
           1
          ],
          [
           0
          ],
          [
           1
          ],
          [
           0
          ],
          [
           1
          ],
          [
           0
          ],
          [
           1
          ],
          [
           0
          ],
          [
           1
          ],
          [
           0
          ],
          [
           1
          ],
          [
           0
          ],
          [
           1
          ],
          [
           0
          ],
          [
           1
          ],
          [
           0
          ],
          [
           1
          ],
          [
           0.4144385026737968
          ]
         ],
         "domain": {
          "x": [
           0,
           1
          ],
          "y": [
           0,
           1
          ]
         },
         "hovertemplate": "labels=%{label}<br>count=%{value}<br>parent=%{parent}<br>id=%{id}<br>Sleep Disorder=%{color}<extra></extra>",
         "ids": [
          "Jobs/0/Accountant",
          "Jobs/1/Accountant",
          "Jobs/0/Doctor",
          "Jobs/1/Doctor",
          "Jobs/0/Engineer",
          "Jobs/1/Engineer",
          "Jobs/0/Lawyer",
          "Jobs/1/Lawyer",
          "Jobs/0/Nurse",
          "Jobs/1/Nurse",
          "Jobs/0/Salesperson",
          "Jobs/1/Salesperson",
          "Jobs/0/Scientist",
          "Jobs/1/Scientist",
          "Jobs/0/Teacher",
          "Jobs/1/Teacher",
          "Jobs/0",
          "Jobs/1",
          "Jobs"
         ],
         "labels": [
          "Accountant",
          "Accountant",
          "Doctor",
          "Doctor",
          "Engineer",
          "Engineer",
          "Lawyer",
          "Lawyer",
          "Nurse",
          "Nurse",
          "Salesperson",
          "Salesperson",
          "Scientist",
          "Scientist",
          "Teacher",
          "Teacher",
          "0",
          "1",
          "Jobs"
         ],
         "marker": {
          "coloraxis": "coloraxis",
          "colors": [
           0,
           1,
           0,
           1,
           0,
           1,
           0,
           1,
           0,
           1,
           0,
           1,
           0,
           1,
           0,
           1,
           0,
           1,
           0.4144385026737968
          ]
         },
         "name": "",
         "parents": [
          "Jobs/0",
          "Jobs/1",
          "Jobs/0",
          "Jobs/1",
          "Jobs/0",
          "Jobs/1",
          "Jobs/0",
          "Jobs/1",
          "Jobs/0",
          "Jobs/1",
          "Jobs/0",
          "Jobs/1",
          "Jobs/0",
          "Jobs/1",
          "Jobs/0",
          "Jobs/1",
          "Jobs",
          "Jobs",
          ""
         ],
         "type": "treemap",
         "values": [
          30,
          7,
          64,
          7,
          60,
          7,
          42,
          5,
          9,
          64,
          3,
          32,
          2,
          2,
          9,
          31,
          219,
          155,
          374
         ]
        }
       ],
       "layout": {
        "autosize": true,
        "coloraxis": {
         "colorbar": {
          "title": {
           "text": "Sleep Disorder"
          }
         },
         "colorscale": [
          [
           0,
           "#0d0887"
          ],
          [
           0.1111111111111111,
           "#46039f"
          ],
          [
           0.2222222222222222,
           "#7201a8"
          ],
          [
           0.3333333333333333,
           "#9c179e"
          ],
          [
           0.4444444444444444,
           "#bd3786"
          ],
          [
           0.5555555555555556,
           "#d8576b"
          ],
          [
           0.6666666666666666,
           "#ed7953"
          ],
          [
           0.7777777777777778,
           "#fb9f3a"
          ],
          [
           0.8888888888888888,
           "#fdca26"
          ],
          [
           1,
           "#f0f921"
          ]
         ]
        },
        "legend": {
         "tracegroupgap": 0
        },
        "margin": {
         "t": 60
        },
        "template": {
         "data": {
          "bar": [
           {
            "error_x": {
             "color": "#2a3f5f"
            },
            "error_y": {
             "color": "#2a3f5f"
            },
            "marker": {
             "line": {
              "color": "#E5ECF6",
              "width": 0.5
             },
             "pattern": {
              "fillmode": "overlay",
              "size": 10,
              "solidity": 0.2
             }
            },
            "type": "bar"
           }
          ],
          "barpolar": [
           {
            "marker": {
             "line": {
              "color": "#E5ECF6",
              "width": 0.5
             },
             "pattern": {
              "fillmode": "overlay",
              "size": 10,
              "solidity": 0.2
             }
            },
            "type": "barpolar"
           }
          ],
          "carpet": [
           {
            "aaxis": {
             "endlinecolor": "#2a3f5f",
             "gridcolor": "white",
             "linecolor": "white",
             "minorgridcolor": "white",
             "startlinecolor": "#2a3f5f"
            },
            "baxis": {
             "endlinecolor": "#2a3f5f",
             "gridcolor": "white",
             "linecolor": "white",
             "minorgridcolor": "white",
             "startlinecolor": "#2a3f5f"
            },
            "type": "carpet"
           }
          ],
          "choropleth": [
           {
            "colorbar": {
             "outlinewidth": 0,
             "ticks": ""
            },
            "type": "choropleth"
           }
          ],
          "contour": [
           {
            "colorbar": {
             "outlinewidth": 0,
             "ticks": ""
            },
            "colorscale": [
             [
              0,
              "#0d0887"
             ],
             [
              0.1111111111111111,
              "#46039f"
             ],
             [
              0.2222222222222222,
              "#7201a8"
             ],
             [
              0.3333333333333333,
              "#9c179e"
             ],
             [
              0.4444444444444444,
              "#bd3786"
             ],
             [
              0.5555555555555556,
              "#d8576b"
             ],
             [
              0.6666666666666666,
              "#ed7953"
             ],
             [
              0.7777777777777778,
              "#fb9f3a"
             ],
             [
              0.8888888888888888,
              "#fdca26"
             ],
             [
              1,
              "#f0f921"
             ]
            ],
            "type": "contour"
           }
          ],
          "contourcarpet": [
           {
            "colorbar": {
             "outlinewidth": 0,
             "ticks": ""
            },
            "type": "contourcarpet"
           }
          ],
          "heatmap": [
           {
            "colorbar": {
             "outlinewidth": 0,
             "ticks": ""
            },
            "colorscale": [
             [
              0,
              "#0d0887"
             ],
             [
              0.1111111111111111,
              "#46039f"
             ],
             [
              0.2222222222222222,
              "#7201a8"
             ],
             [
              0.3333333333333333,
              "#9c179e"
             ],
             [
              0.4444444444444444,
              "#bd3786"
             ],
             [
              0.5555555555555556,
              "#d8576b"
             ],
             [
              0.6666666666666666,
              "#ed7953"
             ],
             [
              0.7777777777777778,
              "#fb9f3a"
             ],
             [
              0.8888888888888888,
              "#fdca26"
             ],
             [
              1,
              "#f0f921"
             ]
            ],
            "type": "heatmap"
           }
          ],
          "heatmapgl": [
           {
            "colorbar": {
             "outlinewidth": 0,
             "ticks": ""
            },
            "colorscale": [
             [
              0,
              "#0d0887"
             ],
             [
              0.1111111111111111,
              "#46039f"
             ],
             [
              0.2222222222222222,
              "#7201a8"
             ],
             [
              0.3333333333333333,
              "#9c179e"
             ],
             [
              0.4444444444444444,
              "#bd3786"
             ],
             [
              0.5555555555555556,
              "#d8576b"
             ],
             [
              0.6666666666666666,
              "#ed7953"
             ],
             [
              0.7777777777777778,
              "#fb9f3a"
             ],
             [
              0.8888888888888888,
              "#fdca26"
             ],
             [
              1,
              "#f0f921"
             ]
            ],
            "type": "heatmapgl"
           }
          ],
          "histogram": [
           {
            "marker": {
             "pattern": {
              "fillmode": "overlay",
              "size": 10,
              "solidity": 0.2
             }
            },
            "type": "histogram"
           }
          ],
          "histogram2d": [
           {
            "colorbar": {
             "outlinewidth": 0,
             "ticks": ""
            },
            "colorscale": [
             [
              0,
              "#0d0887"
             ],
             [
              0.1111111111111111,
              "#46039f"
             ],
             [
              0.2222222222222222,
              "#7201a8"
             ],
             [
              0.3333333333333333,
              "#9c179e"
             ],
             [
              0.4444444444444444,
              "#bd3786"
             ],
             [
              0.5555555555555556,
              "#d8576b"
             ],
             [
              0.6666666666666666,
              "#ed7953"
             ],
             [
              0.7777777777777778,
              "#fb9f3a"
             ],
             [
              0.8888888888888888,
              "#fdca26"
             ],
             [
              1,
              "#f0f921"
             ]
            ],
            "type": "histogram2d"
           }
          ],
          "histogram2dcontour": [
           {
            "colorbar": {
             "outlinewidth": 0,
             "ticks": ""
            },
            "colorscale": [
             [
              0,
              "#0d0887"
             ],
             [
              0.1111111111111111,
              "#46039f"
             ],
             [
              0.2222222222222222,
              "#7201a8"
             ],
             [
              0.3333333333333333,
              "#9c179e"
             ],
             [
              0.4444444444444444,
              "#bd3786"
             ],
             [
              0.5555555555555556,
              "#d8576b"
             ],
             [
              0.6666666666666666,
              "#ed7953"
             ],
             [
              0.7777777777777778,
              "#fb9f3a"
             ],
             [
              0.8888888888888888,
              "#fdca26"
             ],
             [
              1,
              "#f0f921"
             ]
            ],
            "type": "histogram2dcontour"
           }
          ],
          "mesh3d": [
           {
            "colorbar": {
             "outlinewidth": 0,
             "ticks": ""
            },
            "type": "mesh3d"
           }
          ],
          "parcoords": [
           {
            "line": {
             "colorbar": {
              "outlinewidth": 0,
              "ticks": ""
             }
            },
            "type": "parcoords"
           }
          ],
          "pie": [
           {
            "automargin": true,
            "type": "pie"
           }
          ],
          "scatter": [
           {
            "fillpattern": {
             "fillmode": "overlay",
             "size": 10,
             "solidity": 0.2
            },
            "type": "scatter"
           }
          ],
          "scatter3d": [
           {
            "line": {
             "colorbar": {
              "outlinewidth": 0,
              "ticks": ""
             }
            },
            "marker": {
             "colorbar": {
              "outlinewidth": 0,
              "ticks": ""
             }
            },
            "type": "scatter3d"
           }
          ],
          "scattercarpet": [
           {
            "marker": {
             "colorbar": {
              "outlinewidth": 0,
              "ticks": ""
             }
            },
            "type": "scattercarpet"
           }
          ],
          "scattergeo": [
           {
            "marker": {
             "colorbar": {
              "outlinewidth": 0,
              "ticks": ""
             }
            },
            "type": "scattergeo"
           }
          ],
          "scattergl": [
           {
            "marker": {
             "colorbar": {
              "outlinewidth": 0,
              "ticks": ""
             }
            },
            "type": "scattergl"
           }
          ],
          "scattermapbox": [
           {
            "marker": {
             "colorbar": {
              "outlinewidth": 0,
              "ticks": ""
             }
            },
            "type": "scattermapbox"
           }
          ],
          "scatterpolar": [
           {
            "marker": {
             "colorbar": {
              "outlinewidth": 0,
              "ticks": ""
             }
            },
            "type": "scatterpolar"
           }
          ],
          "scatterpolargl": [
           {
            "marker": {
             "colorbar": {
              "outlinewidth": 0,
              "ticks": ""
             }
            },
            "type": "scatterpolargl"
           }
          ],
          "scatterternary": [
           {
            "marker": {
             "colorbar": {
              "outlinewidth": 0,
              "ticks": ""
             }
            },
            "type": "scatterternary"
           }
          ],
          "surface": [
           {
            "colorbar": {
             "outlinewidth": 0,
             "ticks": ""
            },
            "colorscale": [
             [
              0,
              "#0d0887"
             ],
             [
              0.1111111111111111,
              "#46039f"
             ],
             [
              0.2222222222222222,
              "#7201a8"
             ],
             [
              0.3333333333333333,
              "#9c179e"
             ],
             [
              0.4444444444444444,
              "#bd3786"
             ],
             [
              0.5555555555555556,
              "#d8576b"
             ],
             [
              0.6666666666666666,
              "#ed7953"
             ],
             [
              0.7777777777777778,
              "#fb9f3a"
             ],
             [
              0.8888888888888888,
              "#fdca26"
             ],
             [
              1,
              "#f0f921"
             ]
            ],
            "type": "surface"
           }
          ],
          "table": [
           {
            "cells": {
             "fill": {
              "color": "#EBF0F8"
             },
             "line": {
              "color": "white"
             }
            },
            "header": {
             "fill": {
              "color": "#C8D4E3"
             },
             "line": {
              "color": "white"
             }
            },
            "type": "table"
           }
          ]
         },
         "layout": {
          "annotationdefaults": {
           "arrowcolor": "#2a3f5f",
           "arrowhead": 0,
           "arrowwidth": 1
          },
          "autotypenumbers": "strict",
          "coloraxis": {
           "colorbar": {
            "outlinewidth": 0,
            "ticks": ""
           }
          },
          "colorscale": {
           "diverging": [
            [
             0,
             "#8e0152"
            ],
            [
             0.1,
             "#c51b7d"
            ],
            [
             0.2,
             "#de77ae"
            ],
            [
             0.3,
             "#f1b6da"
            ],
            [
             0.4,
             "#fde0ef"
            ],
            [
             0.5,
             "#f7f7f7"
            ],
            [
             0.6,
             "#e6f5d0"
            ],
            [
             0.7,
             "#b8e186"
            ],
            [
             0.8,
             "#7fbc41"
            ],
            [
             0.9,
             "#4d9221"
            ],
            [
             1,
             "#276419"
            ]
           ],
           "sequential": [
            [
             0,
             "#0d0887"
            ],
            [
             0.1111111111111111,
             "#46039f"
            ],
            [
             0.2222222222222222,
             "#7201a8"
            ],
            [
             0.3333333333333333,
             "#9c179e"
            ],
            [
             0.4444444444444444,
             "#bd3786"
            ],
            [
             0.5555555555555556,
             "#d8576b"
            ],
            [
             0.6666666666666666,
             "#ed7953"
            ],
            [
             0.7777777777777778,
             "#fb9f3a"
            ],
            [
             0.8888888888888888,
             "#fdca26"
            ],
            [
             1,
             "#f0f921"
            ]
           ],
           "sequentialminus": [
            [
             0,
             "#0d0887"
            ],
            [
             0.1111111111111111,
             "#46039f"
            ],
            [
             0.2222222222222222,
             "#7201a8"
            ],
            [
             0.3333333333333333,
             "#9c179e"
            ],
            [
             0.4444444444444444,
             "#bd3786"
            ],
            [
             0.5555555555555556,
             "#d8576b"
            ],
            [
             0.6666666666666666,
             "#ed7953"
            ],
            [
             0.7777777777777778,
             "#fb9f3a"
            ],
            [
             0.8888888888888888,
             "#fdca26"
            ],
            [
             1,
             "#f0f921"
            ]
           ]
          },
          "colorway": [
           "#636efa",
           "#EF553B",
           "#00cc96",
           "#ab63fa",
           "#FFA15A",
           "#19d3f3",
           "#FF6692",
           "#B6E880",
           "#FF97FF",
           "#FECB52"
          ],
          "font": {
           "color": "#2a3f5f"
          },
          "geo": {
           "bgcolor": "white",
           "lakecolor": "white",
           "landcolor": "#E5ECF6",
           "showlakes": true,
           "showland": true,
           "subunitcolor": "white"
          },
          "hoverlabel": {
           "align": "left"
          },
          "hovermode": "closest",
          "mapbox": {
           "style": "light"
          },
          "paper_bgcolor": "white",
          "plot_bgcolor": "#E5ECF6",
          "polar": {
           "angularaxis": {
            "gridcolor": "white",
            "linecolor": "white",
            "ticks": ""
           },
           "bgcolor": "#E5ECF6",
           "radialaxis": {
            "gridcolor": "white",
            "linecolor": "white",
            "ticks": ""
           }
          },
          "scene": {
           "xaxis": {
            "backgroundcolor": "#E5ECF6",
            "gridcolor": "white",
            "gridwidth": 2,
            "linecolor": "white",
            "showbackground": true,
            "ticks": "",
            "zerolinecolor": "white"
           },
           "yaxis": {
            "backgroundcolor": "#E5ECF6",
            "gridcolor": "white",
            "gridwidth": 2,
            "linecolor": "white",
            "showbackground": true,
            "ticks": "",
            "zerolinecolor": "white"
           },
           "zaxis": {
            "backgroundcolor": "#E5ECF6",
            "gridcolor": "white",
            "gridwidth": 2,
            "linecolor": "white",
            "showbackground": true,
            "ticks": "",
            "zerolinecolor": "white"
           }
          },
          "shapedefaults": {
           "line": {
            "color": "#2a3f5f"
           }
          },
          "ternary": {
           "aaxis": {
            "gridcolor": "white",
            "linecolor": "white",
            "ticks": ""
           },
           "baxis": {
            "gridcolor": "white",
            "linecolor": "white",
            "ticks": ""
           },
           "bgcolor": "#E5ECF6",
           "caxis": {
            "gridcolor": "white",
            "linecolor": "white",
            "ticks": ""
           }
          },
          "title": {
           "x": 0.05
          },
          "xaxis": {
           "automargin": true,
           "gridcolor": "white",
           "linecolor": "white",
           "ticks": "",
           "title": {
            "standoff": 15
           },
           "zerolinecolor": "white",
           "zerolinewidth": 2
          },
          "yaxis": {
           "automargin": true,
           "gridcolor": "white",
           "linecolor": "white",
           "ticks": "",
           "title": {
            "standoff": 15
           },
           "zerolinecolor": "white",
           "zerolinewidth": 2
          }
         }
        },
        "title": {
         "font": {
          "size": 20
         },
         "text": "<b>The effect of job on sleep</b>.."
        },
        "treemapcolorway": [
         "#EBDEF0",
         "#C39BD3",
         "#4A235A"
        ]
       }
      },
      "image/png": "[encoded data removed]",
      "text/html": [
       "<div>                            <div id=\"314eefe5-b123-4c68-9197-093308c88062\" class=\"plotly-graph-div\" style=\"height:525px; width:100%;\"></div>            <script type=\"text/javascript\">                require([\"plotly\"], function(Plotly) {                    window.PLOTLYENV=window.PLOTLYENV || {};                                    if (document.getElementById(\"314eefe5-b123-4c68-9197-093308c88062\")) {                    Plotly.newPlot(                        \"314eefe5-b123-4c68-9197-093308c88062\",                        [{\"branchvalues\":\"total\",\"customdata\":[[0.0],[1.0],[0.0],[1.0],[0.0],[1.0],[0.0],[1.0],[0.0],[1.0],[0.0],[1.0],[0.0],[1.0],[0.0],[1.0],[0.0],[1.0],[0.4144385026737968]],\"domain\":{\"x\":[0.0,1.0],\"y\":[0.0,1.0]},\"hovertemplate\":\"labels=%{label}\\u003cbr\\u003ecount=%{value}\\u003cbr\\u003eparent=%{parent}\\u003cbr\\u003eid=%{id}\\u003cbr\\u003eSleep Disorder=%{color}\\u003cextra\\u003e\\u003c\\u002fextra\\u003e\",\"ids\":[\"Jobs\\u002f0\\u002fAccountant\",\"Jobs\\u002f1\\u002fAccountant\",\"Jobs\\u002f0\\u002fDoctor\",\"Jobs\\u002f1\\u002fDoctor\",\"Jobs\\u002f0\\u002fEngineer\",\"Jobs\\u002f1\\u002fEngineer\",\"Jobs\\u002f0\\u002fLawyer\",\"Jobs\\u002f1\\u002fLawyer\",\"Jobs\\u002f0\\u002fNurse\",\"Jobs\\u002f1\\u002fNurse\",\"Jobs\\u002f0\\u002fSalesperson\",\"Jobs\\u002f1\\u002fSalesperson\",\"Jobs\\u002f0\\u002fScientist\",\"Jobs\\u002f1\\u002fScientist\",\"Jobs\\u002f0\\u002fTeacher\",\"Jobs\\u002f1\\u002fTeacher\",\"Jobs\\u002f0\",\"Jobs\\u002f1\",\"Jobs\"],\"labels\":[\"Accountant\",\"Accountant\",\"Doctor\",\"Doctor\",\"Engineer\",\"Engineer\",\"Lawyer\",\"Lawyer\",\"Nurse\",\"Nurse\",\"Salesperson\",\"Salesperson\",\"Scientist\",\"Scientist\",\"Teacher\",\"Teacher\",\"0\",\"1\",\"Jobs\"],\"marker\":{\"coloraxis\":\"coloraxis\",\"colors\":[0.0,1.0,0.0,1.0,0.0,1.0,0.0,1.0,0.0,1.0,0.0,1.0,0.0,1.0,0.0,1.0,0.0,1.0,0.4144385026737968]},\"name\":\"\",\"parents\":[\"Jobs\\u002f0\",\"Jobs\\u002f1\",\"Jobs\\u002f0\",\"Jobs\\u002f1\",\"Jobs\\u002f0\",\"Jobs\\u002f1\",\"Jobs\\u002f0\",\"Jobs\\u002f1\",\"Jobs\\u002f0\",\"Jobs\\u002f1\",\"Jobs\\u002f0\",\"Jobs\\u002f1\",\"Jobs\\u002f0\",\"Jobs\\u002f1\",\"Jobs\\u002f0\",\"Jobs\\u002f1\",\"Jobs\",\"Jobs\",\"\"],\"values\":[30,7,64,7,60,7,42,5,9,64,3,32,2,2,9,31,219,155,374],\"type\":\"treemap\"}],                        {\"template\":{\"data\":{\"histogram2dcontour\":[{\"type\":\"histogram2dcontour\",\"colorbar\":{\"outlinewidth\":0,\"ticks\":\"\"},\"colorscale\":[[0.0,\"#0d0887\"],[0.1111111111111111,\"#46039f\"],[0.2222222222222222,\"#7201a8\"],[0.3333333333333333,\"#9c179e\"],[0.4444444444444444,\"#bd3786\"],[0.5555555555555556,\"#d8576b\"],[0.6666666666666666,\"#ed7953\"],[0.7777777777777778,\"#fb9f3a\"],[0.8888888888888888,\"#fdca26\"],[1.0,\"#f0f921\"]]}],\"choropleth\":[{\"type\":\"choropleth\",\"colorbar\":{\"outlinewidth\":0,\"ticks\":\"\"}}],\"histogram2d\":[{\"type\":\"histogram2d\",\"colorbar\":{\"outlinewidth\":0,\"ticks\":\"\"},\"colorscale\":[[0.0,\"#0d0887\"],[0.1111111111111111,\"#46039f\"],[0.2222222222222222,\"#7201a8\"],[0.3333333333333333,\"#9c179e\"],[0.4444444444444444,\"#bd3786\"],[0.5555555555555556,\"#d8576b\"],[0.6666666666666666,\"#ed7953\"],[0.7777777777777778,\"#fb9f3a\"],[0.8888888888888888,\"#fdca26\"],[1.0,\"#f0f921\"]]}],\"heatmap\":[{\"type\":\"heatmap\",\"colorbar\":{\"outlinewidth\":0,\"ticks\":\"\"},\"colorscale\":[[0.0,\"#0d0887\"],[0.1111111111111111,\"#46039f\"],[0.2222222222222222,\"#7201a8\"],[0.3333333333333333,\"#9c179e\"],[0.4444444444444444,\"#bd3786\"],[0.5555555555555556,\"#d8576b\"],[0.6666666666666666,\"#ed7953\"],[0.7777777777777778,\"#fb9f3a\"],[0.8888888888888888,\"#fdca26\"],[1.0,\"#f0f921\"]]}],\"heatmapgl\":[{\"type\":\"heatmapgl\",\"colorbar\":{\"outlinewidth\":0,\"ticks\":\"\"},\"colorscale\":[[0.0,\"#0d0887\"],[0.1111111111111111,\"#46039f\"],[0.2222222222222222,\"#7201a8\"],[0.3333333333333333,\"#9c179e\"],[0.4444444444444444,\"#bd3786\"],[0.5555555555555556,\"#d8576b\"],[0.6666666666666666,\"#ed7953\"],[0.7777777777777778,\"#fb9f3a\"],[0.8888888888888888,\"#fdca26\"],[1.0,\"#f0f921\"]]}],\"contourcarpet\":[{\"type\":\"contourcarpet\",\"colorbar\":{\"outlinewidth\":0,\"ticks\":\"\"}}],\"contour\":[{\"type\":\"contour\",\"colorbar\":{\"outlinewidth\":0,\"ticks\":\"\"},\"colorscale\":[[0.0,\"#0d0887\"],[0.1111111111111111,\"#46039f\"],[0.2222222222222222,\"#7201a8\"],[0.3333333333333333,\"#9c179e\"],[0.4444444444444444,\"#bd3786\"],[0.5555555555555556,\"#d8576b\"],[0.6666666666666666,\"#ed7953\"],[0.7777777777777778,\"#fb9f3a\"],[0.8888888888888888,\"#fdca26\"],[1.0,\"#f0f921\"]]}],\"surface\":[{\"type\":\"surface\",\"colorbar\":{\"outlinewidth\":0,\"ticks\":\"\"},\"colorscale\":[[0.0,\"#0d0887\"],[0.1111111111111111,\"#46039f\"],[0.2222222222222222,\"#7201a8\"],[0.3333333333333333,\"#9c179e\"],[0.4444444444444444,\"#bd3786\"],[0.5555555555555556,\"#d8576b\"],[0.6666666666666666,\"#ed7953\"],[0.7777777777777778,\"#fb9f3a\"],[0.8888888888888888,\"#fdca26\"],[1.0,\"#f0f921\"]]}],\"mesh3d\":[{\"type\":\"mesh3d\",\"colorbar\":{\"outlinewidth\":0,\"ticks\":\"\"}}],\"scatter\":[{\"fillpattern\":{\"fillmode\":\"overlay\",\"size\":10,\"solidity\":0.2},\"type\":\"scatter\"}],\"parcoords\":[{\"type\":\"parcoords\",\"line\":{\"colorbar\":{\"outlinewidth\":0,\"ticks\":\"\"}}}],\"scatterpolargl\":[{\"type\":\"scatterpolargl\",\"marker\":{\"colorbar\":{\"outlinewidth\":0,\"ticks\":\"\"}}}],\"bar\":[{\"error_x\":{\"color\":\"#2a3f5f\"},\"error_y\":{\"color\":\"#2a3f5f\"},\"marker\":{\"line\":{\"color\":\"#E5ECF6\",\"width\":0.5},\"pattern\":{\"fillmode\":\"overlay\",\"size\":10,\"solidity\":0.2}},\"type\":\"bar\"}],\"scattergeo\":[{\"type\":\"scattergeo\",\"marker\":{\"colorbar\":{\"outlinewidth\":0,\"ticks\":\"\"}}}],\"scatterpolar\":[{\"type\":\"scatterpolar\",\"marker\":{\"colorbar\":{\"outlinewidth\":0,\"ticks\":\"\"}}}],\"histogram\":[{\"marker\":{\"pattern\":{\"fillmode\":\"overlay\",\"size\":10,\"solidity\":0.2}},\"type\":\"histogram\"}],\"scattergl\":[{\"type\":\"scattergl\",\"marker\":{\"colorbar\":{\"outlinewidth\":0,\"ticks\":\"\"}}}],\"scatter3d\":[{\"type\":\"scatter3d\",\"line\":{\"colorbar\":{\"outlinewidth\":0,\"ticks\":\"\"}},\"marker\":{\"colorbar\":{\"outlinewidth\":0,\"ticks\":\"\"}}}],\"scattermapbox\":[{\"type\":\"scattermapbox\",\"marker\":{\"colorbar\":{\"outlinewidth\":0,\"ticks\":\"\"}}}],\"scatterternary\":[{\"type\":\"scatterternary\",\"marker\":{\"colorbar\":{\"outlinewidth\":0,\"ticks\":\"\"}}}],\"scattercarpet\":[{\"type\":\"scattercarpet\",\"marker\":{\"colorbar\":{\"outlinewidth\":0,\"ticks\":\"\"}}}],\"carpet\":[{\"aaxis\":{\"endlinecolor\":\"#2a3f5f\",\"gridcolor\":\"white\",\"linecolor\":\"white\",\"minorgridcolor\":\"white\",\"startlinecolor\":\"#2a3f5f\"},\"baxis\":{\"endlinecolor\":\"#2a3f5f\",\"gridcolor\":\"white\",\"linecolor\":\"white\",\"minorgridcolor\":\"white\",\"startlinecolor\":\"#2a3f5f\"},\"type\":\"carpet\"}],\"table\":[{\"cells\":{\"fill\":{\"color\":\"#EBF0F8\"},\"line\":{\"color\":\"white\"}},\"header\":{\"fill\":{\"color\":\"#C8D4E3\"},\"line\":{\"color\":\"white\"}},\"type\":\"table\"}],\"barpolar\":[{\"marker\":{\"line\":{\"color\":\"#E5ECF6\",\"width\":0.5},\"pattern\":{\"fillmode\":\"overlay\",\"size\":10,\"solidity\":0.2}},\"type\":\"barpolar\"}],\"pie\":[{\"automargin\":true,\"type\":\"pie\"}]},\"layout\":{\"autotypenumbers\":\"strict\",\"colorway\":[\"#636efa\",\"#EF553B\",\"#00cc96\",\"#ab63fa\",\"#FFA15A\",\"#19d3f3\",\"#FF6692\",\"#B6E880\",\"#FF97FF\",\"#FECB52\"],\"font\":{\"color\":\"#2a3f5f\"},\"hovermode\":\"closest\",\"hoverlabel\":{\"align\":\"left\"},\"paper_bgcolor\":\"white\",\"plot_bgcolor\":\"#E5ECF6\",\"polar\":{\"bgcolor\":\"#E5ECF6\",\"angularaxis\":{\"gridcolor\":\"white\",\"linecolor\":\"white\",\"ticks\":\"\"},\"radialaxis\":{\"gridcolor\":\"white\",\"linecolor\":\"white\",\"ticks\":\"\"}},\"ternary\":{\"bgcolor\":\"#E5ECF6\",\"aaxis\":{\"gridcolor\":\"white\",\"linecolor\":\"white\",\"ticks\":\"\"},\"baxis\":{\"gridcolor\":\"white\",\"linecolor\":\"white\",\"ticks\":\"\"},\"caxis\":{\"gridcolor\":\"white\",\"linecolor\":\"white\",\"ticks\":\"\"}},\"coloraxis\":{\"colorbar\":{\"outlinewidth\":0,\"ticks\":\"\"}},\"colorscale\":{\"sequential\":[[0.0,\"#0d0887\"],[0.1111111111111111,\"#46039f\"],[0.2222222222222222,\"#7201a8\"],[0.3333333333333333,\"#9c179e\"],[0.4444444444444444,\"#bd3786\"],[0.5555555555555556,\"#d8576b\"],[0.6666666666666666,\"#ed7953\"],[0.7777777777777778,\"#fb9f3a\"],[0.8888888888888888,\"#fdca26\"],[1.0,\"#f0f921\"]],\"sequentialminus\":[[0.0,\"#0d0887\"],[0.1111111111111111,\"#46039f\"],[0.2222222222222222,\"#7201a8\"],[0.3333333333333333,\"#9c179e\"],[0.4444444444444444,\"#bd3786\"],[0.5555555555555556,\"#d8576b\"],[0.6666666666666666,\"#ed7953\"],[0.7777777777777778,\"#fb9f3a\"],[0.8888888888888888,\"#fdca26\"],[1.0,\"#f0f921\"]],\"diverging\":[[0,\"#8e0152\"],[0.1,\"#c51b7d\"],[0.2,\"#de77ae\"],[0.3,\"#f1b6da\"],[0.4,\"#fde0ef\"],[0.5,\"#f7f7f7\"],[0.6,\"#e6f5d0\"],[0.7,\"#b8e186\"],[0.8,\"#7fbc41\"],[0.9,\"#4d9221\"],[1,\"#276419\"]]},\"xaxis\":{\"gridcolor\":\"white\",\"linecolor\":\"white\",\"ticks\":\"\",\"title\":{\"standoff\":15},\"zerolinecolor\":\"white\",\"automargin\":true,\"zerolinewidth\":2},\"yaxis\":{\"gridcolor\":\"white\",\"linecolor\":\"white\",\"ticks\":\"\",\"title\":{\"standoff\":15},\"zerolinecolor\":\"white\",\"automargin\":true,\"zerolinewidth\":2},\"scene\":{\"xaxis\":{\"backgroundcolor\":\"#E5ECF6\",\"gridcolor\":\"white\",\"linecolor\":\"white\",\"showbackground\":true,\"ticks\":\"\",\"zerolinecolor\":\"white\",\"gridwidth\":2},\"yaxis\":{\"backgroundcolor\":\"#E5ECF6\",\"gridcolor\":\"white\",\"linecolor\":\"white\",\"showbackground\":true,\"ticks\":\"\",\"zerolinecolor\":\"white\",\"gridwidth\":2},\"zaxis\":{\"backgroundcolor\":\"#E5ECF6\",\"gridcolor\":\"white\",\"linecolor\":\"white\",\"showbackground\":true,\"ticks\":\"\",\"zerolinecolor\":\"white\",\"gridwidth\":2}},\"shapedefaults\":{\"line\":{\"color\":\"#2a3f5f\"}},\"annotationdefaults\":{\"arrowcolor\":\"#2a3f5f\",\"arrowhead\":0,\"arrowwidth\":1},\"geo\":{\"bgcolor\":\"white\",\"landcolor\":\"#E5ECF6\",\"subunitcolor\":\"white\",\"showland\":true,\"showlakes\":true,\"lakecolor\":\"white\"},\"title\":{\"x\":0.05},\"mapbox\":{\"style\":\"light\"}}},\"coloraxis\":{\"colorbar\":{\"title\":{\"text\":\"Sleep Disorder\"}},\"colorscale\":[[0.0,\"#0d0887\"],[0.1111111111111111,\"#46039f\"],[0.2222222222222222,\"#7201a8\"],[0.3333333333333333,\"#9c179e\"],[0.4444444444444444,\"#bd3786\"],[0.5555555555555556,\"#d8576b\"],[0.6666666666666666,\"#ed7953\"],[0.7777777777777778,\"#fb9f3a\"],[0.8888888888888888,\"#fdca26\"],[1.0,\"#f0f921\"]]},\"legend\":{\"tracegroupgap\":0},\"margin\":{\"t\":60},\"treemapcolorway\":[\"#EBDEF0\",\"#C39BD3\",\"#4A235A\"],\"title\":{\"text\":\"\\u003cb\\u003eThe effect of job on sleep\\u003c\\u002fb\\u003e..\",\"font\":{\"size\":20}}},                        {\"responsive\": true}                    ).then(function(){\n",
       "                            \n",
       "var gd = document.getElementById('314eefe5-b123-4c68-9197-093308c88062');\n",
       "var x = new MutationObserver(function (mutations, observer) {{\n",
       "        var display = window.getComputedStyle(gd).display;\n",
       "        if (!display || display === 'none') {{\n",
       "            console.log([gd, 'removed!']);\n",
       "            Plotly.purge(gd);\n",
       "            observer.disconnect();\n",
       "        }}\n",
       "}});\n",
       "\n",
       "// Listen for the removal of the full notebook cells\n",
       "var notebookContainer = gd.closest('#notebook-container');\n",
       "if (notebookContainer) {{\n",
       "    x.observe(notebookContainer, {childList: true});\n",
       "}}\n",
       "\n",
       "// Listen for the clearing of the current output cell\n",
       "var outputEl = gd.closest('.output');\n",
       "if (outputEl) {{\n",
       "    x.observe(outputEl, {childList: true});\n",
       "}}\n",
       "\n",
       "                        })                };                });            </script>        </div>"
      ]
     },
     "metadata": {},
     "output_type": "display_data"
    }
   ],
   "source": [
    "fig=px.treemap(data,path=[px.Constant('Jobs'),'Sleep Disorder','Occupation'],\n",
    "               color='Sleep Disorder',\n",
    "              color_discrete_sequence=['#EBDEF0','#C39BD3','#4A235A'])\n",
    "\n",
    "fig.update_layout(title='<b>The effect of job on sleep</b>..',\n",
    "                 title_font={'size':20})\n",
    "\n",
    "fig.show()"
   ]
  },
  {
   "cell_type": "code",
   "execution_count": 335,
   "id": "67da040f-c2d5-4301-bba9-6129cad490af",
   "metadata": {},
   "outputs": [
    {
     "data": {
      "application/vnd.plotly.v1+json": {
       "config": {
        "plotlyServerURL": "https://plot.ly"
       },
       "data": [
        {
         "branchvalues": "total",
         "customdata": [
          [
           "(?)",
           0
          ],
          [
           "(?)",
           1
          ],
          [
           "(?)",
           0
          ],
          [
           "(?)",
           1
          ],
          [
           "(?)",
           0
          ],
          [
           "(?)",
           1
          ],
          [
           "Female",
           0
          ],
          [
           "(?)",
           1
          ],
          [
           "(?)",
           1
          ],
          [
           "(?)",
           0
          ],
          [
           "(?)",
           1
          ],
          [
           "(?)",
           0.3958536402489316
          ]
         ],
         "domain": {
          "x": [
           0,
           1
          ],
          "y": [
           0,
           1
          ]
         },
         "hovertemplate": "labels=%{label}<br>Sleep Duration=%{value}<br>parent=%{parent}<br>id=%{id}<br>Gender=%{customdata[0]}<br>Sleep Disorder=%{color}<extra></extra>",
         "ids": [
          "Sleep quality/0/6",
          "Sleep quality/1/6",
          "Sleep quality/0/7",
          "Sleep quality/1/7",
          "Sleep quality/0/8",
          "Sleep quality/1/8",
          "Sleep quality/0/9",
          "Sleep quality/1/9",
          "Sleep quality/1/4-5",
          "Sleep quality/0",
          "Sleep quality/1",
          "Sleep quality"
         ],
         "labels": [
          "6",
          "6",
          "7",
          "7",
          "8",
          "8",
          "9",
          "9",
          "4-5",
          "0",
          "1",
          "Sleep quality"
         ],
         "marker": {
          "coloraxis": "coloraxis",
          "colors": [
           0,
           1,
           0,
           1,
           0,
           1,
           0,
           1,
           1,
           0,
           1,
           0.3958536402489316
          ]
         },
         "name": "",
         "parents": [
          "Sleep quality/0",
          "Sleep quality/1",
          "Sleep quality/0",
          "Sleep quality/1",
          "Sleep quality/0",
          "Sleep quality/1",
          "Sleep quality/0",
          "Sleep quality/1",
          "Sleep quality/1",
          "Sleep quality",
          "Sleep quality",
          ""
         ],
         "type": "sunburst",
         "values": [
          244.7,
          405.8,
          301.6,
          248.2,
          747.3,
          59.7,
          317.9,
          267.4,
          74.8,
          1611.5,
          1055.9,
          2667.4
         ]
        }
       ],
       "layout": {
        "autosize": true,
        "coloraxis": {
         "colorbar": {
          "title": {
           "text": "Sleep Disorder"
          }
         },
         "colorscale": [
          [
           0,
           "#0d0887"
          ],
          [
           0.1111111111111111,
           "#46039f"
          ],
          [
           0.2222222222222222,
           "#7201a8"
          ],
          [
           0.3333333333333333,
           "#9c179e"
          ],
          [
           0.4444444444444444,
           "#bd3786"
          ],
          [
           0.5555555555555556,
           "#d8576b"
          ],
          [
           0.6666666666666666,
           "#ed7953"
          ],
          [
           0.7777777777777778,
           "#fb9f3a"
          ],
          [
           0.8888888888888888,
           "#fdca26"
          ],
          [
           1,
           "#f0f921"
          ]
         ]
        },
        "legend": {
         "tracegroupgap": 0
        },
        "margin": {
         "t": 60
        },
        "template": {
         "data": {
          "bar": [
           {
            "error_x": {
             "color": "#2a3f5f"
            },
            "error_y": {
             "color": "#2a3f5f"
            },
            "marker": {
             "line": {
              "color": "#E5ECF6",
              "width": 0.5
             },
             "pattern": {
              "fillmode": "overlay",
              "size": 10,
              "solidity": 0.2
             }
            },
            "type": "bar"
           }
          ],
          "barpolar": [
           {
            "marker": {
             "line": {
              "color": "#E5ECF6",
              "width": 0.5
             },
             "pattern": {
              "fillmode": "overlay",
              "size": 10,
              "solidity": 0.2
             }
            },
            "type": "barpolar"
           }
          ],
          "carpet": [
           {
            "aaxis": {
             "endlinecolor": "#2a3f5f",
             "gridcolor": "white",
             "linecolor": "white",
             "minorgridcolor": "white",
             "startlinecolor": "#2a3f5f"
            },
            "baxis": {
             "endlinecolor": "#2a3f5f",
             "gridcolor": "white",
             "linecolor": "white",
             "minorgridcolor": "white",
             "startlinecolor": "#2a3f5f"
            },
            "type": "carpet"
           }
          ],
          "choropleth": [
           {
            "colorbar": {
             "outlinewidth": 0,
             "ticks": ""
            },
            "type": "choropleth"
           }
          ],
          "contour": [
           {
            "colorbar": {
             "outlinewidth": 0,
             "ticks": ""
            },
            "colorscale": [
             [
              0,
              "#0d0887"
             ],
             [
              0.1111111111111111,
              "#46039f"
             ],
             [
              0.2222222222222222,
              "#7201a8"
             ],
             [
              0.3333333333333333,
              "#9c179e"
             ],
             [
              0.4444444444444444,
              "#bd3786"
             ],
             [
              0.5555555555555556,
              "#d8576b"
             ],
             [
              0.6666666666666666,
              "#ed7953"
             ],
             [
              0.7777777777777778,
              "#fb9f3a"
             ],
             [
              0.8888888888888888,
              "#fdca26"
             ],
             [
              1,
              "#f0f921"
             ]
            ],
            "type": "contour"
           }
          ],
          "contourcarpet": [
           {
            "colorbar": {
             "outlinewidth": 0,
             "ticks": ""
            },
            "type": "contourcarpet"
           }
          ],
          "heatmap": [
           {
            "colorbar": {
             "outlinewidth": 0,
             "ticks": ""
            },
            "colorscale": [
             [
              0,
              "#0d0887"
             ],
             [
              0.1111111111111111,
              "#46039f"
             ],
             [
              0.2222222222222222,
              "#7201a8"
             ],
             [
              0.3333333333333333,
              "#9c179e"
             ],
             [
              0.4444444444444444,
              "#bd3786"
             ],
             [
              0.5555555555555556,
              "#d8576b"
             ],
             [
              0.6666666666666666,
              "#ed7953"
             ],
             [
              0.7777777777777778,
              "#fb9f3a"
             ],
             [
              0.8888888888888888,
              "#fdca26"
             ],
             [
              1,
              "#f0f921"
             ]
            ],
            "type": "heatmap"
           }
          ],
          "heatmapgl": [
           {
            "colorbar": {
             "outlinewidth": 0,
             "ticks": ""
            },
            "colorscale": [
             [
              0,
              "#0d0887"
             ],
             [
              0.1111111111111111,
              "#46039f"
             ],
             [
              0.2222222222222222,
              "#7201a8"
             ],
             [
              0.3333333333333333,
              "#9c179e"
             ],
             [
              0.4444444444444444,
              "#bd3786"
             ],
             [
              0.5555555555555556,
              "#d8576b"
             ],
             [
              0.6666666666666666,
              "#ed7953"
             ],
             [
              0.7777777777777778,
              "#fb9f3a"
             ],
             [
              0.8888888888888888,
              "#fdca26"
             ],
             [
              1,
              "#f0f921"
             ]
            ],
            "type": "heatmapgl"
           }
          ],
          "histogram": [
           {
            "marker": {
             "pattern": {
              "fillmode": "overlay",
              "size": 10,
              "solidity": 0.2
             }
            },
            "type": "histogram"
           }
          ],
          "histogram2d": [
           {
            "colorbar": {
             "outlinewidth": 0,
             "ticks": ""
            },
            "colorscale": [
             [
              0,
              "#0d0887"
             ],
             [
              0.1111111111111111,
              "#46039f"
             ],
             [
              0.2222222222222222,
              "#7201a8"
             ],
             [
              0.3333333333333333,
              "#9c179e"
             ],
             [
              0.4444444444444444,
              "#bd3786"
             ],
             [
              0.5555555555555556,
              "#d8576b"
             ],
             [
              0.6666666666666666,
              "#ed7953"
             ],
             [
              0.7777777777777778,
              "#fb9f3a"
             ],
             [
              0.8888888888888888,
              "#fdca26"
             ],
             [
              1,
              "#f0f921"
             ]
            ],
            "type": "histogram2d"
           }
          ],
          "histogram2dcontour": [
           {
            "colorbar": {
             "outlinewidth": 0,
             "ticks": ""
            },
            "colorscale": [
             [
              0,
              "#0d0887"
             ],
             [
              0.1111111111111111,
              "#46039f"
             ],
             [
              0.2222222222222222,
              "#7201a8"
             ],
             [
              0.3333333333333333,
              "#9c179e"
             ],
             [
              0.4444444444444444,
              "#bd3786"
             ],
             [
              0.5555555555555556,
              "#d8576b"
             ],
             [
              0.6666666666666666,
              "#ed7953"
             ],
             [
              0.7777777777777778,
              "#fb9f3a"
             ],
             [
              0.8888888888888888,
              "#fdca26"
             ],
             [
              1,
              "#f0f921"
             ]
            ],
            "type": "histogram2dcontour"
           }
          ],
          "mesh3d": [
           {
            "colorbar": {
             "outlinewidth": 0,
             "ticks": ""
            },
            "type": "mesh3d"
           }
          ],
          "parcoords": [
           {
            "line": {
             "colorbar": {
              "outlinewidth": 0,
              "ticks": ""
             }
            },
            "type": "parcoords"
           }
          ],
          "pie": [
           {
            "automargin": true,
            "type": "pie"
           }
          ],
          "scatter": [
           {
            "fillpattern": {
             "fillmode": "overlay",
             "size": 10,
             "solidity": 0.2
            },
            "type": "scatter"
           }
          ],
          "scatter3d": [
           {
            "line": {
             "colorbar": {
              "outlinewidth": 0,
              "ticks": ""
             }
            },
            "marker": {
             "colorbar": {
              "outlinewidth": 0,
              "ticks": ""
             }
            },
            "type": "scatter3d"
           }
          ],
          "scattercarpet": [
           {
            "marker": {
             "colorbar": {
              "outlinewidth": 0,
              "ticks": ""
             }
            },
            "type": "scattercarpet"
           }
          ],
          "scattergeo": [
           {
            "marker": {
             "colorbar": {
              "outlinewidth": 0,
              "ticks": ""
             }
            },
            "type": "scattergeo"
           }
          ],
          "scattergl": [
           {
            "marker": {
             "colorbar": {
              "outlinewidth": 0,
              "ticks": ""
             }
            },
            "type": "scattergl"
           }
          ],
          "scattermapbox": [
           {
            "marker": {
             "colorbar": {
              "outlinewidth": 0,
              "ticks": ""
             }
            },
            "type": "scattermapbox"
           }
          ],
          "scatterpolar": [
           {
            "marker": {
             "colorbar": {
              "outlinewidth": 0,
              "ticks": ""
             }
            },
            "type": "scatterpolar"
           }
          ],
          "scatterpolargl": [
           {
            "marker": {
             "colorbar": {
              "outlinewidth": 0,
              "ticks": ""
             }
            },
            "type": "scatterpolargl"
           }
          ],
          "scatterternary": [
           {
            "marker": {
             "colorbar": {
              "outlinewidth": 0,
              "ticks": ""
             }
            },
            "type": "scatterternary"
           }
          ],
          "surface": [
           {
            "colorbar": {
             "outlinewidth": 0,
             "ticks": ""
            },
            "colorscale": [
             [
              0,
              "#0d0887"
             ],
             [
              0.1111111111111111,
              "#46039f"
             ],
             [
              0.2222222222222222,
              "#7201a8"
             ],
             [
              0.3333333333333333,
              "#9c179e"
             ],
             [
              0.4444444444444444,
              "#bd3786"
             ],
             [
              0.5555555555555556,
              "#d8576b"
             ],
             [
              0.6666666666666666,
              "#ed7953"
             ],
             [
              0.7777777777777778,
              "#fb9f3a"
             ],
             [
              0.8888888888888888,
              "#fdca26"
             ],
             [
              1,
              "#f0f921"
             ]
            ],
            "type": "surface"
           }
          ],
          "table": [
           {
            "cells": {
             "fill": {
              "color": "#EBF0F8"
             },
             "line": {
              "color": "white"
             }
            },
            "header": {
             "fill": {
              "color": "#C8D4E3"
             },
             "line": {
              "color": "white"
             }
            },
            "type": "table"
           }
          ]
         },
         "layout": {
          "annotationdefaults": {
           "arrowcolor": "#2a3f5f",
           "arrowhead": 0,
           "arrowwidth": 1
          },
          "autotypenumbers": "strict",
          "coloraxis": {
           "colorbar": {
            "outlinewidth": 0,
            "ticks": ""
           }
          },
          "colorscale": {
           "diverging": [
            [
             0,
             "#8e0152"
            ],
            [
             0.1,
             "#c51b7d"
            ],
            [
             0.2,
             "#de77ae"
            ],
            [
             0.3,
             "#f1b6da"
            ],
            [
             0.4,
             "#fde0ef"
            ],
            [
             0.5,
             "#f7f7f7"
            ],
            [
             0.6,
             "#e6f5d0"
            ],
            [
             0.7,
             "#b8e186"
            ],
            [
             0.8,
             "#7fbc41"
            ],
            [
             0.9,
             "#4d9221"
            ],
            [
             1,
             "#276419"
            ]
           ],
           "sequential": [
            [
             0,
             "#0d0887"
            ],
            [
             0.1111111111111111,
             "#46039f"
            ],
            [
             0.2222222222222222,
             "#7201a8"
            ],
            [
             0.3333333333333333,
             "#9c179e"
            ],
            [
             0.4444444444444444,
             "#bd3786"
            ],
            [
             0.5555555555555556,
             "#d8576b"
            ],
            [
             0.6666666666666666,
             "#ed7953"
            ],
            [
             0.7777777777777778,
             "#fb9f3a"
            ],
            [
             0.8888888888888888,
             "#fdca26"
            ],
            [
             1,
             "#f0f921"
            ]
           ],
           "sequentialminus": [
            [
             0,
             "#0d0887"
            ],
            [
             0.1111111111111111,
             "#46039f"
            ],
            [
             0.2222222222222222,
             "#7201a8"
            ],
            [
             0.3333333333333333,
             "#9c179e"
            ],
            [
             0.4444444444444444,
             "#bd3786"
            ],
            [
             0.5555555555555556,
             "#d8576b"
            ],
            [
             0.6666666666666666,
             "#ed7953"
            ],
            [
             0.7777777777777778,
             "#fb9f3a"
            ],
            [
             0.8888888888888888,
             "#fdca26"
            ],
            [
             1,
             "#f0f921"
            ]
           ]
          },
          "colorway": [
           "#636efa",
           "#EF553B",
           "#00cc96",
           "#ab63fa",
           "#FFA15A",
           "#19d3f3",
           "#FF6692",
           "#B6E880",
           "#FF97FF",
           "#FECB52"
          ],
          "font": {
           "color": "#2a3f5f"
          },
          "geo": {
           "bgcolor": "white",
           "lakecolor": "white",
           "landcolor": "#E5ECF6",
           "showlakes": true,
           "showland": true,
           "subunitcolor": "white"
          },
          "hoverlabel": {
           "align": "left"
          },
          "hovermode": "closest",
          "mapbox": {
           "style": "light"
          },
          "paper_bgcolor": "white",
          "plot_bgcolor": "#E5ECF6",
          "polar": {
           "angularaxis": {
            "gridcolor": "white",
            "linecolor": "white",
            "ticks": ""
           },
           "bgcolor": "#E5ECF6",
           "radialaxis": {
            "gridcolor": "white",
            "linecolor": "white",
            "ticks": ""
           }
          },
          "scene": {
           "xaxis": {
            "backgroundcolor": "#E5ECF6",
            "gridcolor": "white",
            "gridwidth": 2,
            "linecolor": "white",
            "showbackground": true,
            "ticks": "",
            "zerolinecolor": "white"
           },
           "yaxis": {
            "backgroundcolor": "#E5ECF6",
            "gridcolor": "white",
            "gridwidth": 2,
            "linecolor": "white",
            "showbackground": true,
            "ticks": "",
            "zerolinecolor": "white"
           },
           "zaxis": {
            "backgroundcolor": "#E5ECF6",
            "gridcolor": "white",
            "gridwidth": 2,
            "linecolor": "white",
            "showbackground": true,
            "ticks": "",
            "zerolinecolor": "white"
           }
          },
          "shapedefaults": {
           "line": {
            "color": "#2a3f5f"
           }
          },
          "ternary": {
           "aaxis": {
            "gridcolor": "white",
            "linecolor": "white",
            "ticks": ""
           },
           "baxis": {
            "gridcolor": "white",
            "linecolor": "white",
            "ticks": ""
           },
           "bgcolor": "#E5ECF6",
           "caxis": {
            "gridcolor": "white",
            "linecolor": "white",
            "ticks": ""
           }
          },
          "title": {
           "x": 0.05
          },
          "xaxis": {
           "automargin": true,
           "gridcolor": "white",
           "linecolor": "white",
           "ticks": "",
           "title": {
            "standoff": 15
           },
           "zerolinecolor": "white",
           "zerolinewidth": 2
          },
          "yaxis": {
           "automargin": true,
           "gridcolor": "white",
           "linecolor": "white",
           "ticks": "",
           "title": {
            "standoff": 15
           },
           "zerolinecolor": "white",
           "zerolinewidth": 2
          }
         }
        },
        "title": {
         "font": {
          "size": 25
         },
         "text": "<b>The effect of quality of sleep on sleep </b>.."
        }
       }
      },
      "image/png": "[encoded data removed]",
      "text/html": [
       "<div>                            <div id=\"870c71e9-20e1-4244-a89b-429ef5935712\" class=\"plotly-graph-div\" style=\"height:525px; width:100%;\"></div>            <script type=\"text/javascript\">                require([\"plotly\"], function(Plotly) {                    window.PLOTLYENV=window.PLOTLYENV || {};                                    if (document.getElementById(\"870c71e9-20e1-4244-a89b-429ef5935712\")) {                    Plotly.newPlot(                        \"870c71e9-20e1-4244-a89b-429ef5935712\",                        [{\"branchvalues\":\"total\",\"customdata\":[[\"(?)\",0.0],[\"(?)\",1.0],[\"(?)\",0.0],[\"(?)\",1.0],[\"(?)\",0.0],[\"(?)\",1.0],[\"Female\",0.0],[\"(?)\",1.0],[\"(?)\",1.0],[\"(?)\",0.0],[\"(?)\",1.0],[\"(?)\",0.3958536402489316]],\"domain\":{\"x\":[0.0,1.0],\"y\":[0.0,1.0]},\"hovertemplate\":\"labels=%{label}\\u003cbr\\u003eSleep Duration=%{value}\\u003cbr\\u003eparent=%{parent}\\u003cbr\\u003eid=%{id}\\u003cbr\\u003eGender=%{customdata[0]}\\u003cbr\\u003eSleep Disorder=%{color}\\u003cextra\\u003e\\u003c\\u002fextra\\u003e\",\"ids\":[\"Sleep quality\\u002f0\\u002f6\",\"Sleep quality\\u002f1\\u002f6\",\"Sleep quality\\u002f0\\u002f7\",\"Sleep quality\\u002f1\\u002f7\",\"Sleep quality\\u002f0\\u002f8\",\"Sleep quality\\u002f1\\u002f8\",\"Sleep quality\\u002f0\\u002f9\",\"Sleep quality\\u002f1\\u002f9\",\"Sleep quality\\u002f1\\u002f4-5\",\"Sleep quality\\u002f0\",\"Sleep quality\\u002f1\",\"Sleep quality\"],\"labels\":[\"6\",\"6\",\"7\",\"7\",\"8\",\"8\",\"9\",\"9\",\"4-5\",\"0\",\"1\",\"Sleep quality\"],\"marker\":{\"coloraxis\":\"coloraxis\",\"colors\":[0.0,1.0,0.0,1.0,0.0,1.0,0.0,1.0,1.0,0.0,1.0,0.3958536402489316]},\"name\":\"\",\"parents\":[\"Sleep quality\\u002f0\",\"Sleep quality\\u002f1\",\"Sleep quality\\u002f0\",\"Sleep quality\\u002f1\",\"Sleep quality\\u002f0\",\"Sleep quality\\u002f1\",\"Sleep quality\\u002f0\",\"Sleep quality\\u002f1\",\"Sleep quality\\u002f1\",\"Sleep quality\",\"Sleep quality\",\"\"],\"values\":[244.7,405.8,301.6,248.2,747.3,59.7,317.9,267.4,74.8,1611.5,1055.9,2667.4],\"type\":\"sunburst\"}],                        {\"template\":{\"data\":{\"histogram2dcontour\":[{\"type\":\"histogram2dcontour\",\"colorbar\":{\"outlinewidth\":0,\"ticks\":\"\"},\"colorscale\":[[0.0,\"#0d0887\"],[0.1111111111111111,\"#46039f\"],[0.2222222222222222,\"#7201a8\"],[0.3333333333333333,\"#9c179e\"],[0.4444444444444444,\"#bd3786\"],[0.5555555555555556,\"#d8576b\"],[0.6666666666666666,\"#ed7953\"],[0.7777777777777778,\"#fb9f3a\"],[0.8888888888888888,\"#fdca26\"],[1.0,\"#f0f921\"]]}],\"choropleth\":[{\"type\":\"choropleth\",\"colorbar\":{\"outlinewidth\":0,\"ticks\":\"\"}}],\"histogram2d\":[{\"type\":\"histogram2d\",\"colorbar\":{\"outlinewidth\":0,\"ticks\":\"\"},\"colorscale\":[[0.0,\"#0d0887\"],[0.1111111111111111,\"#46039f\"],[0.2222222222222222,\"#7201a8\"],[0.3333333333333333,\"#9c179e\"],[0.4444444444444444,\"#bd3786\"],[0.5555555555555556,\"#d8576b\"],[0.6666666666666666,\"#ed7953\"],[0.7777777777777778,\"#fb9f3a\"],[0.8888888888888888,\"#fdca26\"],[1.0,\"#f0f921\"]]}],\"heatmap\":[{\"type\":\"heatmap\",\"colorbar\":{\"outlinewidth\":0,\"ticks\":\"\"},\"colorscale\":[[0.0,\"#0d0887\"],[0.1111111111111111,\"#46039f\"],[0.2222222222222222,\"#7201a8\"],[0.3333333333333333,\"#9c179e\"],[0.4444444444444444,\"#bd3786\"],[0.5555555555555556,\"#d8576b\"],[0.6666666666666666,\"#ed7953\"],[0.7777777777777778,\"#fb9f3a\"],[0.8888888888888888,\"#fdca26\"],[1.0,\"#f0f921\"]]}],\"heatmapgl\":[{\"type\":\"heatmapgl\",\"colorbar\":{\"outlinewidth\":0,\"ticks\":\"\"},\"colorscale\":[[0.0,\"#0d0887\"],[0.1111111111111111,\"#46039f\"],[0.2222222222222222,\"#7201a8\"],[0.3333333333333333,\"#9c179e\"],[0.4444444444444444,\"#bd3786\"],[0.5555555555555556,\"#d8576b\"],[0.6666666666666666,\"#ed7953\"],[0.7777777777777778,\"#fb9f3a\"],[0.8888888888888888,\"#fdca26\"],[1.0,\"#f0f921\"]]}],\"contourcarpet\":[{\"type\":\"contourcarpet\",\"colorbar\":{\"outlinewidth\":0,\"ticks\":\"\"}}],\"contour\":[{\"type\":\"contour\",\"colorbar\":{\"outlinewidth\":0,\"ticks\":\"\"},\"colorscale\":[[0.0,\"#0d0887\"],[0.1111111111111111,\"#46039f\"],[0.2222222222222222,\"#7201a8\"],[0.3333333333333333,\"#9c179e\"],[0.4444444444444444,\"#bd3786\"],[0.5555555555555556,\"#d8576b\"],[0.6666666666666666,\"#ed7953\"],[0.7777777777777778,\"#fb9f3a\"],[0.8888888888888888,\"#fdca26\"],[1.0,\"#f0f921\"]]}],\"surface\":[{\"type\":\"surface\",\"colorbar\":{\"outlinewidth\":0,\"ticks\":\"\"},\"colorscale\":[[0.0,\"#0d0887\"],[0.1111111111111111,\"#46039f\"],[0.2222222222222222,\"#7201a8\"],[0.3333333333333333,\"#9c179e\"],[0.4444444444444444,\"#bd3786\"],[0.5555555555555556,\"#d8576b\"],[0.6666666666666666,\"#ed7953\"],[0.7777777777777778,\"#fb9f3a\"],[0.8888888888888888,\"#fdca26\"],[1.0,\"#f0f921\"]]}],\"mesh3d\":[{\"type\":\"mesh3d\",\"colorbar\":{\"outlinewidth\":0,\"ticks\":\"\"}}],\"scatter\":[{\"fillpattern\":{\"fillmode\":\"overlay\",\"size\":10,\"solidity\":0.2},\"type\":\"scatter\"}],\"parcoords\":[{\"type\":\"parcoords\",\"line\":{\"colorbar\":{\"outlinewidth\":0,\"ticks\":\"\"}}}],\"scatterpolargl\":[{\"type\":\"scatterpolargl\",\"marker\":{\"colorbar\":{\"outlinewidth\":0,\"ticks\":\"\"}}}],\"bar\":[{\"error_x\":{\"color\":\"#2a3f5f\"},\"error_y\":{\"color\":\"#2a3f5f\"},\"marker\":{\"line\":{\"color\":\"#E5ECF6\",\"width\":0.5},\"pattern\":{\"fillmode\":\"overlay\",\"size\":10,\"solidity\":0.2}},\"type\":\"bar\"}],\"scattergeo\":[{\"type\":\"scattergeo\",\"marker\":{\"colorbar\":{\"outlinewidth\":0,\"ticks\":\"\"}}}],\"scatterpolar\":[{\"type\":\"scatterpolar\",\"marker\":{\"colorbar\":{\"outlinewidth\":0,\"ticks\":\"\"}}}],\"histogram\":[{\"marker\":{\"pattern\":{\"fillmode\":\"overlay\",\"size\":10,\"solidity\":0.2}},\"type\":\"histogram\"}],\"scattergl\":[{\"type\":\"scattergl\",\"marker\":{\"colorbar\":{\"outlinewidth\":0,\"ticks\":\"\"}}}],\"scatter3d\":[{\"type\":\"scatter3d\",\"line\":{\"colorbar\":{\"outlinewidth\":0,\"ticks\":\"\"}},\"marker\":{\"colorbar\":{\"outlinewidth\":0,\"ticks\":\"\"}}}],\"scattermapbox\":[{\"type\":\"scattermapbox\",\"marker\":{\"colorbar\":{\"outlinewidth\":0,\"ticks\":\"\"}}}],\"scatterternary\":[{\"type\":\"scatterternary\",\"marker\":{\"colorbar\":{\"outlinewidth\":0,\"ticks\":\"\"}}}],\"scattercarpet\":[{\"type\":\"scattercarpet\",\"marker\":{\"colorbar\":{\"outlinewidth\":0,\"ticks\":\"\"}}}],\"carpet\":[{\"aaxis\":{\"endlinecolor\":\"#2a3f5f\",\"gridcolor\":\"white\",\"linecolor\":\"white\",\"minorgridcolor\":\"white\",\"startlinecolor\":\"#2a3f5f\"},\"baxis\":{\"endlinecolor\":\"#2a3f5f\",\"gridcolor\":\"white\",\"linecolor\":\"white\",\"minorgridcolor\":\"white\",\"startlinecolor\":\"#2a3f5f\"},\"type\":\"carpet\"}],\"table\":[{\"cells\":{\"fill\":{\"color\":\"#EBF0F8\"},\"line\":{\"color\":\"white\"}},\"header\":{\"fill\":{\"color\":\"#C8D4E3\"},\"line\":{\"color\":\"white\"}},\"type\":\"table\"}],\"barpolar\":[{\"marker\":{\"line\":{\"color\":\"#E5ECF6\",\"width\":0.5},\"pattern\":{\"fillmode\":\"overlay\",\"size\":10,\"solidity\":0.2}},\"type\":\"barpolar\"}],\"pie\":[{\"automargin\":true,\"type\":\"pie\"}]},\"layout\":{\"autotypenumbers\":\"strict\",\"colorway\":[\"#636efa\",\"#EF553B\",\"#00cc96\",\"#ab63fa\",\"#FFA15A\",\"#19d3f3\",\"#FF6692\",\"#B6E880\",\"#FF97FF\",\"#FECB52\"],\"font\":{\"color\":\"#2a3f5f\"},\"hovermode\":\"closest\",\"hoverlabel\":{\"align\":\"left\"},\"paper_bgcolor\":\"white\",\"plot_bgcolor\":\"#E5ECF6\",\"polar\":{\"bgcolor\":\"#E5ECF6\",\"angularaxis\":{\"gridcolor\":\"white\",\"linecolor\":\"white\",\"ticks\":\"\"},\"radialaxis\":{\"gridcolor\":\"white\",\"linecolor\":\"white\",\"ticks\":\"\"}},\"ternary\":{\"bgcolor\":\"#E5ECF6\",\"aaxis\":{\"gridcolor\":\"white\",\"linecolor\":\"white\",\"ticks\":\"\"},\"baxis\":{\"gridcolor\":\"white\",\"linecolor\":\"white\",\"ticks\":\"\"},\"caxis\":{\"gridcolor\":\"white\",\"linecolor\":\"white\",\"ticks\":\"\"}},\"coloraxis\":{\"colorbar\":{\"outlinewidth\":0,\"ticks\":\"\"}},\"colorscale\":{\"sequential\":[[0.0,\"#0d0887\"],[0.1111111111111111,\"#46039f\"],[0.2222222222222222,\"#7201a8\"],[0.3333333333333333,\"#9c179e\"],[0.4444444444444444,\"#bd3786\"],[0.5555555555555556,\"#d8576b\"],[0.6666666666666666,\"#ed7953\"],[0.7777777777777778,\"#fb9f3a\"],[0.8888888888888888,\"#fdca26\"],[1.0,\"#f0f921\"]],\"sequentialminus\":[[0.0,\"#0d0887\"],[0.1111111111111111,\"#46039f\"],[0.2222222222222222,\"#7201a8\"],[0.3333333333333333,\"#9c179e\"],[0.4444444444444444,\"#bd3786\"],[0.5555555555555556,\"#d8576b\"],[0.6666666666666666,\"#ed7953\"],[0.7777777777777778,\"#fb9f3a\"],[0.8888888888888888,\"#fdca26\"],[1.0,\"#f0f921\"]],\"diverging\":[[0,\"#8e0152\"],[0.1,\"#c51b7d\"],[0.2,\"#de77ae\"],[0.3,\"#f1b6da\"],[0.4,\"#fde0ef\"],[0.5,\"#f7f7f7\"],[0.6,\"#e6f5d0\"],[0.7,\"#b8e186\"],[0.8,\"#7fbc41\"],[0.9,\"#4d9221\"],[1,\"#276419\"]]},\"xaxis\":{\"gridcolor\":\"white\",\"linecolor\":\"white\",\"ticks\":\"\",\"title\":{\"standoff\":15},\"zerolinecolor\":\"white\",\"automargin\":true,\"zerolinewidth\":2},\"yaxis\":{\"gridcolor\":\"white\",\"linecolor\":\"white\",\"ticks\":\"\",\"title\":{\"standoff\":15},\"zerolinecolor\":\"white\",\"automargin\":true,\"zerolinewidth\":2},\"scene\":{\"xaxis\":{\"backgroundcolor\":\"#E5ECF6\",\"gridcolor\":\"white\",\"linecolor\":\"white\",\"showbackground\":true,\"ticks\":\"\",\"zerolinecolor\":\"white\",\"gridwidth\":2},\"yaxis\":{\"backgroundcolor\":\"#E5ECF6\",\"gridcolor\":\"white\",\"linecolor\":\"white\",\"showbackground\":true,\"ticks\":\"\",\"zerolinecolor\":\"white\",\"gridwidth\":2},\"zaxis\":{\"backgroundcolor\":\"#E5ECF6\",\"gridcolor\":\"white\",\"linecolor\":\"white\",\"showbackground\":true,\"ticks\":\"\",\"zerolinecolor\":\"white\",\"gridwidth\":2}},\"shapedefaults\":{\"line\":{\"color\":\"#2a3f5f\"}},\"annotationdefaults\":{\"arrowcolor\":\"#2a3f5f\",\"arrowhead\":0,\"arrowwidth\":1},\"geo\":{\"bgcolor\":\"white\",\"landcolor\":\"#E5ECF6\",\"subunitcolor\":\"white\",\"showland\":true,\"showlakes\":true,\"lakecolor\":\"white\"},\"title\":{\"x\":0.05},\"mapbox\":{\"style\":\"light\"}}},\"coloraxis\":{\"colorbar\":{\"title\":{\"text\":\"Sleep Disorder\"}},\"colorscale\":[[0.0,\"#0d0887\"],[0.1111111111111111,\"#46039f\"],[0.2222222222222222,\"#7201a8\"],[0.3333333333333333,\"#9c179e\"],[0.4444444444444444,\"#bd3786\"],[0.5555555555555556,\"#d8576b\"],[0.6666666666666666,\"#ed7953\"],[0.7777777777777778,\"#fb9f3a\"],[0.8888888888888888,\"#fdca26\"],[1.0,\"#f0f921\"]]},\"legend\":{\"tracegroupgap\":0},\"margin\":{\"t\":60},\"title\":{\"text\":\"\\u003cb\\u003eThe effect of quality of sleep on sleep \\u003c\\u002fb\\u003e..\",\"font\":{\"size\":25}}},                        {\"responsive\": true}                    ).then(function(){\n",
       "                            \n",
       "var gd = document.getElementById('870c71e9-20e1-4244-a89b-429ef5935712');\n",
       "var x = new MutationObserver(function (mutations, observer) {{\n",
       "        var display = window.getComputedStyle(gd).display;\n",
       "        if (!display || display === 'none') {{\n",
       "            console.log([gd, 'removed!']);\n",
       "            Plotly.purge(gd);\n",
       "            observer.disconnect();\n",
       "        }}\n",
       "}});\n",
       "\n",
       "// Listen for the removal of the full notebook cells\n",
       "var notebookContainer = gd.closest('#notebook-container');\n",
       "if (notebookContainer) {{\n",
       "    x.observe(notebookContainer, {childList: true});\n",
       "}}\n",
       "\n",
       "// Listen for the clearing of the current output cell\n",
       "var outputEl = gd.closest('.output');\n",
       "if (outputEl) {{\n",
       "    x.observe(outputEl, {childList: true});\n",
       "}}\n",
       "\n",
       "                        })                };                });            </script>        </div>"
      ]
     },
     "metadata": {},
     "output_type": "display_data"
    }
   ],
   "source": [
    "fig=px.sunburst(data,path=[px.Constant('Sleep quality'),'Sleep Disorder','Quality of Sleep'],\n",
    "               color='Sleep Disorder',values='Sleep Duration',\n",
    "              hover_data=['Gender'])\n",
    "\n",
    "fig.update_layout(title='<b>The effect of quality of sleep on sleep </b>..',\n",
    "                 title_font={'size':25})\n",
    "\n",
    "fig.show()"
   ]
  },
  {
   "cell_type": "code",
   "execution_count": 393,
   "id": "4746f527-92e9-4e2b-be7c-e11a83448cf6",
   "metadata": {},
   "outputs": [
    {
     "name": "stderr",
     "output_type": "stream",
     "text": [
      "C:\\Users\\User\\anaconda3\\Lib\\site-packages\\plotly\\express\\_core.py:1706: FutureWarning:\n",
      "\n",
      "The default of observed=False is deprecated and will be changed to True in a future version of pandas. Pass observed=False to retain current behavior or observed=True to adopt the future default and silence this warning.\n",
      "\n"
     ]
    },
    {
     "data": {
      "application/vnd.plotly.v1+json": {
       "config": {
        "plotlyServerURL": "https://plot.ly"
       },
       "data": [
        {
         "branchvalues": "total",
         "customdata": [
          [
           0
          ],
          [
           1
          ],
          [
           0
          ],
          [
           1
          ],
          [
           0
          ],
          [
           1
          ],
          [
           0
          ],
          [
           1
          ],
          [
           0
          ],
          [
           1
          ],
          [
           0.3958536402489316
          ]
         ],
         "domain": {
          "x": [
           0,
           1
          ],
          "y": [
           0,
           1
          ]
         },
         "hovertemplate": "labels=%{label}<br>Sleep Duration=%{value}<br>parent=%{parent}<br>id=%{id}<br>Sleep Disorder=%{color}<extra></extra>",
         "ids": [
          "Stress Level/0/<=5000",
          "Stress Level/1/<=5000",
          "Stress Level/0/<=6000",
          "Stress Level/1/<=6000",
          "Stress Level/0/<=7000",
          "Stress Level/1/<=7000",
          "Stress Level/0/7000up",
          "Stress Level/1/7000up",
          "Stress Level/0",
          "Stress Level/1",
          "Stress Level"
         ],
         "labels": [
          "<=5000",
          "<=5000",
          "<=6000",
          "<=6000",
          "<=7000",
          "<=7000",
          "7000up",
          "7000up",
          "0",
          "1",
          "Stress Level"
         ],
         "marker": {
          "coloraxis": "coloraxis",
          "colors": [
           0,
           1,
           0,
           1,
           0,
           1,
           0,
           1,
           0,
           1,
           0.3958536402489316
          ]
         },
         "name": "",
         "parents": [
          "Stress Level/0",
          "Stress Level/1",
          "Stress Level/0",
          "Stress Level/1",
          "Stress Level/0",
          "Stress Level/1",
          "Stress Level/0",
          "Stress Level/1",
          "Stress Level",
          "Stress Level",
          ""
         ],
         "type": "sunburst",
         "values": [
          462.6,
          166,
          87,
          407.9,
          291.5,
          241.1,
          770.4,
          240.9,
          1611.5,
          1055.9,
          2667.4
         ]
        }
       ],
       "layout": {
        "autosize": true,
        "coloraxis": {
         "colorbar": {
          "title": {
           "text": "Sleep Disorder"
          }
         },
         "colorscale": [
          [
           0,
           "#0d0887"
          ],
          [
           0.1111111111111111,
           "#46039f"
          ],
          [
           0.2222222222222222,
           "#7201a8"
          ],
          [
           0.3333333333333333,
           "#9c179e"
          ],
          [
           0.4444444444444444,
           "#bd3786"
          ],
          [
           0.5555555555555556,
           "#d8576b"
          ],
          [
           0.6666666666666666,
           "#ed7953"
          ],
          [
           0.7777777777777778,
           "#fb9f3a"
          ],
          [
           0.8888888888888888,
           "#fdca26"
          ],
          [
           1,
           "#f0f921"
          ]
         ]
        },
        "legend": {
         "tracegroupgap": 0
        },
        "margin": {
         "t": 60
        },
        "template": {
         "data": {
          "bar": [
           {
            "error_x": {
             "color": "#2a3f5f"
            },
            "error_y": {
             "color": "#2a3f5f"
            },
            "marker": {
             "line": {
              "color": "#E5ECF6",
              "width": 0.5
             },
             "pattern": {
              "fillmode": "overlay",
              "size": 10,
              "solidity": 0.2
             }
            },
            "type": "bar"
           }
          ],
          "barpolar": [
           {
            "marker": {
             "line": {
              "color": "#E5ECF6",
              "width": 0.5
             },
             "pattern": {
              "fillmode": "overlay",
              "size": 10,
              "solidity": 0.2
             }
            },
            "type": "barpolar"
           }
          ],
          "carpet": [
           {
            "aaxis": {
             "endlinecolor": "#2a3f5f",
             "gridcolor": "white",
             "linecolor": "white",
             "minorgridcolor": "white",
             "startlinecolor": "#2a3f5f"
            },
            "baxis": {
             "endlinecolor": "#2a3f5f",
             "gridcolor": "white",
             "linecolor": "white",
             "minorgridcolor": "white",
             "startlinecolor": "#2a3f5f"
            },
            "type": "carpet"
           }
          ],
          "choropleth": [
           {
            "colorbar": {
             "outlinewidth": 0,
             "ticks": ""
            },
            "type": "choropleth"
           }
          ],
          "contour": [
           {
            "colorbar": {
             "outlinewidth": 0,
             "ticks": ""
            },
            "colorscale": [
             [
              0,
              "#0d0887"
             ],
             [
              0.1111111111111111,
              "#46039f"
             ],
             [
              0.2222222222222222,
              "#7201a8"
             ],
             [
              0.3333333333333333,
              "#9c179e"
             ],
             [
              0.4444444444444444,
              "#bd3786"
             ],
             [
              0.5555555555555556,
              "#d8576b"
             ],
             [
              0.6666666666666666,
              "#ed7953"
             ],
             [
              0.7777777777777778,
              "#fb9f3a"
             ],
             [
              0.8888888888888888,
              "#fdca26"
             ],
             [
              1,
              "#f0f921"
             ]
            ],
            "type": "contour"
           }
          ],
          "contourcarpet": [
           {
            "colorbar": {
             "outlinewidth": 0,
             "ticks": ""
            },
            "type": "contourcarpet"
           }
          ],
          "heatmap": [
           {
            "colorbar": {
             "outlinewidth": 0,
             "ticks": ""
            },
            "colorscale": [
             [
              0,
              "#0d0887"
             ],
             [
              0.1111111111111111,
              "#46039f"
             ],
             [
              0.2222222222222222,
              "#7201a8"
             ],
             [
              0.3333333333333333,
              "#9c179e"
             ],
             [
              0.4444444444444444,
              "#bd3786"
             ],
             [
              0.5555555555555556,
              "#d8576b"
             ],
             [
              0.6666666666666666,
              "#ed7953"
             ],
             [
              0.7777777777777778,
              "#fb9f3a"
             ],
             [
              0.8888888888888888,
              "#fdca26"
             ],
             [
              1,
              "#f0f921"
             ]
            ],
            "type": "heatmap"
           }
          ],
          "heatmapgl": [
           {
            "colorbar": {
             "outlinewidth": 0,
             "ticks": ""
            },
            "colorscale": [
             [
              0,
              "#0d0887"
             ],
             [
              0.1111111111111111,
              "#46039f"
             ],
             [
              0.2222222222222222,
              "#7201a8"
             ],
             [
              0.3333333333333333,
              "#9c179e"
             ],
             [
              0.4444444444444444,
              "#bd3786"
             ],
             [
              0.5555555555555556,
              "#d8576b"
             ],
             [
              0.6666666666666666,
              "#ed7953"
             ],
             [
              0.7777777777777778,
              "#fb9f3a"
             ],
             [
              0.8888888888888888,
              "#fdca26"
             ],
             [
              1,
              "#f0f921"
             ]
            ],
            "type": "heatmapgl"
           }
          ],
          "histogram": [
           {
            "marker": {
             "pattern": {
              "fillmode": "overlay",
              "size": 10,
              "solidity": 0.2
             }
            },
            "type": "histogram"
           }
          ],
          "histogram2d": [
           {
            "colorbar": {
             "outlinewidth": 0,
             "ticks": ""
            },
            "colorscale": [
             [
              0,
              "#0d0887"
             ],
             [
              0.1111111111111111,
              "#46039f"
             ],
             [
              0.2222222222222222,
              "#7201a8"
             ],
             [
              0.3333333333333333,
              "#9c179e"
             ],
             [
              0.4444444444444444,
              "#bd3786"
             ],
             [
              0.5555555555555556,
              "#d8576b"
             ],
             [
              0.6666666666666666,
              "#ed7953"
             ],
             [
              0.7777777777777778,
              "#fb9f3a"
             ],
             [
              0.8888888888888888,
              "#fdca26"
             ],
             [
              1,
              "#f0f921"
             ]
            ],
            "type": "histogram2d"
           }
          ],
          "histogram2dcontour": [
           {
            "colorbar": {
             "outlinewidth": 0,
             "ticks": ""
            },
            "colorscale": [
             [
              0,
              "#0d0887"
             ],
             [
              0.1111111111111111,
              "#46039f"
             ],
             [
              0.2222222222222222,
              "#7201a8"
             ],
             [
              0.3333333333333333,
              "#9c179e"
             ],
             [
              0.4444444444444444,
              "#bd3786"
             ],
             [
              0.5555555555555556,
              "#d8576b"
             ],
             [
              0.6666666666666666,
              "#ed7953"
             ],
             [
              0.7777777777777778,
              "#fb9f3a"
             ],
             [
              0.8888888888888888,
              "#fdca26"
             ],
             [
              1,
              "#f0f921"
             ]
            ],
            "type": "histogram2dcontour"
           }
          ],
          "mesh3d": [
           {
            "colorbar": {
             "outlinewidth": 0,
             "ticks": ""
            },
            "type": "mesh3d"
           }
          ],
          "parcoords": [
           {
            "line": {
             "colorbar": {
              "outlinewidth": 0,
              "ticks": ""
             }
            },
            "type": "parcoords"
           }
          ],
          "pie": [
           {
            "automargin": true,
            "type": "pie"
           }
          ],
          "scatter": [
           {
            "fillpattern": {
             "fillmode": "overlay",
             "size": 10,
             "solidity": 0.2
            },
            "type": "scatter"
           }
          ],
          "scatter3d": [
           {
            "line": {
             "colorbar": {
              "outlinewidth": 0,
              "ticks": ""
             }
            },
            "marker": {
             "colorbar": {
              "outlinewidth": 0,
              "ticks": ""
             }
            },
            "type": "scatter3d"
           }
          ],
          "scattercarpet": [
           {
            "marker": {
             "colorbar": {
              "outlinewidth": 0,
              "ticks": ""
             }
            },
            "type": "scattercarpet"
           }
          ],
          "scattergeo": [
           {
            "marker": {
             "colorbar": {
              "outlinewidth": 0,
              "ticks": ""
             }
            },
            "type": "scattergeo"
           }
          ],
          "scattergl": [
           {
            "marker": {
             "colorbar": {
              "outlinewidth": 0,
              "ticks": ""
             }
            },
            "type": "scattergl"
           }
          ],
          "scattermapbox": [
           {
            "marker": {
             "colorbar": {
              "outlinewidth": 0,
              "ticks": ""
             }
            },
            "type": "scattermapbox"
           }
          ],
          "scatterpolar": [
           {
            "marker": {
             "colorbar": {
              "outlinewidth": 0,
              "ticks": ""
             }
            },
            "type": "scatterpolar"
           }
          ],
          "scatterpolargl": [
           {
            "marker": {
             "colorbar": {
              "outlinewidth": 0,
              "ticks": ""
             }
            },
            "type": "scatterpolargl"
           }
          ],
          "scatterternary": [
           {
            "marker": {
             "colorbar": {
              "outlinewidth": 0,
              "ticks": ""
             }
            },
            "type": "scatterternary"
           }
          ],
          "surface": [
           {
            "colorbar": {
             "outlinewidth": 0,
             "ticks": ""
            },
            "colorscale": [
             [
              0,
              "#0d0887"
             ],
             [
              0.1111111111111111,
              "#46039f"
             ],
             [
              0.2222222222222222,
              "#7201a8"
             ],
             [
              0.3333333333333333,
              "#9c179e"
             ],
             [
              0.4444444444444444,
              "#bd3786"
             ],
             [
              0.5555555555555556,
              "#d8576b"
             ],
             [
              0.6666666666666666,
              "#ed7953"
             ],
             [
              0.7777777777777778,
              "#fb9f3a"
             ],
             [
              0.8888888888888888,
              "#fdca26"
             ],
             [
              1,
              "#f0f921"
             ]
            ],
            "type": "surface"
           }
          ],
          "table": [
           {
            "cells": {
             "fill": {
              "color": "#EBF0F8"
             },
             "line": {
              "color": "white"
             }
            },
            "header": {
             "fill": {
              "color": "#C8D4E3"
             },
             "line": {
              "color": "white"
             }
            },
            "type": "table"
           }
          ]
         },
         "layout": {
          "annotationdefaults": {
           "arrowcolor": "#2a3f5f",
           "arrowhead": 0,
           "arrowwidth": 1
          },
          "autotypenumbers": "strict",
          "coloraxis": {
           "colorbar": {
            "outlinewidth": 0,
            "ticks": ""
           }
          },
          "colorscale": {
           "diverging": [
            [
             0,
             "#8e0152"
            ],
            [
             0.1,
             "#c51b7d"
            ],
            [
             0.2,
             "#de77ae"
            ],
            [
             0.3,
             "#f1b6da"
            ],
            [
             0.4,
             "#fde0ef"
            ],
            [
             0.5,
             "#f7f7f7"
            ],
            [
             0.6,
             "#e6f5d0"
            ],
            [
             0.7,
             "#b8e186"
            ],
            [
             0.8,
             "#7fbc41"
            ],
            [
             0.9,
             "#4d9221"
            ],
            [
             1,
             "#276419"
            ]
           ],
           "sequential": [
            [
             0,
             "#0d0887"
            ],
            [
             0.1111111111111111,
             "#46039f"
            ],
            [
             0.2222222222222222,
             "#7201a8"
            ],
            [
             0.3333333333333333,
             "#9c179e"
            ],
            [
             0.4444444444444444,
             "#bd3786"
            ],
            [
             0.5555555555555556,
             "#d8576b"
            ],
            [
             0.6666666666666666,
             "#ed7953"
            ],
            [
             0.7777777777777778,
             "#fb9f3a"
            ],
            [
             0.8888888888888888,
             "#fdca26"
            ],
            [
             1,
             "#f0f921"
            ]
           ],
           "sequentialminus": [
            [
             0,
             "#0d0887"
            ],
            [
             0.1111111111111111,
             "#46039f"
            ],
            [
             0.2222222222222222,
             "#7201a8"
            ],
            [
             0.3333333333333333,
             "#9c179e"
            ],
            [
             0.4444444444444444,
             "#bd3786"
            ],
            [
             0.5555555555555556,
             "#d8576b"
            ],
            [
             0.6666666666666666,
             "#ed7953"
            ],
            [
             0.7777777777777778,
             "#fb9f3a"
            ],
            [
             0.8888888888888888,
             "#fdca26"
            ],
            [
             1,
             "#f0f921"
            ]
           ]
          },
          "colorway": [
           "#636efa",
           "#EF553B",
           "#00cc96",
           "#ab63fa",
           "#FFA15A",
           "#19d3f3",
           "#FF6692",
           "#B6E880",
           "#FF97FF",
           "#FECB52"
          ],
          "font": {
           "color": "#2a3f5f"
          },
          "geo": {
           "bgcolor": "white",
           "lakecolor": "white",
           "landcolor": "#E5ECF6",
           "showlakes": true,
           "showland": true,
           "subunitcolor": "white"
          },
          "hoverlabel": {
           "align": "left"
          },
          "hovermode": "closest",
          "mapbox": {
           "style": "light"
          },
          "paper_bgcolor": "white",
          "plot_bgcolor": "#E5ECF6",
          "polar": {
           "angularaxis": {
            "gridcolor": "white",
            "linecolor": "white",
            "ticks": ""
           },
           "bgcolor": "#E5ECF6",
           "radialaxis": {
            "gridcolor": "white",
            "linecolor": "white",
            "ticks": ""
           }
          },
          "scene": {
           "xaxis": {
            "backgroundcolor": "#E5ECF6",
            "gridcolor": "white",
            "gridwidth": 2,
            "linecolor": "white",
            "showbackground": true,
            "ticks": "",
            "zerolinecolor": "white"
           },
           "yaxis": {
            "backgroundcolor": "#E5ECF6",
            "gridcolor": "white",
            "gridwidth": 2,
            "linecolor": "white",
            "showbackground": true,
            "ticks": "",
            "zerolinecolor": "white"
           },
           "zaxis": {
            "backgroundcolor": "#E5ECF6",
            "gridcolor": "white",
            "gridwidth": 2,
            "linecolor": "white",
            "showbackground": true,
            "ticks": "",
            "zerolinecolor": "white"
           }
          },
          "shapedefaults": {
           "line": {
            "color": "#2a3f5f"
           }
          },
          "ternary": {
           "aaxis": {
            "gridcolor": "white",
            "linecolor": "white",
            "ticks": ""
           },
           "baxis": {
            "gridcolor": "white",
            "linecolor": "white",
            "ticks": ""
           },
           "bgcolor": "#E5ECF6",
           "caxis": {
            "gridcolor": "white",
            "linecolor": "white",
            "ticks": ""
           }
          },
          "title": {
           "x": 0.05
          },
          "xaxis": {
           "automargin": true,
           "gridcolor": "white",
           "linecolor": "white",
           "ticks": "",
           "title": {
            "standoff": 15
           },
           "zerolinecolor": "white",
           "zerolinewidth": 2
          },
          "yaxis": {
           "automargin": true,
           "gridcolor": "white",
           "linecolor": "white",
           "ticks": "",
           "title": {
            "standoff": 15
           },
           "zerolinecolor": "white",
           "zerolinewidth": 2
          }
         }
        },
        "title": {
         "font": {
          "size": 25
         },
         "text": "<b>The effect of quality of sleep on sleep </b>.."
        }
       }
      },
      "image/png": "[encoded data removed]",
      "text/html": [
       "<div>                            <div id=\"442beb57-ec86-42a4-8df9-a4d8a14d5b61\" class=\"plotly-graph-div\" style=\"height:525px; width:100%;\"></div>            <script type=\"text/javascript\">                require([\"plotly\"], function(Plotly) {                    window.PLOTLYENV=window.PLOTLYENV || {};                                    if (document.getElementById(\"442beb57-ec86-42a4-8df9-a4d8a14d5b61\")) {                    Plotly.newPlot(                        \"442beb57-ec86-42a4-8df9-a4d8a14d5b61\",                        [{\"branchvalues\":\"total\",\"customdata\":[[0.0],[1.0],[0.0],[1.0],[0.0],[1.0],[0.0],[1.0],[0.0],[1.0],[0.3958536402489316]],\"domain\":{\"x\":[0.0,1.0],\"y\":[0.0,1.0]},\"hovertemplate\":\"labels=%{label}\\u003cbr\\u003eSleep Duration=%{value}\\u003cbr\\u003eparent=%{parent}\\u003cbr\\u003eid=%{id}\\u003cbr\\u003eSleep Disorder=%{color}\\u003cextra\\u003e\\u003c\\u002fextra\\u003e\",\"ids\":[\"Stress Level\\u002f0\\u002f\\u003c=5000\",\"Stress Level\\u002f1\\u002f\\u003c=5000\",\"Stress Level\\u002f0\\u002f\\u003c=6000\",\"Stress Level\\u002f1\\u002f\\u003c=6000\",\"Stress Level\\u002f0\\u002f\\u003c=7000\",\"Stress Level\\u002f1\\u002f\\u003c=7000\",\"Stress Level\\u002f0\\u002f7000up\",\"Stress Level\\u002f1\\u002f7000up\",\"Stress Level\\u002f0\",\"Stress Level\\u002f1\",\"Stress Level\"],\"labels\":[\"\\u003c=5000\",\"\\u003c=5000\",\"\\u003c=6000\",\"\\u003c=6000\",\"\\u003c=7000\",\"\\u003c=7000\",\"7000up\",\"7000up\",\"0\",\"1\",\"Stress Level\"],\"marker\":{\"coloraxis\":\"coloraxis\",\"colors\":[0.0,1.0,0.0,1.0,0.0,1.0,0.0,1.0,0.0,1.0,0.3958536402489316]},\"name\":\"\",\"parents\":[\"Stress Level\\u002f0\",\"Stress Level\\u002f1\",\"Stress Level\\u002f0\",\"Stress Level\\u002f1\",\"Stress Level\\u002f0\",\"Stress Level\\u002f1\",\"Stress Level\\u002f0\",\"Stress Level\\u002f1\",\"Stress Level\",\"Stress Level\",\"\"],\"values\":[462.6,166.0,87.0,407.9,291.5,241.1,770.4,240.9,1611.5,1055.9,2667.4],\"type\":\"sunburst\"}],                        {\"template\":{\"data\":{\"histogram2dcontour\":[{\"type\":\"histogram2dcontour\",\"colorbar\":{\"outlinewidth\":0,\"ticks\":\"\"},\"colorscale\":[[0.0,\"#0d0887\"],[0.1111111111111111,\"#46039f\"],[0.2222222222222222,\"#7201a8\"],[0.3333333333333333,\"#9c179e\"],[0.4444444444444444,\"#bd3786\"],[0.5555555555555556,\"#d8576b\"],[0.6666666666666666,\"#ed7953\"],[0.7777777777777778,\"#fb9f3a\"],[0.8888888888888888,\"#fdca26\"],[1.0,\"#f0f921\"]]}],\"choropleth\":[{\"type\":\"choropleth\",\"colorbar\":{\"outlinewidth\":0,\"ticks\":\"\"}}],\"histogram2d\":[{\"type\":\"histogram2d\",\"colorbar\":{\"outlinewidth\":0,\"ticks\":\"\"},\"colorscale\":[[0.0,\"#0d0887\"],[0.1111111111111111,\"#46039f\"],[0.2222222222222222,\"#7201a8\"],[0.3333333333333333,\"#9c179e\"],[0.4444444444444444,\"#bd3786\"],[0.5555555555555556,\"#d8576b\"],[0.6666666666666666,\"#ed7953\"],[0.7777777777777778,\"#fb9f3a\"],[0.8888888888888888,\"#fdca26\"],[1.0,\"#f0f921\"]]}],\"heatmap\":[{\"type\":\"heatmap\",\"colorbar\":{\"outlinewidth\":0,\"ticks\":\"\"},\"colorscale\":[[0.0,\"#0d0887\"],[0.1111111111111111,\"#46039f\"],[0.2222222222222222,\"#7201a8\"],[0.3333333333333333,\"#9c179e\"],[0.4444444444444444,\"#bd3786\"],[0.5555555555555556,\"#d8576b\"],[0.6666666666666666,\"#ed7953\"],[0.7777777777777778,\"#fb9f3a\"],[0.8888888888888888,\"#fdca26\"],[1.0,\"#f0f921\"]]}],\"heatmapgl\":[{\"type\":\"heatmapgl\",\"colorbar\":{\"outlinewidth\":0,\"ticks\":\"\"},\"colorscale\":[[0.0,\"#0d0887\"],[0.1111111111111111,\"#46039f\"],[0.2222222222222222,\"#7201a8\"],[0.3333333333333333,\"#9c179e\"],[0.4444444444444444,\"#bd3786\"],[0.5555555555555556,\"#d8576b\"],[0.6666666666666666,\"#ed7953\"],[0.7777777777777778,\"#fb9f3a\"],[0.8888888888888888,\"#fdca26\"],[1.0,\"#f0f921\"]]}],\"contourcarpet\":[{\"type\":\"contourcarpet\",\"colorbar\":{\"outlinewidth\":0,\"ticks\":\"\"}}],\"contour\":[{\"type\":\"contour\",\"colorbar\":{\"outlinewidth\":0,\"ticks\":\"\"},\"colorscale\":[[0.0,\"#0d0887\"],[0.1111111111111111,\"#46039f\"],[0.2222222222222222,\"#7201a8\"],[0.3333333333333333,\"#9c179e\"],[0.4444444444444444,\"#bd3786\"],[0.5555555555555556,\"#d8576b\"],[0.6666666666666666,\"#ed7953\"],[0.7777777777777778,\"#fb9f3a\"],[0.8888888888888888,\"#fdca26\"],[1.0,\"#f0f921\"]]}],\"surface\":[{\"type\":\"surface\",\"colorbar\":{\"outlinewidth\":0,\"ticks\":\"\"},\"colorscale\":[[0.0,\"#0d0887\"],[0.1111111111111111,\"#46039f\"],[0.2222222222222222,\"#7201a8\"],[0.3333333333333333,\"#9c179e\"],[0.4444444444444444,\"#bd3786\"],[0.5555555555555556,\"#d8576b\"],[0.6666666666666666,\"#ed7953\"],[0.7777777777777778,\"#fb9f3a\"],[0.8888888888888888,\"#fdca26\"],[1.0,\"#f0f921\"]]}],\"mesh3d\":[{\"type\":\"mesh3d\",\"colorbar\":{\"outlinewidth\":0,\"ticks\":\"\"}}],\"scatter\":[{\"fillpattern\":{\"fillmode\":\"overlay\",\"size\":10,\"solidity\":0.2},\"type\":\"scatter\"}],\"parcoords\":[{\"type\":\"parcoords\",\"line\":{\"colorbar\":{\"outlinewidth\":0,\"ticks\":\"\"}}}],\"scatterpolargl\":[{\"type\":\"scatterpolargl\",\"marker\":{\"colorbar\":{\"outlinewidth\":0,\"ticks\":\"\"}}}],\"bar\":[{\"error_x\":{\"color\":\"#2a3f5f\"},\"error_y\":{\"color\":\"#2a3f5f\"},\"marker\":{\"line\":{\"color\":\"#E5ECF6\",\"width\":0.5},\"pattern\":{\"fillmode\":\"overlay\",\"size\":10,\"solidity\":0.2}},\"type\":\"bar\"}],\"scattergeo\":[{\"type\":\"scattergeo\",\"marker\":{\"colorbar\":{\"outlinewidth\":0,\"ticks\":\"\"}}}],\"scatterpolar\":[{\"type\":\"scatterpolar\",\"marker\":{\"colorbar\":{\"outlinewidth\":0,\"ticks\":\"\"}}}],\"histogram\":[{\"marker\":{\"pattern\":{\"fillmode\":\"overlay\",\"size\":10,\"solidity\":0.2}},\"type\":\"histogram\"}],\"scattergl\":[{\"type\":\"scattergl\",\"marker\":{\"colorbar\":{\"outlinewidth\":0,\"ticks\":\"\"}}}],\"scatter3d\":[{\"type\":\"scatter3d\",\"line\":{\"colorbar\":{\"outlinewidth\":0,\"ticks\":\"\"}},\"marker\":{\"colorbar\":{\"outlinewidth\":0,\"ticks\":\"\"}}}],\"scattermapbox\":[{\"type\":\"scattermapbox\",\"marker\":{\"colorbar\":{\"outlinewidth\":0,\"ticks\":\"\"}}}],\"scatterternary\":[{\"type\":\"scatterternary\",\"marker\":{\"colorbar\":{\"outlinewidth\":0,\"ticks\":\"\"}}}],\"scattercarpet\":[{\"type\":\"scattercarpet\",\"marker\":{\"colorbar\":{\"outlinewidth\":0,\"ticks\":\"\"}}}],\"carpet\":[{\"aaxis\":{\"endlinecolor\":\"#2a3f5f\",\"gridcolor\":\"white\",\"linecolor\":\"white\",\"minorgridcolor\":\"white\",\"startlinecolor\":\"#2a3f5f\"},\"baxis\":{\"endlinecolor\":\"#2a3f5f\",\"gridcolor\":\"white\",\"linecolor\":\"white\",\"minorgridcolor\":\"white\",\"startlinecolor\":\"#2a3f5f\"},\"type\":\"carpet\"}],\"table\":[{\"cells\":{\"fill\":{\"color\":\"#EBF0F8\"},\"line\":{\"color\":\"white\"}},\"header\":{\"fill\":{\"color\":\"#C8D4E3\"},\"line\":{\"color\":\"white\"}},\"type\":\"table\"}],\"barpolar\":[{\"marker\":{\"line\":{\"color\":\"#E5ECF6\",\"width\":0.5},\"pattern\":{\"fillmode\":\"overlay\",\"size\":10,\"solidity\":0.2}},\"type\":\"barpolar\"}],\"pie\":[{\"automargin\":true,\"type\":\"pie\"}]},\"layout\":{\"autotypenumbers\":\"strict\",\"colorway\":[\"#636efa\",\"#EF553B\",\"#00cc96\",\"#ab63fa\",\"#FFA15A\",\"#19d3f3\",\"#FF6692\",\"#B6E880\",\"#FF97FF\",\"#FECB52\"],\"font\":{\"color\":\"#2a3f5f\"},\"hovermode\":\"closest\",\"hoverlabel\":{\"align\":\"left\"},\"paper_bgcolor\":\"white\",\"plot_bgcolor\":\"#E5ECF6\",\"polar\":{\"bgcolor\":\"#E5ECF6\",\"angularaxis\":{\"gridcolor\":\"white\",\"linecolor\":\"white\",\"ticks\":\"\"},\"radialaxis\":{\"gridcolor\":\"white\",\"linecolor\":\"white\",\"ticks\":\"\"}},\"ternary\":{\"bgcolor\":\"#E5ECF6\",\"aaxis\":{\"gridcolor\":\"white\",\"linecolor\":\"white\",\"ticks\":\"\"},\"baxis\":{\"gridcolor\":\"white\",\"linecolor\":\"white\",\"ticks\":\"\"},\"caxis\":{\"gridcolor\":\"white\",\"linecolor\":\"white\",\"ticks\":\"\"}},\"coloraxis\":{\"colorbar\":{\"outlinewidth\":0,\"ticks\":\"\"}},\"colorscale\":{\"sequential\":[[0.0,\"#0d0887\"],[0.1111111111111111,\"#46039f\"],[0.2222222222222222,\"#7201a8\"],[0.3333333333333333,\"#9c179e\"],[0.4444444444444444,\"#bd3786\"],[0.5555555555555556,\"#d8576b\"],[0.6666666666666666,\"#ed7953\"],[0.7777777777777778,\"#fb9f3a\"],[0.8888888888888888,\"#fdca26\"],[1.0,\"#f0f921\"]],\"sequentialminus\":[[0.0,\"#0d0887\"],[0.1111111111111111,\"#46039f\"],[0.2222222222222222,\"#7201a8\"],[0.3333333333333333,\"#9c179e\"],[0.4444444444444444,\"#bd3786\"],[0.5555555555555556,\"#d8576b\"],[0.6666666666666666,\"#ed7953\"],[0.7777777777777778,\"#fb9f3a\"],[0.8888888888888888,\"#fdca26\"],[1.0,\"#f0f921\"]],\"diverging\":[[0,\"#8e0152\"],[0.1,\"#c51b7d\"],[0.2,\"#de77ae\"],[0.3,\"#f1b6da\"],[0.4,\"#fde0ef\"],[0.5,\"#f7f7f7\"],[0.6,\"#e6f5d0\"],[0.7,\"#b8e186\"],[0.8,\"#7fbc41\"],[0.9,\"#4d9221\"],[1,\"#276419\"]]},\"xaxis\":{\"gridcolor\":\"white\",\"linecolor\":\"white\",\"ticks\":\"\",\"title\":{\"standoff\":15},\"zerolinecolor\":\"white\",\"automargin\":true,\"zerolinewidth\":2},\"yaxis\":{\"gridcolor\":\"white\",\"linecolor\":\"white\",\"ticks\":\"\",\"title\":{\"standoff\":15},\"zerolinecolor\":\"white\",\"automargin\":true,\"zerolinewidth\":2},\"scene\":{\"xaxis\":{\"backgroundcolor\":\"#E5ECF6\",\"gridcolor\":\"white\",\"linecolor\":\"white\",\"showbackground\":true,\"ticks\":\"\",\"zerolinecolor\":\"white\",\"gridwidth\":2},\"yaxis\":{\"backgroundcolor\":\"#E5ECF6\",\"gridcolor\":\"white\",\"linecolor\":\"white\",\"showbackground\":true,\"ticks\":\"\",\"zerolinecolor\":\"white\",\"gridwidth\":2},\"zaxis\":{\"backgroundcolor\":\"#E5ECF6\",\"gridcolor\":\"white\",\"linecolor\":\"white\",\"showbackground\":true,\"ticks\":\"\",\"zerolinecolor\":\"white\",\"gridwidth\":2}},\"shapedefaults\":{\"line\":{\"color\":\"#2a3f5f\"}},\"annotationdefaults\":{\"arrowcolor\":\"#2a3f5f\",\"arrowhead\":0,\"arrowwidth\":1},\"geo\":{\"bgcolor\":\"white\",\"landcolor\":\"#E5ECF6\",\"subunitcolor\":\"white\",\"showland\":true,\"showlakes\":true,\"lakecolor\":\"white\"},\"title\":{\"x\":0.05},\"mapbox\":{\"style\":\"light\"}}},\"coloraxis\":{\"colorbar\":{\"title\":{\"text\":\"Sleep Disorder\"}},\"colorscale\":[[0.0,\"#0d0887\"],[0.1111111111111111,\"#46039f\"],[0.2222222222222222,\"#7201a8\"],[0.3333333333333333,\"#9c179e\"],[0.4444444444444444,\"#bd3786\"],[0.5555555555555556,\"#d8576b\"],[0.6666666666666666,\"#ed7953\"],[0.7777777777777778,\"#fb9f3a\"],[0.8888888888888888,\"#fdca26\"],[1.0,\"#f0f921\"]]},\"legend\":{\"tracegroupgap\":0},\"margin\":{\"t\":60},\"title\":{\"text\":\"\\u003cb\\u003eThe effect of quality of sleep on sleep \\u003c\\u002fb\\u003e..\",\"font\":{\"size\":25}}},                        {\"responsive\": true}                    ).then(function(){\n",
       "                            \n",
       "var gd = document.getElementById('442beb57-ec86-42a4-8df9-a4d8a14d5b61');\n",
       "var x = new MutationObserver(function (mutations, observer) {{\n",
       "        var display = window.getComputedStyle(gd).display;\n",
       "        if (!display || display === 'none') {{\n",
       "            console.log([gd, 'removed!']);\n",
       "            Plotly.purge(gd);\n",
       "            observer.disconnect();\n",
       "        }}\n",
       "}});\n",
       "\n",
       "// Listen for the removal of the full notebook cells\n",
       "var notebookContainer = gd.closest('#notebook-container');\n",
       "if (notebookContainer) {{\n",
       "    x.observe(notebookContainer, {childList: true});\n",
       "}}\n",
       "\n",
       "// Listen for the clearing of the current output cell\n",
       "var outputEl = gd.closest('.output');\n",
       "if (outputEl) {{\n",
       "    x.observe(outputEl, {childList: true});\n",
       "}}\n",
       "\n",
       "                        })                };                });            </script>        </div>"
      ]
     },
     "metadata": {},
     "output_type": "display_data"
    }
   ],
   "source": [
    "fig=px.sunburst(data,path=[px.Constant('Stress Level'),'Sleep Disorder','Daily Steps'],\n",
    "               color='Sleep Disorder',values='Sleep Duration')\n",
    "\n",
    "fig.update_layout(title='<b>The effect of quality of sleep on sleep </b>..',\n",
    "                 title_font={'size':25})\n",
    "\n",
    "fig.show()"
   ]
  },
  {
   "cell_type": "code",
   "execution_count": 341,
   "id": "b003c8eb-7146-4dba-a977-056b059284c4",
   "metadata": {},
   "outputs": [
    {
     "data": {
      "image/png": "[encoded data removed]",
      "text/plain": [
       "<Figure size 640x480 with 1 Axes>"
      ]
     },
     "metadata": {},
     "output_type": "display_data"
    }
   ],
   "source": [
    "data.pivot_table(index='Gender',columns='Sleep Disorder',values='Age',aggfunc='mean').plot(kind='bar',color={'yellow','pink'},\n",
    "                                                                                                   title='Most affected ages in each type of Sleep Disorder',\n",
    "                                                                                                    label='Age',alpha=.7)\n",
    "plt.show()"
   ]
  },
  {
   "cell_type": "code",
   "execution_count": 387,
   "id": "20f33f80-ce7a-46e0-bdb4-f2f946ffa02f",
   "metadata": {},
   "outputs": [
    {
     "data": {
      "image/png": "[encoded data removed]",
      "text/plain": [
       "<Figure size 640x480 with 1 Axes>"
      ]
     },
     "metadata": {},
     "output_type": "display_data"
    }
   ],
   "source": [
    "data.pivot_table(index='Gender',columns='Sleep Disorder',values='Sleep Duration',aggfunc='mean').plot(kind='bar',color={'lightblue','pink'},\n",
    "                                                                                                   title='Average Sleep Duration in each type of Sleep Disorder',\n",
    "                                                                                                    label='Age',alpha=.7)\n",
    "plt.show()"
   ]
  },
  {
   "cell_type": "code",
   "execution_count": 395,
   "id": "34ec5d2e-5dd6-4793-816a-81db7a46463e",
   "metadata": {},
   "outputs": [
    {
     "data": {
      "image/png": "[encoded data removed]",
      "text/plain": [
       "<Figure size 640x480 with 1 Axes>"
      ]
     },
     "metadata": {},
     "output_type": "display_data"
    }
   ],
   "source": [
    "data.pivot_table(index='Gender',columns='Sleep Disorder',values='Heart Rate',aggfunc='mean').plot(kind='bar',color={'lightblue','pink'},\n",
    "                                                                                                   title='Average Heart Rate in each type of Sleep Disorder',\n",
    "                                                                                                    label='Age',alpha=.7)\n",
    "plt.show()"
   ]
  },
  {
   "cell_type": "code",
   "execution_count": 363,
   "id": "526ba00e-c1b9-4ac2-91ca-09face79a72f",
   "metadata": {},
   "outputs": [
    {
     "data": {
      "image/png": "[encoded data removed]",
      "text/plain": [
       "<Figure size 1200x700 with 1 Axes>"
      ]
     },
     "metadata": {},
     "output_type": "display_data"
    }
   ],
   "source": [
    "# Pivot table to aggregate the data\n",
    "pivot_data = data.pivot_table(\n",
    "    index='BMI Category',\n",
    "    columns='Sleep Disorder',\n",
    "    aggfunc={'Sleep Disorder': 'count'}\n",
    ")\n",
    "# Plot a bar chart\n",
    "pivot_data.plot.bar(\n",
    "    figsize=(12, 7), \n",
    "    color=['lightblue','pink'], \n",
    "    width=0.8\n",
    ")\n",
    "# Add labels and title\n",
    "plt.title('Distribution of Sleep Disorders by BMI Category', fontsize=20)\n",
    "plt.ylabel('Count', fontsize=17)\n",
    "plt.xlabel('BMI Category', fontsize=17)\n",
    "plt.legend(title='Sleep Disorder', fontsize=15)\n",
    "plt.xticks(rotation=45)\n",
    "plt.tight_layout()\n",
    "plt.show()"
   ]
  },
  {
   "cell_type": "code",
   "execution_count": 397,
   "id": "8edf0f85-776f-41b9-b3d9-1d60ef387af1",
   "metadata": {},
   "outputs": [
    {
     "name": "stdout",
     "output_type": "stream",
     "text": [
      "經過 Label Encoding 的資料：\n",
      "   Gender  Age  Occupation  Sleep Duration  Quality of Sleep  \\\n",
      "0       1   27           2             6.1                 1   \n",
      "1       1   28           1             6.2                 1   \n",
      "2       1   28           1             6.2                 1   \n",
      "3       1   28           5             5.9                 0   \n",
      "4       1   28           5             5.9                 0   \n",
      "\n",
      "   Physical Activity Level  Stress Level  BMI Category  Heart Rate  \\\n",
      "0                        1             6             1          77   \n",
      "1                        2             8             0          75   \n",
      "2                        2             8             0          75   \n",
      "3                        0             8             1          85   \n",
      "4                        0             8             1          85   \n",
      "\n",
      "   Daily Steps  Sleep Disorder  BloodPressure_Upper  BloodPressure_Lower  \n",
      "0            1               0                126.0                 83.0  \n",
      "1            0               0                125.0                 80.0  \n",
      "2            0               0                125.0                 80.0  \n",
      "3            1               1                140.0                 90.0  \n",
      "4            1               1                140.0                 90.0  \n",
      "\n",
      "各欄位的編碼對應：\n",
      "Gender: ['Female', 'Male']\n",
      "Occupation: ['Accountant', 'Doctor', 'Engineer', 'Lawyer', 'Nurse', 'Salesperson', 'Scientist', 'Teacher']\n",
      "Quality of Sleep: ['4-5', '6', '7', '8', '9']\n",
      "Physical Activity Level: ['<=35', '<=45', '<=60', '<=75', '<=90']\n",
      "BMI Category: ['Normal', 'Overweight']\n",
      "Daily Steps: ['7000up', '<=5000', '<=6000', '<=7000']\n"
     ]
    }
   ],
   "source": [
    "categorical_columns = data.select_dtypes(include=[\"object\", \"category\"]).columns\n",
    "\n",
    "# 初始化 LabelEncoder\n",
    "label_encoders = {}\n",
    "\n",
    "# 對每個類別型欄位進行編碼\n",
    "for col in categorical_columns:\n",
    "    le = LabelEncoder()\n",
    "    data[col] = le.fit_transform(data[col].astype(str))  # 確保所有值轉為字串處理\n",
    "    label_encoders[col] = le  # 儲存編碼器以供後續解碼使用\n",
    "\n",
    "# 檢查結果\n",
    "print(\"經過 Label Encoding 的資料：\")\n",
    "print(data.head())\n",
    "\n",
    "print(\"\\n各欄位的編碼對應：\")\n",
    "for col, le in label_encoders.items():\n",
    "    print(f\"{col}: {list(le.classes_)}\")"
   ]
  },
  {
   "cell_type": "code",
   "execution_count": 401,
   "id": "1589e1f8-edf8-4541-a2a6-31dc9ca1f397",
   "metadata": {},
   "outputs": [
    {
     "data": {
      "image/png": "[encoded data removed]",
      "text/plain": [
       "<Figure size 640x480 with 2 Axes>"
      ]
     },
     "metadata": {},
     "output_type": "display_data"
    }
   ],
   "source": [
    "correlation=data[[\"Age\",\"Sleep Duration\",\"Sleep Disorder\",\"Heart Rate\"]].corr()\n",
    "max_6_corr=correlation.nlargest(6,\"Sleep Disorder\")\n",
    "sns.heatmap(max_6_corr,annot=True,fmt=\".2F\",annot_kws={\"size\":8},linewidths=0.5,cmap='BuPu')\n",
    "plt.title('Correlation Plot')\n",
    "plt.show()"
   ]
  },
  {
   "cell_type": "code",
   "execution_count": 292,
   "id": "6c700312-4a46-48f2-86c1-f6437c59fd99",
   "metadata": {},
   "outputs": [],
   "source": [
    "def plotly_boxplot(df , numeric_types , color  , row = None) :\n",
    "    def gather( df, key, value, cols ):\n",
    "        id_vars = [ col for col in df.columns if col not in cols ]\n",
    "        id_values = cols\n",
    "        var_name = key\n",
    "        value_name = value\n",
    "        return pd.melt( df, id_vars, id_values, var_name, value_name )\n",
    "    numeric_gather = gather( df , 'key', 'value', numeric_types )\n",
    "    fig = px.box(numeric_gather, x=\"key\", y=\"value\",\n",
    "                 facet_col=\"key\" ,color = color , \n",
    "                 facet_row=row )\n",
    "    fig.update_yaxes(showticklabels=True , matches=None)\n",
    "    fig.update_xaxes(showticklabels=True , matches=None)\n",
    "    fig.show()"
   ]
  },
  {
   "cell_type": "code",
   "execution_count": 293,
   "id": "1bd8818f-d9ae-4b37-a0c2-8f9196aacd8c",
   "metadata": {},
   "outputs": [
    {
     "data": {
      "application/vnd.plotly.v1+json": {
       "config": {
        "plotlyServerURL": "https://plot.ly"
       },
       "data": [
        {
         "alignmentgroup": "True",
         "hovertemplate": "Occupation=2<br>key=%{x}<br>value=%{y}<extra></extra>",
         "legendgroup": "2",
         "marker": {
          "color": "#636efa"
         },
         "name": "2",
         "notched": false,
         "offsetgroup": "2",
         "orientation": "v",
         "showlegend": true,
         "type": "box",
         "x": [
          "Stress Level",
          "Stress Level",
          "Stress Level",
          "Stress Level",
          "Stress Level",
          "Stress Level",
          "Stress Level",
          "Stress Level",
          "Stress Level",
          "Stress Level",
          "Stress Level",
          "Stress Level",
          "Stress Level",
          "Stress Level",
          "Stress Level",
          "Stress Level",
          "Stress Level",
          "Stress Level",
          "Stress Level",
          "Stress Level",
          "Stress Level",
          "Stress Level",
          "Stress Level",
          "Stress Level",
          "Stress Level",
          "Stress Level",
          "Stress Level",
          "Stress Level",
          "Stress Level",
          "Stress Level",
          "Stress Level",
          "Stress Level",
          "Stress Level",
          "Stress Level",
          "Stress Level",
          "Stress Level",
          "Stress Level",
          "Stress Level",
          "Stress Level",
          "Stress Level",
          "Stress Level",
          "Stress Level",
          "Stress Level",
          "Stress Level",
          "Stress Level",
          "Stress Level",
          "Stress Level",
          "Stress Level",
          "Stress Level",
          "Stress Level",
          "Stress Level",
          "Stress Level",
          "Stress Level",
          "Stress Level",
          "Stress Level",
          "Stress Level",
          "Stress Level",
          "Stress Level",
          "Stress Level",
          "Stress Level",
          "Stress Level",
          "Stress Level",
          "Stress Level",
          "Stress Level",
          "Stress Level",
          "Stress Level",
          "Stress Level"
         ],
         "x0": " ",
         "xaxis": "x",
         "y": [
          6,
          8,
          3,
          3,
          5,
          4,
          4,
          4,
          4,
          4,
          4,
          5,
          4,
          4,
          7,
          6,
          5,
          5,
          7,
          4,
          5,
          5,
          5,
          5,
          5,
          5,
          5,
          5,
          5,
          5,
          5,
          5,
          5,
          5,
          7,
          3,
          3,
          3,
          3,
          3,
          3,
          3,
          3,
          3,
          3,
          3,
          3,
          3,
          3,
          3,
          3,
          3,
          3,
          3,
          3,
          3,
          3,
          3,
          3,
          3,
          3,
          3,
          3,
          3,
          3,
          3,
          3
         ],
         "y0": " ",
         "yaxis": "y"
        },
        {
         "alignmentgroup": "True",
         "hovertemplate": "Occupation=2<br>key=%{x}<br>value=%{y}<extra></extra>",
         "legendgroup": "2",
         "marker": {
          "color": "#636efa"
         },
         "name": "2",
         "notched": false,
         "offsetgroup": "2",
         "orientation": "v",
         "showlegend": false,
         "type": "box",
         "x": [
          "Sleep Duration",
          "Sleep Duration",
          "Sleep Duration",
          "Sleep Duration",
          "Sleep Duration",
          "Sleep Duration",
          "Sleep Duration",
          "Sleep Duration",
          "Sleep Duration",
          "Sleep Duration",
          "Sleep Duration",
          "Sleep Duration",
          "Sleep Duration",
          "Sleep Duration",
          "Sleep Duration",
          "Sleep Duration",
          "Sleep Duration",
          "Sleep Duration",
          "Sleep Duration",
          "Sleep Duration",
          "Sleep Duration",
          "Sleep Duration",
          "Sleep Duration",
          "Sleep Duration",
          "Sleep Duration",
          "Sleep Duration",
          "Sleep Duration",
          "Sleep Duration",
          "Sleep Duration",
          "Sleep Duration",
          "Sleep Duration",
          "Sleep Duration",
          "Sleep Duration",
          "Sleep Duration",
          "Sleep Duration",
          "Sleep Duration",
          "Sleep Duration",
          "Sleep Duration",
          "Sleep Duration",
          "Sleep Duration",
          "Sleep Duration",
          "Sleep Duration",
          "Sleep Duration",
          "Sleep Duration",
          "Sleep Duration",
          "Sleep Duration",
          "Sleep Duration",
          "Sleep Duration",
          "Sleep Duration",
          "Sleep Duration",
          "Sleep Duration",
          "Sleep Duration",
          "Sleep Duration",
          "Sleep Duration",
          "Sleep Duration",
          "Sleep Duration",
          "Sleep Duration",
          "Sleep Duration",
          "Sleep Duration",
          "Sleep Duration",
          "Sleep Duration",
          "Sleep Duration",
          "Sleep Duration",
          "Sleep Duration",
          "Sleep Duration",
          "Sleep Duration",
          "Sleep Duration"
         ],
         "x0": " ",
         "xaxis": "x2",
         "y": [
          6.1,
          5.9,
          7.5,
          7.5,
          7.5,
          7.2,
          7.2,
          7.3,
          7.3,
          7.3,
          7.3,
          7.5,
          7.8,
          7.8,
          6.5,
          7.3,
          7.8,
          7.8,
          6.9,
          7.6,
          7.7,
          7.7,
          7.7,
          7.7,
          7.8,
          7.7,
          7.8,
          7.8,
          7.8,
          7.8,
          7.8,
          7.8,
          7.8,
          7.8,
          6.8,
          8.3,
          8.5,
          8.5,
          8.5,
          8.5,
          8.4,
          8.4,
          8.4,
          8.3,
          8.5,
          8.5,
          8.4,
          8.4,
          8.5,
          8.4,
          8.4,
          8.5,
          8.3,
          8.5,
          8.3,
          8.5,
          8.3,
          8.5,
          8.5,
          8.4,
          8.4,
          8.4,
          8.4,
          8.4,
          8.4,
          8.4,
          8.5
         ],
         "y0": " ",
         "yaxis": "y2"
        },
        {
         "alignmentgroup": "True",
         "hovertemplate": "Occupation=1<br>key=%{x}<br>value=%{y}<extra></extra>",
         "legendgroup": "1",
         "marker": {
          "color": "#EF553B"
         },
         "name": "1",
         "notched": false,
         "offsetgroup": "1",
         "orientation": "v",
         "showlegend": true,
         "type": "box",
         "x": [
          "Stress Level",
          "Stress Level",
          "Stress Level",
          "Stress Level",
          "Stress Level",
          "Stress Level",
          "Stress Level",
          "Stress Level",
          "Stress Level",
          "Stress Level",
          "Stress Level",
          "Stress Level",
          "Stress Level",
          "Stress Level",
          "Stress Level",
          "Stress Level",
          "Stress Level",
          "Stress Level",
          "Stress Level",
          "Stress Level",
          "Stress Level",
          "Stress Level",
          "Stress Level",
          "Stress Level",
          "Stress Level",
          "Stress Level",
          "Stress Level",
          "Stress Level",
          "Stress Level",
          "Stress Level",
          "Stress Level",
          "Stress Level",
          "Stress Level",
          "Stress Level",
          "Stress Level",
          "Stress Level",
          "Stress Level",
          "Stress Level",
          "Stress Level",
          "Stress Level",
          "Stress Level",
          "Stress Level",
          "Stress Level",
          "Stress Level",
          "Stress Level",
          "Stress Level",
          "Stress Level",
          "Stress Level",
          "Stress Level",
          "Stress Level",
          "Stress Level",
          "Stress Level",
          "Stress Level",
          "Stress Level",
          "Stress Level",
          "Stress Level",
          "Stress Level",
          "Stress Level",
          "Stress Level",
          "Stress Level",
          "Stress Level",
          "Stress Level",
          "Stress Level",
          "Stress Level",
          "Stress Level",
          "Stress Level",
          "Stress Level",
          "Stress Level",
          "Stress Level",
          "Stress Level",
          "Stress Level"
         ],
         "x0": " ",
         "xaxis": "x",
         "y": [
          8,
          8,
          6,
          6,
          6,
          8,
          6,
          8,
          8,
          8,
          8,
          8,
          6,
          6,
          6,
          6,
          6,
          6,
          6,
          6,
          6,
          6,
          6,
          8,
          6,
          8,
          8,
          6,
          6,
          6,
          6,
          6,
          6,
          6,
          6,
          6,
          6,
          6,
          6,
          6,
          8,
          6,
          8,
          8,
          6,
          8,
          8,
          6,
          8,
          8,
          8,
          8,
          8,
          8,
          8,
          8,
          8,
          8,
          8,
          8,
          8,
          8,
          8,
          8,
          8,
          5,
          5,
          3,
          3,
          3,
          3
         ],
         "y0": " ",
         "yaxis": "y"
        },
        {
         "alignmentgroup": "True",
         "hovertemplate": "Occupation=1<br>key=%{x}<br>value=%{y}<extra></extra>",
         "legendgroup": "1",
         "marker": {
          "color": "#EF553B"
         },
         "name": "1",
         "notched": false,
         "offsetgroup": "1",
         "orientation": "v",
         "showlegend": false,
         "type": "box",
         "x": [
          "Sleep Duration",
          "Sleep Duration",
          "Sleep Duration",
          "Sleep Duration",
          "Sleep Duration",
          "Sleep Duration",
          "Sleep Duration",
          "Sleep Duration",
          "Sleep Duration",
          "Sleep Duration",
          "Sleep Duration",
          "Sleep Duration",
          "Sleep Duration",
          "Sleep Duration",
          "Sleep Duration",
          "Sleep Duration",
          "Sleep Duration",
          "Sleep Duration",
          "Sleep Duration",
          "Sleep Duration",
          "Sleep Duration",
          "Sleep Duration",
          "Sleep Duration",
          "Sleep Duration",
          "Sleep Duration",
          "Sleep Duration",
          "Sleep Duration",
          "Sleep Duration",
          "Sleep Duration",
          "Sleep Duration",
          "Sleep Duration",
          "Sleep Duration",
          "Sleep Duration",
          "Sleep Duration",
          "Sleep Duration",
          "Sleep Duration",
          "Sleep Duration",
          "Sleep Duration",
          "Sleep Duration",
          "Sleep Duration",
          "Sleep Duration",
          "Sleep Duration",
          "Sleep Duration",
          "Sleep Duration",
          "Sleep Duration",
          "Sleep Duration",
          "Sleep Duration",
          "Sleep Duration",
          "Sleep Duration",
          "Sleep Duration",
          "Sleep Duration",
          "Sleep Duration",
          "Sleep Duration",
          "Sleep Duration",
          "Sleep Duration",
          "Sleep Duration",
          "Sleep Duration",
          "Sleep Duration",
          "Sleep Duration",
          "Sleep Duration",
          "Sleep Duration",
          "Sleep Duration",
          "Sleep Duration",
          "Sleep Duration",
          "Sleep Duration",
          "Sleep Duration",
          "Sleep Duration",
          "Sleep Duration",
          "Sleep Duration",
          "Sleep Duration",
          "Sleep Duration"
         ],
         "x0": " ",
         "xaxis": "x2",
         "y": [
          6.2,
          6.2,
          7.8,
          7.8,
          7.8,
          6.1,
          7.8,
          6.1,
          6,
          6,
          6,
          6,
          7.6,
          7.7,
          7.7,
          7.7,
          7.7,
          7.8,
          7.9,
          7.8,
          7.9,
          7.9,
          7.9,
          6.1,
          7.7,
          6.1,
          6.1,
          7.6,
          7.6,
          7.6,
          7.7,
          7.7,
          7.7,
          7.8,
          7.7,
          7.8,
          7.7,
          7.8,
          7.7,
          7.7,
          6,
          7.6,
          6,
          6,
          7.7,
          6,
          6,
          7.7,
          6,
          6,
          6.2,
          6.2,
          6.2,
          6.2,
          6,
          6.1,
          6.1,
          6.1,
          6.1,
          6,
          6,
          6,
          6,
          6,
          6,
          7.3,
          7.3,
          8.1,
          8.1,
          8.2,
          8.2
         ],
         "y0": " ",
         "yaxis": "y2"
        },
        {
         "alignmentgroup": "True",
         "hovertemplate": "Occupation=5<br>key=%{x}<br>value=%{y}<extra></extra>",
         "legendgroup": "5",
         "marker": {
          "color": "#00cc96"
         },
         "name": "5",
         "notched": false,
         "offsetgroup": "5",
         "orientation": "v",
         "showlegend": true,
         "type": "box",
         "x": [
          "Stress Level",
          "Stress Level",
          "Stress Level",
          "Stress Level",
          "Stress Level",
          "Stress Level",
          "Stress Level",
          "Stress Level",
          "Stress Level",
          "Stress Level",
          "Stress Level",
          "Stress Level",
          "Stress Level",
          "Stress Level",
          "Stress Level",
          "Stress Level",
          "Stress Level",
          "Stress Level",
          "Stress Level",
          "Stress Level",
          "Stress Level",
          "Stress Level",
          "Stress Level",
          "Stress Level",
          "Stress Level",
          "Stress Level",
          "Stress Level",
          "Stress Level",
          "Stress Level",
          "Stress Level",
          "Stress Level",
          "Stress Level",
          "Stress Level",
          "Stress Level",
          "Stress Level"
         ],
         "x0": " ",
         "xaxis": "x",
         "y": [
          8,
          8,
          7,
          7,
          7,
          7,
          7,
          7,
          7,
          7,
          7,
          7,
          7,
          7,
          7,
          7,
          7,
          7,
          7,
          7,
          7,
          7,
          7,
          7,
          7,
          7,
          7,
          7,
          7,
          7,
          7,
          7,
          7,
          7,
          5
         ],
         "y0": " ",
         "yaxis": "y"
        },
        {
         "alignmentgroup": "True",
         "hovertemplate": "Occupation=5<br>key=%{x}<br>value=%{y}<extra></extra>",
         "legendgroup": "5",
         "marker": {
          "color": "#00cc96"
         },
         "name": "5",
         "notched": false,
         "offsetgroup": "5",
         "orientation": "v",
         "showlegend": false,
         "type": "box",
         "x": [
          "Sleep Duration",
          "Sleep Duration",
          "Sleep Duration",
          "Sleep Duration",
          "Sleep Duration",
          "Sleep Duration",
          "Sleep Duration",
          "Sleep Duration",
          "Sleep Duration",
          "Sleep Duration",
          "Sleep Duration",
          "Sleep Duration",
          "Sleep Duration",
          "Sleep Duration",
          "Sleep Duration",
          "Sleep Duration",
          "Sleep Duration",
          "Sleep Duration",
          "Sleep Duration",
          "Sleep Duration",
          "Sleep Duration",
          "Sleep Duration",
          "Sleep Duration",
          "Sleep Duration",
          "Sleep Duration",
          "Sleep Duration",
          "Sleep Duration",
          "Sleep Duration",
          "Sleep Duration",
          "Sleep Duration",
          "Sleep Duration",
          "Sleep Duration",
          "Sleep Duration",
          "Sleep Duration",
          "Sleep Duration"
         ],
         "x0": " ",
         "xaxis": "x2",
         "y": [
          5.9,
          5.9,
          6.5,
          6.3,
          6.5,
          6.4,
          6.5,
          6.5,
          6.5,
          6.5,
          6.5,
          6.5,
          6.5,
          6.5,
          6.5,
          6.5,
          6.4,
          6.3,
          6.4,
          6.3,
          6.3,
          6.3,
          6.3,
          6.3,
          6.3,
          6.4,
          6.3,
          6.4,
          6.3,
          6.4,
          6.3,
          6.3,
          6.4,
          6.5,
          6.9
         ],
         "y0": " ",
         "yaxis": "y2"
        },
        {
         "alignmentgroup": "True",
         "hovertemplate": "Occupation=7<br>key=%{x}<br>value=%{y}<extra></extra>",
         "legendgroup": "7",
         "marker": {
          "color": "#ab63fa"
         },
         "name": "7",
         "notched": false,
         "offsetgroup": "7",
         "orientation": "v",
         "showlegend": true,
         "type": "box",
         "x": [
          "Stress Level",
          "Stress Level",
          "Stress Level",
          "Stress Level",
          "Stress Level",
          "Stress Level",
          "Stress Level",
          "Stress Level",
          "Stress Level",
          "Stress Level",
          "Stress Level",
          "Stress Level",
          "Stress Level",
          "Stress Level",
          "Stress Level",
          "Stress Level",
          "Stress Level",
          "Stress Level",
          "Stress Level",
          "Stress Level",
          "Stress Level",
          "Stress Level",
          "Stress Level",
          "Stress Level",
          "Stress Level",
          "Stress Level",
          "Stress Level",
          "Stress Level",
          "Stress Level",
          "Stress Level",
          "Stress Level",
          "Stress Level",
          "Stress Level",
          "Stress Level",
          "Stress Level",
          "Stress Level",
          "Stress Level",
          "Stress Level",
          "Stress Level",
          "Stress Level"
         ],
         "x0": " ",
         "xaxis": "x",
         "y": [
          7,
          5,
          5,
          4,
          4,
          4,
          4,
          4,
          7,
          4,
          7,
          7,
          7,
          4,
          4,
          4,
          4,
          4,
          4,
          4,
          4,
          4,
          4,
          4,
          4,
          4,
          4,
          6,
          6,
          4,
          4,
          4,
          4,
          4,
          4,
          4,
          4,
          4,
          4,
          4
         ],
         "y0": " ",
         "yaxis": "y"
        },
        {
         "alignmentgroup": "True",
         "hovertemplate": "Occupation=7<br>key=%{x}<br>value=%{y}<extra></extra>",
         "legendgroup": "7",
         "marker": {
          "color": "#ab63fa"
         },
         "name": "7",
         "notched": false,
         "offsetgroup": "7",
         "orientation": "v",
         "showlegend": false,
         "type": "box",
         "x": [
          "Sleep Duration",
          "Sleep Duration",
          "Sleep Duration",
          "Sleep Duration",
          "Sleep Duration",
          "Sleep Duration",
          "Sleep Duration",
          "Sleep Duration",
          "Sleep Duration",
          "Sleep Duration",
          "Sleep Duration",
          "Sleep Duration",
          "Sleep Duration",
          "Sleep Duration",
          "Sleep Duration",
          "Sleep Duration",
          "Sleep Duration",
          "Sleep Duration",
          "Sleep Duration",
          "Sleep Duration",
          "Sleep Duration",
          "Sleep Duration",
          "Sleep Duration",
          "Sleep Duration",
          "Sleep Duration",
          "Sleep Duration",
          "Sleep Duration",
          "Sleep Duration",
          "Sleep Duration",
          "Sleep Duration",
          "Sleep Duration",
          "Sleep Duration",
          "Sleep Duration",
          "Sleep Duration",
          "Sleep Duration",
          "Sleep Duration",
          "Sleep Duration",
          "Sleep Duration",
          "Sleep Duration",
          "Sleep Duration"
         ],
         "x0": " ",
         "xaxis": "x2",
         "y": [
          6.3,
          6.7,
          6.7,
          7.1,
          7.1,
          7.2,
          7.2,
          7.2,
          6.6,
          7.2,
          6.6,
          6.8,
          6.8,
          6.7,
          6.7,
          6.7,
          6.6,
          6.6,
          6.6,
          6.6,
          6.6,
          6.6,
          6.6,
          6.5,
          6.5,
          6.5,
          6.5,
          6.8,
          6.8,
          6.5,
          6.5,
          6.5,
          6.5,
          6.6,
          6.6,
          6.6,
          6.6,
          6.6,
          6.6,
          6.6
         ],
         "y0": " ",
         "yaxis": "y2"
        },
        {
         "alignmentgroup": "True",
         "hovertemplate": "Occupation=4<br>key=%{x}<br>value=%{y}<extra></extra>",
         "legendgroup": "4",
         "marker": {
          "color": "#FFA15A"
         },
         "name": "4",
         "notched": false,
         "offsetgroup": "4",
         "orientation": "v",
         "showlegend": true,
         "type": "box",
         "x": [
          "Stress Level",
          "Stress Level",
          "Stress Level",
          "Stress Level",
          "Stress Level",
          "Stress Level",
          "Stress Level",
          "Stress Level",
          "Stress Level",
          "Stress Level",
          "Stress Level",
          "Stress Level",
          "Stress Level",
          "Stress Level",
          "Stress Level",
          "Stress Level",
          "Stress Level",
          "Stress Level",
          "Stress Level",
          "Stress Level",
          "Stress Level",
          "Stress Level",
          "Stress Level",
          "Stress Level",
          "Stress Level",
          "Stress Level",
          "Stress Level",
          "Stress Level",
          "Stress Level",
          "Stress Level",
          "Stress Level",
          "Stress Level",
          "Stress Level",
          "Stress Level",
          "Stress Level",
          "Stress Level",
          "Stress Level",
          "Stress Level",
          "Stress Level",
          "Stress Level",
          "Stress Level",
          "Stress Level",
          "Stress Level",
          "Stress Level",
          "Stress Level",
          "Stress Level",
          "Stress Level",
          "Stress Level",
          "Stress Level",
          "Stress Level",
          "Stress Level",
          "Stress Level",
          "Stress Level",
          "Stress Level",
          "Stress Level",
          "Stress Level",
          "Stress Level",
          "Stress Level",
          "Stress Level",
          "Stress Level",
          "Stress Level",
          "Stress Level",
          "Stress Level",
          "Stress Level",
          "Stress Level",
          "Stress Level",
          "Stress Level",
          "Stress Level",
          "Stress Level",
          "Stress Level",
          "Stress Level",
          "Stress Level",
          "Stress Level"
         ],
         "x0": " ",
         "xaxis": "x",
         "y": [
          7,
          7,
          7,
          7,
          4,
          6,
          4,
          8,
          8,
          8,
          8,
          8,
          8,
          8,
          8,
          8,
          8,
          8,
          8,
          8,
          8,
          8,
          8,
          8,
          8,
          8,
          8,
          8,
          8,
          8,
          8,
          8,
          8,
          8,
          8,
          8,
          6,
          8,
          8,
          8,
          4,
          4,
          3,
          3,
          3,
          3,
          3,
          3,
          3,
          3,
          3,
          3,
          3,
          3,
          3,
          3,
          3,
          3,
          3,
          3,
          3,
          3,
          3,
          3,
          3,
          3,
          3,
          3,
          3,
          3,
          3,
          3,
          3
         ],
         "y0": " ",
         "yaxis": "y"
        },
        {
         "alignmentgroup": "True",
         "hovertemplate": "Occupation=4<br>key=%{x}<br>value=%{y}<extra></extra>",
         "legendgroup": "4",
         "marker": {
          "color": "#FFA15A"
         },
         "name": "4",
         "notched": false,
         "offsetgroup": "4",
         "orientation": "v",
         "showlegend": false,
         "type": "box",
         "x": [
          "Sleep Duration",
          "Sleep Duration",
          "Sleep Duration",
          "Sleep Duration",
          "Sleep Duration",
          "Sleep Duration",
          "Sleep Duration",
          "Sleep Duration",
          "Sleep Duration",
          "Sleep Duration",
          "Sleep Duration",
          "Sleep Duration",
          "Sleep Duration",
          "Sleep Duration",
          "Sleep Duration",
          "Sleep Duration",
          "Sleep Duration",
          "Sleep Duration",
          "Sleep Duration",
          "Sleep Duration",
          "Sleep Duration",
          "Sleep Duration",
          "Sleep Duration",
          "Sleep Duration",
          "Sleep Duration",
          "Sleep Duration",
          "Sleep Duration",
          "Sleep Duration",
          "Sleep Duration",
          "Sleep Duration",
          "Sleep Duration",
          "Sleep Duration",
          "Sleep Duration",
          "Sleep Duration",
          "Sleep Duration",
          "Sleep Duration",
          "Sleep Duration",
          "Sleep Duration",
          "Sleep Duration",
          "Sleep Duration",
          "Sleep Duration",
          "Sleep Duration",
          "Sleep Duration",
          "Sleep Duration",
          "Sleep Duration",
          "Sleep Duration",
          "Sleep Duration",
          "Sleep Duration",
          "Sleep Duration",
          "Sleep Duration",
          "Sleep Duration",
          "Sleep Duration",
          "Sleep Duration",
          "Sleep Duration",
          "Sleep Duration",
          "Sleep Duration",
          "Sleep Duration",
          "Sleep Duration",
          "Sleep Duration",
          "Sleep Duration",
          "Sleep Duration",
          "Sleep Duration",
          "Sleep Duration",
          "Sleep Duration",
          "Sleep Duration",
          "Sleep Duration",
          "Sleep Duration",
          "Sleep Duration",
          "Sleep Duration",
          "Sleep Duration",
          "Sleep Duration",
          "Sleep Duration",
          "Sleep Duration"
         ],
         "x0": " ",
         "xaxis": "x2",
         "y": [
          6.5,
          6.5,
          6.4,
          6.4,
          7.9,
          6.1,
          7.5,
          5.9,
          6.2,
          6,
          6.1,
          6.1,
          6.1,
          6.1,
          6.2,
          6.2,
          6.2,
          6.1,
          6,
          6.1,
          6,
          6,
          6,
          6,
          6,
          6,
          6,
          6.1,
          6,
          6.1,
          6.1,
          6,
          6.1,
          6,
          6.1,
          6.1,
          7.1,
          6,
          6.1,
          6.1,
          8.1,
          8.1,
          8.1,
          8.2,
          8.2,
          8.2,
          8.2,
          8.2,
          8.1,
          8.1,
          8.1,
          8,
          8,
          8,
          8,
          8,
          8,
          8,
          8.1,
          8.2,
          8.2,
          8.2,
          8.2,
          8,
          8,
          8.1,
          8,
          8.1,
          8.1,
          8,
          8.1,
          8.1,
          8.1
         ],
         "y0": " ",
         "yaxis": "y2"
        },
        {
         "alignmentgroup": "True",
         "hovertemplate": "Occupation=0<br>key=%{x}<br>value=%{y}<extra></extra>",
         "legendgroup": "0",
         "marker": {
          "color": "#19d3f3"
         },
         "name": "0",
         "notched": false,
         "offsetgroup": "0",
         "orientation": "v",
         "showlegend": true,
         "type": "box",
         "x": [
          "Stress Level",
          "Stress Level",
          "Stress Level",
          "Stress Level",
          "Stress Level",
          "Stress Level",
          "Stress Level",
          "Stress Level",
          "Stress Level",
          "Stress Level",
          "Stress Level",
          "Stress Level",
          "Stress Level",
          "Stress Level",
          "Stress Level",
          "Stress Level",
          "Stress Level",
          "Stress Level",
          "Stress Level",
          "Stress Level",
          "Stress Level",
          "Stress Level",
          "Stress Level",
          "Stress Level",
          "Stress Level",
          "Stress Level",
          "Stress Level",
          "Stress Level",
          "Stress Level",
          "Stress Level",
          "Stress Level",
          "Stress Level",
          "Stress Level",
          "Stress Level",
          "Stress Level",
          "Stress Level",
          "Stress Level"
         ],
         "x0": " ",
         "xaxis": "x",
         "y": [
          6,
          4,
          4,
          4,
          4,
          4,
          4,
          4,
          4,
          4,
          4,
          4,
          4,
          4,
          4,
          4,
          4,
          4,
          4,
          4,
          4,
          4,
          4,
          4,
          4,
          4,
          4,
          3,
          3,
          6,
          6,
          7,
          7,
          7,
          7,
          7,
          7
         ],
         "y0": " ",
         "yaxis": "y"
        },
        {
         "alignmentgroup": "True",
         "hovertemplate": "Occupation=0<br>key=%{x}<br>value=%{y}<extra></extra>",
         "legendgroup": "0",
         "marker": {
          "color": "#19d3f3"
         },
         "name": "0",
         "notched": false,
         "offsetgroup": "0",
         "orientation": "v",
         "showlegend": false,
         "type": "box",
         "x": [
          "Sleep Duration",
          "Sleep Duration",
          "Sleep Duration",
          "Sleep Duration",
          "Sleep Duration",
          "Sleep Duration",
          "Sleep Duration",
          "Sleep Duration",
          "Sleep Duration",
          "Sleep Duration",
          "Sleep Duration",
          "Sleep Duration",
          "Sleep Duration",
          "Sleep Duration",
          "Sleep Duration",
          "Sleep Duration",
          "Sleep Duration",
          "Sleep Duration",
          "Sleep Duration",
          "Sleep Duration",
          "Sleep Duration",
          "Sleep Duration",
          "Sleep Duration",
          "Sleep Duration",
          "Sleep Duration",
          "Sleep Duration",
          "Sleep Duration",
          "Sleep Duration",
          "Sleep Duration",
          "Sleep Duration",
          "Sleep Duration",
          "Sleep Duration",
          "Sleep Duration",
          "Sleep Duration",
          "Sleep Duration",
          "Sleep Duration",
          "Sleep Duration"
         ],
         "x0": " ",
         "xaxis": "x2",
         "y": [
          7.2,
          7.2,
          7.2,
          7.1,
          7.2,
          7.1,
          7.2,
          7.2,
          7.2,
          7.2,
          7.2,
          7.2,
          7.2,
          7.2,
          7.2,
          7.2,
          7.2,
          7.2,
          7.2,
          7.1,
          7.1,
          7.1,
          7.1,
          7.1,
          7.1,
          7.1,
          7.1,
          8,
          8,
          7.2,
          7.2,
          6.5,
          6.5,
          6.6,
          6.6,
          6.6,
          6.6
         ],
         "y0": " ",
         "yaxis": "y2"
        },
        {
         "alignmentgroup": "True",
         "hovertemplate": "Occupation=6<br>key=%{x}<br>value=%{y}<extra></extra>",
         "legendgroup": "6",
         "marker": {
          "color": "#FF6692"
         },
         "name": "6",
         "notched": false,
         "offsetgroup": "6",
         "orientation": "v",
         "showlegend": true,
         "type": "box",
         "x": [
          "Stress Level",
          "Stress Level",
          "Stress Level",
          "Stress Level"
         ],
         "x0": " ",
         "xaxis": "x",
         "y": [
          6,
          6,
          8,
          8
         ],
         "y0": " ",
         "yaxis": "y"
        },
        {
         "alignmentgroup": "True",
         "hovertemplate": "Occupation=6<br>key=%{x}<br>value=%{y}<extra></extra>",
         "legendgroup": "6",
         "marker": {
          "color": "#FF6692"
         },
         "name": "6",
         "notched": false,
         "offsetgroup": "6",
         "orientation": "v",
         "showlegend": false,
         "type": "box",
         "x": [
          "Sleep Duration",
          "Sleep Duration",
          "Sleep Duration",
          "Sleep Duration"
         ],
         "x0": " ",
         "xaxis": "x2",
         "y": [
          6.2,
          6.2,
          5.8,
          5.8
         ],
         "y0": " ",
         "yaxis": "y2"
        },
        {
         "alignmentgroup": "True",
         "hovertemplate": "Occupation=3<br>key=%{x}<br>value=%{y}<extra></extra>",
         "legendgroup": "3",
         "marker": {
          "color": "#B6E880"
         },
         "name": "3",
         "notched": false,
         "offsetgroup": "3",
         "orientation": "v",
         "showlegend": true,
         "type": "box",
         "x": [
          "Stress Level",
          "Stress Level",
          "Stress Level",
          "Stress Level",
          "Stress Level",
          "Stress Level",
          "Stress Level",
          "Stress Level",
          "Stress Level",
          "Stress Level",
          "Stress Level",
          "Stress Level",
          "Stress Level",
          "Stress Level",
          "Stress Level",
          "Stress Level",
          "Stress Level",
          "Stress Level",
          "Stress Level",
          "Stress Level",
          "Stress Level",
          "Stress Level",
          "Stress Level",
          "Stress Level",
          "Stress Level",
          "Stress Level",
          "Stress Level",
          "Stress Level",
          "Stress Level",
          "Stress Level",
          "Stress Level",
          "Stress Level",
          "Stress Level",
          "Stress Level",
          "Stress Level",
          "Stress Level",
          "Stress Level",
          "Stress Level",
          "Stress Level",
          "Stress Level",
          "Stress Level",
          "Stress Level",
          "Stress Level",
          "Stress Level",
          "Stress Level",
          "Stress Level",
          "Stress Level"
         ],
         "x0": " ",
         "xaxis": "x",
         "y": [
          5,
          5,
          5,
          5,
          5,
          5,
          5,
          5,
          5,
          5,
          5,
          5,
          5,
          5,
          5,
          5,
          5,
          6,
          5,
          5,
          5,
          5,
          5,
          5,
          5,
          5,
          5,
          5,
          5,
          5,
          5,
          6,
          6,
          5,
          5,
          5,
          5,
          5,
          5,
          5,
          5,
          5,
          5,
          5,
          5,
          5,
          5
         ],
         "y0": " ",
         "yaxis": "y"
        },
        {
         "alignmentgroup": "True",
         "hovertemplate": "Occupation=3<br>key=%{x}<br>value=%{y}<extra></extra>",
         "legendgroup": "3",
         "marker": {
          "color": "#B6E880"
         },
         "name": "3",
         "notched": false,
         "offsetgroup": "3",
         "orientation": "v",
         "showlegend": false,
         "type": "box",
         "x": [
          "Sleep Duration",
          "Sleep Duration",
          "Sleep Duration",
          "Sleep Duration",
          "Sleep Duration",
          "Sleep Duration",
          "Sleep Duration",
          "Sleep Duration",
          "Sleep Duration",
          "Sleep Duration",
          "Sleep Duration",
          "Sleep Duration",
          "Sleep Duration",
          "Sleep Duration",
          "Sleep Duration",
          "Sleep Duration",
          "Sleep Duration",
          "Sleep Duration",
          "Sleep Duration",
          "Sleep Duration",
          "Sleep Duration",
          "Sleep Duration",
          "Sleep Duration",
          "Sleep Duration",
          "Sleep Duration",
          "Sleep Duration",
          "Sleep Duration",
          "Sleep Duration",
          "Sleep Duration",
          "Sleep Duration",
          "Sleep Duration",
          "Sleep Duration",
          "Sleep Duration",
          "Sleep Duration",
          "Sleep Duration",
          "Sleep Duration",
          "Sleep Duration",
          "Sleep Duration",
          "Sleep Duration",
          "Sleep Duration",
          "Sleep Duration",
          "Sleep Duration",
          "Sleep Duration",
          "Sleep Duration",
          "Sleep Duration",
          "Sleep Duration",
          "Sleep Duration"
         ],
         "x0": " ",
         "xaxis": "x2",
         "y": [
          7.4,
          7.4,
          7.4,
          7.4,
          7.3,
          7.3,
          7.3,
          7.3,
          7.3,
          7.3,
          7.3,
          7.1,
          7.1,
          7.1,
          7.1,
          7.4,
          7.2,
          6.9,
          7.2,
          7.2,
          7.2,
          7.2,
          7.2,
          7.2,
          7.2,
          7.2,
          7.2,
          7.2,
          7.9,
          7.9,
          7.6,
          7.1,
          7.1,
          7.7,
          7.7,
          7.7,
          7.7,
          7.7,
          7.6,
          7.6,
          7.6,
          7.8,
          7.8,
          7.8,
          7.8,
          7.8,
          7.8
         ],
         "y0": " ",
         "yaxis": "y2"
        }
       ],
       "layout": {
        "annotations": [
         {
          "font": {},
          "showarrow": false,
          "text": "key=Stress Level",
          "x": 0.245,
          "xanchor": "center",
          "xref": "paper",
          "y": 1,
          "yanchor": "bottom",
          "yref": "paper"
         },
         {
          "font": {},
          "showarrow": false,
          "text": "key=Sleep Duration",
          "x": 0.755,
          "xanchor": "center",
          "xref": "paper",
          "y": 1,
          "yanchor": "bottom",
          "yref": "paper"
         }
        ],
        "autosize": true,
        "boxmode": "group",
        "legend": {
         "title": {
          "text": "Occupation"
         },
         "tracegroupgap": 0
        },
        "margin": {
         "t": 60
        },
        "template": {
         "data": {
          "bar": [
           {
            "error_x": {
             "color": "#2a3f5f"
            },
            "error_y": {
             "color": "#2a3f5f"
            },
            "marker": {
             "line": {
              "color": "#E5ECF6",
              "width": 0.5
             },
             "pattern": {
              "fillmode": "overlay",
              "size": 10,
              "solidity": 0.2
             }
            },
            "type": "bar"
           }
          ],
          "barpolar": [
           {
            "marker": {
             "line": {
              "color": "#E5ECF6",
              "width": 0.5
             },
             "pattern": {
              "fillmode": "overlay",
              "size": 10,
              "solidity": 0.2
             }
            },
            "type": "barpolar"
           }
          ],
          "carpet": [
           {
            "aaxis": {
             "endlinecolor": "#2a3f5f",
             "gridcolor": "white",
             "linecolor": "white",
             "minorgridcolor": "white",
             "startlinecolor": "#2a3f5f"
            },
            "baxis": {
             "endlinecolor": "#2a3f5f",
             "gridcolor": "white",
             "linecolor": "white",
             "minorgridcolor": "white",
             "startlinecolor": "#2a3f5f"
            },
            "type": "carpet"
           }
          ],
          "choropleth": [
           {
            "colorbar": {
             "outlinewidth": 0,
             "ticks": ""
            },
            "type": "choropleth"
           }
          ],
          "contour": [
           {
            "colorbar": {
             "outlinewidth": 0,
             "ticks": ""
            },
            "colorscale": [
             [
              0,
              "#0d0887"
             ],
             [
              0.1111111111111111,
              "#46039f"
             ],
             [
              0.2222222222222222,
              "#7201a8"
             ],
             [
              0.3333333333333333,
              "#9c179e"
             ],
             [
              0.4444444444444444,
              "#bd3786"
             ],
             [
              0.5555555555555556,
              "#d8576b"
             ],
             [
              0.6666666666666666,
              "#ed7953"
             ],
             [
              0.7777777777777778,
              "#fb9f3a"
             ],
             [
              0.8888888888888888,
              "#fdca26"
             ],
             [
              1,
              "#f0f921"
             ]
            ],
            "type": "contour"
           }
          ],
          "contourcarpet": [
           {
            "colorbar": {
             "outlinewidth": 0,
             "ticks": ""
            },
            "type": "contourcarpet"
           }
          ],
          "heatmap": [
           {
            "colorbar": {
             "outlinewidth": 0,
             "ticks": ""
            },
            "colorscale": [
             [
              0,
              "#0d0887"
             ],
             [
              0.1111111111111111,
              "#46039f"
             ],
             [
              0.2222222222222222,
              "#7201a8"
             ],
             [
              0.3333333333333333,
              "#9c179e"
             ],
             [
              0.4444444444444444,
              "#bd3786"
             ],
             [
              0.5555555555555556,
              "#d8576b"
             ],
             [
              0.6666666666666666,
              "#ed7953"
             ],
             [
              0.7777777777777778,
              "#fb9f3a"
             ],
             [
              0.8888888888888888,
              "#fdca26"
             ],
             [
              1,
              "#f0f921"
             ]
            ],
            "type": "heatmap"
           }
          ],
          "heatmapgl": [
           {
            "colorbar": {
             "outlinewidth": 0,
             "ticks": ""
            },
            "colorscale": [
             [
              0,
              "#0d0887"
             ],
             [
              0.1111111111111111,
              "#46039f"
             ],
             [
              0.2222222222222222,
              "#7201a8"
             ],
             [
              0.3333333333333333,
              "#9c179e"
             ],
             [
              0.4444444444444444,
              "#bd3786"
             ],
             [
              0.5555555555555556,
              "#d8576b"
             ],
             [
              0.6666666666666666,
              "#ed7953"
             ],
             [
              0.7777777777777778,
              "#fb9f3a"
             ],
             [
              0.8888888888888888,
              "#fdca26"
             ],
             [
              1,
              "#f0f921"
             ]
            ],
            "type": "heatmapgl"
           }
          ],
          "histogram": [
           {
            "marker": {
             "pattern": {
              "fillmode": "overlay",
              "size": 10,
              "solidity": 0.2
             }
            },
            "type": "histogram"
           }
          ],
          "histogram2d": [
           {
            "colorbar": {
             "outlinewidth": 0,
             "ticks": ""
            },
            "colorscale": [
             [
              0,
              "#0d0887"
             ],
             [
              0.1111111111111111,
              "#46039f"
             ],
             [
              0.2222222222222222,
              "#7201a8"
             ],
             [
              0.3333333333333333,
              "#9c179e"
             ],
             [
              0.4444444444444444,
              "#bd3786"
             ],
             [
              0.5555555555555556,
              "#d8576b"
             ],
             [
              0.6666666666666666,
              "#ed7953"
             ],
             [
              0.7777777777777778,
              "#fb9f3a"
             ],
             [
              0.8888888888888888,
              "#fdca26"
             ],
             [
              1,
              "#f0f921"
             ]
            ],
            "type": "histogram2d"
           }
          ],
          "histogram2dcontour": [
           {
            "colorbar": {
             "outlinewidth": 0,
             "ticks": ""
            },
            "colorscale": [
             [
              0,
              "#0d0887"
             ],
             [
              0.1111111111111111,
              "#46039f"
             ],
             [
              0.2222222222222222,
              "#7201a8"
             ],
             [
              0.3333333333333333,
              "#9c179e"
             ],
             [
              0.4444444444444444,
              "#bd3786"
             ],
             [
              0.5555555555555556,
              "#d8576b"
             ],
             [
              0.6666666666666666,
              "#ed7953"
             ],
             [
              0.7777777777777778,
              "#fb9f3a"
             ],
             [
              0.8888888888888888,
              "#fdca26"
             ],
             [
              1,
              "#f0f921"
             ]
            ],
            "type": "histogram2dcontour"
           }
          ],
          "mesh3d": [
           {
            "colorbar": {
             "outlinewidth": 0,
             "ticks": ""
            },
            "type": "mesh3d"
           }
          ],
          "parcoords": [
           {
            "line": {
             "colorbar": {
              "outlinewidth": 0,
              "ticks": ""
             }
            },
            "type": "parcoords"
           }
          ],
          "pie": [
           {
            "automargin": true,
            "type": "pie"
           }
          ],
          "scatter": [
           {
            "fillpattern": {
             "fillmode": "overlay",
             "size": 10,
             "solidity": 0.2
            },
            "type": "scatter"
           }
          ],
          "scatter3d": [
           {
            "line": {
             "colorbar": {
              "outlinewidth": 0,
              "ticks": ""
             }
            },
            "marker": {
             "colorbar": {
              "outlinewidth": 0,
              "ticks": ""
             }
            },
            "type": "scatter3d"
           }
          ],
          "scattercarpet": [
           {
            "marker": {
             "colorbar": {
              "outlinewidth": 0,
              "ticks": ""
             }
            },
            "type": "scattercarpet"
           }
          ],
          "scattergeo": [
           {
            "marker": {
             "colorbar": {
              "outlinewidth": 0,
              "ticks": ""
             }
            },
            "type": "scattergeo"
           }
          ],
          "scattergl": [
           {
            "marker": {
             "colorbar": {
              "outlinewidth": 0,
              "ticks": ""
             }
            },
            "type": "scattergl"
           }
          ],
          "scattermapbox": [
           {
            "marker": {
             "colorbar": {
              "outlinewidth": 0,
              "ticks": ""
             }
            },
            "type": "scattermapbox"
           }
          ],
          "scatterpolar": [
           {
            "marker": {
             "colorbar": {
              "outlinewidth": 0,
              "ticks": ""
             }
            },
            "type": "scatterpolar"
           }
          ],
          "scatterpolargl": [
           {
            "marker": {
             "colorbar": {
              "outlinewidth": 0,
              "ticks": ""
             }
            },
            "type": "scatterpolargl"
           }
          ],
          "scatterternary": [
           {
            "marker": {
             "colorbar": {
              "outlinewidth": 0,
              "ticks": ""
             }
            },
            "type": "scatterternary"
           }
          ],
          "surface": [
           {
            "colorbar": {
             "outlinewidth": 0,
             "ticks": ""
            },
            "colorscale": [
             [
              0,
              "#0d0887"
             ],
             [
              0.1111111111111111,
              "#46039f"
             ],
             [
              0.2222222222222222,
              "#7201a8"
             ],
             [
              0.3333333333333333,
              "#9c179e"
             ],
             [
              0.4444444444444444,
              "#bd3786"
             ],
             [
              0.5555555555555556,
              "#d8576b"
             ],
             [
              0.6666666666666666,
              "#ed7953"
             ],
             [
              0.7777777777777778,
              "#fb9f3a"
             ],
             [
              0.8888888888888888,
              "#fdca26"
             ],
             [
              1,
              "#f0f921"
             ]
            ],
            "type": "surface"
           }
          ],
          "table": [
           {
            "cells": {
             "fill": {
              "color": "#EBF0F8"
             },
             "line": {
              "color": "white"
             }
            },
            "header": {
             "fill": {
              "color": "#C8D4E3"
             },
             "line": {
              "color": "white"
             }
            },
            "type": "table"
           }
          ]
         },
         "layout": {
          "annotationdefaults": {
           "arrowcolor": "#2a3f5f",
           "arrowhead": 0,
           "arrowwidth": 1
          },
          "autotypenumbers": "strict",
          "coloraxis": {
           "colorbar": {
            "outlinewidth": 0,
            "ticks": ""
           }
          },
          "colorscale": {
           "diverging": [
            [
             0,
             "#8e0152"
            ],
            [
             0.1,
             "#c51b7d"
            ],
            [
             0.2,
             "#de77ae"
            ],
            [
             0.3,
             "#f1b6da"
            ],
            [
             0.4,
             "#fde0ef"
            ],
            [
             0.5,
             "#f7f7f7"
            ],
            [
             0.6,
             "#e6f5d0"
            ],
            [
             0.7,
             "#b8e186"
            ],
            [
             0.8,
             "#7fbc41"
            ],
            [
             0.9,
             "#4d9221"
            ],
            [
             1,
             "#276419"
            ]
           ],
           "sequential": [
            [
             0,
             "#0d0887"
            ],
            [
             0.1111111111111111,
             "#46039f"
            ],
            [
             0.2222222222222222,
             "#7201a8"
            ],
            [
             0.3333333333333333,
             "#9c179e"
            ],
            [
             0.4444444444444444,
             "#bd3786"
            ],
            [
             0.5555555555555556,
             "#d8576b"
            ],
            [
             0.6666666666666666,
             "#ed7953"
            ],
            [
             0.7777777777777778,
             "#fb9f3a"
            ],
            [
             0.8888888888888888,
             "#fdca26"
            ],
            [
             1,
             "#f0f921"
            ]
           ],
           "sequentialminus": [
            [
             0,
             "#0d0887"
            ],
            [
             0.1111111111111111,
             "#46039f"
            ],
            [
             0.2222222222222222,
             "#7201a8"
            ],
            [
             0.3333333333333333,
             "#9c179e"
            ],
            [
             0.4444444444444444,
             "#bd3786"
            ],
            [
             0.5555555555555556,
             "#d8576b"
            ],
            [
             0.6666666666666666,
             "#ed7953"
            ],
            [
             0.7777777777777778,
             "#fb9f3a"
            ],
            [
             0.8888888888888888,
             "#fdca26"
            ],
            [
             1,
             "#f0f921"
            ]
           ]
          },
          "colorway": [
           "#636efa",
           "#EF553B",
           "#00cc96",
           "#ab63fa",
           "#FFA15A",
           "#19d3f3",
           "#FF6692",
           "#B6E880",
           "#FF97FF",
           "#FECB52"
          ],
          "font": {
           "color": "#2a3f5f"
          },
          "geo": {
           "bgcolor": "white",
           "lakecolor": "white",
           "landcolor": "#E5ECF6",
           "showlakes": true,
           "showland": true,
           "subunitcolor": "white"
          },
          "hoverlabel": {
           "align": "left"
          },
          "hovermode": "closest",
          "mapbox": {
           "style": "light"
          },
          "paper_bgcolor": "white",
          "plot_bgcolor": "#E5ECF6",
          "polar": {
           "angularaxis": {
            "gridcolor": "white",
            "linecolor": "white",
            "ticks": ""
           },
           "bgcolor": "#E5ECF6",
           "radialaxis": {
            "gridcolor": "white",
            "linecolor": "white",
            "ticks": ""
           }
          },
          "scene": {
           "xaxis": {
            "backgroundcolor": "#E5ECF6",
            "gridcolor": "white",
            "gridwidth": 2,
            "linecolor": "white",
            "showbackground": true,
            "ticks": "",
            "zerolinecolor": "white"
           },
           "yaxis": {
            "backgroundcolor": "#E5ECF6",
            "gridcolor": "white",
            "gridwidth": 2,
            "linecolor": "white",
            "showbackground": true,
            "ticks": "",
            "zerolinecolor": "white"
           },
           "zaxis": {
            "backgroundcolor": "#E5ECF6",
            "gridcolor": "white",
            "gridwidth": 2,
            "linecolor": "white",
            "showbackground": true,
            "ticks": "",
            "zerolinecolor": "white"
           }
          },
          "shapedefaults": {
           "line": {
            "color": "#2a3f5f"
           }
          },
          "ternary": {
           "aaxis": {
            "gridcolor": "white",
            "linecolor": "white",
            "ticks": ""
           },
           "baxis": {
            "gridcolor": "white",
            "linecolor": "white",
            "ticks": ""
           },
           "bgcolor": "#E5ECF6",
           "caxis": {
            "gridcolor": "white",
            "linecolor": "white",
            "ticks": ""
           }
          },
          "title": {
           "x": 0.05
          },
          "xaxis": {
           "automargin": true,
           "gridcolor": "white",
           "linecolor": "white",
           "ticks": "",
           "title": {
            "standoff": 15
           },
           "zerolinecolor": "white",
           "zerolinewidth": 2
          },
          "yaxis": {
           "automargin": true,
           "gridcolor": "white",
           "linecolor": "white",
           "ticks": "",
           "title": {
            "standoff": 15
           },
           "zerolinecolor": "white",
           "zerolinewidth": 2
          }
         }
        },
        "xaxis": {
         "anchor": "y",
         "autorange": true,
         "categoryarray": [
          "Stress Level",
          "Sleep Duration"
         ],
         "categoryorder": "array",
         "domain": [
          0,
          0.49
         ],
         "range": [
          -0.5068197317572175,
          0.5068197317572175
         ],
         "showticklabels": true,
         "title": {
          "text": "key"
         },
         "type": "category"
        },
        "xaxis2": {
         "anchor": "y2",
         "autorange": true,
         "categoryarray": [
          "Stress Level",
          "Sleep Duration"
         ],
         "categoryorder": "array",
         "domain": [
          0.51,
          1
         ],
         "range": [
          0.49318026824278244,
          1.5068197317572176
         ],
         "showticklabels": true,
         "title": {
          "text": "key"
         },
         "type": "category"
        },
        "yaxis": {
         "anchor": "x",
         "autorange": true,
         "domain": [
          0,
          1
         ],
         "range": [
          2.7222222222222223,
          8.277777777777779
         ],
         "showticklabels": true,
         "title": {
          "text": "value"
         },
         "type": "linear"
        },
        "yaxis2": {
         "anchor": "x2",
         "autorange": true,
         "domain": [
          0,
          1
         ],
         "range": [
          5.6499999999999995,
          8.65
         ],
         "showticklabels": true,
         "type": "linear"
        }
       }
      },
      "image/png": "[encoded data removed]",
      "text/html": [
       "<div>                            <div id=\"7d0af22c-c503-4ea5-9cae-5e4662615dfb\" class=\"plotly-graph-div\" style=\"height:525px; width:100%;\"></div>            <script type=\"text/javascript\">                require([\"plotly\"], function(Plotly) {                    window.PLOTLYENV=window.PLOTLYENV || {};                                    if (document.getElementById(\"7d0af22c-c503-4ea5-9cae-5e4662615dfb\")) {                    Plotly.newPlot(                        \"7d0af22c-c503-4ea5-9cae-5e4662615dfb\",                        [{\"alignmentgroup\":\"True\",\"hovertemplate\":\"Occupation=2\\u003cbr\\u003ekey=%{x}\\u003cbr\\u003evalue=%{y}\\u003cextra\\u003e\\u003c\\u002fextra\\u003e\",\"legendgroup\":\"2\",\"marker\":{\"color\":\"#636efa\"},\"name\":\"2\",\"notched\":false,\"offsetgroup\":\"2\",\"orientation\":\"v\",\"showlegend\":true,\"x\":[\"Stress Level\",\"Stress Level\",\"Stress Level\",\"Stress Level\",\"Stress Level\",\"Stress Level\",\"Stress Level\",\"Stress Level\",\"Stress Level\",\"Stress Level\",\"Stress Level\",\"Stress Level\",\"Stress Level\",\"Stress Level\",\"Stress Level\",\"Stress Level\",\"Stress Level\",\"Stress Level\",\"Stress Level\",\"Stress Level\",\"Stress Level\",\"Stress Level\",\"Stress Level\",\"Stress Level\",\"Stress Level\",\"Stress Level\",\"Stress Level\",\"Stress Level\",\"Stress Level\",\"Stress Level\",\"Stress Level\",\"Stress Level\",\"Stress Level\",\"Stress Level\",\"Stress Level\",\"Stress Level\",\"Stress Level\",\"Stress Level\",\"Stress Level\",\"Stress Level\",\"Stress Level\",\"Stress Level\",\"Stress Level\",\"Stress Level\",\"Stress Level\",\"Stress Level\",\"Stress Level\",\"Stress Level\",\"Stress Level\",\"Stress Level\",\"Stress Level\",\"Stress Level\",\"Stress Level\",\"Stress Level\",\"Stress Level\",\"Stress Level\",\"Stress Level\",\"Stress Level\",\"Stress Level\",\"Stress Level\",\"Stress Level\",\"Stress Level\",\"Stress Level\",\"Stress Level\",\"Stress Level\",\"Stress Level\",\"Stress Level\"],\"x0\":\" \",\"xaxis\":\"x\",\"y\":[6.0,8.0,3.0,3.0,5.0,4.0,4.0,4.0,4.0,4.0,4.0,5.0,4.0,4.0,7.0,6.0,5.0,5.0,7.0,4.0,5.0,5.0,5.0,5.0,5.0,5.0,5.0,5.0,5.0,5.0,5.0,5.0,5.0,5.0,7.0,3.0,3.0,3.0,3.0,3.0,3.0,3.0,3.0,3.0,3.0,3.0,3.0,3.0,3.0,3.0,3.0,3.0,3.0,3.0,3.0,3.0,3.0,3.0,3.0,3.0,3.0,3.0,3.0,3.0,3.0,3.0,3.0],\"y0\":\" \",\"yaxis\":\"y\",\"type\":\"box\"},{\"alignmentgroup\":\"True\",\"hovertemplate\":\"Occupation=2\\u003cbr\\u003ekey=%{x}\\u003cbr\\u003evalue=%{y}\\u003cextra\\u003e\\u003c\\u002fextra\\u003e\",\"legendgroup\":\"2\",\"marker\":{\"color\":\"#636efa\"},\"name\":\"2\",\"notched\":false,\"offsetgroup\":\"2\",\"orientation\":\"v\",\"showlegend\":false,\"x\":[\"Sleep Duration\",\"Sleep Duration\",\"Sleep Duration\",\"Sleep Duration\",\"Sleep Duration\",\"Sleep Duration\",\"Sleep Duration\",\"Sleep Duration\",\"Sleep Duration\",\"Sleep Duration\",\"Sleep Duration\",\"Sleep Duration\",\"Sleep Duration\",\"Sleep Duration\",\"Sleep Duration\",\"Sleep Duration\",\"Sleep Duration\",\"Sleep Duration\",\"Sleep Duration\",\"Sleep Duration\",\"Sleep Duration\",\"Sleep Duration\",\"Sleep Duration\",\"Sleep Duration\",\"Sleep Duration\",\"Sleep Duration\",\"Sleep Duration\",\"Sleep Duration\",\"Sleep Duration\",\"Sleep Duration\",\"Sleep Duration\",\"Sleep Duration\",\"Sleep Duration\",\"Sleep Duration\",\"Sleep Duration\",\"Sleep Duration\",\"Sleep Duration\",\"Sleep Duration\",\"Sleep Duration\",\"Sleep Duration\",\"Sleep Duration\",\"Sleep Duration\",\"Sleep Duration\",\"Sleep Duration\",\"Sleep Duration\",\"Sleep Duration\",\"Sleep Duration\",\"Sleep Duration\",\"Sleep Duration\",\"Sleep Duration\",\"Sleep Duration\",\"Sleep Duration\",\"Sleep Duration\",\"Sleep Duration\",\"Sleep Duration\",\"Sleep Duration\",\"Sleep Duration\",\"Sleep Duration\",\"Sleep Duration\",\"Sleep Duration\",\"Sleep Duration\",\"Sleep Duration\",\"Sleep Duration\",\"Sleep Duration\",\"Sleep Duration\",\"Sleep Duration\",\"Sleep Duration\"],\"x0\":\" \",\"xaxis\":\"x2\",\"y\":[6.1,5.9,7.5,7.5,7.5,7.2,7.2,7.3,7.3,7.3,7.3,7.5,7.8,7.8,6.5,7.3,7.8,7.8,6.9,7.6,7.7,7.7,7.7,7.7,7.8,7.7,7.8,7.8,7.8,7.8,7.8,7.8,7.8,7.8,6.8,8.3,8.5,8.5,8.5,8.5,8.4,8.4,8.4,8.3,8.5,8.5,8.4,8.4,8.5,8.4,8.4,8.5,8.3,8.5,8.3,8.5,8.3,8.5,8.5,8.4,8.4,8.4,8.4,8.4,8.4,8.4,8.5],\"y0\":\" \",\"yaxis\":\"y2\",\"type\":\"box\"},{\"alignmentgroup\":\"True\",\"hovertemplate\":\"Occupation=1\\u003cbr\\u003ekey=%{x}\\u003cbr\\u003evalue=%{y}\\u003cextra\\u003e\\u003c\\u002fextra\\u003e\",\"legendgroup\":\"1\",\"marker\":{\"color\":\"#EF553B\"},\"name\":\"1\",\"notched\":false,\"offsetgroup\":\"1\",\"orientation\":\"v\",\"showlegend\":true,\"x\":[\"Stress Level\",\"Stress Level\",\"Stress Level\",\"Stress Level\",\"Stress Level\",\"Stress Level\",\"Stress Level\",\"Stress Level\",\"Stress Level\",\"Stress Level\",\"Stress Level\",\"Stress Level\",\"Stress Level\",\"Stress Level\",\"Stress Level\",\"Stress Level\",\"Stress Level\",\"Stress Level\",\"Stress Level\",\"Stress Level\",\"Stress Level\",\"Stress Level\",\"Stress Level\",\"Stress Level\",\"Stress Level\",\"Stress Level\",\"Stress Level\",\"Stress Level\",\"Stress Level\",\"Stress Level\",\"Stress Level\",\"Stress Level\",\"Stress Level\",\"Stress Level\",\"Stress Level\",\"Stress Level\",\"Stress Level\",\"Stress Level\",\"Stress Level\",\"Stress Level\",\"Stress Level\",\"Stress Level\",\"Stress Level\",\"Stress Level\",\"Stress Level\",\"Stress Level\",\"Stress Level\",\"Stress Level\",\"Stress Level\",\"Stress Level\",\"Stress Level\",\"Stress Level\",\"Stress Level\",\"Stress Level\",\"Stress Level\",\"Stress Level\",\"Stress Level\",\"Stress Level\",\"Stress Level\",\"Stress Level\",\"Stress Level\",\"Stress Level\",\"Stress Level\",\"Stress Level\",\"Stress Level\",\"Stress Level\",\"Stress Level\",\"Stress Level\",\"Stress Level\",\"Stress Level\",\"Stress Level\"],\"x0\":\" \",\"xaxis\":\"x\",\"y\":[8.0,8.0,6.0,6.0,6.0,8.0,6.0,8.0,8.0,8.0,8.0,8.0,6.0,6.0,6.0,6.0,6.0,6.0,6.0,6.0,6.0,6.0,6.0,8.0,6.0,8.0,8.0,6.0,6.0,6.0,6.0,6.0,6.0,6.0,6.0,6.0,6.0,6.0,6.0,6.0,8.0,6.0,8.0,8.0,6.0,8.0,8.0,6.0,8.0,8.0,8.0,8.0,8.0,8.0,8.0,8.0,8.0,8.0,8.0,8.0,8.0,8.0,8.0,8.0,8.0,5.0,5.0,3.0,3.0,3.0,3.0],\"y0\":\" \",\"yaxis\":\"y\",\"type\":\"box\"},{\"alignmentgroup\":\"True\",\"hovertemplate\":\"Occupation=1\\u003cbr\\u003ekey=%{x}\\u003cbr\\u003evalue=%{y}\\u003cextra\\u003e\\u003c\\u002fextra\\u003e\",\"legendgroup\":\"1\",\"marker\":{\"color\":\"#EF553B\"},\"name\":\"1\",\"notched\":false,\"offsetgroup\":\"1\",\"orientation\":\"v\",\"showlegend\":false,\"x\":[\"Sleep Duration\",\"Sleep Duration\",\"Sleep Duration\",\"Sleep Duration\",\"Sleep Duration\",\"Sleep Duration\",\"Sleep Duration\",\"Sleep Duration\",\"Sleep Duration\",\"Sleep Duration\",\"Sleep Duration\",\"Sleep Duration\",\"Sleep Duration\",\"Sleep Duration\",\"Sleep Duration\",\"Sleep Duration\",\"Sleep Duration\",\"Sleep Duration\",\"Sleep Duration\",\"Sleep Duration\",\"Sleep Duration\",\"Sleep Duration\",\"Sleep Duration\",\"Sleep Duration\",\"Sleep Duration\",\"Sleep Duration\",\"Sleep Duration\",\"Sleep Duration\",\"Sleep Duration\",\"Sleep Duration\",\"Sleep Duration\",\"Sleep Duration\",\"Sleep Duration\",\"Sleep Duration\",\"Sleep Duration\",\"Sleep Duration\",\"Sleep Duration\",\"Sleep Duration\",\"Sleep Duration\",\"Sleep Duration\",\"Sleep Duration\",\"Sleep Duration\",\"Sleep Duration\",\"Sleep Duration\",\"Sleep Duration\",\"Sleep Duration\",\"Sleep Duration\",\"Sleep Duration\",\"Sleep Duration\",\"Sleep Duration\",\"Sleep Duration\",\"Sleep Duration\",\"Sleep Duration\",\"Sleep Duration\",\"Sleep Duration\",\"Sleep Duration\",\"Sleep Duration\",\"Sleep Duration\",\"Sleep Duration\",\"Sleep Duration\",\"Sleep Duration\",\"Sleep Duration\",\"Sleep Duration\",\"Sleep Duration\",\"Sleep Duration\",\"Sleep Duration\",\"Sleep Duration\",\"Sleep Duration\",\"Sleep Duration\",\"Sleep Duration\",\"Sleep Duration\"],\"x0\":\" \",\"xaxis\":\"x2\",\"y\":[6.2,6.2,7.8,7.8,7.8,6.1,7.8,6.1,6.0,6.0,6.0,6.0,7.6,7.7,7.7,7.7,7.7,7.8,7.9,7.8,7.9,7.9,7.9,6.1,7.7,6.1,6.1,7.6,7.6,7.6,7.7,7.7,7.7,7.8,7.7,7.8,7.7,7.8,7.7,7.7,6.0,7.6,6.0,6.0,7.7,6.0,6.0,7.7,6.0,6.0,6.2,6.2,6.2,6.2,6.0,6.1,6.1,6.1,6.1,6.0,6.0,6.0,6.0,6.0,6.0,7.3,7.3,8.1,8.1,8.2,8.2],\"y0\":\" \",\"yaxis\":\"y2\",\"type\":\"box\"},{\"alignmentgroup\":\"True\",\"hovertemplate\":\"Occupation=5\\u003cbr\\u003ekey=%{x}\\u003cbr\\u003evalue=%{y}\\u003cextra\\u003e\\u003c\\u002fextra\\u003e\",\"legendgroup\":\"5\",\"marker\":{\"color\":\"#00cc96\"},\"name\":\"5\",\"notched\":false,\"offsetgroup\":\"5\",\"orientation\":\"v\",\"showlegend\":true,\"x\":[\"Stress Level\",\"Stress Level\",\"Stress Level\",\"Stress Level\",\"Stress Level\",\"Stress Level\",\"Stress Level\",\"Stress Level\",\"Stress Level\",\"Stress Level\",\"Stress Level\",\"Stress Level\",\"Stress Level\",\"Stress Level\",\"Stress Level\",\"Stress Level\",\"Stress Level\",\"Stress Level\",\"Stress Level\",\"Stress Level\",\"Stress Level\",\"Stress Level\",\"Stress Level\",\"Stress Level\",\"Stress Level\",\"Stress Level\",\"Stress Level\",\"Stress Level\",\"Stress Level\",\"Stress Level\",\"Stress Level\",\"Stress Level\",\"Stress Level\",\"Stress Level\",\"Stress Level\"],\"x0\":\" \",\"xaxis\":\"x\",\"y\":[8.0,8.0,7.0,7.0,7.0,7.0,7.0,7.0,7.0,7.0,7.0,7.0,7.0,7.0,7.0,7.0,7.0,7.0,7.0,7.0,7.0,7.0,7.0,7.0,7.0,7.0,7.0,7.0,7.0,7.0,7.0,7.0,7.0,7.0,5.0],\"y0\":\" \",\"yaxis\":\"y\",\"type\":\"box\"},{\"alignmentgroup\":\"True\",\"hovertemplate\":\"Occupation=5\\u003cbr\\u003ekey=%{x}\\u003cbr\\u003evalue=%{y}\\u003cextra\\u003e\\u003c\\u002fextra\\u003e\",\"legendgroup\":\"5\",\"marker\":{\"color\":\"#00cc96\"},\"name\":\"5\",\"notched\":false,\"offsetgroup\":\"5\",\"orientation\":\"v\",\"showlegend\":false,\"x\":[\"Sleep Duration\",\"Sleep Duration\",\"Sleep Duration\",\"Sleep Duration\",\"Sleep Duration\",\"Sleep Duration\",\"Sleep Duration\",\"Sleep Duration\",\"Sleep Duration\",\"Sleep Duration\",\"Sleep Duration\",\"Sleep Duration\",\"Sleep Duration\",\"Sleep Duration\",\"Sleep Duration\",\"Sleep Duration\",\"Sleep Duration\",\"Sleep Duration\",\"Sleep Duration\",\"Sleep Duration\",\"Sleep Duration\",\"Sleep Duration\",\"Sleep Duration\",\"Sleep Duration\",\"Sleep Duration\",\"Sleep Duration\",\"Sleep Duration\",\"Sleep Duration\",\"Sleep Duration\",\"Sleep Duration\",\"Sleep Duration\",\"Sleep Duration\",\"Sleep Duration\",\"Sleep Duration\",\"Sleep Duration\"],\"x0\":\" \",\"xaxis\":\"x2\",\"y\":[5.9,5.9,6.5,6.3,6.5,6.4,6.5,6.5,6.5,6.5,6.5,6.5,6.5,6.5,6.5,6.5,6.4,6.3,6.4,6.3,6.3,6.3,6.3,6.3,6.3,6.4,6.3,6.4,6.3,6.4,6.3,6.3,6.4,6.5,6.9],\"y0\":\" \",\"yaxis\":\"y2\",\"type\":\"box\"},{\"alignmentgroup\":\"True\",\"hovertemplate\":\"Occupation=7\\u003cbr\\u003ekey=%{x}\\u003cbr\\u003evalue=%{y}\\u003cextra\\u003e\\u003c\\u002fextra\\u003e\",\"legendgroup\":\"7\",\"marker\":{\"color\":\"#ab63fa\"},\"name\":\"7\",\"notched\":false,\"offsetgroup\":\"7\",\"orientation\":\"v\",\"showlegend\":true,\"x\":[\"Stress Level\",\"Stress Level\",\"Stress Level\",\"Stress Level\",\"Stress Level\",\"Stress Level\",\"Stress Level\",\"Stress Level\",\"Stress Level\",\"Stress Level\",\"Stress Level\",\"Stress Level\",\"Stress Level\",\"Stress Level\",\"Stress Level\",\"Stress Level\",\"Stress Level\",\"Stress Level\",\"Stress Level\",\"Stress Level\",\"Stress Level\",\"Stress Level\",\"Stress Level\",\"Stress Level\",\"Stress Level\",\"Stress Level\",\"Stress Level\",\"Stress Level\",\"Stress Level\",\"Stress Level\",\"Stress Level\",\"Stress Level\",\"Stress Level\",\"Stress Level\",\"Stress Level\",\"Stress Level\",\"Stress Level\",\"Stress Level\",\"Stress Level\",\"Stress Level\"],\"x0\":\" \",\"xaxis\":\"x\",\"y\":[7.0,5.0,5.0,4.0,4.0,4.0,4.0,4.0,7.0,4.0,7.0,7.0,7.0,4.0,4.0,4.0,4.0,4.0,4.0,4.0,4.0,4.0,4.0,4.0,4.0,4.0,4.0,6.0,6.0,4.0,4.0,4.0,4.0,4.0,4.0,4.0,4.0,4.0,4.0,4.0],\"y0\":\" \",\"yaxis\":\"y\",\"type\":\"box\"},{\"alignmentgroup\":\"True\",\"hovertemplate\":\"Occupation=7\\u003cbr\\u003ekey=%{x}\\u003cbr\\u003evalue=%{y}\\u003cextra\\u003e\\u003c\\u002fextra\\u003e\",\"legendgroup\":\"7\",\"marker\":{\"color\":\"#ab63fa\"},\"name\":\"7\",\"notched\":false,\"offsetgroup\":\"7\",\"orientation\":\"v\",\"showlegend\":false,\"x\":[\"Sleep Duration\",\"Sleep Duration\",\"Sleep Duration\",\"Sleep Duration\",\"Sleep Duration\",\"Sleep Duration\",\"Sleep Duration\",\"Sleep Duration\",\"Sleep Duration\",\"Sleep Duration\",\"Sleep Duration\",\"Sleep Duration\",\"Sleep Duration\",\"Sleep Duration\",\"Sleep Duration\",\"Sleep Duration\",\"Sleep Duration\",\"Sleep Duration\",\"Sleep Duration\",\"Sleep Duration\",\"Sleep Duration\",\"Sleep Duration\",\"Sleep Duration\",\"Sleep Duration\",\"Sleep Duration\",\"Sleep Duration\",\"Sleep Duration\",\"Sleep Duration\",\"Sleep Duration\",\"Sleep Duration\",\"Sleep Duration\",\"Sleep Duration\",\"Sleep Duration\",\"Sleep Duration\",\"Sleep Duration\",\"Sleep Duration\",\"Sleep Duration\",\"Sleep Duration\",\"Sleep Duration\",\"Sleep Duration\"],\"x0\":\" \",\"xaxis\":\"x2\",\"y\":[6.3,6.7,6.7,7.1,7.1,7.2,7.2,7.2,6.6,7.2,6.6,6.8,6.8,6.7,6.7,6.7,6.6,6.6,6.6,6.6,6.6,6.6,6.6,6.5,6.5,6.5,6.5,6.8,6.8,6.5,6.5,6.5,6.5,6.6,6.6,6.6,6.6,6.6,6.6,6.6],\"y0\":\" \",\"yaxis\":\"y2\",\"type\":\"box\"},{\"alignmentgroup\":\"True\",\"hovertemplate\":\"Occupation=4\\u003cbr\\u003ekey=%{x}\\u003cbr\\u003evalue=%{y}\\u003cextra\\u003e\\u003c\\u002fextra\\u003e\",\"legendgroup\":\"4\",\"marker\":{\"color\":\"#FFA15A\"},\"name\":\"4\",\"notched\":false,\"offsetgroup\":\"4\",\"orientation\":\"v\",\"showlegend\":true,\"x\":[\"Stress Level\",\"Stress Level\",\"Stress Level\",\"Stress Level\",\"Stress Level\",\"Stress Level\",\"Stress Level\",\"Stress Level\",\"Stress Level\",\"Stress Level\",\"Stress Level\",\"Stress Level\",\"Stress Level\",\"Stress Level\",\"Stress Level\",\"Stress Level\",\"Stress Level\",\"Stress Level\",\"Stress Level\",\"Stress Level\",\"Stress Level\",\"Stress Level\",\"Stress Level\",\"Stress Level\",\"Stress Level\",\"Stress Level\",\"Stress Level\",\"Stress Level\",\"Stress Level\",\"Stress Level\",\"Stress Level\",\"Stress Level\",\"Stress Level\",\"Stress Level\",\"Stress Level\",\"Stress Level\",\"Stress Level\",\"Stress Level\",\"Stress Level\",\"Stress Level\",\"Stress Level\",\"Stress Level\",\"Stress Level\",\"Stress Level\",\"Stress Level\",\"Stress Level\",\"Stress Level\",\"Stress Level\",\"Stress Level\",\"Stress Level\",\"Stress Level\",\"Stress Level\",\"Stress Level\",\"Stress Level\",\"Stress Level\",\"Stress Level\",\"Stress Level\",\"Stress Level\",\"Stress Level\",\"Stress Level\",\"Stress Level\",\"Stress Level\",\"Stress Level\",\"Stress Level\",\"Stress Level\",\"Stress Level\",\"Stress Level\",\"Stress Level\",\"Stress Level\",\"Stress Level\",\"Stress Level\",\"Stress Level\",\"Stress Level\"],\"x0\":\" \",\"xaxis\":\"x\",\"y\":[7.0,7.0,7.0,7.0,4.0,6.0,4.0,8.0,8.0,8.0,8.0,8.0,8.0,8.0,8.0,8.0,8.0,8.0,8.0,8.0,8.0,8.0,8.0,8.0,8.0,8.0,8.0,8.0,8.0,8.0,8.0,8.0,8.0,8.0,8.0,8.0,6.0,8.0,8.0,8.0,4.0,4.0,3.0,3.0,3.0,3.0,3.0,3.0,3.0,3.0,3.0,3.0,3.0,3.0,3.0,3.0,3.0,3.0,3.0,3.0,3.0,3.0,3.0,3.0,3.0,3.0,3.0,3.0,3.0,3.0,3.0,3.0,3.0],\"y0\":\" \",\"yaxis\":\"y\",\"type\":\"box\"},{\"alignmentgroup\":\"True\",\"hovertemplate\":\"Occupation=4\\u003cbr\\u003ekey=%{x}\\u003cbr\\u003evalue=%{y}\\u003cextra\\u003e\\u003c\\u002fextra\\u003e\",\"legendgroup\":\"4\",\"marker\":{\"color\":\"#FFA15A\"},\"name\":\"4\",\"notched\":false,\"offsetgroup\":\"4\",\"orientation\":\"v\",\"showlegend\":false,\"x\":[\"Sleep Duration\",\"Sleep Duration\",\"Sleep Duration\",\"Sleep Duration\",\"Sleep Duration\",\"Sleep Duration\",\"Sleep Duration\",\"Sleep Duration\",\"Sleep Duration\",\"Sleep Duration\",\"Sleep Duration\",\"Sleep Duration\",\"Sleep Duration\",\"Sleep Duration\",\"Sleep Duration\",\"Sleep Duration\",\"Sleep Duration\",\"Sleep Duration\",\"Sleep Duration\",\"Sleep Duration\",\"Sleep Duration\",\"Sleep Duration\",\"Sleep Duration\",\"Sleep Duration\",\"Sleep Duration\",\"Sleep Duration\",\"Sleep Duration\",\"Sleep Duration\",\"Sleep Duration\",\"Sleep Duration\",\"Sleep Duration\",\"Sleep Duration\",\"Sleep Duration\",\"Sleep Duration\",\"Sleep Duration\",\"Sleep Duration\",\"Sleep Duration\",\"Sleep Duration\",\"Sleep Duration\",\"Sleep Duration\",\"Sleep Duration\",\"Sleep Duration\",\"Sleep Duration\",\"Sleep Duration\",\"Sleep Duration\",\"Sleep Duration\",\"Sleep Duration\",\"Sleep Duration\",\"Sleep Duration\",\"Sleep Duration\",\"Sleep Duration\",\"Sleep Duration\",\"Sleep Duration\",\"Sleep Duration\",\"Sleep Duration\",\"Sleep Duration\",\"Sleep Duration\",\"Sleep Duration\",\"Sleep Duration\",\"Sleep Duration\",\"Sleep Duration\",\"Sleep Duration\",\"Sleep Duration\",\"Sleep Duration\",\"Sleep Duration\",\"Sleep Duration\",\"Sleep Duration\",\"Sleep Duration\",\"Sleep Duration\",\"Sleep Duration\",\"Sleep Duration\",\"Sleep Duration\",\"Sleep Duration\"],\"x0\":\" \",\"xaxis\":\"x2\",\"y\":[6.5,6.5,6.4,6.4,7.9,6.1,7.5,5.9,6.2,6.0,6.1,6.1,6.1,6.1,6.2,6.2,6.2,6.1,6.0,6.1,6.0,6.0,6.0,6.0,6.0,6.0,6.0,6.1,6.0,6.1,6.1,6.0,6.1,6.0,6.1,6.1,7.1,6.0,6.1,6.1,8.1,8.1,8.1,8.2,8.2,8.2,8.2,8.2,8.1,8.1,8.1,8.0,8.0,8.0,8.0,8.0,8.0,8.0,8.1,8.2,8.2,8.2,8.2,8.0,8.0,8.1,8.0,8.1,8.1,8.0,8.1,8.1,8.1],\"y0\":\" \",\"yaxis\":\"y2\",\"type\":\"box\"},{\"alignmentgroup\":\"True\",\"hovertemplate\":\"Occupation=0\\u003cbr\\u003ekey=%{x}\\u003cbr\\u003evalue=%{y}\\u003cextra\\u003e\\u003c\\u002fextra\\u003e\",\"legendgroup\":\"0\",\"marker\":{\"color\":\"#19d3f3\"},\"name\":\"0\",\"notched\":false,\"offsetgroup\":\"0\",\"orientation\":\"v\",\"showlegend\":true,\"x\":[\"Stress Level\",\"Stress Level\",\"Stress Level\",\"Stress Level\",\"Stress Level\",\"Stress Level\",\"Stress Level\",\"Stress Level\",\"Stress Level\",\"Stress Level\",\"Stress Level\",\"Stress Level\",\"Stress Level\",\"Stress Level\",\"Stress Level\",\"Stress Level\",\"Stress Level\",\"Stress Level\",\"Stress Level\",\"Stress Level\",\"Stress Level\",\"Stress Level\",\"Stress Level\",\"Stress Level\",\"Stress Level\",\"Stress Level\",\"Stress Level\",\"Stress Level\",\"Stress Level\",\"Stress Level\",\"Stress Level\",\"Stress Level\",\"Stress Level\",\"Stress Level\",\"Stress Level\",\"Stress Level\",\"Stress Level\"],\"x0\":\" \",\"xaxis\":\"x\",\"y\":[6.0,4.0,4.0,4.0,4.0,4.0,4.0,4.0,4.0,4.0,4.0,4.0,4.0,4.0,4.0,4.0,4.0,4.0,4.0,4.0,4.0,4.0,4.0,4.0,4.0,4.0,4.0,3.0,3.0,6.0,6.0,7.0,7.0,7.0,7.0,7.0,7.0],\"y0\":\" \",\"yaxis\":\"y\",\"type\":\"box\"},{\"alignmentgroup\":\"True\",\"hovertemplate\":\"Occupation=0\\u003cbr\\u003ekey=%{x}\\u003cbr\\u003evalue=%{y}\\u003cextra\\u003e\\u003c\\u002fextra\\u003e\",\"legendgroup\":\"0\",\"marker\":{\"color\":\"#19d3f3\"},\"name\":\"0\",\"notched\":false,\"offsetgroup\":\"0\",\"orientation\":\"v\",\"showlegend\":false,\"x\":[\"Sleep Duration\",\"Sleep Duration\",\"Sleep Duration\",\"Sleep Duration\",\"Sleep Duration\",\"Sleep Duration\",\"Sleep Duration\",\"Sleep Duration\",\"Sleep Duration\",\"Sleep Duration\",\"Sleep Duration\",\"Sleep Duration\",\"Sleep Duration\",\"Sleep Duration\",\"Sleep Duration\",\"Sleep Duration\",\"Sleep Duration\",\"Sleep Duration\",\"Sleep Duration\",\"Sleep Duration\",\"Sleep Duration\",\"Sleep Duration\",\"Sleep Duration\",\"Sleep Duration\",\"Sleep Duration\",\"Sleep Duration\",\"Sleep Duration\",\"Sleep Duration\",\"Sleep Duration\",\"Sleep Duration\",\"Sleep Duration\",\"Sleep Duration\",\"Sleep Duration\",\"Sleep Duration\",\"Sleep Duration\",\"Sleep Duration\",\"Sleep Duration\"],\"x0\":\" \",\"xaxis\":\"x2\",\"y\":[7.2,7.2,7.2,7.1,7.2,7.1,7.2,7.2,7.2,7.2,7.2,7.2,7.2,7.2,7.2,7.2,7.2,7.2,7.2,7.1,7.1,7.1,7.1,7.1,7.1,7.1,7.1,8.0,8.0,7.2,7.2,6.5,6.5,6.6,6.6,6.6,6.6],\"y0\":\" \",\"yaxis\":\"y2\",\"type\":\"box\"},{\"alignmentgroup\":\"True\",\"hovertemplate\":\"Occupation=6\\u003cbr\\u003ekey=%{x}\\u003cbr\\u003evalue=%{y}\\u003cextra\\u003e\\u003c\\u002fextra\\u003e\",\"legendgroup\":\"6\",\"marker\":{\"color\":\"#FF6692\"},\"name\":\"6\",\"notched\":false,\"offsetgroup\":\"6\",\"orientation\":\"v\",\"showlegend\":true,\"x\":[\"Stress Level\",\"Stress Level\",\"Stress Level\",\"Stress Level\"],\"x0\":\" \",\"xaxis\":\"x\",\"y\":[6.0,6.0,8.0,8.0],\"y0\":\" \",\"yaxis\":\"y\",\"type\":\"box\"},{\"alignmentgroup\":\"True\",\"hovertemplate\":\"Occupation=6\\u003cbr\\u003ekey=%{x}\\u003cbr\\u003evalue=%{y}\\u003cextra\\u003e\\u003c\\u002fextra\\u003e\",\"legendgroup\":\"6\",\"marker\":{\"color\":\"#FF6692\"},\"name\":\"6\",\"notched\":false,\"offsetgroup\":\"6\",\"orientation\":\"v\",\"showlegend\":false,\"x\":[\"Sleep Duration\",\"Sleep Duration\",\"Sleep Duration\",\"Sleep Duration\"],\"x0\":\" \",\"xaxis\":\"x2\",\"y\":[6.2,6.2,5.8,5.8],\"y0\":\" \",\"yaxis\":\"y2\",\"type\":\"box\"},{\"alignmentgroup\":\"True\",\"hovertemplate\":\"Occupation=3\\u003cbr\\u003ekey=%{x}\\u003cbr\\u003evalue=%{y}\\u003cextra\\u003e\\u003c\\u002fextra\\u003e\",\"legendgroup\":\"3\",\"marker\":{\"color\":\"#B6E880\"},\"name\":\"3\",\"notched\":false,\"offsetgroup\":\"3\",\"orientation\":\"v\",\"showlegend\":true,\"x\":[\"Stress Level\",\"Stress Level\",\"Stress Level\",\"Stress Level\",\"Stress Level\",\"Stress Level\",\"Stress Level\",\"Stress Level\",\"Stress Level\",\"Stress Level\",\"Stress Level\",\"Stress Level\",\"Stress Level\",\"Stress Level\",\"Stress Level\",\"Stress Level\",\"Stress Level\",\"Stress Level\",\"Stress Level\",\"Stress Level\",\"Stress Level\",\"Stress Level\",\"Stress Level\",\"Stress Level\",\"Stress Level\",\"Stress Level\",\"Stress Level\",\"Stress Level\",\"Stress Level\",\"Stress Level\",\"Stress Level\",\"Stress Level\",\"Stress Level\",\"Stress Level\",\"Stress Level\",\"Stress Level\",\"Stress Level\",\"Stress Level\",\"Stress Level\",\"Stress Level\",\"Stress Level\",\"Stress Level\",\"Stress Level\",\"Stress Level\",\"Stress Level\",\"Stress Level\",\"Stress Level\"],\"x0\":\" \",\"xaxis\":\"x\",\"y\":[5.0,5.0,5.0,5.0,5.0,5.0,5.0,5.0,5.0,5.0,5.0,5.0,5.0,5.0,5.0,5.0,5.0,6.0,5.0,5.0,5.0,5.0,5.0,5.0,5.0,5.0,5.0,5.0,5.0,5.0,5.0,6.0,6.0,5.0,5.0,5.0,5.0,5.0,5.0,5.0,5.0,5.0,5.0,5.0,5.0,5.0,5.0],\"y0\":\" \",\"yaxis\":\"y\",\"type\":\"box\"},{\"alignmentgroup\":\"True\",\"hovertemplate\":\"Occupation=3\\u003cbr\\u003ekey=%{x}\\u003cbr\\u003evalue=%{y}\\u003cextra\\u003e\\u003c\\u002fextra\\u003e\",\"legendgroup\":\"3\",\"marker\":{\"color\":\"#B6E880\"},\"name\":\"3\",\"notched\":false,\"offsetgroup\":\"3\",\"orientation\":\"v\",\"showlegend\":false,\"x\":[\"Sleep Duration\",\"Sleep Duration\",\"Sleep Duration\",\"Sleep Duration\",\"Sleep Duration\",\"Sleep Duration\",\"Sleep Duration\",\"Sleep Duration\",\"Sleep Duration\",\"Sleep Duration\",\"Sleep Duration\",\"Sleep Duration\",\"Sleep Duration\",\"Sleep Duration\",\"Sleep Duration\",\"Sleep Duration\",\"Sleep Duration\",\"Sleep Duration\",\"Sleep Duration\",\"Sleep Duration\",\"Sleep Duration\",\"Sleep Duration\",\"Sleep Duration\",\"Sleep Duration\",\"Sleep Duration\",\"Sleep Duration\",\"Sleep Duration\",\"Sleep Duration\",\"Sleep Duration\",\"Sleep Duration\",\"Sleep Duration\",\"Sleep Duration\",\"Sleep Duration\",\"Sleep Duration\",\"Sleep Duration\",\"Sleep Duration\",\"Sleep Duration\",\"Sleep Duration\",\"Sleep Duration\",\"Sleep Duration\",\"Sleep Duration\",\"Sleep Duration\",\"Sleep Duration\",\"Sleep Duration\",\"Sleep Duration\",\"Sleep Duration\",\"Sleep Duration\"],\"x0\":\" \",\"xaxis\":\"x2\",\"y\":[7.4,7.4,7.4,7.4,7.3,7.3,7.3,7.3,7.3,7.3,7.3,7.1,7.1,7.1,7.1,7.4,7.2,6.9,7.2,7.2,7.2,7.2,7.2,7.2,7.2,7.2,7.2,7.2,7.9,7.9,7.6,7.1,7.1,7.7,7.7,7.7,7.7,7.7,7.6,7.6,7.6,7.8,7.8,7.8,7.8,7.8,7.8],\"y0\":\" \",\"yaxis\":\"y2\",\"type\":\"box\"}],                        {\"template\":{\"data\":{\"histogram2dcontour\":[{\"type\":\"histogram2dcontour\",\"colorbar\":{\"outlinewidth\":0,\"ticks\":\"\"},\"colorscale\":[[0.0,\"#0d0887\"],[0.1111111111111111,\"#46039f\"],[0.2222222222222222,\"#7201a8\"],[0.3333333333333333,\"#9c179e\"],[0.4444444444444444,\"#bd3786\"],[0.5555555555555556,\"#d8576b\"],[0.6666666666666666,\"#ed7953\"],[0.7777777777777778,\"#fb9f3a\"],[0.8888888888888888,\"#fdca26\"],[1.0,\"#f0f921\"]]}],\"choropleth\":[{\"type\":\"choropleth\",\"colorbar\":{\"outlinewidth\":0,\"ticks\":\"\"}}],\"histogram2d\":[{\"type\":\"histogram2d\",\"colorbar\":{\"outlinewidth\":0,\"ticks\":\"\"},\"colorscale\":[[0.0,\"#0d0887\"],[0.1111111111111111,\"#46039f\"],[0.2222222222222222,\"#7201a8\"],[0.3333333333333333,\"#9c179e\"],[0.4444444444444444,\"#bd3786\"],[0.5555555555555556,\"#d8576b\"],[0.6666666666666666,\"#ed7953\"],[0.7777777777777778,\"#fb9f3a\"],[0.8888888888888888,\"#fdca26\"],[1.0,\"#f0f921\"]]}],\"heatmap\":[{\"type\":\"heatmap\",\"colorbar\":{\"outlinewidth\":0,\"ticks\":\"\"},\"colorscale\":[[0.0,\"#0d0887\"],[0.1111111111111111,\"#46039f\"],[0.2222222222222222,\"#7201a8\"],[0.3333333333333333,\"#9c179e\"],[0.4444444444444444,\"#bd3786\"],[0.5555555555555556,\"#d8576b\"],[0.6666666666666666,\"#ed7953\"],[0.7777777777777778,\"#fb9f3a\"],[0.8888888888888888,\"#fdca26\"],[1.0,\"#f0f921\"]]}],\"heatmapgl\":[{\"type\":\"heatmapgl\",\"colorbar\":{\"outlinewidth\":0,\"ticks\":\"\"},\"colorscale\":[[0.0,\"#0d0887\"],[0.1111111111111111,\"#46039f\"],[0.2222222222222222,\"#7201a8\"],[0.3333333333333333,\"#9c179e\"],[0.4444444444444444,\"#bd3786\"],[0.5555555555555556,\"#d8576b\"],[0.6666666666666666,\"#ed7953\"],[0.7777777777777778,\"#fb9f3a\"],[0.8888888888888888,\"#fdca26\"],[1.0,\"#f0f921\"]]}],\"contourcarpet\":[{\"type\":\"contourcarpet\",\"colorbar\":{\"outlinewidth\":0,\"ticks\":\"\"}}],\"contour\":[{\"type\":\"contour\",\"colorbar\":{\"outlinewidth\":0,\"ticks\":\"\"},\"colorscale\":[[0.0,\"#0d0887\"],[0.1111111111111111,\"#46039f\"],[0.2222222222222222,\"#7201a8\"],[0.3333333333333333,\"#9c179e\"],[0.4444444444444444,\"#bd3786\"],[0.5555555555555556,\"#d8576b\"],[0.6666666666666666,\"#ed7953\"],[0.7777777777777778,\"#fb9f3a\"],[0.8888888888888888,\"#fdca26\"],[1.0,\"#f0f921\"]]}],\"surface\":[{\"type\":\"surface\",\"colorbar\":{\"outlinewidth\":0,\"ticks\":\"\"},\"colorscale\":[[0.0,\"#0d0887\"],[0.1111111111111111,\"#46039f\"],[0.2222222222222222,\"#7201a8\"],[0.3333333333333333,\"#9c179e\"],[0.4444444444444444,\"#bd3786\"],[0.5555555555555556,\"#d8576b\"],[0.6666666666666666,\"#ed7953\"],[0.7777777777777778,\"#fb9f3a\"],[0.8888888888888888,\"#fdca26\"],[1.0,\"#f0f921\"]]}],\"mesh3d\":[{\"type\":\"mesh3d\",\"colorbar\":{\"outlinewidth\":0,\"ticks\":\"\"}}],\"scatter\":[{\"fillpattern\":{\"fillmode\":\"overlay\",\"size\":10,\"solidity\":0.2},\"type\":\"scatter\"}],\"parcoords\":[{\"type\":\"parcoords\",\"line\":{\"colorbar\":{\"outlinewidth\":0,\"ticks\":\"\"}}}],\"scatterpolargl\":[{\"type\":\"scatterpolargl\",\"marker\":{\"colorbar\":{\"outlinewidth\":0,\"ticks\":\"\"}}}],\"bar\":[{\"error_x\":{\"color\":\"#2a3f5f\"},\"error_y\":{\"color\":\"#2a3f5f\"},\"marker\":{\"line\":{\"color\":\"#E5ECF6\",\"width\":0.5},\"pattern\":{\"fillmode\":\"overlay\",\"size\":10,\"solidity\":0.2}},\"type\":\"bar\"}],\"scattergeo\":[{\"type\":\"scattergeo\",\"marker\":{\"colorbar\":{\"outlinewidth\":0,\"ticks\":\"\"}}}],\"scatterpolar\":[{\"type\":\"scatterpolar\",\"marker\":{\"colorbar\":{\"outlinewidth\":0,\"ticks\":\"\"}}}],\"histogram\":[{\"marker\":{\"pattern\":{\"fillmode\":\"overlay\",\"size\":10,\"solidity\":0.2}},\"type\":\"histogram\"}],\"scattergl\":[{\"type\":\"scattergl\",\"marker\":{\"colorbar\":{\"outlinewidth\":0,\"ticks\":\"\"}}}],\"scatter3d\":[{\"type\":\"scatter3d\",\"line\":{\"colorbar\":{\"outlinewidth\":0,\"ticks\":\"\"}},\"marker\":{\"colorbar\":{\"outlinewidth\":0,\"ticks\":\"\"}}}],\"scattermapbox\":[{\"type\":\"scattermapbox\",\"marker\":{\"colorbar\":{\"outlinewidth\":0,\"ticks\":\"\"}}}],\"scatterternary\":[{\"type\":\"scatterternary\",\"marker\":{\"colorbar\":{\"outlinewidth\":0,\"ticks\":\"\"}}}],\"scattercarpet\":[{\"type\":\"scattercarpet\",\"marker\":{\"colorbar\":{\"outlinewidth\":0,\"ticks\":\"\"}}}],\"carpet\":[{\"aaxis\":{\"endlinecolor\":\"#2a3f5f\",\"gridcolor\":\"white\",\"linecolor\":\"white\",\"minorgridcolor\":\"white\",\"startlinecolor\":\"#2a3f5f\"},\"baxis\":{\"endlinecolor\":\"#2a3f5f\",\"gridcolor\":\"white\",\"linecolor\":\"white\",\"minorgridcolor\":\"white\",\"startlinecolor\":\"#2a3f5f\"},\"type\":\"carpet\"}],\"table\":[{\"cells\":{\"fill\":{\"color\":\"#EBF0F8\"},\"line\":{\"color\":\"white\"}},\"header\":{\"fill\":{\"color\":\"#C8D4E3\"},\"line\":{\"color\":\"white\"}},\"type\":\"table\"}],\"barpolar\":[{\"marker\":{\"line\":{\"color\":\"#E5ECF6\",\"width\":0.5},\"pattern\":{\"fillmode\":\"overlay\",\"size\":10,\"solidity\":0.2}},\"type\":\"barpolar\"}],\"pie\":[{\"automargin\":true,\"type\":\"pie\"}]},\"layout\":{\"autotypenumbers\":\"strict\",\"colorway\":[\"#636efa\",\"#EF553B\",\"#00cc96\",\"#ab63fa\",\"#FFA15A\",\"#19d3f3\",\"#FF6692\",\"#B6E880\",\"#FF97FF\",\"#FECB52\"],\"font\":{\"color\":\"#2a3f5f\"},\"hovermode\":\"closest\",\"hoverlabel\":{\"align\":\"left\"},\"paper_bgcolor\":\"white\",\"plot_bgcolor\":\"#E5ECF6\",\"polar\":{\"bgcolor\":\"#E5ECF6\",\"angularaxis\":{\"gridcolor\":\"white\",\"linecolor\":\"white\",\"ticks\":\"\"},\"radialaxis\":{\"gridcolor\":\"white\",\"linecolor\":\"white\",\"ticks\":\"\"}},\"ternary\":{\"bgcolor\":\"#E5ECF6\",\"aaxis\":{\"gridcolor\":\"white\",\"linecolor\":\"white\",\"ticks\":\"\"},\"baxis\":{\"gridcolor\":\"white\",\"linecolor\":\"white\",\"ticks\":\"\"},\"caxis\":{\"gridcolor\":\"white\",\"linecolor\":\"white\",\"ticks\":\"\"}},\"coloraxis\":{\"colorbar\":{\"outlinewidth\":0,\"ticks\":\"\"}},\"colorscale\":{\"sequential\":[[0.0,\"#0d0887\"],[0.1111111111111111,\"#46039f\"],[0.2222222222222222,\"#7201a8\"],[0.3333333333333333,\"#9c179e\"],[0.4444444444444444,\"#bd3786\"],[0.5555555555555556,\"#d8576b\"],[0.6666666666666666,\"#ed7953\"],[0.7777777777777778,\"#fb9f3a\"],[0.8888888888888888,\"#fdca26\"],[1.0,\"#f0f921\"]],\"sequentialminus\":[[0.0,\"#0d0887\"],[0.1111111111111111,\"#46039f\"],[0.2222222222222222,\"#7201a8\"],[0.3333333333333333,\"#9c179e\"],[0.4444444444444444,\"#bd3786\"],[0.5555555555555556,\"#d8576b\"],[0.6666666666666666,\"#ed7953\"],[0.7777777777777778,\"#fb9f3a\"],[0.8888888888888888,\"#fdca26\"],[1.0,\"#f0f921\"]],\"diverging\":[[0,\"#8e0152\"],[0.1,\"#c51b7d\"],[0.2,\"#de77ae\"],[0.3,\"#f1b6da\"],[0.4,\"#fde0ef\"],[0.5,\"#f7f7f7\"],[0.6,\"#e6f5d0\"],[0.7,\"#b8e186\"],[0.8,\"#7fbc41\"],[0.9,\"#4d9221\"],[1,\"#276419\"]]},\"xaxis\":{\"gridcolor\":\"white\",\"linecolor\":\"white\",\"ticks\":\"\",\"title\":{\"standoff\":15},\"zerolinecolor\":\"white\",\"automargin\":true,\"zerolinewidth\":2},\"yaxis\":{\"gridcolor\":\"white\",\"linecolor\":\"white\",\"ticks\":\"\",\"title\":{\"standoff\":15},\"zerolinecolor\":\"white\",\"automargin\":true,\"zerolinewidth\":2},\"scene\":{\"xaxis\":{\"backgroundcolor\":\"#E5ECF6\",\"gridcolor\":\"white\",\"linecolor\":\"white\",\"showbackground\":true,\"ticks\":\"\",\"zerolinecolor\":\"white\",\"gridwidth\":2},\"yaxis\":{\"backgroundcolor\":\"#E5ECF6\",\"gridcolor\":\"white\",\"linecolor\":\"white\",\"showbackground\":true,\"ticks\":\"\",\"zerolinecolor\":\"white\",\"gridwidth\":2},\"zaxis\":{\"backgroundcolor\":\"#E5ECF6\",\"gridcolor\":\"white\",\"linecolor\":\"white\",\"showbackground\":true,\"ticks\":\"\",\"zerolinecolor\":\"white\",\"gridwidth\":2}},\"shapedefaults\":{\"line\":{\"color\":\"#2a3f5f\"}},\"annotationdefaults\":{\"arrowcolor\":\"#2a3f5f\",\"arrowhead\":0,\"arrowwidth\":1},\"geo\":{\"bgcolor\":\"white\",\"landcolor\":\"#E5ECF6\",\"subunitcolor\":\"white\",\"showland\":true,\"showlakes\":true,\"lakecolor\":\"white\"},\"title\":{\"x\":0.05},\"mapbox\":{\"style\":\"light\"}}},\"xaxis\":{\"anchor\":\"y\",\"domain\":[0.0,0.49],\"title\":{\"text\":\"key\"},\"categoryorder\":\"array\",\"categoryarray\":[\"Stress Level\",\"Sleep Duration\"],\"showticklabels\":true},\"yaxis\":{\"anchor\":\"x\",\"domain\":[0.0,1.0],\"title\":{\"text\":\"value\"},\"showticklabels\":true},\"xaxis2\":{\"anchor\":\"y2\",\"domain\":[0.51,1.0],\"title\":{\"text\":\"key\"},\"categoryorder\":\"array\",\"categoryarray\":[\"Stress Level\",\"Sleep Duration\"],\"showticklabels\":true},\"yaxis2\":{\"anchor\":\"x2\",\"domain\":[0.0,1.0],\"showticklabels\":true},\"annotations\":[{\"font\":{},\"showarrow\":false,\"text\":\"key=Stress Level\",\"x\":0.245,\"xanchor\":\"center\",\"xref\":\"paper\",\"y\":1.0,\"yanchor\":\"bottom\",\"yref\":\"paper\"},{\"font\":{},\"showarrow\":false,\"text\":\"key=Sleep Duration\",\"x\":0.755,\"xanchor\":\"center\",\"xref\":\"paper\",\"y\":1.0,\"yanchor\":\"bottom\",\"yref\":\"paper\"}],\"legend\":{\"title\":{\"text\":\"Occupation\"},\"tracegroupgap\":0},\"margin\":{\"t\":60},\"boxmode\":\"group\"},                        {\"responsive\": true}                    ).then(function(){\n",
       "                            \n",
       "var gd = document.getElementById('7d0af22c-c503-4ea5-9cae-5e4662615dfb');\n",
       "var x = new MutationObserver(function (mutations, observer) {{\n",
       "        var display = window.getComputedStyle(gd).display;\n",
       "        if (!display || display === 'none') {{\n",
       "            console.log([gd, 'removed!']);\n",
       "            Plotly.purge(gd);\n",
       "            observer.disconnect();\n",
       "        }}\n",
       "}});\n",
       "\n",
       "// Listen for the removal of the full notebook cells\n",
       "var notebookContainer = gd.closest('#notebook-container');\n",
       "if (notebookContainer) {{\n",
       "    x.observe(notebookContainer, {childList: true});\n",
       "}}\n",
       "\n",
       "// Listen for the clearing of the current output cell\n",
       "var outputEl = gd.closest('.output');\n",
       "if (outputEl) {{\n",
       "    x.observe(outputEl, {childList: true});\n",
       "}}\n",
       "\n",
       "                        })                };                });            </script>        </div>"
      ]
     },
     "metadata": {},
     "output_type": "display_data"
    }
   ],
   "source": [
    "plotly_boxplot(data, [\"Stress Level\", \"Sleep Duration\"], \"Occupation\")"
   ]
  },
  {
   "cell_type": "code",
   "execution_count": 294,
   "id": "4d8f52e9-06b9-4852-991e-07d4e9560d04",
   "metadata": {},
   "outputs": [
    {
     "data": {
      "application/vnd.plotly.v1+json": {
       "config": {
        "plotlyServerURL": "https://plot.ly"
       },
       "data": [
        {
         "alignmentgroup": "True",
         "hovertemplate": "BMI Category=1<br>key=%{x}<br>value=%{y}<extra></extra>",
         "legendgroup": "1",
         "marker": {
          "color": "#636efa"
         },
         "name": "1",
         "notched": false,
         "offsetgroup": "1",
         "orientation": "v",
         "showlegend": true,
         "type": "box",
         "x": [
          "Stress Level",
          "Stress Level",
          "Stress Level",
          "Stress Level",
          "Stress Level",
          "Stress Level",
          "Stress Level",
          "Stress Level",
          "Stress Level",
          "Stress Level",
          "Stress Level",
          "Stress Level",
          "Stress Level",
          "Stress Level",
          "Stress Level",
          "Stress Level",
          "Stress Level",
          "Stress Level",
          "Stress Level",
          "Stress Level",
          "Stress Level",
          "Stress Level",
          "Stress Level",
          "Stress Level",
          "Stress Level",
          "Stress Level",
          "Stress Level",
          "Stress Level",
          "Stress Level",
          "Stress Level",
          "Stress Level",
          "Stress Level",
          "Stress Level",
          "Stress Level",
          "Stress Level",
          "Stress Level",
          "Stress Level",
          "Stress Level",
          "Stress Level",
          "Stress Level",
          "Stress Level",
          "Stress Level",
          "Stress Level",
          "Stress Level",
          "Stress Level",
          "Stress Level",
          "Stress Level",
          "Stress Level",
          "Stress Level",
          "Stress Level",
          "Stress Level",
          "Stress Level",
          "Stress Level",
          "Stress Level",
          "Stress Level",
          "Stress Level",
          "Stress Level",
          "Stress Level",
          "Stress Level",
          "Stress Level",
          "Stress Level",
          "Stress Level",
          "Stress Level",
          "Stress Level",
          "Stress Level",
          "Stress Level",
          "Stress Level",
          "Stress Level",
          "Stress Level",
          "Stress Level",
          "Stress Level",
          "Stress Level",
          "Stress Level",
          "Stress Level",
          "Stress Level",
          "Stress Level",
          "Stress Level",
          "Stress Level",
          "Stress Level",
          "Stress Level",
          "Stress Level",
          "Stress Level",
          "Stress Level",
          "Stress Level",
          "Stress Level",
          "Stress Level",
          "Stress Level",
          "Stress Level",
          "Stress Level",
          "Stress Level",
          "Stress Level",
          "Stress Level",
          "Stress Level",
          "Stress Level",
          "Stress Level",
          "Stress Level",
          "Stress Level",
          "Stress Level",
          "Stress Level",
          "Stress Level",
          "Stress Level",
          "Stress Level",
          "Stress Level",
          "Stress Level",
          "Stress Level",
          "Stress Level",
          "Stress Level",
          "Stress Level",
          "Stress Level",
          "Stress Level",
          "Stress Level",
          "Stress Level",
          "Stress Level",
          "Stress Level",
          "Stress Level",
          "Stress Level",
          "Stress Level",
          "Stress Level",
          "Stress Level",
          "Stress Level",
          "Stress Level",
          "Stress Level",
          "Stress Level",
          "Stress Level",
          "Stress Level",
          "Stress Level",
          "Stress Level",
          "Stress Level",
          "Stress Level",
          "Stress Level",
          "Stress Level",
          "Stress Level",
          "Stress Level",
          "Stress Level",
          "Stress Level",
          "Stress Level",
          "Stress Level",
          "Stress Level",
          "Stress Level",
          "Stress Level",
          "Stress Level",
          "Stress Level",
          "Stress Level",
          "Stress Level",
          "Stress Level",
          "Stress Level",
          "Stress Level",
          "Stress Level",
          "Stress Level",
          "Stress Level",
          "Stress Level",
          "Stress Level",
          "Stress Level",
          "Stress Level",
          "Stress Level",
          "Stress Level",
          "Stress Level",
          "Stress Level"
         ],
         "x0": " ",
         "xaxis": "x",
         "y": [
          6,
          8,
          8,
          8,
          7,
          6,
          6,
          8,
          8,
          5,
          5,
          5,
          7,
          7,
          6,
          5,
          7,
          6,
          6,
          7,
          7,
          7,
          4,
          7,
          4,
          7,
          4,
          7,
          7,
          7,
          7,
          7,
          7,
          7,
          7,
          7,
          7,
          4,
          7,
          4,
          7,
          7,
          7,
          4,
          7,
          4,
          7,
          4,
          7,
          4,
          7,
          4,
          7,
          4,
          7,
          7,
          4,
          7,
          7,
          4,
          7,
          7,
          4,
          7,
          4,
          7,
          7,
          7,
          7,
          6,
          6,
          4,
          4,
          4,
          4,
          4,
          4,
          4,
          4,
          4,
          4,
          4,
          5,
          5,
          8,
          5,
          8,
          8,
          8,
          8,
          8,
          8,
          8,
          8,
          8,
          3,
          3,
          8,
          8,
          8,
          8,
          8,
          8,
          8,
          8,
          8,
          8,
          8,
          8,
          8,
          8,
          8,
          8,
          8,
          8,
          8,
          8,
          8,
          8,
          7,
          7,
          7,
          7,
          7,
          7,
          4,
          4,
          3,
          3,
          3,
          3,
          3,
          3,
          3,
          3,
          3,
          3,
          3,
          3,
          3,
          3,
          3,
          3,
          3,
          3,
          3,
          3,
          3,
          3,
          3,
          3,
          3,
          3,
          3,
          3,
          3,
          3,
          3
         ],
         "y0": " ",
         "yaxis": "y"
        },
        {
         "alignmentgroup": "True",
         "hovertemplate": "BMI Category=1<br>key=%{x}<br>value=%{y}<extra></extra>",
         "legendgroup": "1",
         "marker": {
          "color": "#636efa"
         },
         "name": "1",
         "notched": false,
         "offsetgroup": "1",
         "orientation": "v",
         "showlegend": false,
         "type": "box",
         "x": [
          "Sleep Duration",
          "Sleep Duration",
          "Sleep Duration",
          "Sleep Duration",
          "Sleep Duration",
          "Sleep Duration",
          "Sleep Duration",
          "Sleep Duration",
          "Sleep Duration",
          "Sleep Duration",
          "Sleep Duration",
          "Sleep Duration",
          "Sleep Duration",
          "Sleep Duration",
          "Sleep Duration",
          "Sleep Duration",
          "Sleep Duration",
          "Sleep Duration",
          "Sleep Duration",
          "Sleep Duration",
          "Sleep Duration",
          "Sleep Duration",
          "Sleep Duration",
          "Sleep Duration",
          "Sleep Duration",
          "Sleep Duration",
          "Sleep Duration",
          "Sleep Duration",
          "Sleep Duration",
          "Sleep Duration",
          "Sleep Duration",
          "Sleep Duration",
          "Sleep Duration",
          "Sleep Duration",
          "Sleep Duration",
          "Sleep Duration",
          "Sleep Duration",
          "Sleep Duration",
          "Sleep Duration",
          "Sleep Duration",
          "Sleep Duration",
          "Sleep Duration",
          "Sleep Duration",
          "Sleep Duration",
          "Sleep Duration",
          "Sleep Duration",
          "Sleep Duration",
          "Sleep Duration",
          "Sleep Duration",
          "Sleep Duration",
          "Sleep Duration",
          "Sleep Duration",
          "Sleep Duration",
          "Sleep Duration",
          "Sleep Duration",
          "Sleep Duration",
          "Sleep Duration",
          "Sleep Duration",
          "Sleep Duration",
          "Sleep Duration",
          "Sleep Duration",
          "Sleep Duration",
          "Sleep Duration",
          "Sleep Duration",
          "Sleep Duration",
          "Sleep Duration",
          "Sleep Duration",
          "Sleep Duration",
          "Sleep Duration",
          "Sleep Duration",
          "Sleep Duration",
          "Sleep Duration",
          "Sleep Duration",
          "Sleep Duration",
          "Sleep Duration",
          "Sleep Duration",
          "Sleep Duration",
          "Sleep Duration",
          "Sleep Duration",
          "Sleep Duration",
          "Sleep Duration",
          "Sleep Duration",
          "Sleep Duration",
          "Sleep Duration",
          "Sleep Duration",
          "Sleep Duration",
          "Sleep Duration",
          "Sleep Duration",
          "Sleep Duration",
          "Sleep Duration",
          "Sleep Duration",
          "Sleep Duration",
          "Sleep Duration",
          "Sleep Duration",
          "Sleep Duration",
          "Sleep Duration",
          "Sleep Duration",
          "Sleep Duration",
          "Sleep Duration",
          "Sleep Duration",
          "Sleep Duration",
          "Sleep Duration",
          "Sleep Duration",
          "Sleep Duration",
          "Sleep Duration",
          "Sleep Duration",
          "Sleep Duration",
          "Sleep Duration",
          "Sleep Duration",
          "Sleep Duration",
          "Sleep Duration",
          "Sleep Duration",
          "Sleep Duration",
          "Sleep Duration",
          "Sleep Duration",
          "Sleep Duration",
          "Sleep Duration",
          "Sleep Duration",
          "Sleep Duration",
          "Sleep Duration",
          "Sleep Duration",
          "Sleep Duration",
          "Sleep Duration",
          "Sleep Duration",
          "Sleep Duration",
          "Sleep Duration",
          "Sleep Duration",
          "Sleep Duration",
          "Sleep Duration",
          "Sleep Duration",
          "Sleep Duration",
          "Sleep Duration",
          "Sleep Duration",
          "Sleep Duration",
          "Sleep Duration",
          "Sleep Duration",
          "Sleep Duration",
          "Sleep Duration",
          "Sleep Duration",
          "Sleep Duration",
          "Sleep Duration",
          "Sleep Duration",
          "Sleep Duration",
          "Sleep Duration",
          "Sleep Duration",
          "Sleep Duration",
          "Sleep Duration",
          "Sleep Duration",
          "Sleep Duration",
          "Sleep Duration",
          "Sleep Duration",
          "Sleep Duration",
          "Sleep Duration",
          "Sleep Duration",
          "Sleep Duration",
          "Sleep Duration",
          "Sleep Duration",
          "Sleep Duration"
         ],
         "x0": " ",
         "xaxis": "x2",
         "y": [
          6.1,
          5.9,
          5.9,
          5.9,
          6.3,
          6.2,
          6.2,
          5.8,
          5.8,
          6.7,
          6.7,
          7.4,
          6.6,
          6.6,
          6.1,
          7.4,
          6.5,
          7.1,
          7.1,
          6.5,
          6.8,
          6.8,
          6.7,
          6.3,
          6.7,
          6.5,
          6.7,
          6.4,
          6.5,
          6.5,
          6.5,
          6.5,
          6.5,
          6.5,
          6.5,
          6.5,
          6.5,
          7.6,
          6.5,
          6.6,
          6.4,
          6.3,
          6.4,
          6.6,
          6.3,
          6.6,
          6.3,
          6.6,
          6.3,
          6.6,
          6.3,
          6.6,
          6.3,
          6.6,
          6.3,
          6.4,
          6.5,
          6.3,
          6.4,
          6.5,
          6.3,
          6.4,
          6.5,
          6.3,
          6.5,
          6.3,
          6.8,
          6.4,
          6.5,
          6.8,
          6.8,
          6.5,
          6.5,
          6.5,
          6.5,
          6.6,
          6.6,
          6.6,
          6.6,
          6.6,
          6.6,
          6.6,
          6.9,
          7.3,
          5.9,
          7.3,
          6.2,
          6,
          6.1,
          6.1,
          6.1,
          6.1,
          6.2,
          6.2,
          6.2,
          8.1,
          8.1,
          6.1,
          6,
          6.1,
          6,
          6,
          6,
          6,
          6,
          6,
          6,
          6.1,
          6,
          6.1,
          6.1,
          6,
          6.1,
          6,
          6.1,
          6.1,
          6,
          6.1,
          6.1,
          6.5,
          6.5,
          6.6,
          6.6,
          6.6,
          6.6,
          8.1,
          8.1,
          8.1,
          8.2,
          8.2,
          8.2,
          8.2,
          8.2,
          8.1,
          8.1,
          8.1,
          8,
          8,
          8,
          8,
          8,
          8,
          8,
          8.1,
          8.2,
          8.2,
          8.2,
          8.2,
          8,
          8,
          8.1,
          8,
          8.1,
          8.1,
          8,
          8.1,
          8.1,
          8.1
         ],
         "y0": " ",
         "yaxis": "y2"
        },
        {
         "alignmentgroup": "True",
         "hovertemplate": "BMI Category=0<br>key=%{x}<br>value=%{y}<extra></extra>",
         "legendgroup": "0",
         "marker": {
          "color": "#EF553B"
         },
         "name": "0",
         "notched": false,
         "offsetgroup": "0",
         "orientation": "v",
         "showlegend": true,
         "type": "box",
         "x": [
          "Stress Level",
          "Stress Level",
          "Stress Level",
          "Stress Level",
          "Stress Level",
          "Stress Level",
          "Stress Level",
          "Stress Level",
          "Stress Level",
          "Stress Level",
          "Stress Level",
          "Stress Level",
          "Stress Level",
          "Stress Level",
          "Stress Level",
          "Stress Level",
          "Stress Level",
          "Stress Level",
          "Stress Level",
          "Stress Level",
          "Stress Level",
          "Stress Level",
          "Stress Level",
          "Stress Level",
          "Stress Level",
          "Stress Level",
          "Stress Level",
          "Stress Level",
          "Stress Level",
          "Stress Level",
          "Stress Level",
          "Stress Level",
          "Stress Level",
          "Stress Level",
          "Stress Level",
          "Stress Level",
          "Stress Level",
          "Stress Level",
          "Stress Level",
          "Stress Level",
          "Stress Level",
          "Stress Level",
          "Stress Level",
          "Stress Level",
          "Stress Level",
          "Stress Level",
          "Stress Level",
          "Stress Level",
          "Stress Level",
          "Stress Level",
          "Stress Level",
          "Stress Level",
          "Stress Level",
          "Stress Level",
          "Stress Level",
          "Stress Level",
          "Stress Level",
          "Stress Level",
          "Stress Level",
          "Stress Level",
          "Stress Level",
          "Stress Level",
          "Stress Level",
          "Stress Level",
          "Stress Level",
          "Stress Level",
          "Stress Level",
          "Stress Level",
          "Stress Level",
          "Stress Level",
          "Stress Level",
          "Stress Level",
          "Stress Level",
          "Stress Level",
          "Stress Level",
          "Stress Level",
          "Stress Level",
          "Stress Level",
          "Stress Level",
          "Stress Level",
          "Stress Level",
          "Stress Level",
          "Stress Level",
          "Stress Level",
          "Stress Level",
          "Stress Level",
          "Stress Level",
          "Stress Level",
          "Stress Level",
          "Stress Level",
          "Stress Level",
          "Stress Level",
          "Stress Level",
          "Stress Level",
          "Stress Level",
          "Stress Level",
          "Stress Level",
          "Stress Level",
          "Stress Level",
          "Stress Level",
          "Stress Level",
          "Stress Level",
          "Stress Level",
          "Stress Level",
          "Stress Level",
          "Stress Level",
          "Stress Level",
          "Stress Level",
          "Stress Level",
          "Stress Level",
          "Stress Level",
          "Stress Level",
          "Stress Level",
          "Stress Level",
          "Stress Level",
          "Stress Level",
          "Stress Level",
          "Stress Level",
          "Stress Level",
          "Stress Level",
          "Stress Level",
          "Stress Level",
          "Stress Level",
          "Stress Level",
          "Stress Level",
          "Stress Level",
          "Stress Level",
          "Stress Level",
          "Stress Level",
          "Stress Level",
          "Stress Level",
          "Stress Level",
          "Stress Level",
          "Stress Level",
          "Stress Level",
          "Stress Level",
          "Stress Level",
          "Stress Level",
          "Stress Level",
          "Stress Level",
          "Stress Level",
          "Stress Level",
          "Stress Level",
          "Stress Level",
          "Stress Level",
          "Stress Level",
          "Stress Level",
          "Stress Level",
          "Stress Level",
          "Stress Level",
          "Stress Level",
          "Stress Level",
          "Stress Level",
          "Stress Level",
          "Stress Level",
          "Stress Level",
          "Stress Level",
          "Stress Level",
          "Stress Level",
          "Stress Level",
          "Stress Level",
          "Stress Level",
          "Stress Level",
          "Stress Level",
          "Stress Level",
          "Stress Level",
          "Stress Level",
          "Stress Level",
          "Stress Level",
          "Stress Level",
          "Stress Level",
          "Stress Level",
          "Stress Level",
          "Stress Level",
          "Stress Level",
          "Stress Level",
          "Stress Level",
          "Stress Level",
          "Stress Level",
          "Stress Level",
          "Stress Level",
          "Stress Level",
          "Stress Level",
          "Stress Level",
          "Stress Level",
          "Stress Level",
          "Stress Level",
          "Stress Level",
          "Stress Level",
          "Stress Level",
          "Stress Level",
          "Stress Level",
          "Stress Level",
          "Stress Level",
          "Stress Level",
          "Stress Level",
          "Stress Level",
          "Stress Level",
          "Stress Level",
          "Stress Level",
          "Stress Level",
          "Stress Level",
          "Stress Level",
          "Stress Level",
          "Stress Level",
          "Stress Level",
          "Stress Level",
          "Stress Level",
          "Stress Level",
          "Stress Level",
          "Stress Level",
          "Stress Level",
          "Stress Level",
          "Stress Level",
          "Stress Level",
          "Stress Level"
         ],
         "x0": " ",
         "xaxis": "x",
         "y": [
          8,
          8,
          6,
          6,
          6,
          8,
          6,
          8,
          8,
          8,
          8,
          7,
          8,
          7,
          6,
          6,
          6,
          6,
          6,
          6,
          6,
          6,
          6,
          6,
          6,
          7,
          7,
          4,
          8,
          6,
          8,
          8,
          6,
          6,
          6,
          6,
          6,
          6,
          6,
          6,
          6,
          6,
          6,
          6,
          6,
          3,
          3,
          8,
          6,
          8,
          8,
          6,
          8,
          8,
          6,
          8,
          8,
          8,
          8,
          8,
          8,
          6,
          8,
          8,
          8,
          8,
          8,
          8,
          8,
          8,
          8,
          8,
          8,
          5,
          4,
          4,
          4,
          4,
          4,
          4,
          4,
          5,
          4,
          4,
          4,
          4,
          4,
          4,
          4,
          4,
          4,
          4,
          4,
          4,
          5,
          4,
          5,
          4,
          5,
          4,
          4,
          4,
          4,
          4,
          4,
          4,
          4,
          4,
          4,
          4,
          4,
          5,
          4,
          5,
          5,
          4,
          5,
          5,
          4,
          5,
          5,
          4,
          5,
          4,
          5,
          4,
          5,
          4,
          4,
          5,
          5,
          6,
          3,
          3,
          5,
          5,
          5,
          5,
          5,
          5,
          5,
          5,
          5,
          5,
          6,
          6,
          5,
          5,
          5,
          6,
          5,
          5,
          5,
          5,
          5,
          5,
          5,
          5,
          5,
          5,
          5,
          5,
          5,
          5,
          5,
          5,
          7,
          5,
          5,
          5,
          5,
          5,
          5,
          5,
          5,
          5,
          5,
          5,
          5,
          5,
          5,
          3,
          3,
          3,
          3,
          3,
          6,
          3,
          3,
          3,
          3,
          3,
          3,
          3,
          3,
          3,
          3,
          3,
          3,
          3,
          3,
          3,
          3,
          3,
          3,
          3,
          3,
          3,
          3,
          3,
          3,
          3,
          3,
          3,
          3,
          3
         ],
         "y0": " ",
         "yaxis": "y"
        },
        {
         "alignmentgroup": "True",
         "hovertemplate": "BMI Category=0<br>key=%{x}<br>value=%{y}<extra></extra>",
         "legendgroup": "0",
         "marker": {
          "color": "#EF553B"
         },
         "name": "0",
         "notched": false,
         "offsetgroup": "0",
         "orientation": "v",
         "showlegend": false,
         "type": "box",
         "x": [
          "Sleep Duration",
          "Sleep Duration",
          "Sleep Duration",
          "Sleep Duration",
          "Sleep Duration",
          "Sleep Duration",
          "Sleep Duration",
          "Sleep Duration",
          "Sleep Duration",
          "Sleep Duration",
          "Sleep Duration",
          "Sleep Duration",
          "Sleep Duration",
          "Sleep Duration",
          "Sleep Duration",
          "Sleep Duration",
          "Sleep Duration",
          "Sleep Duration",
          "Sleep Duration",
          "Sleep Duration",
          "Sleep Duration",
          "Sleep Duration",
          "Sleep Duration",
          "Sleep Duration",
          "Sleep Duration",
          "Sleep Duration",
          "Sleep Duration",
          "Sleep Duration",
          "Sleep Duration",
          "Sleep Duration",
          "Sleep Duration",
          "Sleep Duration",
          "Sleep Duration",
          "Sleep Duration",
          "Sleep Duration",
          "Sleep Duration",
          "Sleep Duration",
          "Sleep Duration",
          "Sleep Duration",
          "Sleep Duration",
          "Sleep Duration",
          "Sleep Duration",
          "Sleep Duration",
          "Sleep Duration",
          "Sleep Duration",
          "Sleep Duration",
          "Sleep Duration",
          "Sleep Duration",
          "Sleep Duration",
          "Sleep Duration",
          "Sleep Duration",
          "Sleep Duration",
          "Sleep Duration",
          "Sleep Duration",
          "Sleep Duration",
          "Sleep Duration",
          "Sleep Duration",
          "Sleep Duration",
          "Sleep Duration",
          "Sleep Duration",
          "Sleep Duration",
          "Sleep Duration",
          "Sleep Duration",
          "Sleep Duration",
          "Sleep Duration",
          "Sleep Duration",
          "Sleep Duration",
          "Sleep Duration",
          "Sleep Duration",
          "Sleep Duration",
          "Sleep Duration",
          "Sleep Duration",
          "Sleep Duration",
          "Sleep Duration",
          "Sleep Duration",
          "Sleep Duration",
          "Sleep Duration",
          "Sleep Duration",
          "Sleep Duration",
          "Sleep Duration",
          "Sleep Duration",
          "Sleep Duration",
          "Sleep Duration",
          "Sleep Duration",
          "Sleep Duration",
          "Sleep Duration",
          "Sleep Duration",
          "Sleep Duration",
          "Sleep Duration",
          "Sleep Duration",
          "Sleep Duration",
          "Sleep Duration",
          "Sleep Duration",
          "Sleep Duration",
          "Sleep Duration",
          "Sleep Duration",
          "Sleep Duration",
          "Sleep Duration",
          "Sleep Duration",
          "Sleep Duration",
          "Sleep Duration",
          "Sleep Duration",
          "Sleep Duration",
          "Sleep Duration",
          "Sleep Duration",
          "Sleep Duration",
          "Sleep Duration",
          "Sleep Duration",
          "Sleep Duration",
          "Sleep Duration",
          "Sleep Duration",
          "Sleep Duration",
          "Sleep Duration",
          "Sleep Duration",
          "Sleep Duration",
          "Sleep Duration",
          "Sleep Duration",
          "Sleep Duration",
          "Sleep Duration",
          "Sleep Duration",
          "Sleep Duration",
          "Sleep Duration",
          "Sleep Duration",
          "Sleep Duration",
          "Sleep Duration",
          "Sleep Duration",
          "Sleep Duration",
          "Sleep Duration",
          "Sleep Duration",
          "Sleep Duration",
          "Sleep Duration",
          "Sleep Duration",
          "Sleep Duration",
          "Sleep Duration",
          "Sleep Duration",
          "Sleep Duration",
          "Sleep Duration",
          "Sleep Duration",
          "Sleep Duration",
          "Sleep Duration",
          "Sleep Duration",
          "Sleep Duration",
          "Sleep Duration",
          "Sleep Duration",
          "Sleep Duration",
          "Sleep Duration",
          "Sleep Duration",
          "Sleep Duration",
          "Sleep Duration",
          "Sleep Duration",
          "Sleep Duration",
          "Sleep Duration",
          "Sleep Duration",
          "Sleep Duration",
          "Sleep Duration",
          "Sleep Duration",
          "Sleep Duration",
          "Sleep Duration",
          "Sleep Duration",
          "Sleep Duration",
          "Sleep Duration",
          "Sleep Duration",
          "Sleep Duration",
          "Sleep Duration",
          "Sleep Duration",
          "Sleep Duration",
          "Sleep Duration",
          "Sleep Duration",
          "Sleep Duration",
          "Sleep Duration",
          "Sleep Duration",
          "Sleep Duration",
          "Sleep Duration",
          "Sleep Duration",
          "Sleep Duration",
          "Sleep Duration",
          "Sleep Duration",
          "Sleep Duration",
          "Sleep Duration",
          "Sleep Duration",
          "Sleep Duration",
          "Sleep Duration",
          "Sleep Duration",
          "Sleep Duration",
          "Sleep Duration",
          "Sleep Duration",
          "Sleep Duration",
          "Sleep Duration",
          "Sleep Duration",
          "Sleep Duration",
          "Sleep Duration",
          "Sleep Duration",
          "Sleep Duration",
          "Sleep Duration",
          "Sleep Duration",
          "Sleep Duration",
          "Sleep Duration",
          "Sleep Duration",
          "Sleep Duration",
          "Sleep Duration",
          "Sleep Duration",
          "Sleep Duration",
          "Sleep Duration",
          "Sleep Duration",
          "Sleep Duration",
          "Sleep Duration",
          "Sleep Duration",
          "Sleep Duration",
          "Sleep Duration",
          "Sleep Duration",
          "Sleep Duration",
          "Sleep Duration",
          "Sleep Duration",
          "Sleep Duration",
          "Sleep Duration",
          "Sleep Duration"
         ],
         "x0": " ",
         "xaxis": "x2",
         "y": [
          6.2,
          6.2,
          7.8,
          7.8,
          7.8,
          6.1,
          7.8,
          6.1,
          6,
          6,
          6,
          6.5,
          6,
          6.5,
          7.6,
          7.7,
          7.7,
          7.7,
          7.7,
          7.8,
          7.9,
          7.8,
          7.9,
          7.9,
          7.9,
          6.4,
          6.4,
          7.9,
          6.1,
          7.7,
          6.1,
          6.1,
          7.6,
          7.6,
          7.6,
          7.7,
          7.7,
          7.7,
          7.8,
          7.7,
          7.8,
          7.7,
          7.8,
          7.7,
          7.7,
          7.5,
          7.5,
          6,
          7.6,
          6,
          6,
          7.7,
          6,
          6,
          7.7,
          6,
          6,
          6.2,
          6.2,
          6.2,
          6.2,
          7.2,
          6,
          6.1,
          6.1,
          6.1,
          6.1,
          6,
          6,
          6,
          6,
          6,
          6,
          7.5,
          7.2,
          7.2,
          7.2,
          7.3,
          7.3,
          7.3,
          7.3,
          7.5,
          7.2,
          7.1,
          7.2,
          7.1,
          7.1,
          7.1,
          7.2,
          7.2,
          7.2,
          7.2,
          7.8,
          7.8,
          7.4,
          7.2,
          7.4,
          7.2,
          7.4,
          7.2,
          7.2,
          7.2,
          7.2,
          7.2,
          7.2,
          7.2,
          7.2,
          7.2,
          7.2,
          7.2,
          7.5,
          7.3,
          7.1,
          7.3,
          7.3,
          7.1,
          7.3,
          7.3,
          7.1,
          7.3,
          7.3,
          7.1,
          7.1,
          7.1,
          7.1,
          7.1,
          7.1,
          7.1,
          7.1,
          7.1,
          7.2,
          6.9,
          8,
          8,
          7.2,
          7.2,
          7.2,
          7.2,
          7.2,
          7.2,
          7.2,
          7.2,
          7.2,
          7.2,
          7.2,
          7.2,
          7.9,
          7.9,
          7.6,
          7.3,
          7.7,
          7.7,
          7.7,
          7.7,
          7.7,
          7.6,
          7.6,
          7.6,
          7.8,
          7.8,
          7.8,
          7.8,
          7.8,
          7.8,
          7.8,
          7.8,
          6.9,
          7.7,
          7.7,
          7.7,
          7.7,
          7.8,
          7.7,
          7.8,
          7.8,
          7.8,
          7.8,
          7.8,
          7.8,
          7.8,
          7.8,
          8.3,
          8.5,
          8.5,
          8.5,
          8.5,
          7.1,
          8.4,
          8.4,
          8.4,
          8.3,
          8.5,
          8.5,
          8.4,
          8.4,
          8.5,
          8.4,
          8.4,
          8.5,
          8.3,
          8.5,
          8.3,
          8.5,
          8.3,
          8.5,
          8.5,
          8.4,
          8.4,
          8.4,
          8.4,
          8.4,
          8.4,
          8.4,
          8.5,
          8.2,
          8.2
         ],
         "y0": " ",
         "yaxis": "y2"
        }
       ],
       "layout": {
        "annotations": [
         {
          "font": {},
          "showarrow": false,
          "text": "key=Stress Level",
          "x": 0.245,
          "xanchor": "center",
          "xref": "paper",
          "y": 1,
          "yanchor": "bottom",
          "yref": "paper"
         },
         {
          "font": {},
          "showarrow": false,
          "text": "key=Sleep Duration",
          "x": 0.755,
          "xanchor": "center",
          "xref": "paper",
          "y": 1,
          "yanchor": "bottom",
          "yref": "paper"
         }
        ],
        "autosize": true,
        "boxmode": "group",
        "legend": {
         "title": {
          "text": "BMI Category"
         },
         "tracegroupgap": 0
        },
        "margin": {
         "t": 60
        },
        "template": {
         "data": {
          "bar": [
           {
            "error_x": {
             "color": "#2a3f5f"
            },
            "error_y": {
             "color": "#2a3f5f"
            },
            "marker": {
             "line": {
              "color": "#E5ECF6",
              "width": 0.5
             },
             "pattern": {
              "fillmode": "overlay",
              "size": 10,
              "solidity": 0.2
             }
            },
            "type": "bar"
           }
          ],
          "barpolar": [
           {
            "marker": {
             "line": {
              "color": "#E5ECF6",
              "width": 0.5
             },
             "pattern": {
              "fillmode": "overlay",
              "size": 10,
              "solidity": 0.2
             }
            },
            "type": "barpolar"
           }
          ],
          "carpet": [
           {
            "aaxis": {
             "endlinecolor": "#2a3f5f",
             "gridcolor": "white",
             "linecolor": "white",
             "minorgridcolor": "white",
             "startlinecolor": "#2a3f5f"
            },
            "baxis": {
             "endlinecolor": "#2a3f5f",
             "gridcolor": "white",
             "linecolor": "white",
             "minorgridcolor": "white",
             "startlinecolor": "#2a3f5f"
            },
            "type": "carpet"
           }
          ],
          "choropleth": [
           {
            "colorbar": {
             "outlinewidth": 0,
             "ticks": ""
            },
            "type": "choropleth"
           }
          ],
          "contour": [
           {
            "colorbar": {
             "outlinewidth": 0,
             "ticks": ""
            },
            "colorscale": [
             [
              0,
              "#0d0887"
             ],
             [
              0.1111111111111111,
              "#46039f"
             ],
             [
              0.2222222222222222,
              "#7201a8"
             ],
             [
              0.3333333333333333,
              "#9c179e"
             ],
             [
              0.4444444444444444,
              "#bd3786"
             ],
             [
              0.5555555555555556,
              "#d8576b"
             ],
             [
              0.6666666666666666,
              "#ed7953"
             ],
             [
              0.7777777777777778,
              "#fb9f3a"
             ],
             [
              0.8888888888888888,
              "#fdca26"
             ],
             [
              1,
              "#f0f921"
             ]
            ],
            "type": "contour"
           }
          ],
          "contourcarpet": [
           {
            "colorbar": {
             "outlinewidth": 0,
             "ticks": ""
            },
            "type": "contourcarpet"
           }
          ],
          "heatmap": [
           {
            "colorbar": {
             "outlinewidth": 0,
             "ticks": ""
            },
            "colorscale": [
             [
              0,
              "#0d0887"
             ],
             [
              0.1111111111111111,
              "#46039f"
             ],
             [
              0.2222222222222222,
              "#7201a8"
             ],
             [
              0.3333333333333333,
              "#9c179e"
             ],
             [
              0.4444444444444444,
              "#bd3786"
             ],
             [
              0.5555555555555556,
              "#d8576b"
             ],
             [
              0.6666666666666666,
              "#ed7953"
             ],
             [
              0.7777777777777778,
              "#fb9f3a"
             ],
             [
              0.8888888888888888,
              "#fdca26"
             ],
             [
              1,
              "#f0f921"
             ]
            ],
            "type": "heatmap"
           }
          ],
          "heatmapgl": [
           {
            "colorbar": {
             "outlinewidth": 0,
             "ticks": ""
            },
            "colorscale": [
             [
              0,
              "#0d0887"
             ],
             [
              0.1111111111111111,
              "#46039f"
             ],
             [
              0.2222222222222222,
              "#7201a8"
             ],
             [
              0.3333333333333333,
              "#9c179e"
             ],
             [
              0.4444444444444444,
              "#bd3786"
             ],
             [
              0.5555555555555556,
              "#d8576b"
             ],
             [
              0.6666666666666666,
              "#ed7953"
             ],
             [
              0.7777777777777778,
              "#fb9f3a"
             ],
             [
              0.8888888888888888,
              "#fdca26"
             ],
             [
              1,
              "#f0f921"
             ]
            ],
            "type": "heatmapgl"
           }
          ],
          "histogram": [
           {
            "marker": {
             "pattern": {
              "fillmode": "overlay",
              "size": 10,
              "solidity": 0.2
             }
            },
            "type": "histogram"
           }
          ],
          "histogram2d": [
           {
            "colorbar": {
             "outlinewidth": 0,
             "ticks": ""
            },
            "colorscale": [
             [
              0,
              "#0d0887"
             ],
             [
              0.1111111111111111,
              "#46039f"
             ],
             [
              0.2222222222222222,
              "#7201a8"
             ],
             [
              0.3333333333333333,
              "#9c179e"
             ],
             [
              0.4444444444444444,
              "#bd3786"
             ],
             [
              0.5555555555555556,
              "#d8576b"
             ],
             [
              0.6666666666666666,
              "#ed7953"
             ],
             [
              0.7777777777777778,
              "#fb9f3a"
             ],
             [
              0.8888888888888888,
              "#fdca26"
             ],
             [
              1,
              "#f0f921"
             ]
            ],
            "type": "histogram2d"
           }
          ],
          "histogram2dcontour": [
           {
            "colorbar": {
             "outlinewidth": 0,
             "ticks": ""
            },
            "colorscale": [
             [
              0,
              "#0d0887"
             ],
             [
              0.1111111111111111,
              "#46039f"
             ],
             [
              0.2222222222222222,
              "#7201a8"
             ],
             [
              0.3333333333333333,
              "#9c179e"
             ],
             [
              0.4444444444444444,
              "#bd3786"
             ],
             [
              0.5555555555555556,
              "#d8576b"
             ],
             [
              0.6666666666666666,
              "#ed7953"
             ],
             [
              0.7777777777777778,
              "#fb9f3a"
             ],
             [
              0.8888888888888888,
              "#fdca26"
             ],
             [
              1,
              "#f0f921"
             ]
            ],
            "type": "histogram2dcontour"
           }
          ],
          "mesh3d": [
           {
            "colorbar": {
             "outlinewidth": 0,
             "ticks": ""
            },
            "type": "mesh3d"
           }
          ],
          "parcoords": [
           {
            "line": {
             "colorbar": {
              "outlinewidth": 0,
              "ticks": ""
             }
            },
            "type": "parcoords"
           }
          ],
          "pie": [
           {
            "automargin": true,
            "type": "pie"
           }
          ],
          "scatter": [
           {
            "fillpattern": {
             "fillmode": "overlay",
             "size": 10,
             "solidity": 0.2
            },
            "type": "scatter"
           }
          ],
          "scatter3d": [
           {
            "line": {
             "colorbar": {
              "outlinewidth": 0,
              "ticks": ""
             }
            },
            "marker": {
             "colorbar": {
              "outlinewidth": 0,
              "ticks": ""
             }
            },
            "type": "scatter3d"
           }
          ],
          "scattercarpet": [
           {
            "marker": {
             "colorbar": {
              "outlinewidth": 0,
              "ticks": ""
             }
            },
            "type": "scattercarpet"
           }
          ],
          "scattergeo": [
           {
            "marker": {
             "colorbar": {
              "outlinewidth": 0,
              "ticks": ""
             }
            },
            "type": "scattergeo"
           }
          ],
          "scattergl": [
           {
            "marker": {
             "colorbar": {
              "outlinewidth": 0,
              "ticks": ""
             }
            },
            "type": "scattergl"
           }
          ],
          "scattermapbox": [
           {
            "marker": {
             "colorbar": {
              "outlinewidth": 0,
              "ticks": ""
             }
            },
            "type": "scattermapbox"
           }
          ],
          "scatterpolar": [
           {
            "marker": {
             "colorbar": {
              "outlinewidth": 0,
              "ticks": ""
             }
            },
            "type": "scatterpolar"
           }
          ],
          "scatterpolargl": [
           {
            "marker": {
             "colorbar": {
              "outlinewidth": 0,
              "ticks": ""
             }
            },
            "type": "scatterpolargl"
           }
          ],
          "scatterternary": [
           {
            "marker": {
             "colorbar": {
              "outlinewidth": 0,
              "ticks": ""
             }
            },
            "type": "scatterternary"
           }
          ],
          "surface": [
           {
            "colorbar": {
             "outlinewidth": 0,
             "ticks": ""
            },
            "colorscale": [
             [
              0,
              "#0d0887"
             ],
             [
              0.1111111111111111,
              "#46039f"
             ],
             [
              0.2222222222222222,
              "#7201a8"
             ],
             [
              0.3333333333333333,
              "#9c179e"
             ],
             [
              0.4444444444444444,
              "#bd3786"
             ],
             [
              0.5555555555555556,
              "#d8576b"
             ],
             [
              0.6666666666666666,
              "#ed7953"
             ],
             [
              0.7777777777777778,
              "#fb9f3a"
             ],
             [
              0.8888888888888888,
              "#fdca26"
             ],
             [
              1,
              "#f0f921"
             ]
            ],
            "type": "surface"
           }
          ],
          "table": [
           {
            "cells": {
             "fill": {
              "color": "#EBF0F8"
             },
             "line": {
              "color": "white"
             }
            },
            "header": {
             "fill": {
              "color": "#C8D4E3"
             },
             "line": {
              "color": "white"
             }
            },
            "type": "table"
           }
          ]
         },
         "layout": {
          "annotationdefaults": {
           "arrowcolor": "#2a3f5f",
           "arrowhead": 0,
           "arrowwidth": 1
          },
          "autotypenumbers": "strict",
          "coloraxis": {
           "colorbar": {
            "outlinewidth": 0,
            "ticks": ""
           }
          },
          "colorscale": {
           "diverging": [
            [
             0,
             "#8e0152"
            ],
            [
             0.1,
             "#c51b7d"
            ],
            [
             0.2,
             "#de77ae"
            ],
            [
             0.3,
             "#f1b6da"
            ],
            [
             0.4,
             "#fde0ef"
            ],
            [
             0.5,
             "#f7f7f7"
            ],
            [
             0.6,
             "#e6f5d0"
            ],
            [
             0.7,
             "#b8e186"
            ],
            [
             0.8,
             "#7fbc41"
            ],
            [
             0.9,
             "#4d9221"
            ],
            [
             1,
             "#276419"
            ]
           ],
           "sequential": [
            [
             0,
             "#0d0887"
            ],
            [
             0.1111111111111111,
             "#46039f"
            ],
            [
             0.2222222222222222,
             "#7201a8"
            ],
            [
             0.3333333333333333,
             "#9c179e"
            ],
            [
             0.4444444444444444,
             "#bd3786"
            ],
            [
             0.5555555555555556,
             "#d8576b"
            ],
            [
             0.6666666666666666,
             "#ed7953"
            ],
            [
             0.7777777777777778,
             "#fb9f3a"
            ],
            [
             0.8888888888888888,
             "#fdca26"
            ],
            [
             1,
             "#f0f921"
            ]
           ],
           "sequentialminus": [
            [
             0,
             "#0d0887"
            ],
            [
             0.1111111111111111,
             "#46039f"
            ],
            [
             0.2222222222222222,
             "#7201a8"
            ],
            [
             0.3333333333333333,
             "#9c179e"
            ],
            [
             0.4444444444444444,
             "#bd3786"
            ],
            [
             0.5555555555555556,
             "#d8576b"
            ],
            [
             0.6666666666666666,
             "#ed7953"
            ],
            [
             0.7777777777777778,
             "#fb9f3a"
            ],
            [
             0.8888888888888888,
             "#fdca26"
            ],
            [
             1,
             "#f0f921"
            ]
           ]
          },
          "colorway": [
           "#636efa",
           "#EF553B",
           "#00cc96",
           "#ab63fa",
           "#FFA15A",
           "#19d3f3",
           "#FF6692",
           "#B6E880",
           "#FF97FF",
           "#FECB52"
          ],
          "font": {
           "color": "#2a3f5f"
          },
          "geo": {
           "bgcolor": "white",
           "lakecolor": "white",
           "landcolor": "#E5ECF6",
           "showlakes": true,
           "showland": true,
           "subunitcolor": "white"
          },
          "hoverlabel": {
           "align": "left"
          },
          "hovermode": "closest",
          "mapbox": {
           "style": "light"
          },
          "paper_bgcolor": "white",
          "plot_bgcolor": "#E5ECF6",
          "polar": {
           "angularaxis": {
            "gridcolor": "white",
            "linecolor": "white",
            "ticks": ""
           },
           "bgcolor": "#E5ECF6",
           "radialaxis": {
            "gridcolor": "white",
            "linecolor": "white",
            "ticks": ""
           }
          },
          "scene": {
           "xaxis": {
            "backgroundcolor": "#E5ECF6",
            "gridcolor": "white",
            "gridwidth": 2,
            "linecolor": "white",
            "showbackground": true,
            "ticks": "",
            "zerolinecolor": "white"
           },
           "yaxis": {
            "backgroundcolor": "#E5ECF6",
            "gridcolor": "white",
            "gridwidth": 2,
            "linecolor": "white",
            "showbackground": true,
            "ticks": "",
            "zerolinecolor": "white"
           },
           "zaxis": {
            "backgroundcolor": "#E5ECF6",
            "gridcolor": "white",
            "gridwidth": 2,
            "linecolor": "white",
            "showbackground": true,
            "ticks": "",
            "zerolinecolor": "white"
           }
          },
          "shapedefaults": {
           "line": {
            "color": "#2a3f5f"
           }
          },
          "ternary": {
           "aaxis": {
            "gridcolor": "white",
            "linecolor": "white",
            "ticks": ""
           },
           "baxis": {
            "gridcolor": "white",
            "linecolor": "white",
            "ticks": ""
           },
           "bgcolor": "#E5ECF6",
           "caxis": {
            "gridcolor": "white",
            "linecolor": "white",
            "ticks": ""
           }
          },
          "title": {
           "x": 0.05
          },
          "xaxis": {
           "automargin": true,
           "gridcolor": "white",
           "linecolor": "white",
           "ticks": "",
           "title": {
            "standoff": 15
           },
           "zerolinecolor": "white",
           "zerolinewidth": 2
          },
          "yaxis": {
           "automargin": true,
           "gridcolor": "white",
           "linecolor": "white",
           "ticks": "",
           "title": {
            "standoff": 15
           },
           "zerolinecolor": "white",
           "zerolinewidth": 2
          }
         }
        },
        "xaxis": {
         "anchor": "y",
         "autorange": true,
         "categoryarray": [
          "Stress Level",
          "Sleep Duration"
         ],
         "categoryorder": "array",
         "domain": [
          0,
          0.49
         ],
         "range": [
          -0.5,
          0.5
         ],
         "showticklabels": true,
         "title": {
          "text": "key"
         },
         "type": "category"
        },
        "xaxis2": {
         "anchor": "y2",
         "autorange": true,
         "categoryarray": [
          "Stress Level",
          "Sleep Duration"
         ],
         "categoryorder": "array",
         "domain": [
          0.51,
          1
         ],
         "range": [
          0.49304863637416874,
          1.5069513636258314
         ],
         "showticklabels": true,
         "title": {
          "text": "key"
         },
         "type": "category"
        },
        "yaxis": {
         "anchor": "x",
         "autorange": true,
         "domain": [
          0,
          1
         ],
         "range": [
          2.7222222222222223,
          8.277777777777779
         ],
         "showticklabels": true,
         "title": {
          "text": "value"
         },
         "type": "linear"
        },
        "yaxis2": {
         "anchor": "x2",
         "autorange": true,
         "domain": [
          0,
          1
         ],
         "range": [
          5.6499999999999995,
          8.65
         ],
         "showticklabels": true,
         "type": "linear"
        }
       }
      },
      "image/png": "[encoded data removed]",
      "text/html": [
       "<div>                            <div id=\"2bac13e3-a880-4ec4-990d-6159f3ad7613\" class=\"plotly-graph-div\" style=\"height:525px; width:100%;\"></div>            <script type=\"text/javascript\">                require([\"plotly\"], function(Plotly) {                    window.PLOTLYENV=window.PLOTLYENV || {};                                    if (document.getElementById(\"2bac13e3-a880-4ec4-990d-6159f3ad7613\")) {                    Plotly.newPlot(                        \"2bac13e3-a880-4ec4-990d-6159f3ad7613\",                        [{\"alignmentgroup\":\"True\",\"hovertemplate\":\"BMI Category=1\\u003cbr\\u003ekey=%{x}\\u003cbr\\u003evalue=%{y}\\u003cextra\\u003e\\u003c\\u002fextra\\u003e\",\"legendgroup\":\"1\",\"marker\":{\"color\":\"#636efa\"},\"name\":\"1\",\"notched\":false,\"offsetgroup\":\"1\",\"orientation\":\"v\",\"showlegend\":true,\"x\":[\"Stress Level\",\"Stress Level\",\"Stress Level\",\"Stress Level\",\"Stress Level\",\"Stress Level\",\"Stress Level\",\"Stress Level\",\"Stress Level\",\"Stress Level\",\"Stress Level\",\"Stress Level\",\"Stress Level\",\"Stress Level\",\"Stress Level\",\"Stress Level\",\"Stress Level\",\"Stress Level\",\"Stress Level\",\"Stress Level\",\"Stress Level\",\"Stress Level\",\"Stress Level\",\"Stress Level\",\"Stress Level\",\"Stress Level\",\"Stress Level\",\"Stress Level\",\"Stress Level\",\"Stress Level\",\"Stress Level\",\"Stress Level\",\"Stress Level\",\"Stress Level\",\"Stress Level\",\"Stress Level\",\"Stress Level\",\"Stress Level\",\"Stress Level\",\"Stress Level\",\"Stress Level\",\"Stress Level\",\"Stress Level\",\"Stress Level\",\"Stress Level\",\"Stress Level\",\"Stress Level\",\"Stress Level\",\"Stress Level\",\"Stress Level\",\"Stress Level\",\"Stress Level\",\"Stress Level\",\"Stress Level\",\"Stress Level\",\"Stress Level\",\"Stress Level\",\"Stress Level\",\"Stress Level\",\"Stress Level\",\"Stress Level\",\"Stress Level\",\"Stress Level\",\"Stress Level\",\"Stress Level\",\"Stress Level\",\"Stress Level\",\"Stress Level\",\"Stress Level\",\"Stress Level\",\"Stress Level\",\"Stress Level\",\"Stress Level\",\"Stress Level\",\"Stress Level\",\"Stress Level\",\"Stress Level\",\"Stress Level\",\"Stress Level\",\"Stress Level\",\"Stress Level\",\"Stress Level\",\"Stress Level\",\"Stress Level\",\"Stress Level\",\"Stress Level\",\"Stress Level\",\"Stress Level\",\"Stress Level\",\"Stress Level\",\"Stress Level\",\"Stress Level\",\"Stress Level\",\"Stress Level\",\"Stress Level\",\"Stress Level\",\"Stress Level\",\"Stress Level\",\"Stress Level\",\"Stress Level\",\"Stress Level\",\"Stress Level\",\"Stress Level\",\"Stress Level\",\"Stress Level\",\"Stress Level\",\"Stress Level\",\"Stress Level\",\"Stress Level\",\"Stress Level\",\"Stress Level\",\"Stress Level\",\"Stress Level\",\"Stress Level\",\"Stress Level\",\"Stress Level\",\"Stress Level\",\"Stress Level\",\"Stress Level\",\"Stress Level\",\"Stress Level\",\"Stress Level\",\"Stress Level\",\"Stress Level\",\"Stress Level\",\"Stress Level\",\"Stress Level\",\"Stress Level\",\"Stress Level\",\"Stress Level\",\"Stress Level\",\"Stress Level\",\"Stress Level\",\"Stress Level\",\"Stress Level\",\"Stress Level\",\"Stress Level\",\"Stress Level\",\"Stress Level\",\"Stress Level\",\"Stress Level\",\"Stress Level\",\"Stress Level\",\"Stress Level\",\"Stress Level\",\"Stress Level\",\"Stress Level\",\"Stress Level\",\"Stress Level\",\"Stress Level\",\"Stress Level\",\"Stress Level\",\"Stress Level\",\"Stress Level\",\"Stress Level\",\"Stress Level\",\"Stress Level\",\"Stress Level\"],\"x0\":\" \",\"xaxis\":\"x\",\"y\":[6.0,8.0,8.0,8.0,7.0,6.0,6.0,8.0,8.0,5.0,5.0,5.0,7.0,7.0,6.0,5.0,7.0,6.0,6.0,7.0,7.0,7.0,4.0,7.0,4.0,7.0,4.0,7.0,7.0,7.0,7.0,7.0,7.0,7.0,7.0,7.0,7.0,4.0,7.0,4.0,7.0,7.0,7.0,4.0,7.0,4.0,7.0,4.0,7.0,4.0,7.0,4.0,7.0,4.0,7.0,7.0,4.0,7.0,7.0,4.0,7.0,7.0,4.0,7.0,4.0,7.0,7.0,7.0,7.0,6.0,6.0,4.0,4.0,4.0,4.0,4.0,4.0,4.0,4.0,4.0,4.0,4.0,5.0,5.0,8.0,5.0,8.0,8.0,8.0,8.0,8.0,8.0,8.0,8.0,8.0,3.0,3.0,8.0,8.0,8.0,8.0,8.0,8.0,8.0,8.0,8.0,8.0,8.0,8.0,8.0,8.0,8.0,8.0,8.0,8.0,8.0,8.0,8.0,8.0,7.0,7.0,7.0,7.0,7.0,7.0,4.0,4.0,3.0,3.0,3.0,3.0,3.0,3.0,3.0,3.0,3.0,3.0,3.0,3.0,3.0,3.0,3.0,3.0,3.0,3.0,3.0,3.0,3.0,3.0,3.0,3.0,3.0,3.0,3.0,3.0,3.0,3.0,3.0],\"y0\":\" \",\"yaxis\":\"y\",\"type\":\"box\"},{\"alignmentgroup\":\"True\",\"hovertemplate\":\"BMI Category=1\\u003cbr\\u003ekey=%{x}\\u003cbr\\u003evalue=%{y}\\u003cextra\\u003e\\u003c\\u002fextra\\u003e\",\"legendgroup\":\"1\",\"marker\":{\"color\":\"#636efa\"},\"name\":\"1\",\"notched\":false,\"offsetgroup\":\"1\",\"orientation\":\"v\",\"showlegend\":false,\"x\":[\"Sleep Duration\",\"Sleep Duration\",\"Sleep Duration\",\"Sleep Duration\",\"Sleep Duration\",\"Sleep Duration\",\"Sleep Duration\",\"Sleep Duration\",\"Sleep Duration\",\"Sleep Duration\",\"Sleep Duration\",\"Sleep Duration\",\"Sleep Duration\",\"Sleep Duration\",\"Sleep Duration\",\"Sleep Duration\",\"Sleep Duration\",\"Sleep Duration\",\"Sleep Duration\",\"Sleep Duration\",\"Sleep Duration\",\"Sleep Duration\",\"Sleep Duration\",\"Sleep Duration\",\"Sleep Duration\",\"Sleep Duration\",\"Sleep Duration\",\"Sleep Duration\",\"Sleep Duration\",\"Sleep Duration\",\"Sleep Duration\",\"Sleep Duration\",\"Sleep Duration\",\"Sleep Duration\",\"Sleep Duration\",\"Sleep Duration\",\"Sleep Duration\",\"Sleep Duration\",\"Sleep Duration\",\"Sleep Duration\",\"Sleep Duration\",\"Sleep Duration\",\"Sleep Duration\",\"Sleep Duration\",\"Sleep Duration\",\"Sleep Duration\",\"Sleep Duration\",\"Sleep Duration\",\"Sleep Duration\",\"Sleep Duration\",\"Sleep Duration\",\"Sleep Duration\",\"Sleep Duration\",\"Sleep Duration\",\"Sleep Duration\",\"Sleep Duration\",\"Sleep Duration\",\"Sleep Duration\",\"Sleep Duration\",\"Sleep Duration\",\"Sleep Duration\",\"Sleep Duration\",\"Sleep Duration\",\"Sleep Duration\",\"Sleep Duration\",\"Sleep Duration\",\"Sleep Duration\",\"Sleep Duration\",\"Sleep Duration\",\"Sleep Duration\",\"Sleep Duration\",\"Sleep Duration\",\"Sleep Duration\",\"Sleep Duration\",\"Sleep Duration\",\"Sleep Duration\",\"Sleep Duration\",\"Sleep Duration\",\"Sleep Duration\",\"Sleep Duration\",\"Sleep Duration\",\"Sleep Duration\",\"Sleep Duration\",\"Sleep Duration\",\"Sleep Duration\",\"Sleep Duration\",\"Sleep Duration\",\"Sleep Duration\",\"Sleep Duration\",\"Sleep Duration\",\"Sleep Duration\",\"Sleep Duration\",\"Sleep Duration\",\"Sleep Duration\",\"Sleep Duration\",\"Sleep Duration\",\"Sleep Duration\",\"Sleep Duration\",\"Sleep Duration\",\"Sleep Duration\",\"Sleep Duration\",\"Sleep Duration\",\"Sleep Duration\",\"Sleep Duration\",\"Sleep Duration\",\"Sleep Duration\",\"Sleep Duration\",\"Sleep Duration\",\"Sleep Duration\",\"Sleep Duration\",\"Sleep Duration\",\"Sleep Duration\",\"Sleep Duration\",\"Sleep Duration\",\"Sleep Duration\",\"Sleep Duration\",\"Sleep Duration\",\"Sleep Duration\",\"Sleep Duration\",\"Sleep Duration\",\"Sleep Duration\",\"Sleep Duration\",\"Sleep Duration\",\"Sleep Duration\",\"Sleep Duration\",\"Sleep Duration\",\"Sleep Duration\",\"Sleep Duration\",\"Sleep Duration\",\"Sleep Duration\",\"Sleep Duration\",\"Sleep Duration\",\"Sleep Duration\",\"Sleep Duration\",\"Sleep Duration\",\"Sleep Duration\",\"Sleep Duration\",\"Sleep Duration\",\"Sleep Duration\",\"Sleep Duration\",\"Sleep Duration\",\"Sleep Duration\",\"Sleep Duration\",\"Sleep Duration\",\"Sleep Duration\",\"Sleep Duration\",\"Sleep Duration\",\"Sleep Duration\",\"Sleep Duration\",\"Sleep Duration\",\"Sleep Duration\",\"Sleep Duration\",\"Sleep Duration\",\"Sleep Duration\",\"Sleep Duration\",\"Sleep Duration\",\"Sleep Duration\",\"Sleep Duration\"],\"x0\":\" \",\"xaxis\":\"x2\",\"y\":[6.1,5.9,5.9,5.9,6.3,6.2,6.2,5.8,5.8,6.7,6.7,7.4,6.6,6.6,6.1,7.4,6.5,7.1,7.1,6.5,6.8,6.8,6.7,6.3,6.7,6.5,6.7,6.4,6.5,6.5,6.5,6.5,6.5,6.5,6.5,6.5,6.5,7.6,6.5,6.6,6.4,6.3,6.4,6.6,6.3,6.6,6.3,6.6,6.3,6.6,6.3,6.6,6.3,6.6,6.3,6.4,6.5,6.3,6.4,6.5,6.3,6.4,6.5,6.3,6.5,6.3,6.8,6.4,6.5,6.8,6.8,6.5,6.5,6.5,6.5,6.6,6.6,6.6,6.6,6.6,6.6,6.6,6.9,7.3,5.9,7.3,6.2,6.0,6.1,6.1,6.1,6.1,6.2,6.2,6.2,8.1,8.1,6.1,6.0,6.1,6.0,6.0,6.0,6.0,6.0,6.0,6.0,6.1,6.0,6.1,6.1,6.0,6.1,6.0,6.1,6.1,6.0,6.1,6.1,6.5,6.5,6.6,6.6,6.6,6.6,8.1,8.1,8.1,8.2,8.2,8.2,8.2,8.2,8.1,8.1,8.1,8.0,8.0,8.0,8.0,8.0,8.0,8.0,8.1,8.2,8.2,8.2,8.2,8.0,8.0,8.1,8.0,8.1,8.1,8.0,8.1,8.1,8.1],\"y0\":\" \",\"yaxis\":\"y2\",\"type\":\"box\"},{\"alignmentgroup\":\"True\",\"hovertemplate\":\"BMI Category=0\\u003cbr\\u003ekey=%{x}\\u003cbr\\u003evalue=%{y}\\u003cextra\\u003e\\u003c\\u002fextra\\u003e\",\"legendgroup\":\"0\",\"marker\":{\"color\":\"#EF553B\"},\"name\":\"0\",\"notched\":false,\"offsetgroup\":\"0\",\"orientation\":\"v\",\"showlegend\":true,\"x\":[\"Stress Level\",\"Stress Level\",\"Stress Level\",\"Stress Level\",\"Stress Level\",\"Stress Level\",\"Stress Level\",\"Stress Level\",\"Stress Level\",\"Stress Level\",\"Stress Level\",\"Stress Level\",\"Stress Level\",\"Stress Level\",\"Stress Level\",\"Stress Level\",\"Stress Level\",\"Stress Level\",\"Stress Level\",\"Stress Level\",\"Stress Level\",\"Stress Level\",\"Stress Level\",\"Stress Level\",\"Stress Level\",\"Stress Level\",\"Stress Level\",\"Stress Level\",\"Stress Level\",\"Stress Level\",\"Stress Level\",\"Stress Level\",\"Stress Level\",\"Stress Level\",\"Stress Level\",\"Stress Level\",\"Stress Level\",\"Stress Level\",\"Stress Level\",\"Stress Level\",\"Stress Level\",\"Stress Level\",\"Stress Level\",\"Stress Level\",\"Stress Level\",\"Stress Level\",\"Stress Level\",\"Stress Level\",\"Stress Level\",\"Stress Level\",\"Stress Level\",\"Stress Level\",\"Stress Level\",\"Stress Level\",\"Stress Level\",\"Stress Level\",\"Stress Level\",\"Stress Level\",\"Stress Level\",\"Stress Level\",\"Stress Level\",\"Stress Level\",\"Stress Level\",\"Stress Level\",\"Stress Level\",\"Stress Level\",\"Stress Level\",\"Stress Level\",\"Stress Level\",\"Stress Level\",\"Stress Level\",\"Stress Level\",\"Stress Level\",\"Stress Level\",\"Stress Level\",\"Stress Level\",\"Stress Level\",\"Stress Level\",\"Stress Level\",\"Stress Level\",\"Stress Level\",\"Stress Level\",\"Stress Level\",\"Stress Level\",\"Stress Level\",\"Stress Level\",\"Stress Level\",\"Stress Level\",\"Stress Level\",\"Stress Level\",\"Stress Level\",\"Stress Level\",\"Stress Level\",\"Stress Level\",\"Stress Level\",\"Stress Level\",\"Stress Level\",\"Stress Level\",\"Stress Level\",\"Stress Level\",\"Stress Level\",\"Stress Level\",\"Stress Level\",\"Stress Level\",\"Stress Level\",\"Stress Level\",\"Stress Level\",\"Stress Level\",\"Stress Level\",\"Stress Level\",\"Stress Level\",\"Stress Level\",\"Stress Level\",\"Stress Level\",\"Stress Level\",\"Stress Level\",\"Stress Level\",\"Stress Level\",\"Stress Level\",\"Stress Level\",\"Stress Level\",\"Stress Level\",\"Stress Level\",\"Stress Level\",\"Stress Level\",\"Stress Level\",\"Stress Level\",\"Stress Level\",\"Stress Level\",\"Stress Level\",\"Stress Level\",\"Stress Level\",\"Stress Level\",\"Stress Level\",\"Stress Level\",\"Stress Level\",\"Stress Level\",\"Stress Level\",\"Stress Level\",\"Stress Level\",\"Stress Level\",\"Stress Level\",\"Stress Level\",\"Stress Level\",\"Stress Level\",\"Stress Level\",\"Stress Level\",\"Stress Level\",\"Stress Level\",\"Stress Level\",\"Stress Level\",\"Stress Level\",\"Stress Level\",\"Stress Level\",\"Stress Level\",\"Stress Level\",\"Stress Level\",\"Stress Level\",\"Stress Level\",\"Stress Level\",\"Stress Level\",\"Stress Level\",\"Stress Level\",\"Stress Level\",\"Stress Level\",\"Stress Level\",\"Stress Level\",\"Stress Level\",\"Stress Level\",\"Stress Level\",\"Stress Level\",\"Stress Level\",\"Stress Level\",\"Stress Level\",\"Stress Level\",\"Stress Level\",\"Stress Level\",\"Stress Level\",\"Stress Level\",\"Stress Level\",\"Stress Level\",\"Stress Level\",\"Stress Level\",\"Stress Level\",\"Stress Level\",\"Stress Level\",\"Stress Level\",\"Stress Level\",\"Stress Level\",\"Stress Level\",\"Stress Level\",\"Stress Level\",\"Stress Level\",\"Stress Level\",\"Stress Level\",\"Stress Level\",\"Stress Level\",\"Stress Level\",\"Stress Level\",\"Stress Level\",\"Stress Level\",\"Stress Level\",\"Stress Level\",\"Stress Level\",\"Stress Level\",\"Stress Level\",\"Stress Level\",\"Stress Level\",\"Stress Level\",\"Stress Level\",\"Stress Level\",\"Stress Level\",\"Stress Level\",\"Stress Level\",\"Stress Level\",\"Stress Level\"],\"x0\":\" \",\"xaxis\":\"x\",\"y\":[8.0,8.0,6.0,6.0,6.0,8.0,6.0,8.0,8.0,8.0,8.0,7.0,8.0,7.0,6.0,6.0,6.0,6.0,6.0,6.0,6.0,6.0,6.0,6.0,6.0,7.0,7.0,4.0,8.0,6.0,8.0,8.0,6.0,6.0,6.0,6.0,6.0,6.0,6.0,6.0,6.0,6.0,6.0,6.0,6.0,3.0,3.0,8.0,6.0,8.0,8.0,6.0,8.0,8.0,6.0,8.0,8.0,8.0,8.0,8.0,8.0,6.0,8.0,8.0,8.0,8.0,8.0,8.0,8.0,8.0,8.0,8.0,8.0,5.0,4.0,4.0,4.0,4.0,4.0,4.0,4.0,5.0,4.0,4.0,4.0,4.0,4.0,4.0,4.0,4.0,4.0,4.0,4.0,4.0,5.0,4.0,5.0,4.0,5.0,4.0,4.0,4.0,4.0,4.0,4.0,4.0,4.0,4.0,4.0,4.0,4.0,5.0,4.0,5.0,5.0,4.0,5.0,5.0,4.0,5.0,5.0,4.0,5.0,4.0,5.0,4.0,5.0,4.0,4.0,5.0,5.0,6.0,3.0,3.0,5.0,5.0,5.0,5.0,5.0,5.0,5.0,5.0,5.0,5.0,6.0,6.0,5.0,5.0,5.0,6.0,5.0,5.0,5.0,5.0,5.0,5.0,5.0,5.0,5.0,5.0,5.0,5.0,5.0,5.0,5.0,5.0,7.0,5.0,5.0,5.0,5.0,5.0,5.0,5.0,5.0,5.0,5.0,5.0,5.0,5.0,5.0,3.0,3.0,3.0,3.0,3.0,6.0,3.0,3.0,3.0,3.0,3.0,3.0,3.0,3.0,3.0,3.0,3.0,3.0,3.0,3.0,3.0,3.0,3.0,3.0,3.0,3.0,3.0,3.0,3.0,3.0,3.0,3.0,3.0,3.0,3.0],\"y0\":\" \",\"yaxis\":\"y\",\"type\":\"box\"},{\"alignmentgroup\":\"True\",\"hovertemplate\":\"BMI Category=0\\u003cbr\\u003ekey=%{x}\\u003cbr\\u003evalue=%{y}\\u003cextra\\u003e\\u003c\\u002fextra\\u003e\",\"legendgroup\":\"0\",\"marker\":{\"color\":\"#EF553B\"},\"name\":\"0\",\"notched\":false,\"offsetgroup\":\"0\",\"orientation\":\"v\",\"showlegend\":false,\"x\":[\"Sleep Duration\",\"Sleep Duration\",\"Sleep Duration\",\"Sleep Duration\",\"Sleep Duration\",\"Sleep Duration\",\"Sleep Duration\",\"Sleep Duration\",\"Sleep Duration\",\"Sleep Duration\",\"Sleep Duration\",\"Sleep Duration\",\"Sleep Duration\",\"Sleep Duration\",\"Sleep Duration\",\"Sleep Duration\",\"Sleep Duration\",\"Sleep Duration\",\"Sleep Duration\",\"Sleep Duration\",\"Sleep Duration\",\"Sleep Duration\",\"Sleep Duration\",\"Sleep Duration\",\"Sleep Duration\",\"Sleep Duration\",\"Sleep Duration\",\"Sleep Duration\",\"Sleep Duration\",\"Sleep Duration\",\"Sleep Duration\",\"Sleep Duration\",\"Sleep Duration\",\"Sleep Duration\",\"Sleep Duration\",\"Sleep Duration\",\"Sleep Duration\",\"Sleep Duration\",\"Sleep Duration\",\"Sleep Duration\",\"Sleep Duration\",\"Sleep Duration\",\"Sleep Duration\",\"Sleep Duration\",\"Sleep Duration\",\"Sleep Duration\",\"Sleep Duration\",\"Sleep Duration\",\"Sleep Duration\",\"Sleep Duration\",\"Sleep Duration\",\"Sleep Duration\",\"Sleep Duration\",\"Sleep Duration\",\"Sleep Duration\",\"Sleep Duration\",\"Sleep Duration\",\"Sleep Duration\",\"Sleep Duration\",\"Sleep Duration\",\"Sleep Duration\",\"Sleep Duration\",\"Sleep Duration\",\"Sleep Duration\",\"Sleep Duration\",\"Sleep Duration\",\"Sleep Duration\",\"Sleep Duration\",\"Sleep Duration\",\"Sleep Duration\",\"Sleep Duration\",\"Sleep Duration\",\"Sleep Duration\",\"Sleep Duration\",\"Sleep Duration\",\"Sleep Duration\",\"Sleep Duration\",\"Sleep Duration\",\"Sleep Duration\",\"Sleep Duration\",\"Sleep Duration\",\"Sleep Duration\",\"Sleep Duration\",\"Sleep Duration\",\"Sleep Duration\",\"Sleep Duration\",\"Sleep Duration\",\"Sleep Duration\",\"Sleep Duration\",\"Sleep Duration\",\"Sleep Duration\",\"Sleep Duration\",\"Sleep Duration\",\"Sleep Duration\",\"Sleep Duration\",\"Sleep Duration\",\"Sleep Duration\",\"Sleep Duration\",\"Sleep Duration\",\"Sleep Duration\",\"Sleep Duration\",\"Sleep Duration\",\"Sleep Duration\",\"Sleep Duration\",\"Sleep Duration\",\"Sleep Duration\",\"Sleep Duration\",\"Sleep Duration\",\"Sleep Duration\",\"Sleep Duration\",\"Sleep Duration\",\"Sleep Duration\",\"Sleep Duration\",\"Sleep Duration\",\"Sleep Duration\",\"Sleep Duration\",\"Sleep Duration\",\"Sleep Duration\",\"Sleep Duration\",\"Sleep Duration\",\"Sleep Duration\",\"Sleep Duration\",\"Sleep Duration\",\"Sleep Duration\",\"Sleep Duration\",\"Sleep Duration\",\"Sleep Duration\",\"Sleep Duration\",\"Sleep Duration\",\"Sleep Duration\",\"Sleep Duration\",\"Sleep Duration\",\"Sleep Duration\",\"Sleep Duration\",\"Sleep Duration\",\"Sleep Duration\",\"Sleep Duration\",\"Sleep Duration\",\"Sleep Duration\",\"Sleep Duration\",\"Sleep Duration\",\"Sleep Duration\",\"Sleep Duration\",\"Sleep Duration\",\"Sleep Duration\",\"Sleep Duration\",\"Sleep Duration\",\"Sleep Duration\",\"Sleep Duration\",\"Sleep Duration\",\"Sleep Duration\",\"Sleep Duration\",\"Sleep Duration\",\"Sleep Duration\",\"Sleep Duration\",\"Sleep Duration\",\"Sleep Duration\",\"Sleep Duration\",\"Sleep Duration\",\"Sleep Duration\",\"Sleep Duration\",\"Sleep Duration\",\"Sleep Duration\",\"Sleep Duration\",\"Sleep Duration\",\"Sleep Duration\",\"Sleep Duration\",\"Sleep Duration\",\"Sleep Duration\",\"Sleep Duration\",\"Sleep Duration\",\"Sleep Duration\",\"Sleep Duration\",\"Sleep Duration\",\"Sleep Duration\",\"Sleep Duration\",\"Sleep Duration\",\"Sleep Duration\",\"Sleep Duration\",\"Sleep Duration\",\"Sleep Duration\",\"Sleep Duration\",\"Sleep Duration\",\"Sleep Duration\",\"Sleep Duration\",\"Sleep Duration\",\"Sleep Duration\",\"Sleep Duration\",\"Sleep Duration\",\"Sleep Duration\",\"Sleep Duration\",\"Sleep Duration\",\"Sleep Duration\",\"Sleep Duration\",\"Sleep Duration\",\"Sleep Duration\",\"Sleep Duration\",\"Sleep Duration\",\"Sleep Duration\",\"Sleep Duration\",\"Sleep Duration\",\"Sleep Duration\",\"Sleep Duration\",\"Sleep Duration\",\"Sleep Duration\",\"Sleep Duration\",\"Sleep Duration\",\"Sleep Duration\",\"Sleep Duration\",\"Sleep Duration\",\"Sleep Duration\",\"Sleep Duration\",\"Sleep Duration\",\"Sleep Duration\",\"Sleep Duration\",\"Sleep Duration\"],\"x0\":\" \",\"xaxis\":\"x2\",\"y\":[6.2,6.2,7.8,7.8,7.8,6.1,7.8,6.1,6.0,6.0,6.0,6.5,6.0,6.5,7.6,7.7,7.7,7.7,7.7,7.8,7.9,7.8,7.9,7.9,7.9,6.4,6.4,7.9,6.1,7.7,6.1,6.1,7.6,7.6,7.6,7.7,7.7,7.7,7.8,7.7,7.8,7.7,7.8,7.7,7.7,7.5,7.5,6.0,7.6,6.0,6.0,7.7,6.0,6.0,7.7,6.0,6.0,6.2,6.2,6.2,6.2,7.2,6.0,6.1,6.1,6.1,6.1,6.0,6.0,6.0,6.0,6.0,6.0,7.5,7.2,7.2,7.2,7.3,7.3,7.3,7.3,7.5,7.2,7.1,7.2,7.1,7.1,7.1,7.2,7.2,7.2,7.2,7.8,7.8,7.4,7.2,7.4,7.2,7.4,7.2,7.2,7.2,7.2,7.2,7.2,7.2,7.2,7.2,7.2,7.2,7.5,7.3,7.1,7.3,7.3,7.1,7.3,7.3,7.1,7.3,7.3,7.1,7.1,7.1,7.1,7.1,7.1,7.1,7.1,7.1,7.2,6.9,8.0,8.0,7.2,7.2,7.2,7.2,7.2,7.2,7.2,7.2,7.2,7.2,7.2,7.2,7.9,7.9,7.6,7.3,7.7,7.7,7.7,7.7,7.7,7.6,7.6,7.6,7.8,7.8,7.8,7.8,7.8,7.8,7.8,7.8,6.9,7.7,7.7,7.7,7.7,7.8,7.7,7.8,7.8,7.8,7.8,7.8,7.8,7.8,7.8,8.3,8.5,8.5,8.5,8.5,7.1,8.4,8.4,8.4,8.3,8.5,8.5,8.4,8.4,8.5,8.4,8.4,8.5,8.3,8.5,8.3,8.5,8.3,8.5,8.5,8.4,8.4,8.4,8.4,8.4,8.4,8.4,8.5,8.2,8.2],\"y0\":\" \",\"yaxis\":\"y2\",\"type\":\"box\"}],                        {\"template\":{\"data\":{\"histogram2dcontour\":[{\"type\":\"histogram2dcontour\",\"colorbar\":{\"outlinewidth\":0,\"ticks\":\"\"},\"colorscale\":[[0.0,\"#0d0887\"],[0.1111111111111111,\"#46039f\"],[0.2222222222222222,\"#7201a8\"],[0.3333333333333333,\"#9c179e\"],[0.4444444444444444,\"#bd3786\"],[0.5555555555555556,\"#d8576b\"],[0.6666666666666666,\"#ed7953\"],[0.7777777777777778,\"#fb9f3a\"],[0.8888888888888888,\"#fdca26\"],[1.0,\"#f0f921\"]]}],\"choropleth\":[{\"type\":\"choropleth\",\"colorbar\":{\"outlinewidth\":0,\"ticks\":\"\"}}],\"histogram2d\":[{\"type\":\"histogram2d\",\"colorbar\":{\"outlinewidth\":0,\"ticks\":\"\"},\"colorscale\":[[0.0,\"#0d0887\"],[0.1111111111111111,\"#46039f\"],[0.2222222222222222,\"#7201a8\"],[0.3333333333333333,\"#9c179e\"],[0.4444444444444444,\"#bd3786\"],[0.5555555555555556,\"#d8576b\"],[0.6666666666666666,\"#ed7953\"],[0.7777777777777778,\"#fb9f3a\"],[0.8888888888888888,\"#fdca26\"],[1.0,\"#f0f921\"]]}],\"heatmap\":[{\"type\":\"heatmap\",\"colorbar\":{\"outlinewidth\":0,\"ticks\":\"\"},\"colorscale\":[[0.0,\"#0d0887\"],[0.1111111111111111,\"#46039f\"],[0.2222222222222222,\"#7201a8\"],[0.3333333333333333,\"#9c179e\"],[0.4444444444444444,\"#bd3786\"],[0.5555555555555556,\"#d8576b\"],[0.6666666666666666,\"#ed7953\"],[0.7777777777777778,\"#fb9f3a\"],[0.8888888888888888,\"#fdca26\"],[1.0,\"#f0f921\"]]}],\"heatmapgl\":[{\"type\":\"heatmapgl\",\"colorbar\":{\"outlinewidth\":0,\"ticks\":\"\"},\"colorscale\":[[0.0,\"#0d0887\"],[0.1111111111111111,\"#46039f\"],[0.2222222222222222,\"#7201a8\"],[0.3333333333333333,\"#9c179e\"],[0.4444444444444444,\"#bd3786\"],[0.5555555555555556,\"#d8576b\"],[0.6666666666666666,\"#ed7953\"],[0.7777777777777778,\"#fb9f3a\"],[0.8888888888888888,\"#fdca26\"],[1.0,\"#f0f921\"]]}],\"contourcarpet\":[{\"type\":\"contourcarpet\",\"colorbar\":{\"outlinewidth\":0,\"ticks\":\"\"}}],\"contour\":[{\"type\":\"contour\",\"colorbar\":{\"outlinewidth\":0,\"ticks\":\"\"},\"colorscale\":[[0.0,\"#0d0887\"],[0.1111111111111111,\"#46039f\"],[0.2222222222222222,\"#7201a8\"],[0.3333333333333333,\"#9c179e\"],[0.4444444444444444,\"#bd3786\"],[0.5555555555555556,\"#d8576b\"],[0.6666666666666666,\"#ed7953\"],[0.7777777777777778,\"#fb9f3a\"],[0.8888888888888888,\"#fdca26\"],[1.0,\"#f0f921\"]]}],\"surface\":[{\"type\":\"surface\",\"colorbar\":{\"outlinewidth\":0,\"ticks\":\"\"},\"colorscale\":[[0.0,\"#0d0887\"],[0.1111111111111111,\"#46039f\"],[0.2222222222222222,\"#7201a8\"],[0.3333333333333333,\"#9c179e\"],[0.4444444444444444,\"#bd3786\"],[0.5555555555555556,\"#d8576b\"],[0.6666666666666666,\"#ed7953\"],[0.7777777777777778,\"#fb9f3a\"],[0.8888888888888888,\"#fdca26\"],[1.0,\"#f0f921\"]]}],\"mesh3d\":[{\"type\":\"mesh3d\",\"colorbar\":{\"outlinewidth\":0,\"ticks\":\"\"}}],\"scatter\":[{\"fillpattern\":{\"fillmode\":\"overlay\",\"size\":10,\"solidity\":0.2},\"type\":\"scatter\"}],\"parcoords\":[{\"type\":\"parcoords\",\"line\":{\"colorbar\":{\"outlinewidth\":0,\"ticks\":\"\"}}}],\"scatterpolargl\":[{\"type\":\"scatterpolargl\",\"marker\":{\"colorbar\":{\"outlinewidth\":0,\"ticks\":\"\"}}}],\"bar\":[{\"error_x\":{\"color\":\"#2a3f5f\"},\"error_y\":{\"color\":\"#2a3f5f\"},\"marker\":{\"line\":{\"color\":\"#E5ECF6\",\"width\":0.5},\"pattern\":{\"fillmode\":\"overlay\",\"size\":10,\"solidity\":0.2}},\"type\":\"bar\"}],\"scattergeo\":[{\"type\":\"scattergeo\",\"marker\":{\"colorbar\":{\"outlinewidth\":0,\"ticks\":\"\"}}}],\"scatterpolar\":[{\"type\":\"scatterpolar\",\"marker\":{\"colorbar\":{\"outlinewidth\":0,\"ticks\":\"\"}}}],\"histogram\":[{\"marker\":{\"pattern\":{\"fillmode\":\"overlay\",\"size\":10,\"solidity\":0.2}},\"type\":\"histogram\"}],\"scattergl\":[{\"type\":\"scattergl\",\"marker\":{\"colorbar\":{\"outlinewidth\":0,\"ticks\":\"\"}}}],\"scatter3d\":[{\"type\":\"scatter3d\",\"line\":{\"colorbar\":{\"outlinewidth\":0,\"ticks\":\"\"}},\"marker\":{\"colorbar\":{\"outlinewidth\":0,\"ticks\":\"\"}}}],\"scattermapbox\":[{\"type\":\"scattermapbox\",\"marker\":{\"colorbar\":{\"outlinewidth\":0,\"ticks\":\"\"}}}],\"scatterternary\":[{\"type\":\"scatterternary\",\"marker\":{\"colorbar\":{\"outlinewidth\":0,\"ticks\":\"\"}}}],\"scattercarpet\":[{\"type\":\"scattercarpet\",\"marker\":{\"colorbar\":{\"outlinewidth\":0,\"ticks\":\"\"}}}],\"carpet\":[{\"aaxis\":{\"endlinecolor\":\"#2a3f5f\",\"gridcolor\":\"white\",\"linecolor\":\"white\",\"minorgridcolor\":\"white\",\"startlinecolor\":\"#2a3f5f\"},\"baxis\":{\"endlinecolor\":\"#2a3f5f\",\"gridcolor\":\"white\",\"linecolor\":\"white\",\"minorgridcolor\":\"white\",\"startlinecolor\":\"#2a3f5f\"},\"type\":\"carpet\"}],\"table\":[{\"cells\":{\"fill\":{\"color\":\"#EBF0F8\"},\"line\":{\"color\":\"white\"}},\"header\":{\"fill\":{\"color\":\"#C8D4E3\"},\"line\":{\"color\":\"white\"}},\"type\":\"table\"}],\"barpolar\":[{\"marker\":{\"line\":{\"color\":\"#E5ECF6\",\"width\":0.5},\"pattern\":{\"fillmode\":\"overlay\",\"size\":10,\"solidity\":0.2}},\"type\":\"barpolar\"}],\"pie\":[{\"automargin\":true,\"type\":\"pie\"}]},\"layout\":{\"autotypenumbers\":\"strict\",\"colorway\":[\"#636efa\",\"#EF553B\",\"#00cc96\",\"#ab63fa\",\"#FFA15A\",\"#19d3f3\",\"#FF6692\",\"#B6E880\",\"#FF97FF\",\"#FECB52\"],\"font\":{\"color\":\"#2a3f5f\"},\"hovermode\":\"closest\",\"hoverlabel\":{\"align\":\"left\"},\"paper_bgcolor\":\"white\",\"plot_bgcolor\":\"#E5ECF6\",\"polar\":{\"bgcolor\":\"#E5ECF6\",\"angularaxis\":{\"gridcolor\":\"white\",\"linecolor\":\"white\",\"ticks\":\"\"},\"radialaxis\":{\"gridcolor\":\"white\",\"linecolor\":\"white\",\"ticks\":\"\"}},\"ternary\":{\"bgcolor\":\"#E5ECF6\",\"aaxis\":{\"gridcolor\":\"white\",\"linecolor\":\"white\",\"ticks\":\"\"},\"baxis\":{\"gridcolor\":\"white\",\"linecolor\":\"white\",\"ticks\":\"\"},\"caxis\":{\"gridcolor\":\"white\",\"linecolor\":\"white\",\"ticks\":\"\"}},\"coloraxis\":{\"colorbar\":{\"outlinewidth\":0,\"ticks\":\"\"}},\"colorscale\":{\"sequential\":[[0.0,\"#0d0887\"],[0.1111111111111111,\"#46039f\"],[0.2222222222222222,\"#7201a8\"],[0.3333333333333333,\"#9c179e\"],[0.4444444444444444,\"#bd3786\"],[0.5555555555555556,\"#d8576b\"],[0.6666666666666666,\"#ed7953\"],[0.7777777777777778,\"#fb9f3a\"],[0.8888888888888888,\"#fdca26\"],[1.0,\"#f0f921\"]],\"sequentialminus\":[[0.0,\"#0d0887\"],[0.1111111111111111,\"#46039f\"],[0.2222222222222222,\"#7201a8\"],[0.3333333333333333,\"#9c179e\"],[0.4444444444444444,\"#bd3786\"],[0.5555555555555556,\"#d8576b\"],[0.6666666666666666,\"#ed7953\"],[0.7777777777777778,\"#fb9f3a\"],[0.8888888888888888,\"#fdca26\"],[1.0,\"#f0f921\"]],\"diverging\":[[0,\"#8e0152\"],[0.1,\"#c51b7d\"],[0.2,\"#de77ae\"],[0.3,\"#f1b6da\"],[0.4,\"#fde0ef\"],[0.5,\"#f7f7f7\"],[0.6,\"#e6f5d0\"],[0.7,\"#b8e186\"],[0.8,\"#7fbc41\"],[0.9,\"#4d9221\"],[1,\"#276419\"]]},\"xaxis\":{\"gridcolor\":\"white\",\"linecolor\":\"white\",\"ticks\":\"\",\"title\":{\"standoff\":15},\"zerolinecolor\":\"white\",\"automargin\":true,\"zerolinewidth\":2},\"yaxis\":{\"gridcolor\":\"white\",\"linecolor\":\"white\",\"ticks\":\"\",\"title\":{\"standoff\":15},\"zerolinecolor\":\"white\",\"automargin\":true,\"zerolinewidth\":2},\"scene\":{\"xaxis\":{\"backgroundcolor\":\"#E5ECF6\",\"gridcolor\":\"white\",\"linecolor\":\"white\",\"showbackground\":true,\"ticks\":\"\",\"zerolinecolor\":\"white\",\"gridwidth\":2},\"yaxis\":{\"backgroundcolor\":\"#E5ECF6\",\"gridcolor\":\"white\",\"linecolor\":\"white\",\"showbackground\":true,\"ticks\":\"\",\"zerolinecolor\":\"white\",\"gridwidth\":2},\"zaxis\":{\"backgroundcolor\":\"#E5ECF6\",\"gridcolor\":\"white\",\"linecolor\":\"white\",\"showbackground\":true,\"ticks\":\"\",\"zerolinecolor\":\"white\",\"gridwidth\":2}},\"shapedefaults\":{\"line\":{\"color\":\"#2a3f5f\"}},\"annotationdefaults\":{\"arrowcolor\":\"#2a3f5f\",\"arrowhead\":0,\"arrowwidth\":1},\"geo\":{\"bgcolor\":\"white\",\"landcolor\":\"#E5ECF6\",\"subunitcolor\":\"white\",\"showland\":true,\"showlakes\":true,\"lakecolor\":\"white\"},\"title\":{\"x\":0.05},\"mapbox\":{\"style\":\"light\"}}},\"xaxis\":{\"anchor\":\"y\",\"domain\":[0.0,0.49],\"title\":{\"text\":\"key\"},\"categoryorder\":\"array\",\"categoryarray\":[\"Stress Level\",\"Sleep Duration\"],\"showticklabels\":true},\"yaxis\":{\"anchor\":\"x\",\"domain\":[0.0,1.0],\"title\":{\"text\":\"value\"},\"showticklabels\":true},\"xaxis2\":{\"anchor\":\"y2\",\"domain\":[0.51,1.0],\"title\":{\"text\":\"key\"},\"categoryorder\":\"array\",\"categoryarray\":[\"Stress Level\",\"Sleep Duration\"],\"showticklabels\":true},\"yaxis2\":{\"anchor\":\"x2\",\"domain\":[0.0,1.0],\"showticklabels\":true},\"annotations\":[{\"font\":{},\"showarrow\":false,\"text\":\"key=Stress Level\",\"x\":0.245,\"xanchor\":\"center\",\"xref\":\"paper\",\"y\":1.0,\"yanchor\":\"bottom\",\"yref\":\"paper\"},{\"font\":{},\"showarrow\":false,\"text\":\"key=Sleep Duration\",\"x\":0.755,\"xanchor\":\"center\",\"xref\":\"paper\",\"y\":1.0,\"yanchor\":\"bottom\",\"yref\":\"paper\"}],\"legend\":{\"title\":{\"text\":\"BMI Category\"},\"tracegroupgap\":0},\"margin\":{\"t\":60},\"boxmode\":\"group\"},                        {\"responsive\": true}                    ).then(function(){\n",
       "                            \n",
       "var gd = document.getElementById('2bac13e3-a880-4ec4-990d-6159f3ad7613');\n",
       "var x = new MutationObserver(function (mutations, observer) {{\n",
       "        var display = window.getComputedStyle(gd).display;\n",
       "        if (!display || display === 'none') {{\n",
       "            console.log([gd, 'removed!']);\n",
       "            Plotly.purge(gd);\n",
       "            observer.disconnect();\n",
       "        }}\n",
       "}});\n",
       "\n",
       "// Listen for the removal of the full notebook cells\n",
       "var notebookContainer = gd.closest('#notebook-container');\n",
       "if (notebookContainer) {{\n",
       "    x.observe(notebookContainer, {childList: true});\n",
       "}}\n",
       "\n",
       "// Listen for the clearing of the current output cell\n",
       "var outputEl = gd.closest('.output');\n",
       "if (outputEl) {{\n",
       "    x.observe(outputEl, {childList: true});\n",
       "}}\n",
       "\n",
       "                        })                };                });            </script>        </div>"
      ]
     },
     "metadata": {},
     "output_type": "display_data"
    }
   ],
   "source": [
    "plotly_boxplot(data, [\"Stress Level\", \"Sleep Duration\"], \"BMI Category\")"
   ]
  },
  {
   "cell_type": "markdown",
   "id": "4ae47b6e-8333-4fc3-aa3f-e6d29f5c9465",
   "metadata": {},
   "source": [
    "## analysis - split"
   ]
  },
  {
   "cell_type": "code",
   "execution_count": 296,
   "id": "2767c3fa-c7b4-4f11-b4cd-9be137e1bc3b",
   "metadata": {},
   "outputs": [],
   "source": [
    "from sklearn.model_selection import train_test_split\n",
    "from sklearn.preprocessing import StandardScaler\n",
    "from sklearn.linear_model import LogisticRegression\n",
    "from sklearn.ensemble import RandomForestClassifier, GradientBoostingClassifier\n",
    "import xgboost as xgb\n",
    "from sklearn.cluster import KMeans\n",
    "# Metrics\n",
    "from sklearn.metrics import accuracy_score, precision_score, recall_score, f1_score, classification_report, confusion_matrix\n",
    "from sklearn.metrics import roc_curve, auc\n",
    "\n",
    "from sklearn.metrics import accuracy_score\n",
    "import plotly.express as px"
   ]
  },
  {
   "cell_type": "code",
   "execution_count": 297,
   "id": "a0f126b9-a1c8-471e-9fab-70c43d14fceb",
   "metadata": {},
   "outputs": [
    {
     "name": "stdout",
     "output_type": "stream",
     "text": [
      "(374, 12)\n",
      "(374,)\n",
      "x train dimensions : (280, 12)\n",
      "x test dimensions:  (94, 12)\n",
      "y train dimensions : (280,)\n",
      "y test dimensions : (94,)\n"
     ]
    }
   ],
   "source": [
    "# Prepare the data\n",
    "X = data.drop(['Sleep Disorder'], axis=1)\n",
    "y = data['Sleep Disorder']\n",
    "print(X.shape)\n",
    "print(y.shape)\n",
    "# Split the data into train and test sets\n",
    "X_train, X_test, y_train, y_test = train_test_split(X, y, test_size=0.25, random_state=2)\n",
    "print(\"x train dimensions :\",X_train.shape)\n",
    "print(\"x test dimensions: \",X_test.shape)\n",
    "print(\"y train dimensions :\",y_train.shape)\n",
    "print(\"y test dimensions :\",y_test.shape)"
   ]
  },
  {
   "cell_type": "markdown",
   "id": "4ea4846c-73b8-48b2-a400-1b8c9e25696a",
   "metadata": {},
   "source": [
    "## logistic"
   ]
  },
  {
   "cell_type": "code",
   "execution_count": 299,
   "id": "fe152717-1896-4cfc-9f7a-0c8aea62c7c5",
   "metadata": {},
   "outputs": [
    {
     "name": "stderr",
     "output_type": "stream",
     "text": [
      "C:\\Users\\User\\anaconda3\\Lib\\site-packages\\sklearn\\linear_model\\_logistic.py:465: ConvergenceWarning:\n",
      "\n",
      "lbfgs failed to converge (status=1):\n",
      "STOP: TOTAL NO. of ITERATIONS REACHED LIMIT.\n",
      "\n",
      "Increase the number of iterations (max_iter) or scale the data as shown in:\n",
      "    https://scikit-learn.org/stable/modules/preprocessing.html\n",
      "Please also refer to the documentation for alternative solver options:\n",
      "    https://scikit-learn.org/stable/modules/linear_model.html#logistic-regression\n",
      "\n"
     ]
    },
    {
     "data": {
      "text/html": [
       "<style>#sk-container-id-4 {\n",
       "  /* Definition of color scheme common for light and dark mode */\n",
       "  --sklearn-color-text: #000;\n",
       "  --sklearn-color-text-muted: #666;\n",
       "  --sklearn-color-line: gray;\n",
       "  /* Definition of color scheme for unfitted estimators */\n",
       "  --sklearn-color-unfitted-level-0: #fff5e6;\n",
       "  --sklearn-color-unfitted-level-1: #f6e4d2;\n",
       "  --sklearn-color-unfitted-level-2: #ffe0b3;\n",
       "  --sklearn-color-unfitted-level-3: chocolate;\n",
       "  /* Definition of color scheme for fitted estimators */\n",
       "  --sklearn-color-fitted-level-0: #f0f8ff;\n",
       "  --sklearn-color-fitted-level-1: #d4ebff;\n",
       "  --sklearn-color-fitted-level-2: #b3dbfd;\n",
       "  --sklearn-color-fitted-level-3: cornflowerblue;\n",
       "\n",
       "  /* Specific color for light theme */\n",
       "  --sklearn-color-text-on-default-background: var(--sg-text-color, var(--theme-code-foreground, var(--jp-content-font-color1, black)));\n",
       "  --sklearn-color-background: var(--sg-background-color, var(--theme-background, var(--jp-layout-color0, white)));\n",
       "  --sklearn-color-border-box: var(--sg-text-color, var(--theme-code-foreground, var(--jp-content-font-color1, black)));\n",
       "  --sklearn-color-icon: #696969;\n",
       "\n",
       "  @media (prefers-color-scheme: dark) {\n",
       "    /* Redefinition of color scheme for dark theme */\n",
       "    --sklearn-color-text-on-default-background: var(--sg-text-color, var(--theme-code-foreground, var(--jp-content-font-color1, white)));\n",
       "    --sklearn-color-background: var(--sg-background-color, var(--theme-background, var(--jp-layout-color0, #111)));\n",
       "    --sklearn-color-border-box: var(--sg-text-color, var(--theme-code-foreground, var(--jp-content-font-color1, white)));\n",
       "    --sklearn-color-icon: #878787;\n",
       "  }\n",
       "}\n",
       "\n",
       "#sk-container-id-4 {\n",
       "  color: var(--sklearn-color-text);\n",
       "}\n",
       "\n",
       "#sk-container-id-4 pre {\n",
       "  padding: 0;\n",
       "}\n",
       "\n",
       "#sk-container-id-4 input.sk-hidden--visually {\n",
       "  border: 0;\n",
       "  clip: rect(1px 1px 1px 1px);\n",
       "  clip: rect(1px, 1px, 1px, 1px);\n",
       "  height: 1px;\n",
       "  margin: -1px;\n",
       "  overflow: hidden;\n",
       "  padding: 0;\n",
       "  position: absolute;\n",
       "  width: 1px;\n",
       "}\n",
       "\n",
       "#sk-container-id-4 div.sk-dashed-wrapped {\n",
       "  border: 1px dashed var(--sklearn-color-line);\n",
       "  margin: 0 0.4em 0.5em 0.4em;\n",
       "  box-sizing: border-box;\n",
       "  padding-bottom: 0.4em;\n",
       "  background-color: var(--sklearn-color-background);\n",
       "}\n",
       "\n",
       "#sk-container-id-4 div.sk-container {\n",
       "  /* jupyter's `normalize.less` sets `[hidden] { display: none; }`\n",
       "     but bootstrap.min.css set `[hidden] { display: none !important; }`\n",
       "     so we also need the `!important` here to be able to override the\n",
       "     default hidden behavior on the sphinx rendered scikit-learn.org.\n",
       "     See: https://github.com/scikit-learn/scikit-learn/issues/21755 */\n",
       "  display: inline-block !important;\n",
       "  position: relative;\n",
       "}\n",
       "\n",
       "#sk-container-id-4 div.sk-text-repr-fallback {\n",
       "  display: none;\n",
       "}\n",
       "\n",
       "div.sk-parallel-item,\n",
       "div.sk-serial,\n",
       "div.sk-item {\n",
       "  /* draw centered vertical line to link estimators */\n",
       "  background-image: linear-gradient(var(--sklearn-color-text-on-default-background), var(--sklearn-color-text-on-default-background));\n",
       "  background-size: 2px 100%;\n",
       "  background-repeat: no-repeat;\n",
       "  background-position: center center;\n",
       "}\n",
       "\n",
       "/* Parallel-specific style estimator block */\n",
       "\n",
       "#sk-container-id-4 div.sk-parallel-item::after {\n",
       "  content: \"\";\n",
       "  width: 100%;\n",
       "  border-bottom: 2px solid var(--sklearn-color-text-on-default-background);\n",
       "  flex-grow: 1;\n",
       "}\n",
       "\n",
       "#sk-container-id-4 div.sk-parallel {\n",
       "  display: flex;\n",
       "  align-items: stretch;\n",
       "  justify-content: center;\n",
       "  background-color: var(--sklearn-color-background);\n",
       "  position: relative;\n",
       "}\n",
       "\n",
       "#sk-container-id-4 div.sk-parallel-item {\n",
       "  display: flex;\n",
       "  flex-direction: column;\n",
       "}\n",
       "\n",
       "#sk-container-id-4 div.sk-parallel-item:first-child::after {\n",
       "  align-self: flex-end;\n",
       "  width: 50%;\n",
       "}\n",
       "\n",
       "#sk-container-id-4 div.sk-parallel-item:last-child::after {\n",
       "  align-self: flex-start;\n",
       "  width: 50%;\n",
       "}\n",
       "\n",
       "#sk-container-id-4 div.sk-parallel-item:only-child::after {\n",
       "  width: 0;\n",
       "}\n",
       "\n",
       "/* Serial-specific style estimator block */\n",
       "\n",
       "#sk-container-id-4 div.sk-serial {\n",
       "  display: flex;\n",
       "  flex-direction: column;\n",
       "  align-items: center;\n",
       "  background-color: var(--sklearn-color-background);\n",
       "  padding-right: 1em;\n",
       "  padding-left: 1em;\n",
       "}\n",
       "\n",
       "\n",
       "/* Toggleable style: style used for estimator/Pipeline/ColumnTransformer box that is\n",
       "clickable and can be expanded/collapsed.\n",
       "- Pipeline and ColumnTransformer use this feature and define the default style\n",
       "- Estimators will overwrite some part of the style using the `sk-estimator` class\n",
       "*/\n",
       "\n",
       "/* Pipeline and ColumnTransformer style (default) */\n",
       "\n",
       "#sk-container-id-4 div.sk-toggleable {\n",
       "  /* Default theme specific background. It is overwritten whether we have a\n",
       "  specific estimator or a Pipeline/ColumnTransformer */\n",
       "  background-color: var(--sklearn-color-background);\n",
       "}\n",
       "\n",
       "/* Toggleable label */\n",
       "#sk-container-id-4 label.sk-toggleable__label {\n",
       "  cursor: pointer;\n",
       "  display: flex;\n",
       "  width: 100%;\n",
       "  margin-bottom: 0;\n",
       "  padding: 0.5em;\n",
       "  box-sizing: border-box;\n",
       "  text-align: center;\n",
       "  align-items: start;\n",
       "  justify-content: space-between;\n",
       "  gap: 0.5em;\n",
       "}\n",
       "\n",
       "#sk-container-id-4 label.sk-toggleable__label .caption {\n",
       "  font-size: 0.6rem;\n",
       "  font-weight: lighter;\n",
       "  color: var(--sklearn-color-text-muted);\n",
       "}\n",
       "\n",
       "#sk-container-id-4 label.sk-toggleable__label-arrow:before {\n",
       "  /* Arrow on the left of the label */\n",
       "  content: \"▸\";\n",
       "  float: left;\n",
       "  margin-right: 0.25em;\n",
       "  color: var(--sklearn-color-icon);\n",
       "}\n",
       "\n",
       "#sk-container-id-4 label.sk-toggleable__label-arrow:hover:before {\n",
       "  color: var(--sklearn-color-text);\n",
       "}\n",
       "\n",
       "/* Toggleable content - dropdown */\n",
       "\n",
       "#sk-container-id-4 div.sk-toggleable__content {\n",
       "  max-height: 0;\n",
       "  max-width: 0;\n",
       "  overflow: hidden;\n",
       "  text-align: left;\n",
       "  /* unfitted */\n",
       "  background-color: var(--sklearn-color-unfitted-level-0);\n",
       "}\n",
       "\n",
       "#sk-container-id-4 div.sk-toggleable__content.fitted {\n",
       "  /* fitted */\n",
       "  background-color: var(--sklearn-color-fitted-level-0);\n",
       "}\n",
       "\n",
       "#sk-container-id-4 div.sk-toggleable__content pre {\n",
       "  margin: 0.2em;\n",
       "  border-radius: 0.25em;\n",
       "  color: var(--sklearn-color-text);\n",
       "  /* unfitted */\n",
       "  background-color: var(--sklearn-color-unfitted-level-0);\n",
       "}\n",
       "\n",
       "#sk-container-id-4 div.sk-toggleable__content.fitted pre {\n",
       "  /* unfitted */\n",
       "  background-color: var(--sklearn-color-fitted-level-0);\n",
       "}\n",
       "\n",
       "#sk-container-id-4 input.sk-toggleable__control:checked~div.sk-toggleable__content {\n",
       "  /* Expand drop-down */\n",
       "  max-height: 200px;\n",
       "  max-width: 100%;\n",
       "  overflow: auto;\n",
       "}\n",
       "\n",
       "#sk-container-id-4 input.sk-toggleable__control:checked~label.sk-toggleable__label-arrow:before {\n",
       "  content: \"▾\";\n",
       "}\n",
       "\n",
       "/* Pipeline/ColumnTransformer-specific style */\n",
       "\n",
       "#sk-container-id-4 div.sk-label input.sk-toggleable__control:checked~label.sk-toggleable__label {\n",
       "  color: var(--sklearn-color-text);\n",
       "  background-color: var(--sklearn-color-unfitted-level-2);\n",
       "}\n",
       "\n",
       "#sk-container-id-4 div.sk-label.fitted input.sk-toggleable__control:checked~label.sk-toggleable__label {\n",
       "  background-color: var(--sklearn-color-fitted-level-2);\n",
       "}\n",
       "\n",
       "/* Estimator-specific style */\n",
       "\n",
       "/* Colorize estimator box */\n",
       "#sk-container-id-4 div.sk-estimator input.sk-toggleable__control:checked~label.sk-toggleable__label {\n",
       "  /* unfitted */\n",
       "  background-color: var(--sklearn-color-unfitted-level-2);\n",
       "}\n",
       "\n",
       "#sk-container-id-4 div.sk-estimator.fitted input.sk-toggleable__control:checked~label.sk-toggleable__label {\n",
       "  /* fitted */\n",
       "  background-color: var(--sklearn-color-fitted-level-2);\n",
       "}\n",
       "\n",
       "#sk-container-id-4 div.sk-label label.sk-toggleable__label,\n",
       "#sk-container-id-4 div.sk-label label {\n",
       "  /* The background is the default theme color */\n",
       "  color: var(--sklearn-color-text-on-default-background);\n",
       "}\n",
       "\n",
       "/* On hover, darken the color of the background */\n",
       "#sk-container-id-4 div.sk-label:hover label.sk-toggleable__label {\n",
       "  color: var(--sklearn-color-text);\n",
       "  background-color: var(--sklearn-color-unfitted-level-2);\n",
       "}\n",
       "\n",
       "/* Label box, darken color on hover, fitted */\n",
       "#sk-container-id-4 div.sk-label.fitted:hover label.sk-toggleable__label.fitted {\n",
       "  color: var(--sklearn-color-text);\n",
       "  background-color: var(--sklearn-color-fitted-level-2);\n",
       "}\n",
       "\n",
       "/* Estimator label */\n",
       "\n",
       "#sk-container-id-4 div.sk-label label {\n",
       "  font-family: monospace;\n",
       "  font-weight: bold;\n",
       "  display: inline-block;\n",
       "  line-height: 1.2em;\n",
       "}\n",
       "\n",
       "#sk-container-id-4 div.sk-label-container {\n",
       "  text-align: center;\n",
       "}\n",
       "\n",
       "/* Estimator-specific */\n",
       "#sk-container-id-4 div.sk-estimator {\n",
       "  font-family: monospace;\n",
       "  border: 1px dotted var(--sklearn-color-border-box);\n",
       "  border-radius: 0.25em;\n",
       "  box-sizing: border-box;\n",
       "  margin-bottom: 0.5em;\n",
       "  /* unfitted */\n",
       "  background-color: var(--sklearn-color-unfitted-level-0);\n",
       "}\n",
       "\n",
       "#sk-container-id-4 div.sk-estimator.fitted {\n",
       "  /* fitted */\n",
       "  background-color: var(--sklearn-color-fitted-level-0);\n",
       "}\n",
       "\n",
       "/* on hover */\n",
       "#sk-container-id-4 div.sk-estimator:hover {\n",
       "  /* unfitted */\n",
       "  background-color: var(--sklearn-color-unfitted-level-2);\n",
       "}\n",
       "\n",
       "#sk-container-id-4 div.sk-estimator.fitted:hover {\n",
       "  /* fitted */\n",
       "  background-color: var(--sklearn-color-fitted-level-2);\n",
       "}\n",
       "\n",
       "/* Specification for estimator info (e.g. \"i\" and \"?\") */\n",
       "\n",
       "/* Common style for \"i\" and \"?\" */\n",
       "\n",
       ".sk-estimator-doc-link,\n",
       "a:link.sk-estimator-doc-link,\n",
       "a:visited.sk-estimator-doc-link {\n",
       "  float: right;\n",
       "  font-size: smaller;\n",
       "  line-height: 1em;\n",
       "  font-family: monospace;\n",
       "  background-color: var(--sklearn-color-background);\n",
       "  border-radius: 1em;\n",
       "  height: 1em;\n",
       "  width: 1em;\n",
       "  text-decoration: none !important;\n",
       "  margin-left: 0.5em;\n",
       "  text-align: center;\n",
       "  /* unfitted */\n",
       "  border: var(--sklearn-color-unfitted-level-1) 1pt solid;\n",
       "  color: var(--sklearn-color-unfitted-level-1);\n",
       "}\n",
       "\n",
       ".sk-estimator-doc-link.fitted,\n",
       "a:link.sk-estimator-doc-link.fitted,\n",
       "a:visited.sk-estimator-doc-link.fitted {\n",
       "  /* fitted */\n",
       "  border: var(--sklearn-color-fitted-level-1) 1pt solid;\n",
       "  color: var(--sklearn-color-fitted-level-1);\n",
       "}\n",
       "\n",
       "/* On hover */\n",
       "div.sk-estimator:hover .sk-estimator-doc-link:hover,\n",
       ".sk-estimator-doc-link:hover,\n",
       "div.sk-label-container:hover .sk-estimator-doc-link:hover,\n",
       ".sk-estimator-doc-link:hover {\n",
       "  /* unfitted */\n",
       "  background-color: var(--sklearn-color-unfitted-level-3);\n",
       "  color: var(--sklearn-color-background);\n",
       "  text-decoration: none;\n",
       "}\n",
       "\n",
       "div.sk-estimator.fitted:hover .sk-estimator-doc-link.fitted:hover,\n",
       ".sk-estimator-doc-link.fitted:hover,\n",
       "div.sk-label-container:hover .sk-estimator-doc-link.fitted:hover,\n",
       ".sk-estimator-doc-link.fitted:hover {\n",
       "  /* fitted */\n",
       "  background-color: var(--sklearn-color-fitted-level-3);\n",
       "  color: var(--sklearn-color-background);\n",
       "  text-decoration: none;\n",
       "}\n",
       "\n",
       "/* Span, style for the box shown on hovering the info icon */\n",
       ".sk-estimator-doc-link span {\n",
       "  display: none;\n",
       "  z-index: 9999;\n",
       "  position: relative;\n",
       "  font-weight: normal;\n",
       "  right: .2ex;\n",
       "  padding: .5ex;\n",
       "  margin: .5ex;\n",
       "  width: min-content;\n",
       "  min-width: 20ex;\n",
       "  max-width: 50ex;\n",
       "  color: var(--sklearn-color-text);\n",
       "  box-shadow: 2pt 2pt 4pt #999;\n",
       "  /* unfitted */\n",
       "  background: var(--sklearn-color-unfitted-level-0);\n",
       "  border: .5pt solid var(--sklearn-color-unfitted-level-3);\n",
       "}\n",
       "\n",
       ".sk-estimator-doc-link.fitted span {\n",
       "  /* fitted */\n",
       "  background: var(--sklearn-color-fitted-level-0);\n",
       "  border: var(--sklearn-color-fitted-level-3);\n",
       "}\n",
       "\n",
       ".sk-estimator-doc-link:hover span {\n",
       "  display: block;\n",
       "}\n",
       "\n",
       "/* \"?\"-specific style due to the `<a>` HTML tag */\n",
       "\n",
       "#sk-container-id-4 a.estimator_doc_link {\n",
       "  float: right;\n",
       "  font-size: 1rem;\n",
       "  line-height: 1em;\n",
       "  font-family: monospace;\n",
       "  background-color: var(--sklearn-color-background);\n",
       "  border-radius: 1rem;\n",
       "  height: 1rem;\n",
       "  width: 1rem;\n",
       "  text-decoration: none;\n",
       "  /* unfitted */\n",
       "  color: var(--sklearn-color-unfitted-level-1);\n",
       "  border: var(--sklearn-color-unfitted-level-1) 1pt solid;\n",
       "}\n",
       "\n",
       "#sk-container-id-4 a.estimator_doc_link.fitted {\n",
       "  /* fitted */\n",
       "  border: var(--sklearn-color-fitted-level-1) 1pt solid;\n",
       "  color: var(--sklearn-color-fitted-level-1);\n",
       "}\n",
       "\n",
       "/* On hover */\n",
       "#sk-container-id-4 a.estimator_doc_link:hover {\n",
       "  /* unfitted */\n",
       "  background-color: var(--sklearn-color-unfitted-level-3);\n",
       "  color: var(--sklearn-color-background);\n",
       "  text-decoration: none;\n",
       "}\n",
       "\n",
       "#sk-container-id-4 a.estimator_doc_link.fitted:hover {\n",
       "  /* fitted */\n",
       "  background-color: var(--sklearn-color-fitted-level-3);\n",
       "}\n",
       "</style><div id=\"sk-container-id-4\" class=\"sk-top-container\"><div class=\"sk-text-repr-fallback\"><pre>LogisticRegression()</pre><b>In a Jupyter environment, please rerun this cell to show the HTML representation or trust the notebook. <br />On GitHub, the HTML representation is unable to render, please try loading this page with nbviewer.org.</b></div><div class=\"sk-container\" hidden><div class=\"sk-item\"><div class=\"sk-estimator fitted sk-toggleable\"><input class=\"sk-toggleable__control sk-hidden--visually\" id=\"sk-estimator-id-4\" type=\"checkbox\" checked><label for=\"sk-estimator-id-4\" class=\"sk-toggleable__label fitted sk-toggleable__label-arrow\"><div><div>LogisticRegression</div></div><div><a class=\"sk-estimator-doc-link fitted\" rel=\"noreferrer\" target=\"_blank\" href=\"https://scikit-learn.org/1.6/modules/generated/sklearn.linear_model.LogisticRegression.html\">?<span>Documentation for LogisticRegression</span></a><span class=\"sk-estimator-doc-link fitted\">i<span>Fitted</span></span></div></label><div class=\"sk-toggleable__content fitted\"><pre>LogisticRegression()</pre></div> </div></div></div></div>"
      ],
      "text/plain": [
       "LogisticRegression()"
      ]
     },
     "execution_count": 299,
     "metadata": {},
     "output_type": "execute_result"
    }
   ],
   "source": [
    "log_reg = LogisticRegression()\n",
    "log_reg.fit(X_train, y_train)"
   ]
  },
  {
   "cell_type": "code",
   "execution_count": 300,
   "id": "869525a0-5242-4cfc-baac-17826c1198b1",
   "metadata": {},
   "outputs": [
    {
     "name": "stdout",
     "output_type": "stream",
     "text": [
      "Accuracy: 0.93\n",
      "\n",
      "Confusion Matrix:\n",
      " [[53  2]\n",
      " [ 5 34]]\n",
      "              precision    recall  f1-score   support\n",
      "\n",
      "           0       0.91      0.96      0.94        55\n",
      "           1       0.94      0.87      0.91        39\n",
      "\n",
      "    accuracy                           0.93        94\n",
      "   macro avg       0.93      0.92      0.92        94\n",
      "weighted avg       0.93      0.93      0.93        94\n",
      "\n"
     ]
    }
   ],
   "source": [
    "lr_pred_d = log_reg.predict(X_test)\n",
    "print(f\"Accuracy: {log_reg.score(X_test, y_test):.2f}\")\n",
    "print(\"\\nConfusion Matrix:\\n\", confusion_matrix(y_test, lr_pred_d))\n",
    "print(classification_report(y_test, lr_pred_d))"
   ]
  },
  {
   "cell_type": "markdown",
   "id": "eb3ca551-8c4a-4916-a723-042da8255f20",
   "metadata": {},
   "source": [
    "## random forest"
   ]
  },
  {
   "cell_type": "code",
   "execution_count": 302,
   "id": "49c99e2d-dceb-4193-8e74-0cfc2cece5a3",
   "metadata": {},
   "outputs": [],
   "source": [
    "rf = RandomForestClassifier(random_state=42)\n",
    "rf.fit(X_train, y_train)\n",
    "\n",
    "rf_pred_class = rf.predict(X_test)"
   ]
  },
  {
   "cell_type": "code",
   "execution_count": 303,
   "id": "c9002652-aca7-40e0-b9e0-7fb55caca030",
   "metadata": {},
   "outputs": [
    {
     "name": "stdout",
     "output_type": "stream",
     "text": [
      "Accuracy: 95.74%\n",
      "\n",
      "Confusion Matrix:\n",
      " [[55  0]\n",
      " [ 4 35]]\n",
      "\n",
      "Classification Report:\n",
      "               precision    recall  f1-score   support\n",
      "\n",
      "           0       0.93      1.00      0.96        55\n",
      "           1       1.00      0.90      0.95        39\n",
      "\n",
      "    accuracy                           0.96        94\n",
      "   macro avg       0.97      0.95      0.96        94\n",
      "weighted avg       0.96      0.96      0.96        94\n",
      "\n"
     ]
    }
   ],
   "source": [
    "accuracy = accuracy_score(y_test, rf_pred_class)\n",
    "conf_matrix = confusion_matrix(y_test, rf_pred_class)\n",
    "class_report = classification_report(y_test, rf_pred_class)\n",
    "\n",
    "print(f\"Accuracy: {accuracy * 100:.2f}%\")\n",
    "print(\"\\nConfusion Matrix:\\n\", conf_matrix)\n",
    "print(\"\\nClassification Report:\\n\", class_report)"
   ]
  },
  {
   "cell_type": "markdown",
   "id": "22580d8b-be80-444e-bc97-0d5683c1329b",
   "metadata": {},
   "source": [
    "### CatBoost"
   ]
  },
  {
   "cell_type": "code",
   "execution_count": 305,
   "id": "946ca78d-77cd-4b8c-8291-1547b985b72e",
   "metadata": {},
   "outputs": [
    {
     "name": "stdout",
     "output_type": "stream",
     "text": [
      "Learning rate set to 0.005982\n",
      "0:\tlearn: 0.6851588\ttotal: 2.67ms\tremaining: 2.67s\n",
      "1:\tlearn: 0.6783044\ttotal: 7.97ms\tremaining: 3.98s\n",
      "2:\tlearn: 0.6710813\ttotal: 10.3ms\tremaining: 3.43s\n",
      "3:\tlearn: 0.6648436\ttotal: 14.4ms\tremaining: 3.59s\n",
      "4:\tlearn: 0.6581681\ttotal: 18.3ms\tremaining: 3.65s\n",
      "5:\tlearn: 0.6519517\ttotal: 22.7ms\tremaining: 3.76s\n",
      "6:\tlearn: 0.6453251\ttotal: 26.7ms\tremaining: 3.79s\n",
      "7:\tlearn: 0.6387653\ttotal: 30.5ms\tremaining: 3.78s\n",
      "8:\tlearn: 0.6325556\ttotal: 33.2ms\tremaining: 3.65s\n",
      "9:\tlearn: 0.6260596\ttotal: 37.4ms\tremaining: 3.71s\n",
      "10:\tlearn: 0.6214524\ttotal: 41.3ms\tremaining: 3.71s\n",
      "11:\tlearn: 0.6151223\ttotal: 45.2ms\tremaining: 3.72s\n",
      "12:\tlearn: 0.6099060\ttotal: 48.7ms\tremaining: 3.69s\n",
      "13:\tlearn: 0.6039127\ttotal: 52.9ms\tremaining: 3.73s\n",
      "14:\tlearn: 0.5985144\ttotal: 56.4ms\tremaining: 3.71s\n",
      "15:\tlearn: 0.5938704\ttotal: 60ms\tremaining: 3.69s\n",
      "16:\tlearn: 0.5882715\ttotal: 63.1ms\tremaining: 3.65s\n",
      "17:\tlearn: 0.5820345\ttotal: 67ms\tremaining: 3.65s\n",
      "18:\tlearn: 0.5771275\ttotal: 70.8ms\tremaining: 3.65s\n",
      "19:\tlearn: 0.5715524\ttotal: 73.4ms\tremaining: 3.6s\n",
      "20:\tlearn: 0.5659875\ttotal: 77ms\tremaining: 3.59s\n",
      "21:\tlearn: 0.5609628\ttotal: 81ms\tremaining: 3.6s\n",
      "22:\tlearn: 0.5562250\ttotal: 84.2ms\tremaining: 3.58s\n",
      "23:\tlearn: 0.5511204\ttotal: 87.4ms\tremaining: 3.56s\n",
      "24:\tlearn: 0.5475164\ttotal: 91.4ms\tremaining: 3.56s\n",
      "25:\tlearn: 0.5423247\ttotal: 94.8ms\tremaining: 3.55s\n",
      "26:\tlearn: 0.5374746\ttotal: 98.1ms\tremaining: 3.54s\n",
      "27:\tlearn: 0.5327129\ttotal: 102ms\tremaining: 3.54s\n",
      "28:\tlearn: 0.5280191\ttotal: 105ms\tremaining: 3.51s\n",
      "29:\tlearn: 0.5242093\ttotal: 107ms\tremaining: 3.48s\n",
      "30:\tlearn: 0.5192951\ttotal: 110ms\tremaining: 3.45s\n",
      "31:\tlearn: 0.5148361\ttotal: 113ms\tremaining: 3.42s\n",
      "32:\tlearn: 0.5111405\ttotal: 116ms\tremaining: 3.4s\n",
      "33:\tlearn: 0.5064649\ttotal: 119ms\tremaining: 3.37s\n",
      "34:\tlearn: 0.5027503\ttotal: 121ms\tremaining: 3.33s\n",
      "35:\tlearn: 0.4984119\ttotal: 124ms\tremaining: 3.32s\n",
      "36:\tlearn: 0.4939022\ttotal: 126ms\tremaining: 3.29s\n",
      "37:\tlearn: 0.4898063\ttotal: 129ms\tremaining: 3.26s\n",
      "38:\tlearn: 0.4868687\ttotal: 132ms\tremaining: 3.24s\n",
      "39:\tlearn: 0.4827655\ttotal: 136ms\tremaining: 3.25s\n",
      "40:\tlearn: 0.4789492\ttotal: 140ms\tremaining: 3.26s\n",
      "41:\tlearn: 0.4751013\ttotal: 143ms\tremaining: 3.25s\n",
      "42:\tlearn: 0.4713993\ttotal: 146ms\tremaining: 3.24s\n",
      "43:\tlearn: 0.4677194\ttotal: 148ms\tremaining: 3.22s\n",
      "44:\tlearn: 0.4645560\ttotal: 151ms\tremaining: 3.21s\n",
      "45:\tlearn: 0.4604905\ttotal: 154ms\tremaining: 3.19s\n",
      "46:\tlearn: 0.4573659\ttotal: 157ms\tremaining: 3.17s\n",
      "47:\tlearn: 0.4538655\ttotal: 159ms\tremaining: 3.15s\n",
      "48:\tlearn: 0.4505221\ttotal: 162ms\tremaining: 3.15s\n",
      "49:\tlearn: 0.4468907\ttotal: 166ms\tremaining: 3.15s\n",
      "50:\tlearn: 0.4435363\ttotal: 169ms\tremaining: 3.13s\n",
      "51:\tlearn: 0.4401991\ttotal: 171ms\tremaining: 3.12s\n",
      "52:\tlearn: 0.4371045\ttotal: 174ms\tremaining: 3.1s\n",
      "53:\tlearn: 0.4337852\ttotal: 176ms\tremaining: 3.08s\n",
      "54:\tlearn: 0.4306331\ttotal: 179ms\tremaining: 3.07s\n",
      "55:\tlearn: 0.4273717\ttotal: 181ms\tremaining: 3.06s\n",
      "56:\tlearn: 0.4251408\ttotal: 184ms\tremaining: 3.05s\n",
      "57:\tlearn: 0.4225341\ttotal: 188ms\tremaining: 3.05s\n",
      "58:\tlearn: 0.4196329\ttotal: 192ms\tremaining: 3.07s\n",
      "59:\tlearn: 0.4167715\ttotal: 196ms\tremaining: 3.07s\n",
      "60:\tlearn: 0.4137263\ttotal: 199ms\tremaining: 3.06s\n",
      "61:\tlearn: 0.4116604\ttotal: 201ms\tremaining: 3.05s\n",
      "62:\tlearn: 0.4087442\ttotal: 205ms\tremaining: 3.05s\n",
      "63:\tlearn: 0.4057632\ttotal: 207ms\tremaining: 3.03s\n",
      "64:\tlearn: 0.4030600\ttotal: 210ms\tremaining: 3.02s\n",
      "65:\tlearn: 0.4002130\ttotal: 212ms\tremaining: 3s\n",
      "66:\tlearn: 0.3974417\ttotal: 216ms\tremaining: 3s\n",
      "67:\tlearn: 0.3949217\ttotal: 219ms\tremaining: 3.01s\n",
      "68:\tlearn: 0.3923394\ttotal: 222ms\tremaining: 2.99s\n",
      "69:\tlearn: 0.3894610\ttotal: 225ms\tremaining: 2.99s\n",
      "70:\tlearn: 0.3866856\ttotal: 227ms\tremaining: 2.97s\n",
      "71:\tlearn: 0.3843376\ttotal: 229ms\tremaining: 2.96s\n",
      "72:\tlearn: 0.3825033\ttotal: 231ms\tremaining: 2.93s\n",
      "73:\tlearn: 0.3802920\ttotal: 233ms\tremaining: 2.91s\n",
      "74:\tlearn: 0.3777572\ttotal: 236ms\tremaining: 2.91s\n",
      "75:\tlearn: 0.3751037\ttotal: 238ms\tremaining: 2.9s\n",
      "76:\tlearn: 0.3726779\ttotal: 241ms\tremaining: 2.89s\n",
      "77:\tlearn: 0.3703934\ttotal: 246ms\tremaining: 2.91s\n",
      "78:\tlearn: 0.3684040\ttotal: 250ms\tremaining: 2.92s\n",
      "79:\tlearn: 0.3660578\ttotal: 252ms\tremaining: 2.9s\n",
      "80:\tlearn: 0.3640094\ttotal: 256ms\tremaining: 2.9s\n",
      "81:\tlearn: 0.3625857\ttotal: 259ms\tremaining: 2.9s\n",
      "82:\tlearn: 0.3606553\ttotal: 264ms\tremaining: 2.91s\n",
      "83:\tlearn: 0.3587039\ttotal: 267ms\tremaining: 2.92s\n",
      "84:\tlearn: 0.3568168\ttotal: 271ms\tremaining: 2.92s\n",
      "85:\tlearn: 0.3545840\ttotal: 275ms\tremaining: 2.92s\n",
      "86:\tlearn: 0.3527549\ttotal: 280ms\tremaining: 2.93s\n",
      "87:\tlearn: 0.3507461\ttotal: 282ms\tremaining: 2.93s\n",
      "88:\tlearn: 0.3492617\ttotal: 285ms\tremaining: 2.91s\n",
      "89:\tlearn: 0.3473034\ttotal: 287ms\tremaining: 2.9s\n",
      "90:\tlearn: 0.3453149\ttotal: 290ms\tremaining: 2.89s\n",
      "91:\tlearn: 0.3432860\ttotal: 293ms\tremaining: 2.89s\n",
      "92:\tlearn: 0.3419255\ttotal: 295ms\tremaining: 2.88s\n",
      "93:\tlearn: 0.3402003\ttotal: 298ms\tremaining: 2.87s\n",
      "94:\tlearn: 0.3387515\ttotal: 301ms\tremaining: 2.87s\n",
      "95:\tlearn: 0.3368198\ttotal: 305ms\tremaining: 2.87s\n",
      "96:\tlearn: 0.3349929\ttotal: 309ms\tremaining: 2.87s\n",
      "97:\tlearn: 0.3333189\ttotal: 313ms\tremaining: 2.88s\n",
      "98:\tlearn: 0.3316348\ttotal: 316ms\tremaining: 2.88s\n",
      "99:\tlearn: 0.3298720\ttotal: 319ms\tremaining: 2.87s\n",
      "100:\tlearn: 0.3281796\ttotal: 324ms\tremaining: 2.88s\n",
      "101:\tlearn: 0.3264382\ttotal: 328ms\tremaining: 2.88s\n",
      "102:\tlearn: 0.3250768\ttotal: 331ms\tremaining: 2.88s\n",
      "103:\tlearn: 0.3235480\ttotal: 335ms\tremaining: 2.88s\n",
      "104:\tlearn: 0.3219864\ttotal: 338ms\tremaining: 2.88s\n",
      "105:\tlearn: 0.3207964\ttotal: 341ms\tremaining: 2.88s\n",
      "106:\tlearn: 0.3193533\ttotal: 345ms\tremaining: 2.88s\n",
      "107:\tlearn: 0.3179036\ttotal: 349ms\tremaining: 2.88s\n",
      "108:\tlearn: 0.3164120\ttotal: 352ms\tremaining: 2.88s\n",
      "109:\tlearn: 0.3150671\ttotal: 356ms\tremaining: 2.88s\n",
      "110:\tlearn: 0.3136422\ttotal: 360ms\tremaining: 2.88s\n",
      "111:\tlearn: 0.3122061\ttotal: 364ms\tremaining: 2.88s\n",
      "112:\tlearn: 0.3106814\ttotal: 368ms\tremaining: 2.89s\n",
      "113:\tlearn: 0.3092584\ttotal: 372ms\tremaining: 2.89s\n",
      "114:\tlearn: 0.3078554\ttotal: 376ms\tremaining: 2.89s\n",
      "115:\tlearn: 0.3065737\ttotal: 379ms\tremaining: 2.89s\n",
      "116:\tlearn: 0.3052161\ttotal: 384ms\tremaining: 2.9s\n",
      "117:\tlearn: 0.3040440\ttotal: 388ms\tremaining: 2.9s\n",
      "118:\tlearn: 0.3027884\ttotal: 391ms\tremaining: 2.89s\n",
      "119:\tlearn: 0.3015519\ttotal: 394ms\tremaining: 2.89s\n",
      "120:\tlearn: 0.3003635\ttotal: 397ms\tremaining: 2.88s\n",
      "121:\tlearn: 0.2997895\ttotal: 398ms\tremaining: 2.87s\n",
      "122:\tlearn: 0.2985531\ttotal: 402ms\tremaining: 2.86s\n",
      "123:\tlearn: 0.2973730\ttotal: 403ms\tremaining: 2.85s\n",
      "124:\tlearn: 0.2961184\ttotal: 406ms\tremaining: 2.84s\n",
      "125:\tlearn: 0.2952402\ttotal: 409ms\tremaining: 2.84s\n",
      "126:\tlearn: 0.2941559\ttotal: 412ms\tremaining: 2.83s\n",
      "127:\tlearn: 0.2931320\ttotal: 415ms\tremaining: 2.83s\n",
      "128:\tlearn: 0.2920099\ttotal: 419ms\tremaining: 2.83s\n",
      "129:\tlearn: 0.2910940\ttotal: 422ms\tremaining: 2.83s\n",
      "130:\tlearn: 0.2903147\ttotal: 426ms\tremaining: 2.83s\n",
      "131:\tlearn: 0.2891767\ttotal: 430ms\tremaining: 2.83s\n",
      "132:\tlearn: 0.2881143\ttotal: 435ms\tremaining: 2.83s\n",
      "133:\tlearn: 0.2871444\ttotal: 438ms\tremaining: 2.83s\n",
      "134:\tlearn: 0.2860489\ttotal: 442ms\tremaining: 2.83s\n",
      "135:\tlearn: 0.2850135\ttotal: 446ms\tremaining: 2.83s\n",
      "136:\tlearn: 0.2844549\ttotal: 449ms\tremaining: 2.83s\n",
      "137:\tlearn: 0.2834346\ttotal: 453ms\tremaining: 2.83s\n",
      "138:\tlearn: 0.2825311\ttotal: 456ms\tremaining: 2.83s\n",
      "139:\tlearn: 0.2815181\ttotal: 460ms\tremaining: 2.82s\n",
      "140:\tlearn: 0.2806129\ttotal: 464ms\tremaining: 2.82s\n",
      "141:\tlearn: 0.2796826\ttotal: 467ms\tremaining: 2.82s\n",
      "142:\tlearn: 0.2789557\ttotal: 471ms\tremaining: 2.82s\n",
      "143:\tlearn: 0.2779512\ttotal: 474ms\tremaining: 2.82s\n",
      "144:\tlearn: 0.2771896\ttotal: 478ms\tremaining: 2.82s\n",
      "145:\tlearn: 0.2762786\ttotal: 481ms\tremaining: 2.81s\n",
      "146:\tlearn: 0.2754081\ttotal: 484ms\tremaining: 2.81s\n",
      "147:\tlearn: 0.2746983\ttotal: 488ms\tremaining: 2.81s\n",
      "148:\tlearn: 0.2738492\ttotal: 491ms\tremaining: 2.8s\n",
      "149:\tlearn: 0.2729809\ttotal: 494ms\tremaining: 2.8s\n",
      "150:\tlearn: 0.2721424\ttotal: 496ms\tremaining: 2.79s\n",
      "151:\tlearn: 0.2714969\ttotal: 498ms\tremaining: 2.78s\n",
      "152:\tlearn: 0.2708292\ttotal: 500ms\tremaining: 2.77s\n",
      "153:\tlearn: 0.2701397\ttotal: 503ms\tremaining: 2.76s\n",
      "154:\tlearn: 0.2692986\ttotal: 507ms\tremaining: 2.76s\n",
      "155:\tlearn: 0.2685859\ttotal: 510ms\tremaining: 2.76s\n",
      "156:\tlearn: 0.2678695\ttotal: 514ms\tremaining: 2.76s\n",
      "157:\tlearn: 0.2671297\ttotal: 517ms\tremaining: 2.76s\n",
      "158:\tlearn: 0.2663883\ttotal: 521ms\tremaining: 2.76s\n",
      "159:\tlearn: 0.2657997\ttotal: 525ms\tremaining: 2.75s\n",
      "160:\tlearn: 0.2650680\ttotal: 527ms\tremaining: 2.75s\n",
      "161:\tlearn: 0.2644475\ttotal: 531ms\tremaining: 2.75s\n",
      "162:\tlearn: 0.2638841\ttotal: 535ms\tremaining: 2.74s\n",
      "163:\tlearn: 0.2631580\ttotal: 538ms\tremaining: 2.74s\n",
      "164:\tlearn: 0.2625005\ttotal: 541ms\tremaining: 2.74s\n",
      "165:\tlearn: 0.2618224\ttotal: 545ms\tremaining: 2.74s\n",
      "166:\tlearn: 0.2611827\ttotal: 548ms\tremaining: 2.73s\n",
      "167:\tlearn: 0.2604606\ttotal: 552ms\tremaining: 2.73s\n",
      "168:\tlearn: 0.2597510\ttotal: 556ms\tremaining: 2.73s\n",
      "169:\tlearn: 0.2590200\ttotal: 559ms\tremaining: 2.73s\n",
      "170:\tlearn: 0.2588455\ttotal: 562ms\tremaining: 2.73s\n",
      "171:\tlearn: 0.2581874\ttotal: 565ms\tremaining: 2.72s\n",
      "172:\tlearn: 0.2575490\ttotal: 569ms\tremaining: 2.72s\n",
      "173:\tlearn: 0.2571035\ttotal: 572ms\tremaining: 2.72s\n",
      "174:\tlearn: 0.2564208\ttotal: 576ms\tremaining: 2.71s\n",
      "175:\tlearn: 0.2559186\ttotal: 579ms\tremaining: 2.71s\n",
      "176:\tlearn: 0.2555824\ttotal: 582ms\tremaining: 2.71s\n",
      "177:\tlearn: 0.2549965\ttotal: 585ms\tremaining: 2.7s\n",
      "178:\tlearn: 0.2544514\ttotal: 588ms\tremaining: 2.69s\n",
      "179:\tlearn: 0.2538982\ttotal: 591ms\tremaining: 2.69s\n",
      "180:\tlearn: 0.2534112\ttotal: 594ms\tremaining: 2.69s\n",
      "181:\tlearn: 0.2529193\ttotal: 597ms\tremaining: 2.69s\n",
      "182:\tlearn: 0.2524494\ttotal: 600ms\tremaining: 2.68s\n",
      "183:\tlearn: 0.2518872\ttotal: 603ms\tremaining: 2.67s\n",
      "184:\tlearn: 0.2515251\ttotal: 606ms\tremaining: 2.67s\n",
      "185:\tlearn: 0.2509500\ttotal: 608ms\tremaining: 2.66s\n",
      "186:\tlearn: 0.2506105\ttotal: 611ms\tremaining: 2.66s\n",
      "187:\tlearn: 0.2501035\ttotal: 616ms\tremaining: 2.66s\n",
      "188:\tlearn: 0.2496296\ttotal: 620ms\tremaining: 2.66s\n",
      "189:\tlearn: 0.2491417\ttotal: 624ms\tremaining: 2.66s\n",
      "190:\tlearn: 0.2486140\ttotal: 628ms\tremaining: 2.66s\n",
      "191:\tlearn: 0.2481126\ttotal: 632ms\tremaining: 2.66s\n",
      "192:\tlearn: 0.2475798\ttotal: 636ms\tremaining: 2.66s\n",
      "193:\tlearn: 0.2470843\ttotal: 639ms\tremaining: 2.65s\n",
      "194:\tlearn: 0.2467530\ttotal: 643ms\tremaining: 2.65s\n",
      "195:\tlearn: 0.2462342\ttotal: 646ms\tremaining: 2.65s\n",
      "196:\tlearn: 0.2457137\ttotal: 650ms\tremaining: 2.65s\n",
      "197:\tlearn: 0.2452209\ttotal: 654ms\tremaining: 2.65s\n",
      "198:\tlearn: 0.2447670\ttotal: 658ms\tremaining: 2.65s\n",
      "199:\tlearn: 0.2442950\ttotal: 662ms\tremaining: 2.65s\n",
      "200:\tlearn: 0.2437902\ttotal: 666ms\tremaining: 2.65s\n",
      "201:\tlearn: 0.2433724\ttotal: 670ms\tremaining: 2.65s\n",
      "202:\tlearn: 0.2429274\ttotal: 675ms\tremaining: 2.65s\n",
      "203:\tlearn: 0.2425279\ttotal: 678ms\tremaining: 2.65s\n",
      "204:\tlearn: 0.2420460\ttotal: 682ms\tremaining: 2.65s\n",
      "205:\tlearn: 0.2417325\ttotal: 686ms\tremaining: 2.64s\n",
      "206:\tlearn: 0.2413940\ttotal: 689ms\tremaining: 2.64s\n",
      "207:\tlearn: 0.2410591\ttotal: 692ms\tremaining: 2.63s\n",
      "208:\tlearn: 0.2406454\ttotal: 695ms\tremaining: 2.63s\n",
      "209:\tlearn: 0.2402932\ttotal: 699ms\tremaining: 2.63s\n",
      "210:\tlearn: 0.2398798\ttotal: 703ms\tremaining: 2.63s\n",
      "211:\tlearn: 0.2394278\ttotal: 707ms\tremaining: 2.63s\n",
      "212:\tlearn: 0.2390205\ttotal: 710ms\tremaining: 2.62s\n",
      "213:\tlearn: 0.2386723\ttotal: 714ms\tremaining: 2.62s\n",
      "214:\tlearn: 0.2383375\ttotal: 716ms\tremaining: 2.62s\n",
      "215:\tlearn: 0.2379953\ttotal: 719ms\tremaining: 2.61s\n",
      "216:\tlearn: 0.2376014\ttotal: 722ms\tremaining: 2.6s\n",
      "217:\tlearn: 0.2372512\ttotal: 726ms\tremaining: 2.6s\n",
      "218:\tlearn: 0.2367909\ttotal: 730ms\tremaining: 2.6s\n",
      "219:\tlearn: 0.2364959\ttotal: 733ms\tremaining: 2.6s\n",
      "220:\tlearn: 0.2360455\ttotal: 736ms\tremaining: 2.59s\n",
      "221:\tlearn: 0.2358316\ttotal: 740ms\tremaining: 2.59s\n",
      "222:\tlearn: 0.2355097\ttotal: 743ms\tremaining: 2.59s\n",
      "223:\tlearn: 0.2351334\ttotal: 747ms\tremaining: 2.59s\n",
      "224:\tlearn: 0.2347622\ttotal: 751ms\tremaining: 2.59s\n",
      "225:\tlearn: 0.2344290\ttotal: 754ms\tremaining: 2.58s\n",
      "226:\tlearn: 0.2342631\ttotal: 757ms\tremaining: 2.58s\n",
      "227:\tlearn: 0.2339115\ttotal: 760ms\tremaining: 2.57s\n",
      "228:\tlearn: 0.2335441\ttotal: 763ms\tremaining: 2.57s\n",
      "229:\tlearn: 0.2331881\ttotal: 767ms\tremaining: 2.57s\n",
      "230:\tlearn: 0.2328577\ttotal: 770ms\tremaining: 2.56s\n",
      "231:\tlearn: 0.2325514\ttotal: 774ms\tremaining: 2.56s\n",
      "232:\tlearn: 0.2322955\ttotal: 779ms\tremaining: 2.56s\n",
      "233:\tlearn: 0.2320606\ttotal: 784ms\tremaining: 2.56s\n",
      "234:\tlearn: 0.2317311\ttotal: 786ms\tremaining: 2.56s\n",
      "235:\tlearn: 0.2313804\ttotal: 787ms\tremaining: 2.55s\n",
      "236:\tlearn: 0.2311002\ttotal: 791ms\tremaining: 2.55s\n",
      "237:\tlearn: 0.2308255\ttotal: 795ms\tremaining: 2.55s\n",
      "238:\tlearn: 0.2304841\ttotal: 799ms\tremaining: 2.54s\n",
      "239:\tlearn: 0.2301164\ttotal: 803ms\tremaining: 2.54s\n",
      "240:\tlearn: 0.2298211\ttotal: 808ms\tremaining: 2.54s\n",
      "241:\tlearn: 0.2295735\ttotal: 812ms\tremaining: 2.54s\n",
      "242:\tlearn: 0.2292365\ttotal: 816ms\tremaining: 2.54s\n",
      "243:\tlearn: 0.2289416\ttotal: 819ms\tremaining: 2.54s\n",
      "244:\tlearn: 0.2286768\ttotal: 823ms\tremaining: 2.54s\n",
      "245:\tlearn: 0.2284667\ttotal: 826ms\tremaining: 2.53s\n",
      "246:\tlearn: 0.2281768\ttotal: 829ms\tremaining: 2.53s\n",
      "247:\tlearn: 0.2278963\ttotal: 834ms\tremaining: 2.53s\n",
      "248:\tlearn: 0.2275819\ttotal: 837ms\tremaining: 2.52s\n",
      "249:\tlearn: 0.2272849\ttotal: 840ms\tremaining: 2.52s\n",
      "250:\tlearn: 0.2270159\ttotal: 844ms\tremaining: 2.52s\n",
      "251:\tlearn: 0.2267978\ttotal: 847ms\tremaining: 2.51s\n",
      "252:\tlearn: 0.2265882\ttotal: 850ms\tremaining: 2.51s\n",
      "253:\tlearn: 0.2263595\ttotal: 853ms\tremaining: 2.51s\n",
      "254:\tlearn: 0.2261549\ttotal: 857ms\tremaining: 2.5s\n",
      "255:\tlearn: 0.2258935\ttotal: 860ms\tremaining: 2.5s\n",
      "256:\tlearn: 0.2256175\ttotal: 864ms\tremaining: 2.5s\n",
      "257:\tlearn: 0.2254029\ttotal: 868ms\tremaining: 2.5s\n",
      "258:\tlearn: 0.2251742\ttotal: 871ms\tremaining: 2.49s\n",
      "259:\tlearn: 0.2250562\ttotal: 873ms\tremaining: 2.48s\n",
      "260:\tlearn: 0.2248955\ttotal: 876ms\tremaining: 2.48s\n",
      "261:\tlearn: 0.2246258\ttotal: 879ms\tremaining: 2.48s\n",
      "262:\tlearn: 0.2243943\ttotal: 883ms\tremaining: 2.47s\n",
      "263:\tlearn: 0.2241510\ttotal: 887ms\tremaining: 2.47s\n",
      "264:\tlearn: 0.2239194\ttotal: 889ms\tremaining: 2.47s\n",
      "265:\tlearn: 0.2237009\ttotal: 893ms\tremaining: 2.46s\n",
      "266:\tlearn: 0.2235029\ttotal: 896ms\tremaining: 2.46s\n",
      "267:\tlearn: 0.2233476\ttotal: 900ms\tremaining: 2.46s\n",
      "268:\tlearn: 0.2231562\ttotal: 903ms\tremaining: 2.45s\n",
      "269:\tlearn: 0.2229483\ttotal: 906ms\tremaining: 2.45s\n",
      "270:\tlearn: 0.2228142\ttotal: 909ms\tremaining: 2.45s\n",
      "271:\tlearn: 0.2226211\ttotal: 913ms\tremaining: 2.44s\n",
      "272:\tlearn: 0.2223921\ttotal: 916ms\tremaining: 2.44s\n",
      "273:\tlearn: 0.2221431\ttotal: 919ms\tremaining: 2.44s\n",
      "274:\tlearn: 0.2219910\ttotal: 922ms\tremaining: 2.43s\n",
      "275:\tlearn: 0.2217060\ttotal: 926ms\tremaining: 2.43s\n",
      "276:\tlearn: 0.2215793\ttotal: 930ms\tremaining: 2.43s\n",
      "277:\tlearn: 0.2214253\ttotal: 933ms\tremaining: 2.42s\n",
      "278:\tlearn: 0.2212454\ttotal: 935ms\tremaining: 2.42s\n",
      "279:\tlearn: 0.2209846\ttotal: 938ms\tremaining: 2.41s\n",
      "280:\tlearn: 0.2207855\ttotal: 942ms\tremaining: 2.41s\n",
      "281:\tlearn: 0.2205800\ttotal: 945ms\tremaining: 2.41s\n",
      "282:\tlearn: 0.2203787\ttotal: 949ms\tremaining: 2.4s\n",
      "283:\tlearn: 0.2201635\ttotal: 952ms\tremaining: 2.4s\n",
      "284:\tlearn: 0.2200158\ttotal: 955ms\tremaining: 2.4s\n",
      "285:\tlearn: 0.2198404\ttotal: 959ms\tremaining: 2.39s\n",
      "286:\tlearn: 0.2196730\ttotal: 962ms\tremaining: 2.39s\n",
      "287:\tlearn: 0.2195320\ttotal: 965ms\tremaining: 2.39s\n",
      "288:\tlearn: 0.2193890\ttotal: 969ms\tremaining: 2.38s\n",
      "289:\tlearn: 0.2191932\ttotal: 972ms\tremaining: 2.38s\n",
      "290:\tlearn: 0.2190362\ttotal: 975ms\tremaining: 2.38s\n",
      "291:\tlearn: 0.2188540\ttotal: 980ms\tremaining: 2.38s\n",
      "292:\tlearn: 0.2186684\ttotal: 984ms\tremaining: 2.37s\n",
      "293:\tlearn: 0.2184707\ttotal: 988ms\tremaining: 2.37s\n",
      "294:\tlearn: 0.2183284\ttotal: 991ms\tremaining: 2.37s\n",
      "295:\tlearn: 0.2181612\ttotal: 994ms\tremaining: 2.36s\n",
      "296:\tlearn: 0.2180110\ttotal: 997ms\tremaining: 2.36s\n",
      "297:\tlearn: 0.2178301\ttotal: 1s\tremaining: 2.36s\n",
      "298:\tlearn: 0.2177314\ttotal: 1s\tremaining: 2.35s\n",
      "299:\tlearn: 0.2175544\ttotal: 1.01s\tremaining: 2.35s\n",
      "300:\tlearn: 0.2173545\ttotal: 1.01s\tremaining: 2.34s\n",
      "301:\tlearn: 0.2172041\ttotal: 1.01s\tremaining: 2.34s\n",
      "302:\tlearn: 0.2170560\ttotal: 1.01s\tremaining: 2.33s\n",
      "303:\tlearn: 0.2169125\ttotal: 1.02s\tremaining: 2.33s\n",
      "304:\tlearn: 0.2167613\ttotal: 1.02s\tremaining: 2.33s\n",
      "305:\tlearn: 0.2166263\ttotal: 1.02s\tremaining: 2.32s\n",
      "306:\tlearn: 0.2164250\ttotal: 1.03s\tremaining: 2.32s\n",
      "307:\tlearn: 0.2162834\ttotal: 1.03s\tremaining: 2.32s\n",
      "308:\tlearn: 0.2161282\ttotal: 1.03s\tremaining: 2.31s\n",
      "309:\tlearn: 0.2159715\ttotal: 1.04s\tremaining: 2.31s\n",
      "310:\tlearn: 0.2158552\ttotal: 1.04s\tremaining: 2.31s\n",
      "311:\tlearn: 0.2156921\ttotal: 1.04s\tremaining: 2.3s\n",
      "312:\tlearn: 0.2156043\ttotal: 1.05s\tremaining: 2.3s\n",
      "313:\tlearn: 0.2154359\ttotal: 1.05s\tremaining: 2.29s\n",
      "314:\tlearn: 0.2152922\ttotal: 1.05s\tremaining: 2.29s\n",
      "315:\tlearn: 0.2151642\ttotal: 1.06s\tremaining: 2.29s\n",
      "316:\tlearn: 0.2150333\ttotal: 1.06s\tremaining: 2.29s\n",
      "317:\tlearn: 0.2148858\ttotal: 1.06s\tremaining: 2.28s\n",
      "318:\tlearn: 0.2146935\ttotal: 1.07s\tremaining: 2.28s\n",
      "319:\tlearn: 0.2146193\ttotal: 1.07s\tremaining: 2.27s\n",
      "320:\tlearn: 0.2144868\ttotal: 1.07s\tremaining: 2.27s\n",
      "321:\tlearn: 0.2143589\ttotal: 1.08s\tremaining: 2.27s\n",
      "322:\tlearn: 0.2141122\ttotal: 1.08s\tremaining: 2.27s\n",
      "323:\tlearn: 0.2140208\ttotal: 1.08s\tremaining: 2.26s\n",
      "324:\tlearn: 0.2138797\ttotal: 1.09s\tremaining: 2.26s\n",
      "325:\tlearn: 0.2137654\ttotal: 1.09s\tremaining: 2.26s\n",
      "326:\tlearn: 0.2136264\ttotal: 1.09s\tremaining: 2.25s\n",
      "327:\tlearn: 0.2135008\ttotal: 1.1s\tremaining: 2.25s\n",
      "328:\tlearn: 0.2133730\ttotal: 1.1s\tremaining: 2.25s\n",
      "329:\tlearn: 0.2133281\ttotal: 1.1s\tremaining: 2.24s\n",
      "330:\tlearn: 0.2132000\ttotal: 1.11s\tremaining: 2.24s\n",
      "331:\tlearn: 0.2130462\ttotal: 1.11s\tremaining: 2.23s\n",
      "332:\tlearn: 0.2129470\ttotal: 1.11s\tremaining: 2.23s\n",
      "333:\tlearn: 0.2128522\ttotal: 1.12s\tremaining: 2.23s\n",
      "334:\tlearn: 0.2127241\ttotal: 1.12s\tremaining: 2.22s\n",
      "335:\tlearn: 0.2125422\ttotal: 1.12s\tremaining: 2.22s\n",
      "336:\tlearn: 0.2124504\ttotal: 1.13s\tremaining: 2.21s\n",
      "337:\tlearn: 0.2123654\ttotal: 1.13s\tremaining: 2.21s\n",
      "338:\tlearn: 0.2122614\ttotal: 1.13s\tremaining: 2.21s\n",
      "339:\tlearn: 0.2121875\ttotal: 1.14s\tremaining: 2.2s\n",
      "340:\tlearn: 0.2120597\ttotal: 1.14s\tremaining: 2.2s\n",
      "341:\tlearn: 0.2119915\ttotal: 1.14s\tremaining: 2.2s\n",
      "342:\tlearn: 0.2118342\ttotal: 1.15s\tremaining: 2.19s\n",
      "343:\tlearn: 0.2117160\ttotal: 1.15s\tremaining: 2.19s\n",
      "344:\tlearn: 0.2115638\ttotal: 1.15s\tremaining: 2.19s\n",
      "345:\tlearn: 0.2114796\ttotal: 1.16s\tremaining: 2.19s\n",
      "346:\tlearn: 0.2113811\ttotal: 1.16s\tremaining: 2.18s\n",
      "347:\tlearn: 0.2112666\ttotal: 1.16s\tremaining: 2.18s\n",
      "348:\tlearn: 0.2111491\ttotal: 1.17s\tremaining: 2.17s\n",
      "349:\tlearn: 0.2110481\ttotal: 1.17s\tremaining: 2.18s\n",
      "350:\tlearn: 0.2109501\ttotal: 1.18s\tremaining: 2.17s\n",
      "351:\tlearn: 0.2108705\ttotal: 1.18s\tremaining: 2.17s\n",
      "352:\tlearn: 0.2107809\ttotal: 1.18s\tremaining: 2.17s\n",
      "353:\tlearn: 0.2106609\ttotal: 1.18s\tremaining: 2.16s\n",
      "354:\tlearn: 0.2105299\ttotal: 1.19s\tremaining: 2.16s\n",
      "355:\tlearn: 0.2104553\ttotal: 1.19s\tremaining: 2.16s\n",
      "356:\tlearn: 0.2102689\ttotal: 1.2s\tremaining: 2.15s\n",
      "357:\tlearn: 0.2101252\ttotal: 1.2s\tremaining: 2.15s\n",
      "358:\tlearn: 0.2100709\ttotal: 1.2s\tremaining: 2.15s\n",
      "359:\tlearn: 0.2099366\ttotal: 1.21s\tremaining: 2.14s\n",
      "360:\tlearn: 0.2098187\ttotal: 1.21s\tremaining: 2.14s\n",
      "361:\tlearn: 0.2096598\ttotal: 1.21s\tremaining: 2.14s\n",
      "362:\tlearn: 0.2095519\ttotal: 1.22s\tremaining: 2.13s\n",
      "363:\tlearn: 0.2094825\ttotal: 1.22s\tremaining: 2.13s\n",
      "364:\tlearn: 0.2093811\ttotal: 1.22s\tremaining: 2.13s\n",
      "365:\tlearn: 0.2093529\ttotal: 1.23s\tremaining: 2.12s\n",
      "366:\tlearn: 0.2092514\ttotal: 1.23s\tremaining: 2.12s\n",
      "367:\tlearn: 0.2090775\ttotal: 1.23s\tremaining: 2.12s\n",
      "368:\tlearn: 0.2090003\ttotal: 1.24s\tremaining: 2.11s\n",
      "369:\tlearn: 0.2089199\ttotal: 1.24s\tremaining: 2.11s\n",
      "370:\tlearn: 0.2088238\ttotal: 1.24s\tremaining: 2.11s\n",
      "371:\tlearn: 0.2087606\ttotal: 1.25s\tremaining: 2.1s\n",
      "372:\tlearn: 0.2087212\ttotal: 1.25s\tremaining: 2.1s\n",
      "373:\tlearn: 0.2086753\ttotal: 1.25s\tremaining: 2.1s\n",
      "374:\tlearn: 0.2086086\ttotal: 1.26s\tremaining: 2.09s\n",
      "375:\tlearn: 0.2085453\ttotal: 1.26s\tremaining: 2.09s\n",
      "376:\tlearn: 0.2084657\ttotal: 1.26s\tremaining: 2.09s\n",
      "377:\tlearn: 0.2083736\ttotal: 1.26s\tremaining: 2.08s\n",
      "378:\tlearn: 0.2082814\ttotal: 1.27s\tremaining: 2.08s\n",
      "379:\tlearn: 0.2082046\ttotal: 1.27s\tremaining: 2.08s\n",
      "380:\tlearn: 0.2080937\ttotal: 1.28s\tremaining: 2.07s\n",
      "381:\tlearn: 0.2080240\ttotal: 1.28s\tremaining: 2.07s\n",
      "382:\tlearn: 0.2079350\ttotal: 1.28s\tremaining: 2.06s\n",
      "383:\tlearn: 0.2078528\ttotal: 1.28s\tremaining: 2.06s\n",
      "384:\tlearn: 0.2077883\ttotal: 1.28s\tremaining: 2.05s\n",
      "385:\tlearn: 0.2077267\ttotal: 1.29s\tremaining: 2.05s\n",
      "386:\tlearn: 0.2076631\ttotal: 1.29s\tremaining: 2.05s\n",
      "387:\tlearn: 0.2075959\ttotal: 1.29s\tremaining: 2.04s\n",
      "388:\tlearn: 0.2074225\ttotal: 1.3s\tremaining: 2.04s\n",
      "389:\tlearn: 0.2073788\ttotal: 1.3s\tremaining: 2.03s\n",
      "390:\tlearn: 0.2072701\ttotal: 1.3s\tremaining: 2.03s\n",
      "391:\tlearn: 0.2071755\ttotal: 1.31s\tremaining: 2.02s\n",
      "392:\tlearn: 0.2070898\ttotal: 1.31s\tremaining: 2.02s\n",
      "393:\tlearn: 0.2069451\ttotal: 1.31s\tremaining: 2.02s\n",
      "394:\tlearn: 0.2068831\ttotal: 1.31s\tremaining: 2.01s\n",
      "395:\tlearn: 0.2068083\ttotal: 1.32s\tremaining: 2.01s\n",
      "396:\tlearn: 0.2067228\ttotal: 1.32s\tremaining: 2.01s\n",
      "397:\tlearn: 0.2066421\ttotal: 1.32s\tremaining: 2s\n",
      "398:\tlearn: 0.2065815\ttotal: 1.33s\tremaining: 2s\n",
      "399:\tlearn: 0.2065539\ttotal: 1.33s\tremaining: 2s\n",
      "400:\tlearn: 0.2064942\ttotal: 1.33s\tremaining: 1.99s\n",
      "401:\tlearn: 0.2064295\ttotal: 1.34s\tremaining: 1.99s\n",
      "402:\tlearn: 0.2063069\ttotal: 1.34s\tremaining: 1.98s\n",
      "403:\tlearn: 0.2062614\ttotal: 1.34s\tremaining: 1.98s\n",
      "404:\tlearn: 0.2062280\ttotal: 1.35s\tremaining: 1.98s\n",
      "405:\tlearn: 0.2061715\ttotal: 1.35s\tremaining: 1.97s\n",
      "406:\tlearn: 0.2061156\ttotal: 1.35s\tremaining: 1.97s\n",
      "407:\tlearn: 0.2060602\ttotal: 1.35s\tremaining: 1.97s\n",
      "408:\tlearn: 0.2060120\ttotal: 1.36s\tremaining: 1.96s\n",
      "409:\tlearn: 0.2058864\ttotal: 1.36s\tremaining: 1.96s\n",
      "410:\tlearn: 0.2058142\ttotal: 1.36s\tremaining: 1.96s\n",
      "411:\tlearn: 0.2056960\ttotal: 1.37s\tremaining: 1.95s\n",
      "412:\tlearn: 0.2056226\ttotal: 1.37s\tremaining: 1.95s\n",
      "413:\tlearn: 0.2055086\ttotal: 1.38s\tremaining: 1.95s\n",
      "414:\tlearn: 0.2054505\ttotal: 1.38s\tremaining: 1.95s\n",
      "415:\tlearn: 0.2053506\ttotal: 1.39s\tremaining: 1.94s\n",
      "416:\tlearn: 0.2052659\ttotal: 1.39s\tremaining: 1.94s\n",
      "417:\tlearn: 0.2052034\ttotal: 1.39s\tremaining: 1.94s\n",
      "418:\tlearn: 0.2051282\ttotal: 1.39s\tremaining: 1.93s\n",
      "419:\tlearn: 0.2050745\ttotal: 1.4s\tremaining: 1.93s\n",
      "420:\tlearn: 0.2049925\ttotal: 1.4s\tremaining: 1.93s\n",
      "421:\tlearn: 0.2049343\ttotal: 1.4s\tremaining: 1.92s\n",
      "422:\tlearn: 0.2049173\ttotal: 1.41s\tremaining: 1.92s\n",
      "423:\tlearn: 0.2048392\ttotal: 1.41s\tremaining: 1.92s\n",
      "424:\tlearn: 0.2047574\ttotal: 1.41s\tremaining: 1.91s\n",
      "425:\tlearn: 0.2046881\ttotal: 1.42s\tremaining: 1.91s\n",
      "426:\tlearn: 0.2046104\ttotal: 1.42s\tremaining: 1.91s\n",
      "427:\tlearn: 0.2045059\ttotal: 1.42s\tremaining: 1.9s\n",
      "428:\tlearn: 0.2044592\ttotal: 1.43s\tremaining: 1.9s\n",
      "429:\tlearn: 0.2043470\ttotal: 1.43s\tremaining: 1.9s\n",
      "430:\tlearn: 0.2043317\ttotal: 1.44s\tremaining: 1.89s\n",
      "431:\tlearn: 0.2042691\ttotal: 1.44s\tremaining: 1.89s\n",
      "432:\tlearn: 0.2041875\ttotal: 1.44s\tremaining: 1.89s\n",
      "433:\tlearn: 0.2041616\ttotal: 1.44s\tremaining: 1.88s\n",
      "434:\tlearn: 0.2041116\ttotal: 1.45s\tremaining: 1.88s\n",
      "435:\tlearn: 0.2040614\ttotal: 1.45s\tremaining: 1.88s\n",
      "436:\tlearn: 0.2040022\ttotal: 1.46s\tremaining: 1.88s\n",
      "437:\tlearn: 0.2039275\ttotal: 1.46s\tremaining: 1.87s\n",
      "438:\tlearn: 0.2038443\ttotal: 1.46s\tremaining: 1.87s\n",
      "439:\tlearn: 0.2037882\ttotal: 1.47s\tremaining: 1.87s\n",
      "440:\tlearn: 0.2037477\ttotal: 1.47s\tremaining: 1.86s\n",
      "441:\tlearn: 0.2036859\ttotal: 1.47s\tremaining: 1.86s\n",
      "442:\tlearn: 0.2036415\ttotal: 1.47s\tremaining: 1.85s\n",
      "443:\tlearn: 0.2035993\ttotal: 1.48s\tremaining: 1.85s\n",
      "444:\tlearn: 0.2035322\ttotal: 1.48s\tremaining: 1.84s\n",
      "445:\tlearn: 0.2034651\ttotal: 1.48s\tremaining: 1.84s\n",
      "446:\tlearn: 0.2033996\ttotal: 1.49s\tremaining: 1.84s\n",
      "447:\tlearn: 0.2033560\ttotal: 1.49s\tremaining: 1.83s\n",
      "448:\tlearn: 0.2032843\ttotal: 1.49s\tremaining: 1.83s\n",
      "449:\tlearn: 0.2032591\ttotal: 1.5s\tremaining: 1.83s\n",
      "450:\tlearn: 0.2031926\ttotal: 1.5s\tremaining: 1.82s\n",
      "451:\tlearn: 0.2031709\ttotal: 1.5s\tremaining: 1.82s\n",
      "452:\tlearn: 0.2031312\ttotal: 1.51s\tremaining: 1.82s\n",
      "453:\tlearn: 0.2030643\ttotal: 1.51s\tremaining: 1.81s\n",
      "454:\tlearn: 0.2030220\ttotal: 1.51s\tremaining: 1.81s\n",
      "455:\tlearn: 0.2029558\ttotal: 1.52s\tremaining: 1.81s\n",
      "456:\tlearn: 0.2029177\ttotal: 1.52s\tremaining: 1.8s\n",
      "457:\tlearn: 0.2028713\ttotal: 1.52s\tremaining: 1.8s\n",
      "458:\tlearn: 0.2028231\ttotal: 1.52s\tremaining: 1.8s\n",
      "459:\tlearn: 0.2027714\ttotal: 1.53s\tremaining: 1.79s\n",
      "460:\tlearn: 0.2027566\ttotal: 1.53s\tremaining: 1.79s\n",
      "461:\tlearn: 0.2027425\ttotal: 1.53s\tremaining: 1.79s\n",
      "462:\tlearn: 0.2026826\ttotal: 1.54s\tremaining: 1.78s\n",
      "463:\tlearn: 0.2026485\ttotal: 1.54s\tremaining: 1.78s\n",
      "464:\tlearn: 0.2026229\ttotal: 1.54s\tremaining: 1.77s\n",
      "465:\tlearn: 0.2025657\ttotal: 1.55s\tremaining: 1.77s\n",
      "466:\tlearn: 0.2025379\ttotal: 1.55s\tremaining: 1.77s\n",
      "467:\tlearn: 0.2024222\ttotal: 1.55s\tremaining: 1.76s\n",
      "468:\tlearn: 0.2023816\ttotal: 1.56s\tremaining: 1.76s\n",
      "469:\tlearn: 0.2023264\ttotal: 1.56s\tremaining: 1.76s\n",
      "470:\tlearn: 0.2022225\ttotal: 1.56s\tremaining: 1.75s\n",
      "471:\tlearn: 0.2021130\ttotal: 1.57s\tremaining: 1.75s\n",
      "472:\tlearn: 0.2020378\ttotal: 1.57s\tremaining: 1.75s\n",
      "473:\tlearn: 0.2019944\ttotal: 1.57s\tremaining: 1.75s\n",
      "474:\tlearn: 0.2018963\ttotal: 1.58s\tremaining: 1.74s\n",
      "475:\tlearn: 0.2018674\ttotal: 1.58s\tremaining: 1.74s\n",
      "476:\tlearn: 0.2018084\ttotal: 1.58s\tremaining: 1.74s\n",
      "477:\tlearn: 0.2017392\ttotal: 1.59s\tremaining: 1.73s\n",
      "478:\tlearn: 0.2017196\ttotal: 1.59s\tremaining: 1.73s\n",
      "479:\tlearn: 0.2015745\ttotal: 1.59s\tremaining: 1.73s\n",
      "480:\tlearn: 0.2015344\ttotal: 1.6s\tremaining: 1.72s\n",
      "481:\tlearn: 0.2014821\ttotal: 1.6s\tremaining: 1.72s\n",
      "482:\tlearn: 0.2014280\ttotal: 1.6s\tremaining: 1.72s\n",
      "483:\tlearn: 0.2014080\ttotal: 1.61s\tremaining: 1.71s\n",
      "484:\tlearn: 0.2013807\ttotal: 1.62s\tremaining: 1.72s\n",
      "485:\tlearn: 0.2013525\ttotal: 1.62s\tremaining: 1.71s\n",
      "486:\tlearn: 0.2013122\ttotal: 1.62s\tremaining: 1.71s\n",
      "487:\tlearn: 0.2012675\ttotal: 1.62s\tremaining: 1.7s\n",
      "488:\tlearn: 0.2012144\ttotal: 1.63s\tremaining: 1.7s\n",
      "489:\tlearn: 0.2011695\ttotal: 1.63s\tremaining: 1.69s\n",
      "490:\tlearn: 0.2011447\ttotal: 1.63s\tremaining: 1.69s\n",
      "491:\tlearn: 0.2010873\ttotal: 1.63s\tremaining: 1.68s\n",
      "492:\tlearn: 0.2009620\ttotal: 1.63s\tremaining: 1.68s\n",
      "493:\tlearn: 0.2009092\ttotal: 1.64s\tremaining: 1.68s\n",
      "494:\tlearn: 0.2007836\ttotal: 1.64s\tremaining: 1.67s\n",
      "495:\tlearn: 0.2007156\ttotal: 1.65s\tremaining: 1.68s\n",
      "496:\tlearn: 0.2006679\ttotal: 1.7s\tremaining: 1.72s\n",
      "497:\tlearn: 0.2006242\ttotal: 1.72s\tremaining: 1.73s\n",
      "498:\tlearn: 0.2005750\ttotal: 1.72s\tremaining: 1.73s\n",
      "499:\tlearn: 0.2005057\ttotal: 1.72s\tremaining: 1.72s\n",
      "500:\tlearn: 0.2004578\ttotal: 1.73s\tremaining: 1.72s\n",
      "501:\tlearn: 0.2003915\ttotal: 1.73s\tremaining: 1.72s\n",
      "502:\tlearn: 0.2003295\ttotal: 1.74s\tremaining: 1.71s\n",
      "503:\tlearn: 0.2003055\ttotal: 1.74s\tremaining: 1.71s\n",
      "504:\tlearn: 0.2002592\ttotal: 1.74s\tremaining: 1.71s\n",
      "505:\tlearn: 0.2002154\ttotal: 1.74s\tremaining: 1.7s\n",
      "506:\tlearn: 0.2001761\ttotal: 1.74s\tremaining: 1.7s\n",
      "507:\tlearn: 0.2001279\ttotal: 1.75s\tremaining: 1.69s\n",
      "508:\tlearn: 0.2001100\ttotal: 1.75s\tremaining: 1.69s\n",
      "509:\tlearn: 0.2000686\ttotal: 1.75s\tremaining: 1.68s\n",
      "510:\tlearn: 0.1999745\ttotal: 1.75s\tremaining: 1.68s\n",
      "511:\tlearn: 0.1999399\ttotal: 1.75s\tremaining: 1.67s\n",
      "512:\tlearn: 0.1998648\ttotal: 1.76s\tremaining: 1.67s\n",
      "513:\tlearn: 0.1998015\ttotal: 1.76s\tremaining: 1.66s\n",
      "514:\tlearn: 0.1997420\ttotal: 1.76s\tremaining: 1.66s\n",
      "515:\tlearn: 0.1996601\ttotal: 1.76s\tremaining: 1.66s\n",
      "516:\tlearn: 0.1996472\ttotal: 1.77s\tremaining: 1.65s\n",
      "517:\tlearn: 0.1996069\ttotal: 1.77s\tremaining: 1.65s\n",
      "518:\tlearn: 0.1995909\ttotal: 1.77s\tremaining: 1.64s\n",
      "519:\tlearn: 0.1995729\ttotal: 1.77s\tremaining: 1.64s\n",
      "520:\tlearn: 0.1995054\ttotal: 1.78s\tremaining: 1.63s\n",
      "521:\tlearn: 0.1994503\ttotal: 1.78s\tremaining: 1.63s\n",
      "522:\tlearn: 0.1993417\ttotal: 1.78s\tremaining: 1.63s\n",
      "523:\tlearn: 0.1992803\ttotal: 1.79s\tremaining: 1.62s\n",
      "524:\tlearn: 0.1992305\ttotal: 1.79s\tremaining: 1.62s\n",
      "525:\tlearn: 0.1990786\ttotal: 1.8s\tremaining: 1.62s\n",
      "526:\tlearn: 0.1989808\ttotal: 1.8s\tremaining: 1.62s\n",
      "527:\tlearn: 0.1989724\ttotal: 1.8s\tremaining: 1.61s\n",
      "528:\tlearn: 0.1989357\ttotal: 1.81s\tremaining: 1.61s\n",
      "529:\tlearn: 0.1989125\ttotal: 1.81s\tremaining: 1.61s\n",
      "530:\tlearn: 0.1988588\ttotal: 1.81s\tremaining: 1.6s\n",
      "531:\tlearn: 0.1988250\ttotal: 1.82s\tremaining: 1.6s\n",
      "532:\tlearn: 0.1987862\ttotal: 1.82s\tremaining: 1.59s\n",
      "533:\tlearn: 0.1987321\ttotal: 1.82s\tremaining: 1.59s\n",
      "534:\tlearn: 0.1986805\ttotal: 1.83s\tremaining: 1.59s\n",
      "535:\tlearn: 0.1986508\ttotal: 1.83s\tremaining: 1.58s\n",
      "536:\tlearn: 0.1985987\ttotal: 1.83s\tremaining: 1.58s\n",
      "537:\tlearn: 0.1985445\ttotal: 1.84s\tremaining: 1.58s\n",
      "538:\tlearn: 0.1985067\ttotal: 1.84s\tremaining: 1.58s\n",
      "539:\tlearn: 0.1984871\ttotal: 1.85s\tremaining: 1.57s\n",
      "540:\tlearn: 0.1984418\ttotal: 1.85s\tremaining: 1.57s\n",
      "541:\tlearn: 0.1983766\ttotal: 1.85s\tremaining: 1.56s\n",
      "542:\tlearn: 0.1983310\ttotal: 1.85s\tremaining: 1.56s\n",
      "543:\tlearn: 0.1982886\ttotal: 1.86s\tremaining: 1.56s\n",
      "544:\tlearn: 0.1982389\ttotal: 1.86s\tremaining: 1.56s\n",
      "545:\tlearn: 0.1981956\ttotal: 1.87s\tremaining: 1.55s\n",
      "546:\tlearn: 0.1981829\ttotal: 1.87s\tremaining: 1.55s\n",
      "547:\tlearn: 0.1981332\ttotal: 1.87s\tremaining: 1.55s\n",
      "548:\tlearn: 0.1980851\ttotal: 1.88s\tremaining: 1.54s\n",
      "549:\tlearn: 0.1980629\ttotal: 1.88s\tremaining: 1.54s\n",
      "550:\tlearn: 0.1980186\ttotal: 1.88s\tremaining: 1.53s\n",
      "551:\tlearn: 0.1979498\ttotal: 1.88s\tremaining: 1.53s\n",
      "552:\tlearn: 0.1979277\ttotal: 1.89s\tremaining: 1.52s\n",
      "553:\tlearn: 0.1978279\ttotal: 1.89s\tremaining: 1.52s\n",
      "554:\tlearn: 0.1977934\ttotal: 1.89s\tremaining: 1.52s\n",
      "555:\tlearn: 0.1977775\ttotal: 1.9s\tremaining: 1.51s\n",
      "556:\tlearn: 0.1977662\ttotal: 1.9s\tremaining: 1.51s\n",
      "557:\tlearn: 0.1976767\ttotal: 1.9s\tremaining: 1.51s\n",
      "558:\tlearn: 0.1976716\ttotal: 1.91s\tremaining: 1.5s\n",
      "559:\tlearn: 0.1976186\ttotal: 1.91s\tremaining: 1.5s\n",
      "560:\tlearn: 0.1975323\ttotal: 1.91s\tremaining: 1.5s\n",
      "561:\tlearn: 0.1974845\ttotal: 1.92s\tremaining: 1.49s\n",
      "562:\tlearn: 0.1974574\ttotal: 1.92s\tremaining: 1.49s\n",
      "563:\tlearn: 0.1974188\ttotal: 1.92s\tremaining: 1.49s\n",
      "564:\tlearn: 0.1973927\ttotal: 1.93s\tremaining: 1.48s\n",
      "565:\tlearn: 0.1973808\ttotal: 1.93s\tremaining: 1.48s\n",
      "566:\tlearn: 0.1973529\ttotal: 1.93s\tremaining: 1.48s\n",
      "567:\tlearn: 0.1973241\ttotal: 1.94s\tremaining: 1.47s\n",
      "568:\tlearn: 0.1972864\ttotal: 1.94s\tremaining: 1.47s\n",
      "569:\tlearn: 0.1972421\ttotal: 1.95s\tremaining: 1.47s\n",
      "570:\tlearn: 0.1972089\ttotal: 1.95s\tremaining: 1.46s\n",
      "571:\tlearn: 0.1971721\ttotal: 1.95s\tremaining: 1.46s\n",
      "572:\tlearn: 0.1971328\ttotal: 1.96s\tremaining: 1.46s\n",
      "573:\tlearn: 0.1970416\ttotal: 1.96s\tremaining: 1.46s\n",
      "574:\tlearn: 0.1969831\ttotal: 1.96s\tremaining: 1.45s\n",
      "575:\tlearn: 0.1968644\ttotal: 1.97s\tremaining: 1.45s\n",
      "576:\tlearn: 0.1967922\ttotal: 1.97s\tremaining: 1.45s\n",
      "577:\tlearn: 0.1967721\ttotal: 1.98s\tremaining: 1.44s\n",
      "578:\tlearn: 0.1967244\ttotal: 1.98s\tremaining: 1.44s\n",
      "579:\tlearn: 0.1967097\ttotal: 1.98s\tremaining: 1.44s\n",
      "580:\tlearn: 0.1966234\ttotal: 1.99s\tremaining: 1.43s\n",
      "581:\tlearn: 0.1966020\ttotal: 1.99s\tremaining: 1.43s\n",
      "582:\tlearn: 0.1965754\ttotal: 1.99s\tremaining: 1.42s\n",
      "583:\tlearn: 0.1965334\ttotal: 1.99s\tremaining: 1.42s\n",
      "584:\tlearn: 0.1965088\ttotal: 2s\tremaining: 1.42s\n",
      "585:\tlearn: 0.1964442\ttotal: 2s\tremaining: 1.41s\n",
      "586:\tlearn: 0.1963781\ttotal: 2s\tremaining: 1.41s\n",
      "587:\tlearn: 0.1963494\ttotal: 2.01s\tremaining: 1.41s\n",
      "588:\tlearn: 0.1962468\ttotal: 2.01s\tremaining: 1.4s\n",
      "589:\tlearn: 0.1961937\ttotal: 2.01s\tremaining: 1.4s\n",
      "590:\tlearn: 0.1961602\ttotal: 2.02s\tremaining: 1.4s\n",
      "591:\tlearn: 0.1961179\ttotal: 2.02s\tremaining: 1.39s\n",
      "592:\tlearn: 0.1960438\ttotal: 2.02s\tremaining: 1.39s\n",
      "593:\tlearn: 0.1960219\ttotal: 2.03s\tremaining: 1.39s\n",
      "594:\tlearn: 0.1959673\ttotal: 2.03s\tremaining: 1.38s\n",
      "595:\tlearn: 0.1959205\ttotal: 2.03s\tremaining: 1.38s\n",
      "596:\tlearn: 0.1958827\ttotal: 2.04s\tremaining: 1.38s\n",
      "597:\tlearn: 0.1958187\ttotal: 2.04s\tremaining: 1.37s\n",
      "598:\tlearn: 0.1957958\ttotal: 2.04s\tremaining: 1.37s\n",
      "599:\tlearn: 0.1957377\ttotal: 2.05s\tremaining: 1.36s\n",
      "600:\tlearn: 0.1957317\ttotal: 2.05s\tremaining: 1.36s\n",
      "601:\tlearn: 0.1957236\ttotal: 2.06s\tremaining: 1.36s\n",
      "602:\tlearn: 0.1956684\ttotal: 2.06s\tremaining: 1.36s\n",
      "603:\tlearn: 0.1956131\ttotal: 2.06s\tremaining: 1.35s\n",
      "604:\tlearn: 0.1955745\ttotal: 2.07s\tremaining: 1.35s\n",
      "605:\tlearn: 0.1955318\ttotal: 2.07s\tremaining: 1.35s\n",
      "606:\tlearn: 0.1954544\ttotal: 2.08s\tremaining: 1.34s\n",
      "607:\tlearn: 0.1954030\ttotal: 2.08s\tremaining: 1.34s\n",
      "608:\tlearn: 0.1953825\ttotal: 2.08s\tremaining: 1.34s\n",
      "609:\tlearn: 0.1953410\ttotal: 2.09s\tremaining: 1.33s\n",
      "610:\tlearn: 0.1953237\ttotal: 2.09s\tremaining: 1.33s\n",
      "611:\tlearn: 0.1952871\ttotal: 2.09s\tremaining: 1.33s\n",
      "612:\tlearn: 0.1952332\ttotal: 2.1s\tremaining: 1.32s\n",
      "613:\tlearn: 0.1952231\ttotal: 2.1s\tremaining: 1.32s\n",
      "614:\tlearn: 0.1951999\ttotal: 2.1s\tremaining: 1.32s\n",
      "615:\tlearn: 0.1951749\ttotal: 2.11s\tremaining: 1.31s\n",
      "616:\tlearn: 0.1951186\ttotal: 2.11s\tremaining: 1.31s\n",
      "617:\tlearn: 0.1950940\ttotal: 2.12s\tremaining: 1.31s\n",
      "618:\tlearn: 0.1950744\ttotal: 2.12s\tremaining: 1.3s\n",
      "619:\tlearn: 0.1949856\ttotal: 2.12s\tremaining: 1.3s\n",
      "620:\tlearn: 0.1949575\ttotal: 2.12s\tremaining: 1.3s\n",
      "621:\tlearn: 0.1949413\ttotal: 2.13s\tremaining: 1.29s\n",
      "622:\tlearn: 0.1948557\ttotal: 2.13s\tremaining: 1.29s\n",
      "623:\tlearn: 0.1948191\ttotal: 2.13s\tremaining: 1.29s\n",
      "624:\tlearn: 0.1947833\ttotal: 2.14s\tremaining: 1.28s\n",
      "625:\tlearn: 0.1947584\ttotal: 2.14s\tremaining: 1.28s\n",
      "626:\tlearn: 0.1947192\ttotal: 2.15s\tremaining: 1.28s\n",
      "627:\tlearn: 0.1946879\ttotal: 2.15s\tremaining: 1.27s\n",
      "628:\tlearn: 0.1946013\ttotal: 2.15s\tremaining: 1.27s\n",
      "629:\tlearn: 0.1945783\ttotal: 2.15s\tremaining: 1.26s\n",
      "630:\tlearn: 0.1945673\ttotal: 2.16s\tremaining: 1.26s\n",
      "631:\tlearn: 0.1945172\ttotal: 2.16s\tremaining: 1.26s\n",
      "632:\tlearn: 0.1944437\ttotal: 2.17s\tremaining: 1.25s\n",
      "633:\tlearn: 0.1944210\ttotal: 2.17s\tremaining: 1.25s\n",
      "634:\tlearn: 0.1943546\ttotal: 2.17s\tremaining: 1.25s\n",
      "635:\tlearn: 0.1943163\ttotal: 2.18s\tremaining: 1.25s\n",
      "636:\tlearn: 0.1942768\ttotal: 2.18s\tremaining: 1.24s\n",
      "637:\tlearn: 0.1942507\ttotal: 2.18s\tremaining: 1.24s\n",
      "638:\tlearn: 0.1942290\ttotal: 2.19s\tremaining: 1.24s\n",
      "639:\tlearn: 0.1942063\ttotal: 2.19s\tremaining: 1.23s\n",
      "640:\tlearn: 0.1941533\ttotal: 2.19s\tremaining: 1.23s\n",
      "641:\tlearn: 0.1940704\ttotal: 2.2s\tremaining: 1.23s\n",
      "642:\tlearn: 0.1939610\ttotal: 2.2s\tremaining: 1.22s\n",
      "643:\tlearn: 0.1939244\ttotal: 2.21s\tremaining: 1.22s\n",
      "644:\tlearn: 0.1938920\ttotal: 2.21s\tremaining: 1.22s\n",
      "645:\tlearn: 0.1938491\ttotal: 2.21s\tremaining: 1.21s\n",
      "646:\tlearn: 0.1938074\ttotal: 2.22s\tremaining: 1.21s\n",
      "647:\tlearn: 0.1937750\ttotal: 2.22s\tremaining: 1.21s\n",
      "648:\tlearn: 0.1937184\ttotal: 2.22s\tremaining: 1.2s\n",
      "649:\tlearn: 0.1936797\ttotal: 2.23s\tremaining: 1.2s\n",
      "650:\tlearn: 0.1936546\ttotal: 2.23s\tremaining: 1.19s\n",
      "651:\tlearn: 0.1936407\ttotal: 2.23s\tremaining: 1.19s\n",
      "652:\tlearn: 0.1936169\ttotal: 2.23s\tremaining: 1.19s\n",
      "653:\tlearn: 0.1935846\ttotal: 2.24s\tremaining: 1.18s\n",
      "654:\tlearn: 0.1935666\ttotal: 2.24s\tremaining: 1.18s\n",
      "655:\tlearn: 0.1935394\ttotal: 2.25s\tremaining: 1.18s\n",
      "656:\tlearn: 0.1935288\ttotal: 2.25s\tremaining: 1.17s\n",
      "657:\tlearn: 0.1935078\ttotal: 2.25s\tremaining: 1.17s\n",
      "658:\tlearn: 0.1934964\ttotal: 2.25s\tremaining: 1.17s\n",
      "659:\tlearn: 0.1934134\ttotal: 2.26s\tremaining: 1.16s\n",
      "660:\tlearn: 0.1933983\ttotal: 2.26s\tremaining: 1.16s\n",
      "661:\tlearn: 0.1933252\ttotal: 2.27s\tremaining: 1.16s\n",
      "662:\tlearn: 0.1932935\ttotal: 2.27s\tremaining: 1.15s\n",
      "663:\tlearn: 0.1932346\ttotal: 2.27s\tremaining: 1.15s\n",
      "664:\tlearn: 0.1931717\ttotal: 2.28s\tremaining: 1.15s\n",
      "665:\tlearn: 0.1931435\ttotal: 2.28s\tremaining: 1.14s\n",
      "666:\tlearn: 0.1931265\ttotal: 2.28s\tremaining: 1.14s\n",
      "667:\tlearn: 0.1930817\ttotal: 2.29s\tremaining: 1.14s\n",
      "668:\tlearn: 0.1930545\ttotal: 2.29s\tremaining: 1.13s\n",
      "669:\tlearn: 0.1930032\ttotal: 2.29s\tremaining: 1.13s\n",
      "670:\tlearn: 0.1929966\ttotal: 2.3s\tremaining: 1.13s\n",
      "671:\tlearn: 0.1929574\ttotal: 2.3s\tremaining: 1.12s\n",
      "672:\tlearn: 0.1929228\ttotal: 2.3s\tremaining: 1.12s\n",
      "673:\tlearn: 0.1929067\ttotal: 2.31s\tremaining: 1.11s\n",
      "674:\tlearn: 0.1928576\ttotal: 2.31s\tremaining: 1.11s\n",
      "675:\tlearn: 0.1928160\ttotal: 2.31s\tremaining: 1.11s\n",
      "676:\tlearn: 0.1927905\ttotal: 2.31s\tremaining: 1.1s\n",
      "677:\tlearn: 0.1927745\ttotal: 2.32s\tremaining: 1.1s\n",
      "678:\tlearn: 0.1927542\ttotal: 2.32s\tremaining: 1.1s\n",
      "679:\tlearn: 0.1926930\ttotal: 2.33s\tremaining: 1.09s\n",
      "680:\tlearn: 0.1926348\ttotal: 2.33s\tremaining: 1.09s\n",
      "681:\tlearn: 0.1925948\ttotal: 2.33s\tremaining: 1.09s\n",
      "682:\tlearn: 0.1925701\ttotal: 2.34s\tremaining: 1.08s\n",
      "683:\tlearn: 0.1925550\ttotal: 2.34s\tremaining: 1.08s\n",
      "684:\tlearn: 0.1924960\ttotal: 2.34s\tremaining: 1.08s\n",
      "685:\tlearn: 0.1924629\ttotal: 2.35s\tremaining: 1.07s\n",
      "686:\tlearn: 0.1924511\ttotal: 2.35s\tremaining: 1.07s\n",
      "687:\tlearn: 0.1923747\ttotal: 2.35s\tremaining: 1.07s\n",
      "688:\tlearn: 0.1923472\ttotal: 2.36s\tremaining: 1.06s\n",
      "689:\tlearn: 0.1922681\ttotal: 2.36s\tremaining: 1.06s\n",
      "690:\tlearn: 0.1922425\ttotal: 2.36s\tremaining: 1.06s\n",
      "691:\tlearn: 0.1922068\ttotal: 2.37s\tremaining: 1.05s\n",
      "692:\tlearn: 0.1921887\ttotal: 2.37s\tremaining: 1.05s\n",
      "693:\tlearn: 0.1921675\ttotal: 2.38s\tremaining: 1.05s\n",
      "694:\tlearn: 0.1921293\ttotal: 2.38s\tremaining: 1.04s\n",
      "695:\tlearn: 0.1920766\ttotal: 2.38s\tremaining: 1.04s\n",
      "696:\tlearn: 0.1919647\ttotal: 2.38s\tremaining: 1.04s\n",
      "697:\tlearn: 0.1919028\ttotal: 2.39s\tremaining: 1.03s\n",
      "698:\tlearn: 0.1918833\ttotal: 2.39s\tremaining: 1.03s\n",
      "699:\tlearn: 0.1918592\ttotal: 2.39s\tremaining: 1.02s\n",
      "700:\tlearn: 0.1918035\ttotal: 2.4s\tremaining: 1.02s\n",
      "701:\tlearn: 0.1917519\ttotal: 2.4s\tremaining: 1.02s\n",
      "702:\tlearn: 0.1916530\ttotal: 2.4s\tremaining: 1.01s\n",
      "703:\tlearn: 0.1916335\ttotal: 2.4s\tremaining: 1.01s\n",
      "704:\tlearn: 0.1916030\ttotal: 2.4s\tremaining: 1.01s\n",
      "705:\tlearn: 0.1915795\ttotal: 2.41s\tremaining: 1s\n",
      "706:\tlearn: 0.1915657\ttotal: 2.41s\tremaining: 1000ms\n",
      "707:\tlearn: 0.1915195\ttotal: 2.42s\tremaining: 996ms\n",
      "708:\tlearn: 0.1914807\ttotal: 2.42s\tremaining: 993ms\n",
      "709:\tlearn: 0.1914595\ttotal: 2.42s\tremaining: 990ms\n",
      "710:\tlearn: 0.1914434\ttotal: 2.43s\tremaining: 986ms\n",
      "711:\tlearn: 0.1914092\ttotal: 2.43s\tremaining: 983ms\n",
      "712:\tlearn: 0.1913530\ttotal: 2.43s\tremaining: 979ms\n",
      "713:\tlearn: 0.1913281\ttotal: 2.44s\tremaining: 976ms\n",
      "714:\tlearn: 0.1913024\ttotal: 2.44s\tremaining: 972ms\n",
      "715:\tlearn: 0.1912647\ttotal: 2.44s\tremaining: 969ms\n",
      "716:\tlearn: 0.1912320\ttotal: 2.44s\tremaining: 965ms\n",
      "717:\tlearn: 0.1912062\ttotal: 2.45s\tremaining: 962ms\n",
      "718:\tlearn: 0.1911913\ttotal: 2.45s\tremaining: 958ms\n",
      "719:\tlearn: 0.1911255\ttotal: 2.45s\tremaining: 955ms\n",
      "720:\tlearn: 0.1910830\ttotal: 2.46s\tremaining: 951ms\n",
      "721:\tlearn: 0.1910419\ttotal: 2.46s\tremaining: 947ms\n",
      "722:\tlearn: 0.1909746\ttotal: 2.46s\tremaining: 944ms\n",
      "723:\tlearn: 0.1909489\ttotal: 2.47s\tremaining: 941ms\n",
      "724:\tlearn: 0.1909308\ttotal: 2.47s\tremaining: 937ms\n",
      "725:\tlearn: 0.1909010\ttotal: 2.47s\tremaining: 933ms\n",
      "726:\tlearn: 0.1908182\ttotal: 2.48s\tremaining: 930ms\n",
      "727:\tlearn: 0.1908049\ttotal: 2.48s\tremaining: 927ms\n",
      "728:\tlearn: 0.1907337\ttotal: 2.48s\tremaining: 923ms\n",
      "729:\tlearn: 0.1906955\ttotal: 2.48s\tremaining: 919ms\n",
      "730:\tlearn: 0.1906288\ttotal: 2.49s\tremaining: 916ms\n",
      "731:\tlearn: 0.1905921\ttotal: 2.49s\tremaining: 912ms\n",
      "732:\tlearn: 0.1905442\ttotal: 2.49s\tremaining: 908ms\n",
      "733:\tlearn: 0.1905162\ttotal: 2.5s\tremaining: 905ms\n",
      "734:\tlearn: 0.1904964\ttotal: 2.5s\tremaining: 901ms\n",
      "735:\tlearn: 0.1904871\ttotal: 2.5s\tremaining: 898ms\n",
      "736:\tlearn: 0.1904542\ttotal: 2.5s\tremaining: 894ms\n",
      "737:\tlearn: 0.1904401\ttotal: 2.51s\tremaining: 890ms\n",
      "738:\tlearn: 0.1903557\ttotal: 2.51s\tremaining: 887ms\n",
      "739:\tlearn: 0.1902948\ttotal: 2.52s\tremaining: 884ms\n",
      "740:\tlearn: 0.1902717\ttotal: 2.52s\tremaining: 881ms\n",
      "741:\tlearn: 0.1902572\ttotal: 2.52s\tremaining: 877ms\n",
      "742:\tlearn: 0.1901753\ttotal: 2.53s\tremaining: 874ms\n",
      "743:\tlearn: 0.1901649\ttotal: 2.53s\tremaining: 870ms\n",
      "744:\tlearn: 0.1901332\ttotal: 2.53s\tremaining: 867ms\n",
      "745:\tlearn: 0.1900598\ttotal: 2.54s\tremaining: 863ms\n",
      "746:\tlearn: 0.1900185\ttotal: 2.54s\tremaining: 860ms\n",
      "747:\tlearn: 0.1900053\ttotal: 2.54s\tremaining: 857ms\n",
      "748:\tlearn: 0.1900045\ttotal: 2.54s\tremaining: 853ms\n",
      "749:\tlearn: 0.1899121\ttotal: 2.55s\tremaining: 849ms\n",
      "750:\tlearn: 0.1898661\ttotal: 2.55s\tremaining: 846ms\n",
      "751:\tlearn: 0.1897882\ttotal: 2.56s\tremaining: 843ms\n",
      "752:\tlearn: 0.1897277\ttotal: 2.56s\tremaining: 839ms\n",
      "753:\tlearn: 0.1896942\ttotal: 2.56s\tremaining: 836ms\n",
      "754:\tlearn: 0.1896662\ttotal: 2.56s\tremaining: 832ms\n",
      "755:\tlearn: 0.1895652\ttotal: 2.57s\tremaining: 829ms\n",
      "756:\tlearn: 0.1895296\ttotal: 2.57s\tremaining: 826ms\n",
      "757:\tlearn: 0.1895000\ttotal: 2.58s\tremaining: 822ms\n",
      "758:\tlearn: 0.1894638\ttotal: 2.58s\tremaining: 819ms\n",
      "759:\tlearn: 0.1894519\ttotal: 2.58s\tremaining: 815ms\n",
      "760:\tlearn: 0.1893752\ttotal: 2.58s\tremaining: 812ms\n",
      "761:\tlearn: 0.1893581\ttotal: 2.59s\tremaining: 808ms\n",
      "762:\tlearn: 0.1893235\ttotal: 2.59s\tremaining: 805ms\n",
      "763:\tlearn: 0.1892691\ttotal: 2.59s\tremaining: 801ms\n",
      "764:\tlearn: 0.1892405\ttotal: 2.6s\tremaining: 797ms\n",
      "765:\tlearn: 0.1892408\ttotal: 2.6s\tremaining: 794ms\n",
      "766:\tlearn: 0.1892101\ttotal: 2.6s\tremaining: 790ms\n",
      "767:\tlearn: 0.1891731\ttotal: 2.6s\tremaining: 786ms\n",
      "768:\tlearn: 0.1891566\ttotal: 2.61s\tremaining: 783ms\n",
      "769:\tlearn: 0.1891323\ttotal: 2.61s\tremaining: 779ms\n",
      "770:\tlearn: 0.1890922\ttotal: 2.61s\tremaining: 776ms\n",
      "771:\tlearn: 0.1890618\ttotal: 2.62s\tremaining: 772ms\n",
      "772:\tlearn: 0.1890201\ttotal: 2.62s\tremaining: 769ms\n",
      "773:\tlearn: 0.1890120\ttotal: 2.62s\tremaining: 765ms\n",
      "774:\tlearn: 0.1889708\ttotal: 2.62s\tremaining: 762ms\n",
      "775:\tlearn: 0.1889388\ttotal: 2.63s\tremaining: 758ms\n",
      "776:\tlearn: 0.1889263\ttotal: 2.63s\tremaining: 755ms\n",
      "777:\tlearn: 0.1888800\ttotal: 2.63s\tremaining: 752ms\n",
      "778:\tlearn: 0.1888047\ttotal: 2.64s\tremaining: 748ms\n",
      "779:\tlearn: 0.1887739\ttotal: 2.64s\tremaining: 745ms\n",
      "780:\tlearn: 0.1887647\ttotal: 2.65s\tremaining: 742ms\n",
      "781:\tlearn: 0.1887442\ttotal: 2.65s\tremaining: 738ms\n",
      "782:\tlearn: 0.1887030\ttotal: 2.65s\tremaining: 735ms\n",
      "783:\tlearn: 0.1886430\ttotal: 2.65s\tremaining: 732ms\n",
      "784:\tlearn: 0.1886152\ttotal: 2.66s\tremaining: 728ms\n",
      "785:\tlearn: 0.1885690\ttotal: 2.66s\tremaining: 725ms\n",
      "786:\tlearn: 0.1884703\ttotal: 2.67s\tremaining: 721ms\n",
      "787:\tlearn: 0.1884244\ttotal: 2.67s\tremaining: 718ms\n",
      "788:\tlearn: 0.1883821\ttotal: 2.67s\tremaining: 715ms\n",
      "789:\tlearn: 0.1883494\ttotal: 2.68s\tremaining: 712ms\n",
      "790:\tlearn: 0.1882742\ttotal: 2.68s\tremaining: 708ms\n",
      "791:\tlearn: 0.1882659\ttotal: 2.68s\tremaining: 705ms\n",
      "792:\tlearn: 0.1882282\ttotal: 2.69s\tremaining: 701ms\n",
      "793:\tlearn: 0.1882076\ttotal: 2.69s\tremaining: 698ms\n",
      "794:\tlearn: 0.1881733\ttotal: 2.69s\tremaining: 695ms\n",
      "795:\tlearn: 0.1881542\ttotal: 2.7s\tremaining: 691ms\n",
      "796:\tlearn: 0.1880858\ttotal: 2.7s\tremaining: 687ms\n",
      "797:\tlearn: 0.1880078\ttotal: 2.7s\tremaining: 684ms\n",
      "798:\tlearn: 0.1879884\ttotal: 2.71s\tremaining: 681ms\n",
      "799:\tlearn: 0.1879648\ttotal: 2.71s\tremaining: 678ms\n",
      "800:\tlearn: 0.1879342\ttotal: 2.71s\tremaining: 674ms\n",
      "801:\tlearn: 0.1878829\ttotal: 2.72s\tremaining: 671ms\n",
      "802:\tlearn: 0.1878280\ttotal: 2.72s\tremaining: 667ms\n",
      "803:\tlearn: 0.1877796\ttotal: 2.72s\tremaining: 664ms\n",
      "804:\tlearn: 0.1877494\ttotal: 2.73s\tremaining: 661ms\n",
      "805:\tlearn: 0.1877096\ttotal: 2.73s\tremaining: 657ms\n",
      "806:\tlearn: 0.1876449\ttotal: 2.73s\tremaining: 654ms\n",
      "807:\tlearn: 0.1876225\ttotal: 2.74s\tremaining: 650ms\n",
      "808:\tlearn: 0.1875714\ttotal: 2.74s\tremaining: 647ms\n",
      "809:\tlearn: 0.1874965\ttotal: 2.74s\tremaining: 644ms\n",
      "810:\tlearn: 0.1874120\ttotal: 2.75s\tremaining: 640ms\n",
      "811:\tlearn: 0.1873991\ttotal: 2.75s\tremaining: 637ms\n",
      "812:\tlearn: 0.1873020\ttotal: 2.75s\tremaining: 634ms\n",
      "813:\tlearn: 0.1872782\ttotal: 2.76s\tremaining: 630ms\n",
      "814:\tlearn: 0.1872734\ttotal: 2.76s\tremaining: 627ms\n",
      "815:\tlearn: 0.1872662\ttotal: 2.76s\tremaining: 623ms\n",
      "816:\tlearn: 0.1872131\ttotal: 2.77s\tremaining: 620ms\n",
      "817:\tlearn: 0.1871852\ttotal: 2.77s\tremaining: 617ms\n",
      "818:\tlearn: 0.1871602\ttotal: 2.77s\tremaining: 613ms\n",
      "819:\tlearn: 0.1871102\ttotal: 2.78s\tremaining: 610ms\n",
      "820:\tlearn: 0.1870465\ttotal: 2.78s\tremaining: 607ms\n",
      "821:\tlearn: 0.1869939\ttotal: 2.79s\tremaining: 603ms\n",
      "822:\tlearn: 0.1869700\ttotal: 2.79s\tremaining: 600ms\n",
      "823:\tlearn: 0.1869543\ttotal: 2.79s\tremaining: 597ms\n",
      "824:\tlearn: 0.1868997\ttotal: 2.79s\tremaining: 593ms\n",
      "825:\tlearn: 0.1868259\ttotal: 2.8s\tremaining: 590ms\n",
      "826:\tlearn: 0.1867445\ttotal: 2.8s\tremaining: 586ms\n",
      "827:\tlearn: 0.1866867\ttotal: 2.8s\tremaining: 582ms\n",
      "828:\tlearn: 0.1866692\ttotal: 2.81s\tremaining: 579ms\n",
      "829:\tlearn: 0.1866278\ttotal: 2.81s\tremaining: 575ms\n",
      "830:\tlearn: 0.1866122\ttotal: 2.81s\tremaining: 572ms\n",
      "831:\tlearn: 0.1865746\ttotal: 2.81s\tremaining: 569ms\n",
      "832:\tlearn: 0.1865615\ttotal: 2.82s\tremaining: 565ms\n",
      "833:\tlearn: 0.1865320\ttotal: 2.82s\tremaining: 562ms\n",
      "834:\tlearn: 0.1864566\ttotal: 2.83s\tremaining: 558ms\n",
      "835:\tlearn: 0.1864365\ttotal: 2.83s\tremaining: 555ms\n",
      "836:\tlearn: 0.1864269\ttotal: 2.83s\tremaining: 552ms\n",
      "837:\tlearn: 0.1864059\ttotal: 2.84s\tremaining: 548ms\n",
      "838:\tlearn: 0.1863351\ttotal: 2.84s\tremaining: 545ms\n",
      "839:\tlearn: 0.1862853\ttotal: 2.84s\tremaining: 542ms\n",
      "840:\tlearn: 0.1862509\ttotal: 2.85s\tremaining: 538ms\n",
      "841:\tlearn: 0.1862380\ttotal: 2.85s\tremaining: 535ms\n",
      "842:\tlearn: 0.1861700\ttotal: 2.85s\tremaining: 531ms\n",
      "843:\tlearn: 0.1861080\ttotal: 2.85s\tremaining: 528ms\n",
      "844:\tlearn: 0.1860932\ttotal: 2.86s\tremaining: 524ms\n",
      "845:\tlearn: 0.1860546\ttotal: 2.86s\tremaining: 521ms\n",
      "846:\tlearn: 0.1860491\ttotal: 2.86s\tremaining: 517ms\n",
      "847:\tlearn: 0.1860064\ttotal: 2.87s\tremaining: 514ms\n",
      "848:\tlearn: 0.1859253\ttotal: 2.87s\tremaining: 510ms\n",
      "849:\tlearn: 0.1858995\ttotal: 2.87s\tremaining: 507ms\n",
      "850:\tlearn: 0.1858350\ttotal: 2.87s\tremaining: 503ms\n",
      "851:\tlearn: 0.1857971\ttotal: 2.88s\tremaining: 500ms\n",
      "852:\tlearn: 0.1857848\ttotal: 2.88s\tremaining: 496ms\n",
      "853:\tlearn: 0.1857159\ttotal: 2.88s\tremaining: 493ms\n",
      "854:\tlearn: 0.1856507\ttotal: 2.89s\tremaining: 490ms\n",
      "855:\tlearn: 0.1856410\ttotal: 2.89s\tremaining: 486ms\n",
      "856:\tlearn: 0.1856277\ttotal: 2.89s\tremaining: 483ms\n",
      "857:\tlearn: 0.1856120\ttotal: 2.9s\tremaining: 479ms\n",
      "858:\tlearn: 0.1855933\ttotal: 2.9s\tremaining: 476ms\n",
      "859:\tlearn: 0.1855741\ttotal: 2.9s\tremaining: 473ms\n",
      "860:\tlearn: 0.1855304\ttotal: 2.91s\tremaining: 469ms\n",
      "861:\tlearn: 0.1854795\ttotal: 2.91s\tremaining: 466ms\n",
      "862:\tlearn: 0.1854494\ttotal: 2.91s\tremaining: 463ms\n",
      "863:\tlearn: 0.1854392\ttotal: 2.92s\tremaining: 459ms\n",
      "864:\tlearn: 0.1853990\ttotal: 2.92s\tremaining: 456ms\n",
      "865:\tlearn: 0.1853704\ttotal: 2.92s\tremaining: 453ms\n",
      "866:\tlearn: 0.1853524\ttotal: 2.93s\tremaining: 449ms\n",
      "867:\tlearn: 0.1853085\ttotal: 2.93s\tremaining: 446ms\n",
      "868:\tlearn: 0.1852816\ttotal: 2.94s\tremaining: 442ms\n",
      "869:\tlearn: 0.1852280\ttotal: 2.94s\tremaining: 439ms\n",
      "870:\tlearn: 0.1851811\ttotal: 2.94s\tremaining: 436ms\n",
      "871:\tlearn: 0.1851152\ttotal: 2.94s\tremaining: 432ms\n",
      "872:\tlearn: 0.1850921\ttotal: 2.95s\tremaining: 429ms\n",
      "873:\tlearn: 0.1850597\ttotal: 2.95s\tremaining: 426ms\n",
      "874:\tlearn: 0.1849980\ttotal: 2.96s\tremaining: 422ms\n",
      "875:\tlearn: 0.1849210\ttotal: 2.96s\tremaining: 419ms\n",
      "876:\tlearn: 0.1848915\ttotal: 2.96s\tremaining: 415ms\n",
      "877:\tlearn: 0.1848412\ttotal: 2.97s\tremaining: 412ms\n",
      "878:\tlearn: 0.1848193\ttotal: 2.97s\tremaining: 409ms\n",
      "879:\tlearn: 0.1847734\ttotal: 2.97s\tremaining: 405ms\n",
      "880:\tlearn: 0.1847286\ttotal: 2.98s\tremaining: 402ms\n",
      "881:\tlearn: 0.1846882\ttotal: 2.98s\tremaining: 399ms\n",
      "882:\tlearn: 0.1846530\ttotal: 2.98s\tremaining: 396ms\n",
      "883:\tlearn: 0.1846222\ttotal: 2.99s\tremaining: 392ms\n",
      "884:\tlearn: 0.1846076\ttotal: 2.99s\tremaining: 389ms\n",
      "885:\tlearn: 0.1846022\ttotal: 2.99s\tremaining: 385ms\n",
      "886:\tlearn: 0.1845216\ttotal: 3s\tremaining: 382ms\n",
      "887:\tlearn: 0.1845147\ttotal: 3s\tremaining: 379ms\n",
      "888:\tlearn: 0.1844653\ttotal: 3s\tremaining: 375ms\n",
      "889:\tlearn: 0.1844501\ttotal: 3.01s\tremaining: 372ms\n",
      "890:\tlearn: 0.1844447\ttotal: 3.01s\tremaining: 368ms\n",
      "891:\tlearn: 0.1843827\ttotal: 3.01s\tremaining: 365ms\n",
      "892:\tlearn: 0.1843345\ttotal: 3.02s\tremaining: 361ms\n",
      "893:\tlearn: 0.1843129\ttotal: 3.02s\tremaining: 358ms\n",
      "894:\tlearn: 0.1842267\ttotal: 3.02s\tremaining: 355ms\n",
      "895:\tlearn: 0.1841832\ttotal: 3.02s\tremaining: 351ms\n",
      "896:\tlearn: 0.1841644\ttotal: 3.03s\tremaining: 348ms\n",
      "897:\tlearn: 0.1841217\ttotal: 3.03s\tremaining: 344ms\n",
      "898:\tlearn: 0.1840754\ttotal: 3.04s\tremaining: 341ms\n",
      "899:\tlearn: 0.1840468\ttotal: 3.04s\tremaining: 338ms\n",
      "900:\tlearn: 0.1839883\ttotal: 3.04s\tremaining: 335ms\n",
      "901:\tlearn: 0.1839621\ttotal: 3.05s\tremaining: 331ms\n",
      "902:\tlearn: 0.1839229\ttotal: 3.05s\tremaining: 328ms\n",
      "903:\tlearn: 0.1839147\ttotal: 3.06s\tremaining: 324ms\n",
      "904:\tlearn: 0.1838757\ttotal: 3.06s\tremaining: 321ms\n",
      "905:\tlearn: 0.1838555\ttotal: 3.06s\tremaining: 318ms\n",
      "906:\tlearn: 0.1838510\ttotal: 3.06s\tremaining: 314ms\n",
      "907:\tlearn: 0.1838307\ttotal: 3.07s\tremaining: 311ms\n",
      "908:\tlearn: 0.1838208\ttotal: 3.07s\tremaining: 308ms\n",
      "909:\tlearn: 0.1837764\ttotal: 3.08s\tremaining: 304ms\n",
      "910:\tlearn: 0.1837182\ttotal: 3.08s\tremaining: 301ms\n",
      "911:\tlearn: 0.1836631\ttotal: 3.08s\tremaining: 297ms\n",
      "912:\tlearn: 0.1836499\ttotal: 3.08s\tremaining: 294ms\n",
      "913:\tlearn: 0.1836183\ttotal: 3.09s\tremaining: 291ms\n",
      "914:\tlearn: 0.1835754\ttotal: 3.09s\tremaining: 287ms\n",
      "915:\tlearn: 0.1835446\ttotal: 3.1s\tremaining: 284ms\n",
      "916:\tlearn: 0.1834999\ttotal: 3.1s\tremaining: 281ms\n",
      "917:\tlearn: 0.1834781\ttotal: 3.1s\tremaining: 277ms\n",
      "918:\tlearn: 0.1833985\ttotal: 3.1s\tremaining: 274ms\n",
      "919:\tlearn: 0.1833260\ttotal: 3.11s\tremaining: 270ms\n",
      "920:\tlearn: 0.1832801\ttotal: 3.11s\tremaining: 267ms\n",
      "921:\tlearn: 0.1832352\ttotal: 3.12s\tremaining: 264ms\n",
      "922:\tlearn: 0.1831813\ttotal: 3.12s\tremaining: 260ms\n",
      "923:\tlearn: 0.1831603\ttotal: 3.12s\tremaining: 257ms\n",
      "924:\tlearn: 0.1830902\ttotal: 3.13s\tremaining: 253ms\n",
      "925:\tlearn: 0.1830280\ttotal: 3.13s\tremaining: 250ms\n",
      "926:\tlearn: 0.1829912\ttotal: 3.13s\tremaining: 247ms\n",
      "927:\tlearn: 0.1829558\ttotal: 3.14s\tremaining: 243ms\n",
      "928:\tlearn: 0.1829204\ttotal: 3.14s\tremaining: 240ms\n",
      "929:\tlearn: 0.1828958\ttotal: 3.14s\tremaining: 237ms\n",
      "930:\tlearn: 0.1828481\ttotal: 3.15s\tremaining: 233ms\n",
      "931:\tlearn: 0.1827960\ttotal: 3.15s\tremaining: 230ms\n",
      "932:\tlearn: 0.1827844\ttotal: 3.15s\tremaining: 226ms\n",
      "933:\tlearn: 0.1827748\ttotal: 3.16s\tremaining: 223ms\n",
      "934:\tlearn: 0.1827366\ttotal: 3.16s\tremaining: 220ms\n",
      "935:\tlearn: 0.1827085\ttotal: 3.16s\tremaining: 216ms\n",
      "936:\tlearn: 0.1826866\ttotal: 3.17s\tremaining: 213ms\n",
      "937:\tlearn: 0.1826029\ttotal: 3.17s\tremaining: 210ms\n",
      "938:\tlearn: 0.1825881\ttotal: 3.17s\tremaining: 206ms\n",
      "939:\tlearn: 0.1825152\ttotal: 3.18s\tremaining: 203ms\n",
      "940:\tlearn: 0.1824681\ttotal: 3.18s\tremaining: 199ms\n",
      "941:\tlearn: 0.1824115\ttotal: 3.19s\tremaining: 196ms\n",
      "942:\tlearn: 0.1823294\ttotal: 3.19s\tremaining: 193ms\n",
      "943:\tlearn: 0.1822921\ttotal: 3.19s\tremaining: 189ms\n",
      "944:\tlearn: 0.1822523\ttotal: 3.19s\tremaining: 186ms\n",
      "945:\tlearn: 0.1822051\ttotal: 3.2s\tremaining: 183ms\n",
      "946:\tlearn: 0.1821547\ttotal: 3.2s\tremaining: 179ms\n",
      "947:\tlearn: 0.1821301\ttotal: 3.2s\tremaining: 176ms\n",
      "948:\tlearn: 0.1820685\ttotal: 3.21s\tremaining: 172ms\n",
      "949:\tlearn: 0.1819875\ttotal: 3.21s\tremaining: 169ms\n",
      "950:\tlearn: 0.1819560\ttotal: 3.21s\tremaining: 166ms\n",
      "951:\tlearn: 0.1818573\ttotal: 3.21s\tremaining: 162ms\n",
      "952:\tlearn: 0.1818028\ttotal: 3.22s\tremaining: 159ms\n",
      "953:\tlearn: 0.1817755\ttotal: 3.22s\tremaining: 155ms\n",
      "954:\tlearn: 0.1817398\ttotal: 3.22s\tremaining: 152ms\n",
      "955:\tlearn: 0.1817000\ttotal: 3.23s\tremaining: 149ms\n",
      "956:\tlearn: 0.1816873\ttotal: 3.23s\tremaining: 145ms\n",
      "957:\tlearn: 0.1816233\ttotal: 3.23s\tremaining: 142ms\n",
      "958:\tlearn: 0.1815922\ttotal: 3.24s\tremaining: 138ms\n",
      "959:\tlearn: 0.1815356\ttotal: 3.24s\tremaining: 135ms\n",
      "960:\tlearn: 0.1815077\ttotal: 3.24s\tremaining: 132ms\n",
      "961:\tlearn: 0.1814952\ttotal: 3.25s\tremaining: 128ms\n",
      "962:\tlearn: 0.1814048\ttotal: 3.25s\tremaining: 125ms\n",
      "963:\tlearn: 0.1813780\ttotal: 3.25s\tremaining: 121ms\n",
      "964:\tlearn: 0.1813663\ttotal: 3.25s\tremaining: 118ms\n",
      "965:\tlearn: 0.1813336\ttotal: 3.25s\tremaining: 115ms\n",
      "966:\tlearn: 0.1812903\ttotal: 3.26s\tremaining: 111ms\n",
      "967:\tlearn: 0.1812118\ttotal: 3.26s\tremaining: 108ms\n",
      "968:\tlearn: 0.1811266\ttotal: 3.26s\tremaining: 104ms\n",
      "969:\tlearn: 0.1810791\ttotal: 3.27s\tremaining: 101ms\n",
      "970:\tlearn: 0.1810416\ttotal: 3.27s\tremaining: 97.6ms\n",
      "971:\tlearn: 0.1810073\ttotal: 3.27s\tremaining: 94.3ms\n",
      "972:\tlearn: 0.1809702\ttotal: 3.27s\tremaining: 90.9ms\n",
      "973:\tlearn: 0.1809224\ttotal: 3.28s\tremaining: 87.5ms\n",
      "974:\tlearn: 0.1808765\ttotal: 3.28s\tremaining: 84.2ms\n",
      "975:\tlearn: 0.1808253\ttotal: 3.29s\tremaining: 80.8ms\n",
      "976:\tlearn: 0.1807851\ttotal: 3.29s\tremaining: 77.4ms\n",
      "977:\tlearn: 0.1807640\ttotal: 3.29s\tremaining: 74.1ms\n",
      "978:\tlearn: 0.1807396\ttotal: 3.29s\tremaining: 70.7ms\n",
      "979:\tlearn: 0.1807124\ttotal: 3.3s\tremaining: 67.3ms\n",
      "980:\tlearn: 0.1806884\ttotal: 3.3s\tremaining: 64ms\n",
      "981:\tlearn: 0.1806695\ttotal: 3.31s\tremaining: 60.7ms\n",
      "982:\tlearn: 0.1805992\ttotal: 3.31s\tremaining: 57.3ms\n",
      "983:\tlearn: 0.1805637\ttotal: 3.32s\tremaining: 53.9ms\n",
      "984:\tlearn: 0.1805286\ttotal: 3.32s\tremaining: 50.6ms\n",
      "985:\tlearn: 0.1804808\ttotal: 3.32s\tremaining: 47.2ms\n",
      "986:\tlearn: 0.1804159\ttotal: 3.33s\tremaining: 43.8ms\n",
      "987:\tlearn: 0.1803864\ttotal: 3.33s\tremaining: 40.4ms\n",
      "988:\tlearn: 0.1803340\ttotal: 3.33s\tremaining: 37.1ms\n",
      "989:\tlearn: 0.1803124\ttotal: 3.33s\tremaining: 33.7ms\n",
      "990:\tlearn: 0.1802569\ttotal: 3.34s\tremaining: 30.3ms\n",
      "991:\tlearn: 0.1801545\ttotal: 3.34s\tremaining: 26.9ms\n",
      "992:\tlearn: 0.1801473\ttotal: 3.34s\tremaining: 23.6ms\n",
      "993:\tlearn: 0.1801232\ttotal: 3.35s\tremaining: 20.2ms\n",
      "994:\tlearn: 0.1800326\ttotal: 3.35s\tremaining: 16.8ms\n",
      "995:\tlearn: 0.1800202\ttotal: 3.35s\tremaining: 13.5ms\n",
      "996:\tlearn: 0.1799628\ttotal: 3.36s\tremaining: 10.1ms\n",
      "997:\tlearn: 0.1799450\ttotal: 3.36s\tremaining: 6.74ms\n",
      "998:\tlearn: 0.1799006\ttotal: 3.37s\tremaining: 3.37ms\n",
      "999:\tlearn: 0.1798156\ttotal: 3.37s\tremaining: 0us\n"
     ]
    },
    {
     "data": {
      "text/plain": [
       "<catboost.core.CatBoostClassifier at 0x21dae342870>"
      ]
     },
     "execution_count": 305,
     "metadata": {},
     "output_type": "execute_result"
    }
   ],
   "source": [
    "from catboost import CatBoostClassifier\n",
    "# Specify categorical columns (by their names)\n",
    "# Initialize the CatBoostClassifier with categorical features\n",
    "CBC = CatBoostClassifier()\n",
    "\n",
    "# Train the model\n",
    "CBC.fit(X_train, y_train)"
   ]
  },
  {
   "cell_type": "code",
   "execution_count": 306,
   "id": "f5771a11-f4df-42d1-9a25-3bd838732e80",
   "metadata": {},
   "outputs": [
    {
     "name": "stdout",
     "output_type": "stream",
     "text": [
      "CBC training score : \u001b[5m\u001b[35m93.93\u001b[0m\n",
      "CBC testing score : \u001b[5m\u001b[35m95.74\u001b[0m\n"
     ]
    }
   ],
   "source": [
    "CBC_training_score=colored(round(CBC.score(X_train,y_train)*100,2), \"magenta\",None, attrs=[\"blink\"])\n",
    "CBC_testing_score=colored(round(CBC.score(X_test,y_test)*100,2), \"magenta\",None, attrs=[\"blink\"])\n",
    "\n",
    "print(\"CBC training score :\",CBC_training_score)\n",
    "print(\"CBC testing score :\",CBC_testing_score)"
   ]
  },
  {
   "cell_type": "code",
   "execution_count": 307,
   "id": "937efb82-e1e9-4d7e-9d1a-900a93085bef",
   "metadata": {},
   "outputs": [
    {
     "name": "stdout",
     "output_type": "stream",
     "text": [
      "Accuracy: 95.74%\n",
      "\n",
      "Confusion Matrix:\n",
      " [[55  0]\n",
      " [ 4 35]]\n",
      "\n",
      "Classification Report:\n",
      "               precision    recall  f1-score   support\n",
      "\n",
      "           0       0.93      1.00      0.96        55\n",
      "           1       1.00      0.90      0.95        39\n",
      "\n",
      "    accuracy                           0.96        94\n",
      "   macro avg       0.97      0.95      0.96        94\n",
      "weighted avg       0.96      0.96      0.96        94\n",
      "\n"
     ]
    }
   ],
   "source": [
    "CBC_y_pred=CBC.predict(X_test)\n",
    "\n",
    "accuracy = accuracy_score(y_test, CBC_y_pred)\n",
    "print(f\"Accuracy: {accuracy * 100:.2f}%\")\n",
    "print(\"\\nConfusion Matrix:\\n\", confusion_matrix(y_test, CBC_y_pred))\n",
    "print(\"\\nClassification Report:\\n\", classification_report(y_test, CBC_y_pred))"
   ]
  },
  {
   "cell_type": "markdown",
   "id": "ba05ac21-28dd-4185-b065-6e339395cb44",
   "metadata": {},
   "source": [
    "## gradient boost"
   ]
  },
  {
   "cell_type": "code",
   "execution_count": 309,
   "id": "1671ff52-a34b-434d-8879-2b325570a8e0",
   "metadata": {},
   "outputs": [],
   "source": [
    "from sklearn.ensemble import GradientBoostingClassifier\n",
    "GBC = GradientBoostingClassifier().fit(X_train,y_train)"
   ]
  },
  {
   "cell_type": "code",
   "execution_count": 310,
   "id": "0757c189-cf35-4637-a9b6-cd7ec9af4034",
   "metadata": {},
   "outputs": [
    {
     "name": "stdout",
     "output_type": "stream",
     "text": [
      "GBC training score : \u001b[5m\u001b[35m93.93\u001b[0m\n",
      "GBC testing score : \u001b[5m\u001b[35m95.74\u001b[0m\n"
     ]
    }
   ],
   "source": [
    "GBC_training_score=colored(round(GBC.score(X_train,y_train)*100,2), \"magenta\",None, attrs=[\"blink\"])\n",
    "GBC_testing_score=colored(round(GBC.score(X_test,y_test)*100,2), \"magenta\",None, attrs=[\"blink\"])\n",
    "\n",
    "print(\"GBC training score :\",GBC_training_score)\n",
    "print(\"GBC testing score :\",GBC_testing_score)"
   ]
  },
  {
   "cell_type": "code",
   "execution_count": 311,
   "id": "1cb3a6e6-5d04-443e-b56c-02959e87e870",
   "metadata": {},
   "outputs": [
    {
     "name": "stdout",
     "output_type": "stream",
     "text": [
      "Accuracy: 95.74%\n",
      "\n",
      "Confusion Matrix:\n",
      " [[55  0]\n",
      " [ 4 35]]\n",
      "\n",
      "Classification Report:\n",
      "               precision    recall  f1-score   support\n",
      "\n",
      "           0       0.93      1.00      0.96        55\n",
      "           1       1.00      0.90      0.95        39\n",
      "\n",
      "    accuracy                           0.96        94\n",
      "   macro avg       0.97      0.95      0.96        94\n",
      "weighted avg       0.96      0.96      0.96        94\n",
      "\n"
     ]
    }
   ],
   "source": [
    "GBC_y_pred=GBC.predict(X_test)\n",
    "accuracy = accuracy_score(y_test, GBC_y_pred)\n",
    "print(f\"Accuracy: {accuracy * 100:.2f}%\")\n",
    "print(\"\\nConfusion Matrix:\\n\", confusion_matrix(y_test, GBC_y_pred))\n",
    "print(\"\\nClassification Report:\\n\", classification_report(y_test, GBC_y_pred))"
   ]
  },
  {
   "cell_type": "markdown",
   "id": "aca83375-39a7-4345-8d1c-9401f848fa5a",
   "metadata": {},
   "source": [
    "## xgboost"
   ]
  },
  {
   "cell_type": "code",
   "execution_count": 313,
   "id": "130b9002-7585-4622-b4bd-f14335ec4452",
   "metadata": {},
   "outputs": [
    {
     "name": "stderr",
     "output_type": "stream",
     "text": [
      "C:\\Users\\User\\anaconda3\\Lib\\site-packages\\xgboost\\core.py:158: UserWarning:\n",
      "\n",
      "[15:58:20] WARNING: C:\\buildkite-agent\\builds\\buildkite-windows-cpu-autoscaling-group-i-0c55ff5f71b100e98-1\\xgboost\\xgboost-ci-windows\\src\\learner.cc:740: \n",
      "Parameters: { \"use_label_encoder\" } are not used.\n",
      "\n",
      "\n"
     ]
    }
   ],
   "source": [
    "model = xgb.XGBClassifier(\n",
    "    use_label_encoder=False,\n",
    "    # 禁用舊版的 Label Encoding\n",
    "    eval_metric=\"logloss\",    # 選擇評估指標\n",
    "    n_estimators=100,         # 樹的數量\n",
    "    max_depth=6,              # 樹的深度\n",
    "    learning_rate=0.1,        # 學習率\n",
    "    subsample=0.8,            # 子樣本比例\n",
    "    colsample_bytree=0.8      # 特徵子集比例\n",
    ")\n",
    "\n",
    "# 使用訓練資料訓練模型\n",
    "model.fit(X_train, y_train)\n",
    "# 預測\n",
    "y_pred_xgb = model.predict(X_test)"
   ]
  },
  {
   "cell_type": "code",
   "execution_count": 314,
   "id": "9c7e4f3d-2bcf-4272-9505-284f6ff6397d",
   "metadata": {},
   "outputs": [
    {
     "name": "stdout",
     "output_type": "stream",
     "text": [
      "Accuracy: 95.74%\n",
      "\n",
      "Confusion Matrix:\n",
      " [[55  0]\n",
      " [ 4 35]]\n",
      "\n",
      "Classification Report:\n",
      "               precision    recall  f1-score   support\n",
      "\n",
      "           0       0.93      1.00      0.96        55\n",
      "           1       1.00      0.90      0.95        39\n",
      "\n",
      "    accuracy                           0.96        94\n",
      "   macro avg       0.97      0.95      0.96        94\n",
      "weighted avg       0.96      0.96      0.96        94\n",
      "\n"
     ]
    }
   ],
   "source": [
    "accuracy = accuracy_score(y_test, y_pred_xgb)\n",
    "print(f\"Accuracy: {accuracy * 100:.2f}%\")\n",
    "print(\"\\nConfusion Matrix:\\n\", confusion_matrix(y_test, y_pred_xgb))\n",
    "print(\"\\nClassification Report:\\n\", classification_report(y_test, y_pred_xgb))"
   ]
  },
  {
   "cell_type": "markdown",
   "id": "90bc030e-897e-48b1-b01b-577d5df284ca",
   "metadata": {},
   "source": [
    "### confusion matrix"
   ]
  },
  {
   "cell_type": "code",
   "execution_count": 316,
   "id": "f2c4efb9-540f-43ba-8a3a-bd8d6c4414f8",
   "metadata": {},
   "outputs": [
    {
     "ename": "UFuncTypeError",
     "evalue": "ufunc 'add' did not contain a loop with signature matching types (dtype('<U8'), dtype('int32')) -> None",
     "output_type": "error",
     "traceback": [
      "\u001b[1;31m---------------------------------------------------------------------------\u001b[0m",
      "\u001b[1;31mUFuncTypeError\u001b[0m                            Traceback (most recent call last)",
      "Cell \u001b[1;32mIn[316], line 16\u001b[0m\n\u001b[0;32m     10\u001b[0m plt\u001b[38;5;241m.\u001b[39msubplot(\u001b[38;5;241m2\u001b[39m,\u001b[38;5;241m3\u001b[39m,i)\n\u001b[0;32m     11\u001b[0m sns\u001b[38;5;241m.\u001b[39mheatmap(cm,cmap\u001b[38;5;241m=\u001b[39m\u001b[38;5;124m'\u001b[39m\u001b[38;5;124mBuPu\u001b[39m\u001b[38;5;124m'\u001b[39m,linewidth\u001b[38;5;241m=\u001b[39m\u001b[38;5;241m3\u001b[39m,fmt\u001b[38;5;241m=\u001b[39m\u001b[38;5;124m'\u001b[39m\u001b[38;5;124m'\u001b[39m,annot\u001b[38;5;241m=\u001b[39m\u001b[38;5;28;01mTrue\u001b[39;00m,\n\u001b[0;32m     12\u001b[0m             xticklabels\u001b[38;5;241m=\u001b[39m[\u001b[38;5;124m'\u001b[39m\u001b[38;5;124m(None)\u001b[39m\u001b[38;5;124m'\u001b[39m,\u001b[38;5;124m'\u001b[39m\u001b[38;5;124m(Sleep_Disorder)\u001b[39m\u001b[38;5;124m'\u001b[39m],\n\u001b[0;32m     13\u001b[0m             yticklabels\u001b[38;5;241m=\u001b[39m[\u001b[38;5;124m'\u001b[39m\u001b[38;5;124m(None)\u001b[39m\u001b[38;5;124m'\u001b[39m,\u001b[38;5;124m'\u001b[39m\u001b[38;5;124m(Sleep_Disorder)\u001b[39m\u001b[38;5;124m'\u001b[39m])\n\u001b[1;32m---> 16\u001b[0m plt\u001b[38;5;241m.\u001b[39mtitle(\u001b[38;5;124m'\u001b[39m\u001b[38;5;124m CM of  \u001b[39m\u001b[38;5;124m'\u001b[39m\u001b[38;5;241m+\u001b[39m model[i])\n\u001b[0;32m     17\u001b[0m plt\u001b[38;5;241m.\u001b[39mxlabel(\u001b[38;5;124m'\u001b[39m\u001b[38;5;124mPredicted Label\u001b[39m\u001b[38;5;124m'\u001b[39m)\n\u001b[0;32m     18\u001b[0m plt\u001b[38;5;241m.\u001b[39mylabel(\u001b[38;5;124m'\u001b[39m\u001b[38;5;124mTrue Label\u001b[39m\u001b[38;5;124m'\u001b[39m)\n",
      "\u001b[1;31mUFuncTypeError\u001b[0m: ufunc 'add' did not contain a loop with signature matching types (dtype('<U8'), dtype('int32')) -> None"
     ]
    },
    {
     "data": {
      "image/png": "[encoded data removed]",
      "text/plain": [
       "<Figure size 1500x700 with 10 Axes>"
      ]
     },
     "metadata": {},
     "output_type": "display_data"
    }
   ],
   "source": [
    "models_predictions=[lr_pred_d,rf_pred_class,CBC_y_pred,GBC_y_pred,y_pred_xgb]\n",
    "model={1:'lr_pred_d',2:'rf_pred_class',3:'CBC_y_pred',4:'GBC_y_pred',5:y_pred_xgb}\n",
    "\n",
    "\n",
    "plt.figure(figsize=(15,7))\n",
    "for i,y_pred in enumerate(models_predictions,1) :\n",
    "    \n",
    "    cm = confusion_matrix(y_pred,y_test)\n",
    "    \n",
    "    plt.subplot(2,3,i)\n",
    "    sns.heatmap(cm,cmap='BuPu',linewidth=3,fmt='',annot=True,\n",
    "                xticklabels=['(None)','(Sleep_Disorder)'],\n",
    "                yticklabels=['(None)','(Sleep_Disorder)'])\n",
    "    \n",
    "    \n",
    "    plt.title(' CM of  '+ model[i])\n",
    "    plt.xlabel('Predicted Label')\n",
    "    plt.ylabel('True Label')\n",
    "    plt.subplots_adjust(hspace=0.5,wspace=0.5)"
   ]
  },
  {
   "cell_type": "markdown",
   "id": "41afcc30-9080-46f7-8434-c53d881a5699",
   "metadata": {},
   "source": [
    "### intepretation"
   ]
  },
  {
   "cell_type": "code",
   "execution_count": null,
   "id": "c72ee959-5e31-4e80-8f86-7a13e1ee3d36",
   "metadata": {},
   "outputs": [],
   "source": [
    "import shap\n",
    "\n",
    "shap_values = shap.TreeExplainer(GBC).shap_values(X_test)\n",
    "shap.summary_plot(shap_values, X_test,class_names=['0','1'])"
   ]
  },
  {
   "cell_type": "code",
   "execution_count": null,
   "id": "2b2bcbb9-8620-47e7-a4cd-7da6332bd963",
   "metadata": {},
   "outputs": [],
   "source": [
    "lr_accuracy = accuracy_score(y_test, lr_pred_d)\n",
    "rf_accuracy = accuracy_score(y_test, rf_pred_class)\n",
    "cbc_accuracy = accuracy_score(y_test, CBC_y_pred)\n",
    "gbc_accuracy = accuracy_score(y_test, GBC_y_pred)\n",
    "xgb_accuracy = accuracy_score(y_test, y_pred_xgb)\n",
    "\n",
    "accuracy_scores = [lr_accuracy,rf_accuracy,cbc_accuracy,gbc_accuracy,xgb_accuracy] \n",
    "print(accuracy_scores)\n",
    "    \n",
    "fig = px.bar(x=['Logistic Regression','Random Forest','Catboost','Gradient Boosting','XGB'], y=accuracy_scores)\n",
    "fig.show()"
   ]
  }
 ],
 "metadata": {
  "kernelspec": {
   "display_name": "Python 3 (ipykernel)",
   "language": "python",
   "name": "python3"
  },
  "language_info": {
   "codemirror_mode": {
    "name": "ipython",
    "version": 3
   },
   "file_extension": ".py",
   "mimetype": "text/x-python",
   "name": "python",
   "nbconvert_exporter": "python",
   "pygments_lexer": "ipython3",
   "version": "3.12.4"
  }
 },
 "nbformat": 4,
 "nbformat_minor": 5
}
